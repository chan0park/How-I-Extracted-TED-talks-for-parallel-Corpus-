{
 "metadata": {
  "name": "",
  "signature": "sha256:2fe358c02068105facd47c25347ff851b0eefc3f26d2b108300bbed56e0a600d"
 },
 "nbformat": 3,
 "nbformat_minor": 0,
 "worksheets": [
  {
   "cells": [
    {
     "cell_type": "code",
     "collapsed": false,
     "input": [
      "import pandas as pd\n",
      "from bs4 import BeautifulSoup\n",
      "import urllib\n",
      "import codecs\n",
      "import os,glob"
     ],
     "language": "python",
     "metadata": {},
     "outputs": [],
     "prompt_number": 1
    },
    {
     "cell_type": "code",
     "collapsed": false,
     "input": [
      "# EXTRACT TED Talk Names"
     ],
     "language": "python",
     "metadata": {},
     "outputs": []
    },
    {
     "cell_type": "code",
     "collapsed": false,
     "input": [
      "def enlist_talk_names(path,dict_):\n",
      "    r = urllib.urlopen(path).read()\n",
      "    soup = BeautifulSoup(r)\n",
      "    talks= soup.find_all(\"a\",class_='ga_link')\n",
      "    for i in talks:\n",
      "        if i.attrs['href'].find('/talks/')==0 and dict_.get(i.attrs['href'])!=1:\n",
      "            dict_[i.attrs['href']]=1\n",
      "    \n",
      "    return dict_"
     ],
     "language": "python",
     "metadata": {},
     "outputs": [],
     "prompt_number": 19
    },
    {
     "cell_type": "code",
     "collapsed": false,
     "input": [
      "all_talk_names={}\n",
      "for i in xrange(1,61):\n",
      "    path='https://www.ted.com/talks?page=%d'%(i)\n",
      "    all_talk_names=enlist_talk_names(path,all_talk_names)"
     ],
     "language": "python",
     "metadata": {},
     "outputs": [],
     "prompt_number": 20
    },
    {
     "cell_type": "code",
     "collapsed": false,
     "input": [
      "def extract_talk(path,talk_name):\n",
      "    r=urllib.urlopen(path).read()\n",
      "    soup=BeautifulSoup(r)\n",
      "    df=pd.DataFrame()\n",
      "    print path\n",
      "    for i in soup.findAll('link'):\n",
      "        if i.get('href')!=None and i.attrs['href'].find('?language=')!=-1:\n",
      "            #print i.attrs['href']\n",
      "            lang=i.attrs['hreflang']\n",
      "            path=i.attrs['href']\n",
      "            r1=urllib.urlopen(path).read()\n",
      "            soup1=BeautifulSoup(r1)\n",
      "            time_frame=[]\n",
      "            text_talk=[]\n",
      "            for i in soup1.findAll('span',class_='talk-transcript__fragment'):\n",
      "                time_frame.append(i.attrs['data-time'])\n",
      "                text_talk.append(i.text.replace('\\n',' '))\n",
      "            #print len(time_frame),len(text_talk)\n",
      "            df1=pd.DataFrame()\n",
      "            df1[lang]=text_talk\n",
      "            df1[lang+'_time_frame']=time_frame\n",
      "            df=pd.concat([df,df1],axis=1)\n",
      "    df.to_csv(talk_name+'.csv',sep='\\t',encoding='utf-8')"
     ],
     "language": "python",
     "metadata": {},
     "outputs": [],
     "prompt_number": 121
    },
    {
     "cell_type": "code",
     "collapsed": false,
     "input": [
      "for i in all_talk_names:\n",
      "    extract_talk('https://www.ted.com'+i+'/transcript',i[7:])"
     ],
     "language": "python",
     "metadata": {},
     "outputs": [
      {
       "output_type": "stream",
       "stream": "stdout",
       "text": [
        "https://www.ted.com/talks/sherwin_nuland_on_hope/transcript\n",
        "https://www.ted.com/talks/usman_riaz_and_preston_reed_a_young_guitarist_meets_his_hero/transcript"
       ]
      },
      {
       "output_type": "stream",
       "stream": "stdout",
       "text": [
        "\n",
        "https://www.ted.com/talks/robert_full_learning_from_the_gecko_s_tail/transcript"
       ]
      },
      {
       "output_type": "stream",
       "stream": "stdout",
       "text": [
        "\n",
        "https://www.ted.com/talks/dan_cobley_what_physics_taught_me_about_marketing/transcript"
       ]
      },
      {
       "output_type": "stream",
       "stream": "stdout",
       "text": [
        "\n",
        "https://www.ted.com/talks/david_merrill_demos_siftables_the_smart_blocks/transcript"
       ]
      },
      {
       "output_type": "stream",
       "stream": "stdout",
       "text": [
        "\n",
        "https://www.ted.com/talks/drew_dudley_everyday_leadership/transcript"
       ]
      },
      {
       "output_type": "stream",
       "stream": "stdout",
       "text": [
        "\n",
        "https://www.ted.com/talks/chris_anderson_of_wired_on_tech_s_long_tail/transcript"
       ]
      },
      {
       "output_type": "stream",
       "stream": "stdout",
       "text": [
        "\n",
        "https://www.ted.com/talks/kenneth_cukier_big_data_is_better_data/transcript"
       ]
      },
      {
       "output_type": "stream",
       "stream": "stdout",
       "text": [
        "\n",
        "https://www.ted.com/talks/rodney_brooks_why_we_will_rely_on_robots/transcript"
       ]
      },
      {
       "output_type": "stream",
       "stream": "stdout",
       "text": [
        "\n",
        "https://www.ted.com/talks/mohamed_hijri_a_simple_solution_to_the_coming_phosphorus_crisis/transcript"
       ]
      },
      {
       "output_type": "stream",
       "stream": "stdout",
       "text": [
        "\n",
        "https://www.ted.com/talks/robin_nagle_what_i_discovered_in_new_york_city_trash/transcript"
       ]
      },
      {
       "output_type": "stream",
       "stream": "stdout",
       "text": [
        "\n",
        "https://www.ted.com/talks/ahn_trio_a_modern_take_on_piano_violin_cello/transcript"
       ]
      },
      {
       "output_type": "stream",
       "stream": "stdout",
       "text": [
        "\n",
        "https://www.ted.com/talks/auret_van_heerden_making_global_labor_fair/transcript"
       ]
      },
      {
       "output_type": "stream",
       "stream": "stdout",
       "text": [
        "\n",
        "https://www.ted.com/talks/elif_shafak_the_politics_of_fiction/transcript"
       ]
      },
      {
       "output_type": "stream",
       "stream": "stdout",
       "text": [
        "\n",
        "https://www.ted.com/talks/miguel_nicolelis_brain_to_brain_communication_has_arrived_how_we_did_it/transcript"
       ]
      },
      {
       "output_type": "stream",
       "stream": "stdout",
       "text": [
        "\n",
        "https://www.ted.com/talks/vs_ramachandran_the_neurons_that_shaped_civilization/transcript"
       ]
      },
      {
       "output_type": "stream",
       "stream": "stdout",
       "text": [
        "\n",
        "https://www.ted.com/talks/latif_nasser_the_amazing_story_of_the_man_who_gave_us_modern_pain_relief/transcript"
       ]
      },
      {
       "output_type": "stream",
       "stream": "stdout",
       "text": [
        "\n",
        "https://www.ted.com/talks/sakena_yacoobi_how_i_stopped_the_taliban_from_shutting_down_my_school/transcript"
       ]
      },
      {
       "output_type": "stream",
       "stream": "stdout",
       "text": [
        "\n",
        "https://www.ted.com/talks/sarah_jones_what_does_the_future_hold_11_characters_offer_quirky_answers/transcript"
       ]
      },
      {
       "output_type": "stream",
       "stream": "stdout",
       "text": [
        "\n",
        "https://www.ted.com/talks/patricia_medici_the_coolest_animal_you_know_nothing_about_and_how_we_can_save_it/transcript"
       ]
      },
      {
       "output_type": "stream",
       "stream": "stdout",
       "text": [
        "\n",
        "https://www.ted.com/talks/sxip_shirey_at_the_breathing_place/transcript"
       ]
      },
      {
       "output_type": "stream",
       "stream": "stdout",
       "text": [
        "\n",
        "https://www.ted.com/talks/aj_jacobs_how_healthy_living_nearly_killed_me/transcript"
       ]
      },
      {
       "output_type": "stream",
       "stream": "stdout",
       "text": [
        "\n",
        "https://www.ted.com/talks/itay_talgam_lead_like_the_great_conductors/transcript"
       ]
      },
      {
       "output_type": "stream",
       "stream": "stdout",
       "text": [
        "\n",
        "https://www.ted.com/talks/jimmy_carter_why_i_believe_the_mistreatment_of_women_is_the_number_one_human_rights_abuse/transcript"
       ]
      },
      {
       "output_type": "stream",
       "stream": "stdout",
       "text": [
        "\n",
        "https://www.ted.com/talks/alain_de_botton_atheism_2_0/transcript"
       ]
      },
      {
       "output_type": "stream",
       "stream": "stdout",
       "text": [
        "\n",
        "https://www.ted.com/talks/billy_graham_on_technology_faith_and_suffering/transcript"
       ]
      },
      {
       "output_type": "stream",
       "stream": "stdout",
       "text": [
        "\n",
        "https://www.ted.com/talks/sara_lewis_the_loves_and_lies_of_fireflies/transcript"
       ]
      },
      {
       "output_type": "stream",
       "stream": "stdout",
       "text": [
        "\n",
        "https://www.ted.com/talks/john_gerzema_the_post_crisis_consumer/transcript"
       ]
      },
      {
       "output_type": "stream",
       "stream": "stdout",
       "text": [
        "\n",
        "https://www.ted.com/talks/quixotic_fusion_dancing_with_light/transcript"
       ]
      },
      {
       "output_type": "stream",
       "stream": "stdout",
       "text": [
        "\n",
        "https://www.ted.com/talks/melissa_fleming_let_s_help_refugees_thrive_not_just_survive/transcript"
       ]
      },
      {
       "output_type": "stream",
       "stream": "stdout",
       "text": [
        "\n",
        "https://www.ted.com/talks/hugh_herr_the_new_bionics_that_let_us_run_climb_and_dance/transcript"
       ]
      },
      {
       "output_type": "stream",
       "stream": "stdout",
       "text": [
        "\n",
        "https://www.ted.com/talks/alyson_mcgregor_why_medicine_often_has_dangerous_side_effects_for_women/transcript"
       ]
      },
      {
       "output_type": "stream",
       "stream": "stdout",
       "text": [
        "\n",
        "https://www.ted.com/talks/dean_kamen_previews_a_new_prosthetic_arm/transcript"
       ]
      },
      {
       "output_type": "stream",
       "stream": "stdout",
       "text": [
        "\n",
        "https://www.ted.com/talks/verna_myers_how_to_overcome_our_biases_walk_boldly_toward_them/transcript"
       ]
      },
      {
       "output_type": "stream",
       "stream": "stdout",
       "text": [
        "\n",
        "https://www.ted.com/talks/tom_wujec_got_a_wicked_problem_first_tell_me_how_you_make_toast/transcript"
       ]
      },
      {
       "output_type": "stream",
       "stream": "stdout",
       "text": [
        "\n",
        "https://www.ted.com/talks/sugata_mitra_shows_how_kids_teach_themselves/transcript"
       ]
      },
      {
       "output_type": "stream",
       "stream": "stdout",
       "text": [
        "\n",
        "https://www.ted.com/talks/carne_ross_an_independent_diplomat/transcript"
       ]
      },
      {
       "output_type": "stream",
       "stream": "stdout",
       "text": [
        "\n",
        "https://www.ted.com/talks/ben_goldacre_what_doctors_don_t_know_about_the_drugs_they_prescribe/transcript"
       ]
      },
      {
       "output_type": "stream",
       "stream": "stdout",
       "text": [
        "\n",
        "https://www.ted.com/talks/adam_grosser_and_his_sustainable_fridge/transcript"
       ]
      },
      {
       "output_type": "stream",
       "stream": "stdout",
       "text": [
        "\n",
        "https://www.ted.com/talks/ze_frank_are_you_human/transcript"
       ]
      },
      {
       "output_type": "stream",
       "stream": "stdout",
       "text": [
        "\n",
        "https://www.ted.com/talks/rishi_manchanda_what_makes_us_get_sick_look_upstream/transcript"
       ]
      },
      {
       "output_type": "stream",
       "stream": "stdout",
       "text": [
        "\n",
        "https://www.ted.com/talks/eric_lewis_plays_chaos_and_harmony/transcript"
       ]
      },
      {
       "output_type": "stream",
       "stream": "stdout",
       "text": [
        "\n",
        "https://www.ted.com/talks/shimon_schocken_s_rides_of_hope/transcript"
       ]
      },
      {
       "output_type": "stream",
       "stream": "stdout",
       "text": [
        "\n",
        "https://www.ted.com/talks/jennifer_pahlka_coding_a_better_government/transcript"
       ]
      },
      {
       "output_type": "stream",
       "stream": "stdout",
       "text": [
        "\n",
        "https://www.ted.com/talks/anthony_atala_printing_a_human_kidney/transcript"
       ]
      },
      {
       "output_type": "stream",
       "stream": "stdout",
       "text": [
        "\n",
        "https://www.ted.com/talks/marc_koska_the_devastating_toll_of_syringe_reuse/transcript"
       ]
      },
      {
       "output_type": "stream",
       "stream": "stdout",
       "text": [
        "\n",
        "https://www.ted.com/talks/boghuma_kabisen_titanji_ethical_riddles_in_hiv_research/transcript"
       ]
      },
      {
       "output_type": "stream",
       "stream": "stdout",
       "text": [
        "\n",
        "https://www.ted.com/talks/taiye_selasi_don_t_ask_where_i_m_from_ask_where_i_m_a_local/transcript"
       ]
      },
      {
       "output_type": "stream",
       "stream": "stdout",
       "text": [
        "\n",
        "https://www.ted.com/talks/chris_kluwe_how_augmented_reality_will_change_sports_and_build_empathy/transcript"
       ]
      },
      {
       "output_type": "stream",
       "stream": "stdout",
       "text": [
        "\n",
        "https://www.ted.com/talks/joe_sabia_the_technology_of_storytelling/transcript"
       ]
      },
      {
       "output_type": "stream",
       "stream": "stdout",
       "text": [
        "\n",
        "https://www.ted.com/talks/jason_pontin_can_technology_solve_our_big_problems/transcript"
       ]
      },
      {
       "output_type": "stream",
       "stream": "stdout",
       "text": [
        "\n",
        "https://www.ted.com/talks/bruce_aylward_humanity_vs_ebola_the_winning_strategies_in_a_terrifying_war/transcript"
       ]
      },
      {
       "output_type": "stream",
       "stream": "stdout",
       "text": [
        "\n",
        "https://www.ted.com/talks/catherine_crump_the_small_and_surprisingly_dangerous_detail_the_police_track_about_you/transcript"
       ]
      },
      {
       "output_type": "stream",
       "stream": "stdout",
       "text": [
        "\n",
        "https://www.ted.com/talks/gordon_brown/transcript"
       ]
      },
      {
       "output_type": "stream",
       "stream": "stdout",
       "text": [
        "\n",
        "https://www.ted.com/talks/meklit_hadero_the_unexpected_beauty_of_everyday_sounds/transcript"
       ]
      },
      {
       "output_type": "stream",
       "stream": "stdout",
       "text": [
        "\n",
        "https://www.ted.com/talks/franco_sacchi_on_nollywood/transcript"
       ]
      },
      {
       "output_type": "stream",
       "stream": "stdout",
       "text": [
        "\n",
        "https://www.ted.com/talks/stefano_mancuso_the_roots_of_plant_intelligence/transcript"
       ]
      },
      {
       "output_type": "stream",
       "stream": "stdout",
       "text": [
        "\n",
        "https://www.ted.com/talks/john_wooden_on_the_difference_between_winning_and_success/transcript"
       ]
      },
      {
       "output_type": "stream",
       "stream": "stdout",
       "text": [
        "\n",
        "https://www.ted.com/talks/stephen_friend_the_hunt_for_unexpected_genetic_heroes/transcript"
       ]
      },
      {
       "output_type": "stream",
       "stream": "stdout",
       "text": [
        "\n",
        "https://www.ted.com/talks/nina_jablonski_breaks_the_illusion_of_skin_color/transcript"
       ]
      },
      {
       "output_type": "stream",
       "stream": "stdout",
       "text": [
        "\n",
        "https://www.ted.com/talks/peter_van_manen_how_can_formula_1_racing_help_babies/transcript"
       ]
      },
      {
       "output_type": "stream",
       "stream": "stdout",
       "text": [
        "\n",
        "https://www.ted.com/talks/thomas_thwaites_how_i_built_a_toaster_from_scratch/transcript"
       ]
      },
      {
       "output_type": "stream",
       "stream": "stdout",
       "text": [
        "\n",
        "https://www.ted.com/talks/isabelle_allende_how_to_live_passionately_no_matter_your_age/transcript"
       ]
      },
      {
       "output_type": "stream",
       "stream": "stdout",
       "text": [
        "\n",
        "https://www.ted.com/talks/nicholas_negroponte_takes_olpc_to_colombia/transcript"
       ]
      },
      {
       "output_type": "stream",
       "stream": "stdout",
       "text": [
        "\n",
        "https://www.ted.com/talks/bruce_bueno_de_mesquita_predicts_iran_s_future/transcript"
       ]
      },
      {
       "output_type": "stream",
       "stream": "stdout",
       "text": [
        "\n",
        "https://www.ted.com/talks/sonaar_luthra_meet_the_water_canary/transcript"
       ]
      },
      {
       "output_type": "stream",
       "stream": "stdout",
       "text": [
        "\n",
        "https://www.ted.com/talks/edwidge_danticat_stories_of_haiti/transcript"
       ]
      },
      {
       "output_type": "stream",
       "stream": "stdout",
       "text": [
        "\n",
        "https://www.ted.com/talks/mundano_pimp_my_trash_cart/transcript"
       ]
      },
      {
       "output_type": "stream",
       "stream": "stdout",
       "text": [
        "\n",
        "https://www.ted.com/talks/liz_diller_plays_with_architecture/transcript"
       ]
      },
      {
       "output_type": "stream",
       "stream": "stdout",
       "text": [
        "\n",
        "https://www.ted.com/talks/roy_gould_and_curtis_wong_preview_the_worldwide_telescope/transcript"
       ]
      },
      {
       "output_type": "stream",
       "stream": "stdout",
       "text": [
        "\n",
        "https://www.ted.com/talks/aimee_mullins_the_opportunity_of_adversity/transcript"
       ]
      },
      {
       "output_type": "stream",
       "stream": "stdout",
       "text": [
        "\n",
        "https://www.ted.com/talks/julie_burstein_4_lessons_in_creativity/transcript"
       ]
      },
      {
       "output_type": "stream",
       "stream": "stdout",
       "text": [
        "\n",
        "https://www.ted.com/talks/paola_antonelli_previews_design_and_the_elastic_mind/transcript"
       ]
      },
      {
       "output_type": "stream",
       "stream": "stdout",
       "text": [
        "\n",
        "https://www.ted.com/talks/dimitar_sasselov_how_we_found_hundreds_of_potential_earth_like_planets/transcript"
       ]
      },
      {
       "output_type": "stream",
       "stream": "stdout",
       "text": [
        "\n",
        "https://www.ted.com/talks/carolyn_steel_how_food_shapes_our_cities/transcript"
       ]
      },
      {
       "output_type": "stream",
       "stream": "stdout",
       "text": [
        "\n",
        "https://www.ted.com/talks/romulus_whitaker_the_real_danger_lurking_in_the_water/transcript"
       ]
      },
      {
       "output_type": "stream",
       "stream": "stdout",
       "text": [
        "\n",
        "https://www.ted.com/talks/chrystia_freeland_the_rise_of_the_new_global_super_rich/transcript"
       ]
      },
      {
       "output_type": "stream",
       "stream": "stdout",
       "text": [
        "\n",
        "https://www.ted.com/talks/kamal_meattle_on_how_to_grow_your_own_fresh_air/transcript"
       ]
      },
      {
       "output_type": "stream",
       "stream": "stdout",
       "text": [
        "\n",
        "https://www.ted.com/talks/chris_domas_the_1s_and_0s_behind_cyber_warfare/transcript"
       ]
      },
      {
       "output_type": "stream",
       "stream": "stdout",
       "text": [
        "\n",
        "https://www.ted.com/talks/lennart_green_does_close_up_card_magic/transcript"
       ]
      },
      {
       "output_type": "stream",
       "stream": "stdout",
       "text": [
        "\n",
        "https://www.ted.com/talks/robin_morgan_4_powerful_poems_about_parkinson_s_and_growing_older/transcript"
       ]
      },
      {
       "output_type": "stream",
       "stream": "stdout",
       "text": [
        "\n",
        "https://www.ted.com/talks/rives_reinventing_the_encyclopedia_game/transcript"
       ]
      },
      {
       "output_type": "stream",
       "stream": "stdout",
       "text": [
        "\n",
        "https://www.ted.com/talks/megan_kamerick_women_should_represent_women_in_media/transcript"
       ]
      },
      {
       "output_type": "stream",
       "stream": "stdout",
       "text": [
        "\n",
        "https://www.ted.com/talks/john_maeda_how_art_technology_and_design_inform_creative_leaders/transcript"
       ]
      },
      {
       "output_type": "stream",
       "stream": "stdout",
       "text": [
        "\n",
        "https://www.ted.com/talks/daniel_kahneman_the_riddle_of_experience_vs_memory/transcript"
       ]
      },
      {
       "output_type": "stream",
       "stream": "stdout",
       "text": [
        "\n",
        "https://www.ted.com/talks/chris_milk_how_virtual_reality_can_create_the_ultimate_empathy_machine/transcript"
       ]
      },
      {
       "output_type": "stream",
       "stream": "stdout",
       "text": [
        "\n",
        "https://www.ted.com/talks/lewis_pugh_s_mind_shifting_mt_everest_swim/transcript"
       ]
      },
      {
       "output_type": "stream",
       "stream": "stdout",
       "text": [
        "\n",
        "https://www.ted.com/talks/keith_bellows_on_the_camel_s_hump/transcript"
       ]
      },
      {
       "output_type": "stream",
       "stream": "stdout",
       "text": [
        "\n",
        "https://www.ted.com/talks/bruno_bowden_folds_while_rufus_cappadocia_plays/transcript"
       ]
      },
      {
       "output_type": "stream",
       "stream": "stdout",
       "text": [
        "\n",
        "https://www.ted.com/talks/heather_knight_silicon_based_comedy/transcript"
       ]
      },
      {
       "output_type": "stream",
       "stream": "stdout",
       "text": [
        "\n",
        "https://www.ted.com/talks/jonathan_harris_collects_stories/transcript"
       ]
      },
      {
       "output_type": "stream",
       "stream": "stdout",
       "text": [
        "\n",
        "https://www.ted.com/talks/ben_saunders_skis_to_the_north_pole/transcript"
       ]
      },
      {
       "output_type": "stream",
       "stream": "stdout",
       "text": [
        "\n",
        "https://www.ted.com/talks/denise_herzing_could_we_speak_the_language_of_dolphins/transcript"
       ]
      },
      {
       "output_type": "stream",
       "stream": "stdout",
       "text": [
        "\n",
        "https://www.ted.com/talks/michael_mcdaniel_cheap_effective_shelter_for_disaster_relief/transcript"
       ]
      },
      {
       "output_type": "stream",
       "stream": "stdout",
       "text": [
        "\n",
        "https://www.ted.com/talks/jamie_heywood_the_big_idea_my_brother_inspired/transcript"
       ]
      },
      {
       "output_type": "stream",
       "stream": "stdout",
       "text": [
        "\n",
        "https://www.ted.com/talks/colin_stokes_how_movies_teach_manhood/transcript"
       ]
      },
      {
       "output_type": "stream",
       "stream": "stdout",
       "text": [
        "\n",
        "https://www.ted.com/talks/paul_nicklen_tales_of_ice_bound_wonderlands/transcript"
       ]
      },
      {
       "output_type": "stream",
       "stream": "stdout",
       "text": [
        "\n",
        "https://www.ted.com/talks/michael_dickinson_how_a_fly_flies/transcript"
       ]
      },
      {
       "output_type": "stream",
       "stream": "stdout",
       "text": [
        "\n",
        "https://www.ted.com/talks/jim_al_khalili_how_quantum_biology_might_explain_life_s_biggest_questions/transcript"
       ]
      },
      {
       "output_type": "stream",
       "stream": "stdout",
       "text": [
        "\n",
        "https://www.ted.com/talks/sophal_ear_escaping_the_khmer_rouge/transcript"
       ]
      },
      {
       "output_type": "stream",
       "stream": "stdout",
       "text": [
        "\n",
        "https://www.ted.com/talks/daffodil_hudson_is_this_the_cure_for_stage_fright/transcript"
       ]
      },
      {
       "output_type": "stream",
       "stream": "stdout",
       "text": [
        "\n",
        "https://www.ted.com/talks/jonathan_drori_on_what_we_think_we_know/transcript"
       ]
      },
      {
       "output_type": "stream",
       "stream": "stdout",
       "text": [
        "\n",
        "https://www.ted.com/talks/emily_balcetis_why_some_people_find_exercise_harder_than_others/transcript"
       ]
      },
      {
       "output_type": "stream",
       "stream": "stdout",
       "text": [
        "\n",
        "https://www.ted.com/talks/lisa_harouni_a_primer_on_3d_printing/transcript"
       ]
      },
      {
       "output_type": "stream",
       "stream": "stdout",
       "text": [
        "\n",
        "https://www.ted.com/talks/kaki_king_rocks_out_to_pink_noise/transcript"
       ]
      },
      {
       "output_type": "stream",
       "stream": "stdout",
       "text": [
        "\n",
        "https://www.ted.com/talks/garrett_lisi_on_his_theory_of_everything/transcript"
       ]
      },
      {
       "output_type": "stream",
       "stream": "stdout",
       "text": [
        "\n",
        "https://www.ted.com/talks/diebedo_francis_kere_how_to_build_with_clay_and_community/transcript"
       ]
      },
      {
       "output_type": "stream",
       "stream": "stdout",
       "text": [
        "\n",
        "https://www.ted.com/talks/harish_manwani_profit_s_not_always_the_point/transcript"
       ]
      },
      {
       "output_type": "stream",
       "stream": "stdout",
       "text": [
        "\n",
        "https://www.ted.com/talks/deborah_gordon_digs_ants/transcript"
       ]
      },
      {
       "output_type": "stream",
       "stream": "stdout",
       "text": [
        "\n",
        "https://www.ted.com/talks/mathieu_lehanneur_demos_science_inspired_design/transcript"
       ]
      },
      {
       "output_type": "stream",
       "stream": "stdout",
       "text": [
        "\n",
        "https://www.ted.com/talks/lesley_hazelton_on_reading_the_koran/transcript"
       ]
      },
      {
       "output_type": "stream",
       "stream": "stdout",
       "text": [
        "\n",
        "https://www.ted.com/talks/benoit_mandelbrot_fractals_the_art_of_roughness/transcript"
       ]
      },
      {
       "output_type": "stream",
       "stream": "stdout",
       "text": [
        "\n",
        "https://www.ted.com/talks/dan_ariely_asks_are_we_in_control_of_our_own_decisions/transcript"
       ]
      },
      {
       "output_type": "stream",
       "stream": "stdout",
       "text": [
        "\n",
        "https://www.ted.com/talks/qi_zhang_s_electrifying_organ_performance/transcript"
       ]
      },
      {
       "output_type": "stream",
       "stream": "stdout",
       "text": [
        "\n",
        "https://www.ted.com/talks/alix_generous_how_i_learned_to_communicate_my_inner_life_with_asperger_s/transcript"
       ]
      },
      {
       "output_type": "stream",
       "stream": "stdout",
       "text": [
        "\n",
        "https://www.ted.com/talks/benjamin_wallace_on_the_price_of_happiness/transcript"
       ]
      },
      {
       "output_type": "stream",
       "stream": "stdout",
       "text": [
        "\n",
        "https://www.ted.com/talks/boaz_almog_levitates_a_superconductor/transcript"
       ]
      },
      {
       "output_type": "stream",
       "stream": "stdout",
       "text": [
        "\n",
        "https://www.ted.com/talks/arthur_potts_dawson_a_vision_for_sustainable_restaurants/transcript"
       ]
      },
      {
       "output_type": "stream",
       "stream": "stdout",
       "text": [
        "\n",
        "https://www.ted.com/talks/sam_harris_science_can_show_what_s_right/transcript"
       ]
      },
      {
       "output_type": "stream",
       "stream": "stdout",
       "text": [
        "\n",
        "https://www.ted.com/talks/noah_feldman_says_politics_and_religion_are_technologies/transcript"
       ]
      },
      {
       "output_type": "stream",
       "stream": "stdout",
       "text": [
        "\n",
        "https://www.ted.com/talks/christina_warinner_tracking_ancient_diseases_using_plaque/transcript"
       ]
      },
      {
       "output_type": "stream",
       "stream": "stdout",
       "text": [
        "\n",
        "https://www.ted.com/talks/colin_camerer_neuroscience_game_theory_monkeys/transcript"
       ]
      },
      {
       "output_type": "stream",
       "stream": "stdout",
       "text": [
        "\n",
        "https://www.ted.com/talks/carol_dweck_the_power_of_believing_that_you_can_improve/transcript"
       ]
      },
      {
       "output_type": "stream",
       "stream": "stdout",
       "text": [
        "\n",
        "https://www.ted.com/talks/leonard_susskind_my_friend_richard_feynman/transcript"
       ]
      },
      {
       "output_type": "stream",
       "stream": "stdout",
       "text": [
        "\n",
        "https://www.ted.com/talks/richard_st_john_s_8_secrets_of_success/transcript"
       ]
      },
      {
       "output_type": "stream",
       "stream": "stdout",
       "text": [
        "\n",
        "https://www.ted.com/talks/michelle_borkin_can_astronomers_help_doctors/transcript"
       ]
      },
      {
       "output_type": "stream",
       "stream": "stdout",
       "text": [
        "\n",
        "https://www.ted.com/talks/matthew_carter_my_life_in_typefaces/transcript"
       ]
      },
      {
       "output_type": "stream",
       "stream": "stdout",
       "text": [
        "\n",
        "https://www.ted.com/talks/caleb_chung_plays_with_pleo/transcript"
       ]
      },
      {
       "output_type": "stream",
       "stream": "stdout",
       "text": [
        "\n",
        "https://www.ted.com/talks/young_ha_kim_be_an_artist_right_now/transcript"
       ]
      },
      {
       "output_type": "stream",
       "stream": "stdout",
       "text": [
        "\n",
        "https://www.ted.com/talks/andreas_ekstrom_the_moral_bias_behind_your_search_results/transcript"
       ]
      },
      {
       "output_type": "stream",
       "stream": "stdout",
       "text": [
        "\n",
        "https://www.ted.com/talks/jake_wood_a_new_mission_for_veterans_disaster_relief/transcript"
       ]
      },
      {
       "output_type": "stream",
       "stream": "stdout",
       "text": [
        "\n",
        "https://www.ted.com/talks/lisa_margonelli_the_political_chemistry_of_oil/transcript"
       ]
      },
      {
       "output_type": "stream",
       "stream": "stdout",
       "text": [
        "\n",
        "https://www.ted.com/talks/simon_berrow_how_do_you_save_a_shark_you_know_nothing_about/transcript"
       ]
      },
      {
       "output_type": "stream",
       "stream": "stdout",
       "text": [
        "\n",
        "https://www.ted.com/talks/moshe_safdie_how_to_reinvent_the_apartment_building/transcript"
       ]
      },
      {
       "output_type": "stream",
       "stream": "stdout",
       "text": [
        "\n",
        "https://www.ted.com/talks/theaster_gates_how_to_revive_a_neighborhood_with_imagination_beauty_and_art/transcript"
       ]
      },
      {
       "output_type": "stream",
       "stream": "stdout",
       "text": [
        "\n",
        "https://www.ted.com/talks/ariel_garten_know_thyself_with_a_brain_scanner/transcript"
       ]
      },
      {
       "output_type": "stream",
       "stream": "stdout",
       "text": [
        "\n",
        "https://www.ted.com/talks/tim_brown_on_creativity_and_play/transcript"
       ]
      },
      {
       "output_type": "stream",
       "stream": "stdout",
       "text": [
        "\n",
        "https://www.ted.com/talks/garik_israelian_what_s_inside_a_star/transcript"
       ]
      },
      {
       "output_type": "stream",
       "stream": "stdout",
       "text": [
        "\n",
        "https://www.ted.com/talks/hadyn_parry_re_engineering_mosquitos_to_fight_disease/transcript"
       ]
      },
      {
       "output_type": "stream",
       "stream": "stdout",
       "text": [
        "\n",
        "https://www.ted.com/talks/rory_sutherland_sweat_the_small_stuff/transcript"
       ]
      },
      {
       "output_type": "stream",
       "stream": "stdout",
       "text": [
        "\n",
        "https://www.ted.com/talks/hamish_jolly_a_shark_deterrent_wetsuit_and_it_s_not_what_you_think/transcript"
       ]
      },
      {
       "output_type": "stream",
       "stream": "stdout",
       "text": [
        "\n",
        "https://www.ted.com/talks/gabe_zichermann_how_games_make_kids_smarter/transcript"
       ]
      },
      {
       "output_type": "stream",
       "stream": "stdout",
       "text": [
        "\n",
        "https://www.ted.com/talks/marco_tempest_the_augmented_reality_of_techno_magic/transcript"
       ]
      },
      {
       "output_type": "stream",
       "stream": "stdout",
       "text": [
        "\n",
        "https://www.ted.com/talks/dan_ariely_what_makes_us_feel_good_about_our_work/transcript"
       ]
      },
      {
       "output_type": "stream",
       "stream": "stdout",
       "text": [
        "\n",
        "https://www.ted.com/talks/eli_pariser_beware_online_filter_bubbles/transcript"
       ]
      },
      {
       "output_type": "stream",
       "stream": "stdout",
       "text": [
        "\n",
        "https://www.ted.com/talks/taylor_mali_what_teachers_make/transcript"
       ]
      },
      {
       "output_type": "stream",
       "stream": "stdout",
       "text": [
        "\n",
        "https://www.ted.com/talks/jack_andraka_a_promising_test_for_pancreatic_cancer_from_a_teenager/transcript"
       ]
      },
      {
       "output_type": "stream",
       "stream": "stdout",
       "text": [
        "\n",
        "https://www.ted.com/talks/giles_duley_when_a_reporter_becomes_the_story/transcript"
       ]
      },
      {
       "output_type": "stream",
       "stream": "stdout",
       "text": [
        "\n",
        "https://www.ted.com/talks/ray_anderson_on_the_business_logic_of_sustainability/transcript"
       ]
      },
      {
       "output_type": "stream",
       "stream": "stdout",
       "text": [
        "\n",
        "https://www.ted.com/talks/handpring_puppet_co_the_genius_puppetry_behind_war_horse/transcript"
       ]
      },
      {
       "output_type": "stream",
       "stream": "stdout",
       "text": [
        "\n",
        "https://www.ted.com/talks/rose_george_let_s_talk_crap_seriously/transcript"
       ]
      },
      {
       "output_type": "stream",
       "stream": "stdout",
       "text": [
        "\n",
        "https://www.ted.com/talks/ellen_gustafson_obesity_hunger_1_global_food_issue/transcript"
       ]
      },
      {
       "output_type": "stream",
       "stream": "stdout",
       "text": [
        "\n",
        "https://www.ted.com/talks/edward_burtynsky_on_manufactured_landscapes/transcript"
       ]
      },
      {
       "output_type": "stream",
       "stream": "stdout",
       "text": [
        "\n",
        "https://www.ted.com/talks/abha_dawesar_life_in_the_digital_now/transcript"
       ]
      },
      {
       "output_type": "stream",
       "stream": "stdout",
       "text": [
        "\n",
        "https://www.ted.com/talks/david_r_dow_lessons_from_death_row_inmates/transcript"
       ]
      },
      {
       "output_type": "stream",
       "stream": "stdout",
       "text": [
        "\n",
        "https://www.ted.com/talks/rory_bremner_s_one_man_world_summit/transcript"
       ]
      },
      {
       "output_type": "stream",
       "stream": "stdout",
       "text": [
        "\n",
        "https://www.ted.com/talks/avi_reichental_what_s_next_in_3d_printing/transcript"
       ]
      },
      {
       "output_type": "stream",
       "stream": "stdout",
       "text": [
        "\n",
        "https://www.ted.com/talks/jane_mcgonigal_gaming_can_make_a_better_world/transcript"
       ]
      },
      {
       "output_type": "stream",
       "stream": "stdout",
       "text": [
        "\n",
        "https://www.ted.com/talks/esther_perel_the_secret_to_desire_in_a_long_term_relationship/transcript"
       ]
      },
      {
       "output_type": "stream",
       "stream": "stdout",
       "text": [
        "\n",
        "https://www.ted.com/talks/jarreth_merz_filming_democracy_in_ghana/transcript"
       ]
      },
      {
       "output_type": "stream",
       "stream": "stdout",
       "text": [
        "\n",
        "https://www.ted.com/talks/bruce_aylward_how_we_ll_stop_polio/transcript"
       ]
      },
      {
       "output_type": "stream",
       "stream": "stdout",
       "text": [
        "\n",
        "https://www.ted.com/talks/ray_kurzweil_get_ready_for_hybrid_thinking/transcript"
       ]
      },
      {
       "output_type": "stream",
       "stream": "stdout",
       "text": [
        "\n",
        "https://www.ted.com/talks/david_griffin_on_how_photography_connects/transcript"
       ]
      },
      {
       "output_type": "stream",
       "stream": "stdout",
       "text": [
        "\n",
        "https://www.ted.com/talks/ernest_madu_on_world_class_health_care/transcript"
       ]
      },
      {
       "output_type": "stream",
       "stream": "stdout",
       "text": [
        "\n",
        "https://www.ted.com/talks/birke_baehr_what_s_wrong_with_our_food_system/transcript"
       ]
      },
      {
       "output_type": "stream",
       "stream": "stdout",
       "text": [
        "\n",
        "https://www.ted.com/talks/jackie_savitz_save_the_oceans_feed_the_world/transcript"
       ]
      },
      {
       "output_type": "stream",
       "stream": "stdout",
       "text": [
        "\n",
        "https://www.ted.com/talks/tom_wujec_on_3_ways_the_brain_creates_meaning/transcript"
       ]
      },
      {
       "output_type": "stream",
       "stream": "stdout",
       "text": [
        "\n",
        "https://www.ted.com/talks/raghava_kk_what_s_your_200_year_plan/transcript"
       ]
      },
      {
       "output_type": "stream",
       "stream": "stdout",
       "text": [
        "\n",
        "https://www.ted.com/talks/ian_ritchie_the_day_i_turned_down_tim_berners_lee/transcript"
       ]
      },
      {
       "output_type": "stream",
       "stream": "stdout",
       "text": [
        "\n",
        "https://www.ted.com/talks/ashraf_ghani_on_rebuilding_broken_states/transcript"
       ]
      },
      {
       "output_type": "stream",
       "stream": "stdout",
       "text": [
        "\n",
        "https://www.ted.com/talks/zeresenay_alemseged_looks_for_humanity_s_roots/transcript"
       ]
      },
      {
       "output_type": "stream",
       "stream": "stdout",
       "text": [
        "\n",
        "https://www.ted.com/talks/nancy_duarte_the_secret_structure_of_great_talks/transcript"
       ]
      },
      {
       "output_type": "stream",
       "stream": "stdout",
       "text": [
        "\n",
        "https://www.ted.com/talks/joe_landolina_this_gel_can_make_you_stop_bleeding_instantly/transcript"
       ]
      },
      {
       "output_type": "stream",
       "stream": "stdout",
       "text": [
        "\n",
        "https://www.ted.com/talks/andrew_solomon_depression_the_secret_we_share/transcript"
       ]
      },
      {
       "output_type": "stream",
       "stream": "stdout",
       "text": [
        "\n",
        "https://www.ted.com/talks/sebastian_thrun_google_s_driverless_car/transcript"
       ]
      },
      {
       "output_type": "stream",
       "stream": "stdout",
       "text": [
        "\n",
        "https://www.ted.com/talks/michael_hansmeyer_building_unimaginable_shapes/transcript"
       ]
      },
      {
       "output_type": "stream",
       "stream": "stdout",
       "text": [
        "\n",
        "https://www.ted.com/talks/yossi_vardi_fights_local_warming/transcript"
       ]
      },
      {
       "output_type": "stream",
       "stream": "stdout",
       "text": [
        "\n",
        "https://www.ted.com/talks/nathalie_cabrol_how_mars_might_hold_the_secret_to_the_origin_of_life/transcript"
       ]
      },
      {
       "output_type": "stream",
       "stream": "stdout",
       "text": [
        "\n",
        "https://www.ted.com/talks/thomas_insel_toward_a_new_understanding_of_mental_illness/transcript"
       ]
      },
      {
       "output_type": "stream",
       "stream": "stdout",
       "text": [
        "\n",
        "https://www.ted.com/talks/robert_gupta_between_music_and_medicine/transcript"
       ]
      },
      {
       "output_type": "stream",
       "stream": "stdout",
       "text": [
        "\n",
        "https://www.ted.com/talks/suzanne_lee_grow_your_own_clothes/transcript"
       ]
      },
      {
       "output_type": "stream",
       "stream": "stdout",
       "text": [
        "\n",
        "https://www.ted.com/talks/ricardo_semler_radical_wisdom_for_a_company_a_school_a_life/transcript"
       ]
      },
      {
       "output_type": "stream",
       "stream": "stdout",
       "text": [
        "\n",
        "https://www.ted.com/talks/abigail_washburn_building_us_china_relations_by_banjo/transcript"
       ]
      },
      {
       "output_type": "stream",
       "stream": "stdout",
       "text": [
        "\n",
        "https://www.ted.com/talks/thomas_p_campbell_weaving_narratives_in_museum_galleries/transcript"
       ]
      },
      {
       "output_type": "stream",
       "stream": "stdout",
       "text": [
        "\n",
        "https://www.ted.com/talks/dave_troy_social_maps_that_reveal_a_city_s_intersections_and_separations/transcript"
       ]
      },
      {
       "output_type": "stream",
       "stream": "stdout",
       "text": [
        "\n",
        "https://www.ted.com/talks/carl_safina_what_are_animals_thinking_and_feeling/transcript"
       ]
      },
      {
       "output_type": "stream",
       "stream": "stdout",
       "text": [
        "\n",
        "https://www.ted.com/talks/the_interspecies_internet_an_idea_in_progress/transcript"
       ]
      },
      {
       "output_type": "stream",
       "stream": "stdout",
       "text": [
        "\n",
        "https://www.ted.com/talks/jane_chen_a_warm_embrace_that_saves_lives/transcript"
       ]
      },
      {
       "output_type": "stream",
       "stream": "stdout",
       "text": [
        "\n",
        "https://www.ted.com/talks/jackson_katz_violence_against_women_it_s_a_men_s_issue/transcript"
       ]
      },
      {
       "output_type": "stream",
       "stream": "stdout",
       "text": [
        "\n",
        "https://www.ted.com/talks/drew_curtis_how_i_beat_a_patent_troll/transcript"
       ]
      },
      {
       "output_type": "stream",
       "stream": "stdout",
       "text": [
        "\n",
        "https://www.ted.com/talks/shereen_el_feki_pop_culture_in_the_arab_world/transcript"
       ]
      },
      {
       "output_type": "stream",
       "stream": "stdout",
       "text": [
        "\n",
        "https://www.ted.com/talks/jane_goodall_at_tedglobal_07/transcript"
       ]
      },
      {
       "output_type": "stream",
       "stream": "stdout",
       "text": [
        "\n",
        "https://www.ted.com/talks/murray_gell_mann_on_the_ancestor_of_language/transcript"
       ]
      },
      {
       "output_type": "stream",
       "stream": "stdout",
       "text": [
        "\n",
        "https://www.ted.com/talks/steve_keil_a_manifesto_for_play_for_bulgaria_and_beyond/transcript"
       ]
      },
      {
       "output_type": "stream",
       "stream": "stdout",
       "text": [
        "\n",
        "https://www.ted.com/talks/yanis_varoufakis_capitalism_will_eat_democracy_unless_we_speak_up/transcript"
       ]
      },
      {
       "output_type": "stream",
       "stream": "stdout",
       "text": [
        "\n",
        "https://www.ted.com/talks/guy_philippe_goldstein_how_cyberattacks_threaten_real_world_peace/transcript"
       ]
      },
      {
       "output_type": "stream",
       "stream": "stdout",
       "text": [
        "\n",
        "https://www.ted.com/talks/yasheng_huang/transcript"
       ]
      },
      {
       "output_type": "stream",
       "stream": "stdout",
       "text": [
        "\n",
        "https://www.ted.com/talks/david_pogue_on_cool_phone_tricks/transcript"
       ]
      },
      {
       "output_type": "stream",
       "stream": "stdout",
       "text": [
        "\n",
        "https://www.ted.com/talks/lucien_engelen_crowdsource_your_health/transcript"
       ]
      },
      {
       "output_type": "stream",
       "stream": "stdout",
       "text": [
        "\n",
        "https://www.ted.com/talks/robert_neuwirth_the_power_of_the_informal_economy/transcript"
       ]
      },
      {
       "output_type": "stream",
       "stream": "stdout",
       "text": [
        "\n",
        "https://www.ted.com/talks/bart_knols_cheese_dogs_and_pills_to_end_malaria/transcript"
       ]
      },
      {
       "output_type": "stream",
       "stream": "stdout",
       "text": [
        "\n",
        "https://www.ted.com/talks/alan_kay_shares_a_powerful_idea_about_ideas/transcript"
       ]
      },
      {
       "output_type": "stream",
       "stream": "stdout",
       "text": [
        "\n",
        "https://www.ted.com/talks/colin_grant_the_son_of_a_difficult_father/transcript"
       ]
      },
      {
       "output_type": "stream",
       "stream": "stdout",
       "text": [
        "\n",
        "https://www.ted.com/talks/martin_seligman_on_the_state_of_psychology/transcript"
       ]
      },
      {
       "output_type": "stream",
       "stream": "stdout",
       "text": [
        "\n",
        "https://www.ted.com/talks/dan_barasch_a_park_underneath_the_hustle_and_bustle_of_new_york_city/transcript"
       ]
      },
      {
       "output_type": "stream",
       "stream": "stdout",
       "text": [
        "\n",
        "https://www.ted.com/talks/bono_the_good_news_on_poverty_yes_there_s_good_news/transcript"
       ]
      },
      {
       "output_type": "stream",
       "stream": "stdout",
       "text": [
        "\n",
        "https://www.ted.com/talks/claron_mcfadden_singing_the_primal_mystery/transcript"
       ]
      },
      {
       "output_type": "stream",
       "stream": "stdout",
       "text": [
        "\n",
        "https://www.ted.com/talks/gary_greenberg_the_beautiful_nano_details_of_our_world/transcript"
       ]
      },
      {
       "output_type": "stream",
       "stream": "stdout",
       "text": [
        "\n",
        "https://www.ted.com/talks/rory_stewart_time_to_end_the_war_in_afghanistan/transcript"
       ]
      },
      {
       "output_type": "stream",
       "stream": "stdout",
       "text": [
        "\n",
        "https://www.ted.com/talks/natalie_merchant_sings_old_poems_to_life/transcript"
       ]
      },
      {
       "output_type": "stream",
       "stream": "stdout",
       "text": [
        "\n",
        "https://www.ted.com/talks/mechai_viravaidya_how_mr_condom_made_thailand_a_better_place/transcript"
       ]
      },
      {
       "output_type": "stream",
       "stream": "stdout",
       "text": [
        "\n",
        "https://www.ted.com/talks/ash_beckham_we_re_all_hiding_something_let_s_find_the_courage_to_open_up/transcript"
       ]
      },
      {
       "output_type": "stream",
       "stream": "stdout",
       "text": [
        "\n",
        "https://www.ted.com/talks/stacey_kramer_the_best_gift_i_ever_survived/transcript"
       ]
      },
      {
       "output_type": "stream",
       "stream": "stdout",
       "text": [
        "\n",
        "https://www.ted.com/talks/shyam_sankar_the_rise_of_human_computer_cooperation/transcript"
       ]
      },
      {
       "output_type": "stream",
       "stream": "stdout",
       "text": [
        "\n",
        "https://www.ted.com/talks/michael_porter_why_business_can_be_good_at_solving_social_problems/transcript"
       ]
      },
      {
       "output_type": "stream",
       "stream": "stdout",
       "text": [
        "\n",
        "https://www.ted.com/talks/peter_van_uhm_why_i_chose_a_gun/transcript"
       ]
      },
      {
       "output_type": "stream",
       "stream": "stdout",
       "text": [
        "\n",
        "https://www.ted.com/talks/nick_bostrom_what_happens_when_our_computers_get_smarter_than_we_are/transcript"
       ]
      },
      {
       "output_type": "stream",
       "stream": "stdout",
       "text": [
        "\n",
        "https://www.ted.com/talks/allan_savory_how_to_green_the_world_s_deserts_and_reverse_climate_change/transcript"
       ]
      },
      {
       "output_type": "stream",
       "stream": "stdout",
       "text": [
        "\n",
        "https://www.ted.com/talks/steve_jurvetson_on_model_rocketry/transcript"
       ]
      },
      {
       "output_type": "stream",
       "stream": "stdout",
       "text": [
        "\n",
        "https://www.ted.com/talks/joan_halifax/transcript"
       ]
      },
      {
       "output_type": "stream",
       "stream": "stdout",
       "text": [
        "\n",
        "https://www.ted.com/talks/robert_gupta/transcript"
       ]
      },
      {
       "output_type": "stream",
       "stream": "stdout",
       "text": [
        "\n",
        "https://www.ted.com/talks/bjarke_ingels_3_warp_speed_architecture_tales/transcript"
       ]
      },
      {
       "output_type": "stream",
       "stream": "stdout",
       "text": [
        "\n",
        "https://www.ted.com/talks/rajesh_rao_computing_a_rosetta_stone_for_the_indus_script/transcript"
       ]
      },
      {
       "output_type": "stream",
       "stream": "stdout",
       "text": [
        "\n",
        "https://www.ted.com/talks/william_black_how_to_rob_a_bank_from_the_inside_that_is/transcript"
       ]
      },
      {
       "output_type": "stream",
       "stream": "stdout",
       "text": [
        "\n",
        "https://www.ted.com/talks/jane_poynter_life_in_biosphere_2/transcript"
       ]
      },
      {
       "output_type": "stream",
       "stream": "stdout",
       "text": [
        "\n",
        "https://www.ted.com/talks/richard_pyle_dives_the_twilight_zone/transcript"
       ]
      },
      {
       "output_type": "stream",
       "stream": "stdout",
       "text": [
        "\n",
        "https://www.ted.com/talks/del_harvey_the_strangeness_of_scale_at_twitter/transcript"
       ]
      },
      {
       "output_type": "stream",
       "stream": "stdout",
       "text": [
        "\n",
        "https://www.ted.com/talks/chieko_asakawa_how_new_technology_helps_blind_people_explore_the_world/transcript"
       ]
      },
      {
       "output_type": "stream",
       "stream": "stdout",
       "text": [
        "\n",
        "https://www.ted.com/talks/sergey_brin_why_google_glass/transcript"
       ]
      },
      {
       "output_type": "stream",
       "stream": "stdout",
       "text": [
        "\n",
        "https://www.ted.com/talks/michael_merzenich_on_the_elastic_brain/transcript"
       ]
      },
      {
       "output_type": "stream",
       "stream": "stdout",
       "text": [
        "\n",
        "https://www.ted.com/talks/how_simple_ideas_lead_to_scientific_discoveries/transcript"
       ]
      },
      {
       "output_type": "stream",
       "stream": "stdout",
       "text": [
        "\n",
        "https://www.ted.com/talks/jane_fonda_life_s_third_act/transcript"
       ]
      },
      {
       "output_type": "stream",
       "stream": "stdout",
       "text": [
        "\n",
        "https://www.ted.com/talks/nina_tandon_could_tissue_engineering_mean_personalized_medicine/transcript"
       ]
      },
      {
       "output_type": "stream",
       "stream": "stdout",
       "text": [
        "\n",
        "https://www.ted.com/talks/debra_jarvis_yes_i_survived_cancer_but_that_doesn_t_define_me/transcript"
       ]
      },
      {
       "output_type": "stream",
       "stream": "stdout",
       "text": [
        "\n",
        "https://www.ted.com/talks/scott_dinsmore_how_to_find_work_you_love/transcript"
       ]
      },
      {
       "output_type": "stream",
       "stream": "stdout",
       "text": [
        "\n",
        "https://www.ted.com/talks/aomawa_shields_how_we_ll_find_life_on_other_planets/transcript"
       ]
      },
      {
       "output_type": "stream",
       "stream": "stdout",
       "text": [
        "\n",
        "https://www.ted.com/talks/jill_bolte_taylor_s_powerful_stroke_of_insight/transcript"
       ]
      },
      {
       "output_type": "stream",
       "stream": "stdout",
       "text": [
        "\n",
        "https://www.ted.com/talks/leslie_morgan_steiner_why_domestic_violence_victims_don_t_leave/transcript"
       ]
      },
      {
       "output_type": "stream",
       "stream": "stdout",
       "text": [
        "\n",
        "https://www.ted.com/talks/tim_brown_urges_designers_to_think_big/transcript"
       ]
      },
      {
       "output_type": "stream",
       "stream": "stdout",
       "text": [
        "\n",
        "https://www.ted.com/talks/peter_diamandis_abundance_is_our_future/transcript"
       ]
      },
      {
       "output_type": "stream",
       "stream": "stdout",
       "text": [
        "\n",
        "https://www.ted.com/talks/sally_kohn_let_s_try_emotional_correctness/transcript"
       ]
      },
      {
       "output_type": "stream",
       "stream": "stdout",
       "text": [
        "\n",
        "https://www.ted.com/talks/elyn_saks_seeing_mental_illness/transcript"
       ]
      },
      {
       "output_type": "stream",
       "stream": "stdout",
       "text": [
        "\n",
        "https://www.ted.com/talks/nick_hanauer_beware_fellow_plutocrats_the_pitchforks_are_coming/transcript"
       ]
      },
      {
       "output_type": "stream",
       "stream": "stdout",
       "text": [
        "\n",
        "https://www.ted.com/talks/gayle_tzemach_lemmon_women_entrepreneurs_example_not_exception/transcript"
       ]
      },
      {
       "output_type": "stream",
       "stream": "stdout",
       "text": [
        "\n",
        "https://www.ted.com/talks/al_seckel_says_our_brains_are_mis_wired/transcript"
       ]
      },
      {
       "output_type": "stream",
       "stream": "stdout",
       "text": [
        "\n",
        "https://www.ted.com/talks/nellie_mckay_sings_the_dog_song/transcript"
       ]
      },
      {
       "output_type": "stream",
       "stream": "stdout",
       "text": [
        "\n",
        "https://www.ted.com/talks/bill_strickland_makes_change_with_a_slide_show/transcript"
       ]
      },
      {
       "output_type": "stream",
       "stream": "stdout",
       "text": [
        "\n",
        "https://www.ted.com/talks/charles_fleischer_insists_all_things_are_moleeds/transcript"
       ]
      },
      {
       "output_type": "stream",
       "stream": "stdout",
       "text": [
        "\n",
        "https://www.ted.com/talks/bahia_shehab_a_thousand_times_no/transcript"
       ]
      },
      {
       "output_type": "stream",
       "stream": "stdout",
       "text": [
        "\n",
        "https://www.ted.com/talks/dan_berkenstock_the_world_is_one_big_dataset_now_how_to_photograph_it/transcript"
       ]
      },
      {
       "output_type": "stream",
       "stream": "stdout",
       "text": [
        "\n",
        "https://www.ted.com/talks/nicholas_negroponte_in_1984_makes_5_predictions/transcript"
       ]
      },
      {
       "output_type": "stream",
       "stream": "stdout",
       "text": [
        "\n",
        "https://www.ted.com/talks/sugata_mitra_the_child_driven_education/transcript"
       ]
      },
      {
       "output_type": "stream",
       "stream": "stdout",
       "text": [
        "\n",
        "https://www.ted.com/talks/tasso_azevedo_hopeful_lessons_from_the_battle_to_save_rainforests/transcript"
       ]
      },
      {
       "output_type": "stream",
       "stream": "stdout",
       "text": [
        "\n",
        "https://www.ted.com/talks/anna_mracek_dietrich_a_plane_you_can_drive/transcript"
       ]
      },
      {
       "output_type": "stream",
       "stream": "stdout",
       "text": [
        "\n",
        "https://www.ted.com/talks/peter_hirshberg_on_tv_and_the_web/transcript"
       ]
      },
      {
       "output_type": "stream",
       "stream": "stdout",
       "text": [
        "\n",
        "https://www.ted.com/talks/pattie_maes_demos_the_sixth_sense/transcript"
       ]
      },
      {
       "output_type": "stream",
       "stream": "stdout",
       "text": [
        "\n",
        "https://www.ted.com/talks/brian_cox_on_cern_s_supercollider/transcript"
       ]
      },
      {
       "output_type": "stream",
       "stream": "stdout",
       "text": [
        "\n",
        "https://www.ted.com/talks/takaharu_tezuka_the_best_kindergarten_you_ve_ever_seen/transcript"
       ]
      },
      {
       "output_type": "stream",
       "stream": "stdout",
       "text": [
        "\n",
        "https://www.ted.com/talks/dong_woo_jang_the_art_of_bow_making/transcript"
       ]
      },
      {
       "output_type": "stream",
       "stream": "stdout",
       "text": [
        "\n",
        "https://www.ted.com/talks/uldus_bakhtiozina_wry_photos_that_turn_stereotypes_upside_down/transcript"
       ]
      },
      {
       "output_type": "stream",
       "stream": "stdout",
       "text": [
        "\n",
        "https://www.ted.com/talks/kristen_ashburn_s_heart_rending_pictures_of_aids/transcript"
       ]
      },
      {
       "output_type": "stream",
       "stream": "stdout",
       "text": [
        "\n",
        "https://www.ted.com/talks/derek_sivers_keep_your_goals_to_yourself/transcript"
       ]
      },
      {
       "output_type": "stream",
       "stream": "stdout",
       "text": [
        "\n",
        "https://www.ted.com/talks/bernie_krause_the_voice_of_the_natural_world/transcript"
       ]
      },
      {
       "output_type": "stream",
       "stream": "stdout",
       "text": [
        "\n",
        "https://www.ted.com/talks/kare_anderson_be_an_opportunity_maker/transcript"
       ]
      },
      {
       "output_type": "stream",
       "stream": "stdout",
       "text": [
        "\n",
        "https://www.ted.com/talks/dalia_mogahed_the_attitudes_that_sparked_arab_spring/transcript"
       ]
      },
      {
       "output_type": "stream",
       "stream": "stdout",
       "text": [
        "\n",
        "https://www.ted.com/talks/mark_shaw_one_very_dry_demo/transcript"
       ]
      },
      {
       "output_type": "stream",
       "stream": "stdout",
       "text": [
        "\n",
        "https://www.ted.com/talks/david_damberger_what_happens_when_an_ngo_admits_failure/transcript"
       ]
      },
      {
       "output_type": "stream",
       "stream": "stdout",
       "text": [
        "\n",
        "https://www.ted.com/talks/paola_antonelli_why_i_brought_pacman_to_moma/transcript"
       ]
      },
      {
       "output_type": "stream",
       "stream": "stdout",
       "text": [
        "\n",
        "https://www.ted.com/talks/samuel_cohen_alzheimer_s_is_not_normal_aging_and_we_can_cure_it/transcript"
       ]
      },
      {
       "output_type": "stream",
       "stream": "stdout",
       "text": [
        "\n",
        "https://www.ted.com/talks/eric_giler_demos_wireless_electricity/transcript"
       ]
      },
      {
       "output_type": "stream",
       "stream": "stdout",
       "text": [
        "\n",
        "https://www.ted.com/talks/susan_lim/transcript"
       ]
      },
      {
       "output_type": "stream",
       "stream": "stdout",
       "text": [
        "\n",
        "https://www.ted.com/talks/toby_shapshak_you_don_t_need_an_app_for_that/transcript"
       ]
      },
      {
       "output_type": "stream",
       "stream": "stdout",
       "text": [
        "\n",
        "https://www.ted.com/talks/hetain_patel_who_am_i_think_again/transcript"
       ]
      },
      {
       "output_type": "stream",
       "stream": "stdout",
       "text": [
        "\n",
        "https://www.ted.com/talks/bob_thurman_says_we_can_be_buddhas/transcript"
       ]
      },
      {
       "output_type": "stream",
       "stream": "stdout",
       "text": [
        "\n",
        "https://www.ted.com/talks/lakshmi_pratury_on_letter_writing/transcript"
       ]
      },
      {
       "output_type": "stream",
       "stream": "stdout",
       "text": [
        "\n",
        "https://www.ted.com/talks/jesse_schell_when_games_invade_real_life/transcript"
       ]
      },
      {
       "output_type": "stream",
       "stream": "stdout",
       "text": [
        "\n",
        "https://www.ted.com/talks/kent_larson_brilliant_designs_to_fit_more_people_in_every_city/transcript"
       ]
      },
      {
       "output_type": "stream",
       "stream": "stdout",
       "text": [
        "\n",
        "https://www.ted.com/talks/andrew_stanton_the_clues_to_a_great_story/transcript"
       ]
      },
      {
       "output_type": "stream",
       "stream": "stdout",
       "text": [
        "\n",
        "https://www.ted.com/talks/nicholas_christakis_the_hidden_influence_of_social_networks/transcript"
       ]
      },
      {
       "output_type": "stream",
       "stream": "stdout",
       "text": [
        "\n",
        "https://www.ted.com/talks/andrew_mcafee_are_droids_taking_our_jobs/transcript"
       ]
      },
      {
       "output_type": "stream",
       "stream": "stdout",
       "text": [
        "\n",
        "https://www.ted.com/talks/benedetta_berti_the_surprising_way_groups_like_isis_stay_in_power/transcript"
       ]
      },
      {
       "output_type": "stream",
       "stream": "stdout",
       "text": [
        "\n",
        "https://www.ted.com/talks/britta_riley_a_garden_in_my_apartment/transcript"
       ]
      },
      {
       "output_type": "stream",
       "stream": "stdout",
       "text": [
        "\n",
        "https://www.ted.com/talks/eleanor_longden_the_voices_in_my_head/transcript"
       ]
      },
      {
       "output_type": "stream",
       "stream": "stdout",
       "text": [
        "\n",
        "https://www.ted.com/talks/xavier_vilalta_architecture_at_home_in_its_community/transcript"
       ]
      },
      {
       "output_type": "stream",
       "stream": "stdout",
       "text": [
        "\n",
        "https://www.ted.com/talks/michael_green_why_we_should_build_wooden_skyscrapers/transcript"
       ]
      },
      {
       "output_type": "stream",
       "stream": "stdout",
       "text": [
        "\n",
        "https://www.ted.com/talks/alessandro_acquisti_why_privacy_matters/transcript"
       ]
      },
      {
       "output_type": "stream",
       "stream": "stdout",
       "text": [
        "\n",
        "https://www.ted.com/talks/sue_austin_deep_sea_diving_in_a_wheelchair/transcript"
       ]
      },
      {
       "output_type": "stream",
       "stream": "stdout",
       "text": [
        "\n",
        "https://www.ted.com/talks/jill_shargaa_please_please_people_let_s_put_the_awe_back_in_awesome/transcript"
       ]
      },
      {
       "output_type": "stream",
       "stream": "stdout",
       "text": [
        "\n",
        "https://www.ted.com/talks/paul_romer_the_world_s_first_charter_city/transcript"
       ]
      },
      {
       "output_type": "stream",
       "stream": "stdout",
       "text": [
        "\n",
        "https://www.ted.com/talks/peter_doolittle_how_your_working_memory_makes_sense_of_the_world/transcript"
       ]
      },
      {
       "output_type": "stream",
       "stream": "stdout",
       "text": [
        "\n",
        "https://www.ted.com/talks/geoff_mulgan_post_crash_investing_in_a_better_world_1/transcript"
       ]
      },
      {
       "output_type": "stream",
       "stream": "stdout",
       "text": [
        "\n",
        "https://www.ted.com/talks/michael_rubinstein_see_invisible_motion_hear_silent_sounds_cool_creepy_we_can_t_decide/transcript"
       ]
      },
      {
       "output_type": "stream",
       "stream": "stdout",
       "text": [
        "\n",
        "https://www.ted.com/talks/matt_killingsworth_want_to_be_happier_stay_in_the_moment/transcript"
       ]
      },
      {
       "output_type": "stream",
       "stream": "stdout",
       "text": [
        "\n",
        "https://www.ted.com/talks/marco_tempest_the_magic_of_truth_and_lies_on_ipods/transcript"
       ]
      },
      {
       "output_type": "stream",
       "stream": "stdout",
       "text": [
        "\n",
        "https://www.ted.com/talks/camille_seaman_haunting_photos_of_ice/transcript"
       ]
      },
      {
       "output_type": "stream",
       "stream": "stdout",
       "text": [
        "\n",
        "https://www.ted.com/talks/benjamin_zander_on_music_and_passion/transcript"
       ]
      },
      {
       "output_type": "stream",
       "stream": "stdout",
       "text": [
        "\n",
        "https://www.ted.com/talks/john_francis_walks_the_earth/transcript"
       ]
      },
      {
       "output_type": "stream",
       "stream": "stdout",
       "text": [
        "\n",
        "https://www.ted.com/talks/ash_beckham_when_to_take_a_stand_and_when_to_let_it_go/transcript"
       ]
      },
      {
       "output_type": "stream",
       "stream": "stdout",
       "text": [
        "\n",
        "https://www.ted.com/talks/kakenya_ntaiya_a_girl_who_demanded_school/transcript"
       ]
      },
      {
       "output_type": "stream",
       "stream": "stdout",
       "text": [
        "\n",
        "https://www.ted.com/talks/mac_barnett_why_a_good_book_is_a_secret_door/transcript"
       ]
      },
      {
       "output_type": "stream",
       "stream": "stdout",
       "text": [
        "\n",
        "https://www.ted.com/talks/nathan_myhrvold_could_this_laser_zap_malaria/transcript"
       ]
      },
      {
       "output_type": "stream",
       "stream": "stdout",
       "text": [
        "\n",
        "https://www.ted.com/talks/don_tapscott_four_principles_for_the_open_world_1/transcript"
       ]
      },
      {
       "output_type": "stream",
       "stream": "stdout",
       "text": [
        "\n",
        "https://www.ted.com/talks/ben_ambridge_10_myths_about_psychology_debunked/transcript"
       ]
      },
      {
       "output_type": "stream",
       "stream": "stdout",
       "text": [
        "\n",
        "https://www.ted.com/talks/the_debut_of_the_british_paraorchestra/transcript"
       ]
      },
      {
       "output_type": "stream",
       "stream": "stdout",
       "text": [
        "\n",
        "https://www.ted.com/talks/shimon_steinberg_natural_pest_control_using_bugs/transcript"
       ]
      },
      {
       "output_type": "stream",
       "stream": "stdout",
       "text": [
        "\n",
        "https://www.ted.com/talks/erica_frenkel_the_universal_anesthesia_machine/transcript"
       ]
      },
      {
       "output_type": "stream",
       "stream": "stdout",
       "text": [
        "\n",
        "https://www.ted.com/talks/alex_wissner_gross_a_new_equation_for_intelligence/transcript"
       ]
      },
      {
       "output_type": "stream",
       "stream": "stdout",
       "text": [
        "\n",
        "https://www.ted.com/talks/jane_mcgonigal_massively_multi_player_thumb_wrestling/transcript"
       ]
      },
      {
       "output_type": "stream",
       "stream": "stdout",
       "text": [
        "\n",
        "https://www.ted.com/talks/brenda_brathwaite_gaming_for_understanding/transcript"
       ]
      },
      {
       "output_type": "stream",
       "stream": "stdout",
       "text": [
        "\n",
        "https://www.ted.com/talks/scott_rickard_the_beautiful_math_behind_the_ugliest_music/transcript"
       ]
      },
      {
       "output_type": "stream",
       "stream": "stdout",
       "text": [
        "\n",
        "https://www.ted.com/talks/nancy_etcoff_on_happiness_and_why_we_want_it/transcript"
       ]
      },
      {
       "output_type": "stream",
       "stream": "stdout",
       "text": [
        "\n",
        "https://www.ted.com/talks/francis_de_los_reyes_sanitation_is_a_basic_human_right/transcript"
       ]
      },
      {
       "output_type": "stream",
       "stream": "stdout",
       "text": [
        "\n",
        "https://www.ted.com/talks/matt_weinstein_what_bernie_madoff_couldn_t_steal_from_me/transcript"
       ]
      },
      {
       "output_type": "stream",
       "stream": "stdout",
       "text": [
        "\n",
        "https://www.ted.com/talks/elizabeth_lindsey_curating_humanity_s_heritage/transcript"
       ]
      },
      {
       "output_type": "stream",
       "stream": "stdout",
       "text": [
        "\n",
        "https://www.ted.com/talks/robert_lang_folds_way_new_origami/transcript"
       ]
      },
      {
       "output_type": "stream",
       "stream": "stdout",
       "text": [
        "\n",
        "https://www.ted.com/talks/alison_jackson_looks_at_celebrity/transcript"
       ]
      },
      {
       "output_type": "stream",
       "stream": "stdout",
       "text": [
        "\n",
        "https://www.ted.com/talks/nicholas_negroponte_a_30_year_history_of_the_future/transcript"
       ]
      },
      {
       "output_type": "stream",
       "stream": "stdout",
       "text": [
        "\n",
        "https://www.ted.com/talks/patience_mthunzi_could_we_cure_hiv_with_lasers/transcript"
       ]
      },
      {
       "output_type": "stream",
       "stream": "stdout",
       "text": [
        "\n",
        "https://www.ted.com/talks/rachel_armstrong_architecture_that_repairs_itself/transcript"
       ]
      },
      {
       "output_type": "stream",
       "stream": "stdout",
       "text": [
        "\n",
        "https://www.ted.com/talks/david_bismark_e_voting_without_fraud/transcript"
       ]
      },
      {
       "output_type": "stream",
       "stream": "stdout",
       "text": [
        "\n",
        "https://www.ted.com/talks/ralph_langner_cracking_stuxnet_a_21st_century_cyberweapon/transcript"
       ]
      },
      {
       "output_type": "stream",
       "stream": "stdout",
       "text": [
        "\n",
        "https://www.ted.com/talks/susan_blackmore_on_memes_and_temes/transcript"
       ]
      },
      {
       "output_type": "stream",
       "stream": "stdout",
       "text": [
        "\n",
        "https://www.ted.com/talks/roman_mars_why_city_flags_may_be_the_worst_designed_thing_you_ve_never_noticed/transcript"
       ]
      },
      {
       "output_type": "stream",
       "stream": "stdout",
       "text": [
        "\n",
        "https://www.ted.com/talks/charlie_todd_the_shared_experience_of_absurdity/transcript"
       ]
      },
      {
       "output_type": "stream",
       "stream": "stdout",
       "text": [
        "\n",
        "https://www.ted.com/talks/shabana_basij_rasikh_dare_to_educate_afghan_girls/transcript"
       ]
      },
      {
       "output_type": "stream",
       "stream": "stdout",
       "text": [
        "\n",
        "https://www.ted.com/talks/david_gruber_glow_in_the_dark_sharks_and_other_stunning_sea_creatures/transcript"
       ]
      },
      {
       "output_type": "stream",
       "stream": "stdout",
       "text": [
        "\n",
        "https://www.ted.com/talks/zimchallenge/transcript"
       ]
      },
      {
       "output_type": "stream",
       "stream": "stdout",
       "text": [
        "\n",
        "https://www.ted.com/talks/billy_collins_two_poems_about_what_dogs_think_probably/transcript"
       ]
      },
      {
       "output_type": "stream",
       "stream": "stdout",
       "text": [
        "\n",
        "https://www.ted.com/talks/imogen_heap_wait/transcript"
       ]
      },
      {
       "output_type": "stream",
       "stream": "stdout",
       "text": [
        "\n",
        "https://www.ted.com/talks/pam_warhurst_how_we_can_eat_our_landscapes/transcript"
       ]
      },
      {
       "output_type": "stream",
       "stream": "stdout",
       "text": [
        "\n",
        "https://www.ted.com/talks/alex_steffen_sees_a_sustainable_future/transcript"
       ]
      },
      {
       "output_type": "stream",
       "stream": "stdout",
       "text": [
        "\n",
        "https://www.ted.com/talks/tan_le_my_immigration_story/transcript"
       ]
      },
      {
       "output_type": "stream",
       "stream": "stdout",
       "text": [
        "\n",
        "https://www.ted.com/talks/cesar_harada_how_i_teach_kids_to_love_science/transcript"
       ]
      },
      {
       "output_type": "stream",
       "stream": "stdout",
       "text": [
        "\n",
        "https://www.ted.com/talks/arthur_ganson_makes_moving_sculpture/transcript"
       ]
      },
      {
       "output_type": "stream",
       "stream": "stdout",
       "text": [
        "\n",
        "https://www.ted.com/talks/lemon_andersen_performs_please_don_t_take_my_air_jordans/transcript"
       ]
      },
      {
       "output_type": "stream",
       "stream": "stdout",
       "text": [
        "\n",
        "https://www.ted.com/talks/todd_kuiken_a_prosthetic_arm_that_feels/transcript"
       ]
      },
      {
       "output_type": "stream",
       "stream": "stdout",
       "text": [
        "\n",
        "https://www.ted.com/talks/marc_abrahams_a_science_award_that_makes_you_laugh_then_think/transcript"
       ]
      },
      {
       "output_type": "stream",
       "stream": "stdout",
       "text": [
        "\n",
        "https://www.ted.com/talks/vusi_mahlasela_s_encore_at_tedglobal2007/transcript"
       ]
      },
      {
       "output_type": "stream",
       "stream": "stdout",
       "text": [
        "\n",
        "https://www.ted.com/talks/ron_mccallum_how_technology_allowed_me_to_read/transcript"
       ]
      },
      {
       "output_type": "stream",
       "stream": "stdout",
       "text": [
        "\n",
        "https://www.ted.com/talks/ngozi_okonjo_iweala_on_doing_business_in_africa/transcript"
       ]
      },
      {
       "output_type": "stream",
       "stream": "stdout",
       "text": [
        "\n",
        "https://www.ted.com/talks/elizabeth_pisani_sex_drugs_and_hiv_let_s_get_rational_1/transcript"
       ]
      },
      {
       "output_type": "stream",
       "stream": "stdout",
       "text": [
        "\n",
        "https://www.ted.com/talks/gregoire_courtine_the_paralyzed_rat_that_walked/transcript"
       ]
      },
      {
       "output_type": "stream",
       "stream": "stdout",
       "text": [
        "\n",
        "https://www.ted.com/talks/tony_porter_a_call_to_men/transcript"
       ]
      },
      {
       "output_type": "stream",
       "stream": "stdout",
       "text": [
        "\n",
        "https://www.ted.com/talks/geraldine_hamilton_body_parts_on_a_chip/transcript"
       ]
      },
      {
       "output_type": "stream",
       "stream": "stdout",
       "text": [
        "\n",
        "https://www.ted.com/talks/brian_skerry_reveals_ocean_s_glory_and_horror/transcript"
       ]
      },
      {
       "output_type": "stream",
       "stream": "stdout",
       "text": [
        "\n",
        "https://www.ted.com/talks/jared_diamond_on_why_societies_collapse/transcript"
       ]
      },
      {
       "output_type": "stream",
       "stream": "stdout",
       "text": [
        "\n",
        "https://www.ted.com/talks/richard_preston_on_the_giant_trees/transcript"
       ]
      },
      {
       "output_type": "stream",
       "stream": "stdout",
       "text": [
        "\n",
        "https://www.ted.com/talks/robert_neuwirth_on_our_shadow_cities/transcript"
       ]
      },
      {
       "output_type": "stream",
       "stream": "stdout",
       "text": [
        "\n",
        "https://www.ted.com/talks/elizabeth_lev_the_unheard_story_of_the_sistine_chapel/transcript"
       ]
      },
      {
       "output_type": "stream",
       "stream": "stdout",
       "text": [
        "\n",
        "https://www.ted.com/talks/harry_baker_a_love_poem_for_lonely_prime_numbers/transcript"
       ]
      },
      {
       "output_type": "stream",
       "stream": "stdout",
       "text": [
        "\n",
        "https://www.ted.com/talks/yves_behar_s_supercharged_motorcycle_design/transcript"
       ]
      },
      {
       "output_type": "stream",
       "stream": "stdout",
       "text": [
        "\n",
        "https://www.ted.com/talks/stefan_sagmeister_the_power_of_time_off/transcript"
       ]
      },
      {
       "output_type": "stream",
       "stream": "stdout",
       "text": [
        "\n",
        "https://www.ted.com/talks/doris_kearns_goodwin_on_learning_from_past_presidents/transcript"
       ]
      },
      {
       "output_type": "stream",
       "stream": "stdout",
       "text": [
        "\n",
        "https://www.ted.com/talks/eric_topol_the_wireless_future_of_medicine/transcript"
       ]
      },
      {
       "output_type": "stream",
       "stream": "stdout",
       "text": [
        "\n",
        "https://www.ted.com/talks/hans_rosling_and_the_magic_washing_machine/transcript"
       ]
      },
      {
       "output_type": "stream",
       "stream": "stdout",
       "text": [
        "\n",
        "https://www.ted.com/talks/anote_tong_my_country_will_be_underwater_soon_unless_we_work_together/transcript"
       ]
      },
      {
       "output_type": "stream",
       "stream": "stdout",
       "text": [
        "\n",
        "https://www.ted.com/talks/cynthia_breazeal_the_rise_of_personal_robots/transcript"
       ]
      },
      {
       "output_type": "stream",
       "stream": "stdout",
       "text": [
        "\n",
        "https://www.ted.com/talks/peter_gabriel_fights_injustice_with_video/transcript"
       ]
      },
      {
       "output_type": "stream",
       "stream": "stdout",
       "text": [
        "\n",
        "https://www.ted.com/talks/hans_rosling_shows_the_best_stats_you_ve_ever_seen/transcript"
       ]
      },
      {
       "output_type": "stream",
       "stream": "stdout",
       "text": [
        "\n",
        "https://www.ted.com/talks/cristina_domenech_poetry_that_frees_the_soul/transcript"
       ]
      },
      {
       "output_type": "stream",
       "stream": "stdout",
       "text": [
        "\n",
        "https://www.ted.com/talks/louise_leakey_digs_for_humanity_s_origins/transcript"
       ]
      },
      {
       "output_type": "stream",
       "stream": "stdout",
       "text": [
        "\n",
        "https://www.ted.com/talks/jessica_jackley_poverty_money_and_love/transcript"
       ]
      },
      {
       "output_type": "stream",
       "stream": "stdout",
       "text": [
        "\n",
        "https://www.ted.com/talks/daniel_pauly_the_ocean_s_shifting_baseline/transcript"
       ]
      },
      {
       "output_type": "stream",
       "stream": "stdout",
       "text": [
        "\n",
        "https://www.ted.com/talks/devdutt_pattanaik/transcript"
       ]
      },
      {
       "output_type": "stream",
       "stream": "stdout",
       "text": [
        "\n",
        "https://www.ted.com/talks/bill_gates/transcript"
       ]
      },
      {
       "output_type": "stream",
       "stream": "stdout",
       "text": [
        "\n",
        "https://www.ted.com/talks/jay_walker_on_the_world_s_english_mania/transcript"
       ]
      },
      {
       "output_type": "stream",
       "stream": "stdout",
       "text": [
        "\n",
        "https://www.ted.com/talks/hans_rosling_asia_s_rise_how_and_when/transcript"
       ]
      },
      {
       "output_type": "stream",
       "stream": "stdout",
       "text": [
        "\n",
        "https://www.ted.com/talks/mary_lou_jepsen_could_future_devices_read_images_from_our_brains/transcript"
       ]
      },
      {
       "output_type": "stream",
       "stream": "stdout",
       "text": [
        "\n",
        "https://www.ted.com/talks/dave_meslin_the_antidote_to_apathy/transcript"
       ]
      },
      {
       "output_type": "stream",
       "stream": "stdout",
       "text": [
        "\n",
        "https://www.ted.com/talks/sheena_iyengar_choosing_what_to_choose/transcript"
       ]
      },
      {
       "output_type": "stream",
       "stream": "stdout",
       "text": [
        "\n",
        "https://www.ted.com/talks/kenneth_shinozuka_my_simple_invention_designed_to_keep_my_grandfather_safe/transcript"
       ]
      },
      {
       "output_type": "stream",
       "stream": "stdout",
       "text": [
        "\n",
        "https://www.ted.com/talks/thomas_hellum_the_world_s_most_boring_television_and_why_it_s_hilariously_addictive/transcript"
       ]
      },
      {
       "output_type": "stream",
       "stream": "stdout",
       "text": [
        "\n",
        "https://www.ted.com/talks/jedidah_isler_the_untapped_genius_that_could_change_science_for_the_better/transcript"
       ]
      },
      {
       "output_type": "stream",
       "stream": "stdout",
       "text": [
        "\n",
        "https://www.ted.com/talks/alex_laskey_how_behavioral_science_can_lower_your_energy_bill/transcript"
       ]
      },
      {
       "output_type": "stream",
       "stream": "stdout",
       "text": [
        "\n",
        "https://www.ted.com/talks/david_s_rose_on_pitching_to_vcs/transcript"
       ]
      },
      {
       "output_type": "stream",
       "stream": "stdout",
       "text": [
        "\n",
        "https://www.ted.com/talks/gordon_brown_on_global_ethic_vs_national_interest/transcript"
       ]
      },
      {
       "output_type": "stream",
       "stream": "stdout",
       "text": [
        "\n",
        "https://www.ted.com/talks/andy_yen_think_your_email_s_private_think_again/transcript"
       ]
      },
      {
       "output_type": "stream",
       "stream": "stdout",
       "text": [
        "\n",
        "https://www.ted.com/talks/anne_marie_slaughter_can_we_all_have_it_all/transcript"
       ]
      },
      {
       "output_type": "stream",
       "stream": "stdout",
       "text": [
        "\n",
        "https://www.ted.com/talks/paul_bloom_the_origins_of_pleasure/transcript"
       ]
      },
      {
       "output_type": "stream",
       "stream": "stdout",
       "text": [
        "\n",
        "https://www.ted.com/talks/david_chalmers_how_do_you_explain_consciousness/transcript"
       ]
      },
      {
       "output_type": "stream",
       "stream": "stdout",
       "text": [
        "\n",
        "https://www.ted.com/talks/shashi_tharoor/transcript"
       ]
      },
      {
       "output_type": "stream",
       "stream": "stdout",
       "text": [
        "\n",
        "https://www.ted.com/talks/jean_paul_mari_the_chilling_aftershock_of_a_brush_with_death/transcript"
       ]
      },
      {
       "output_type": "stream",
       "stream": "stdout",
       "text": [
        "\n",
        "https://www.ted.com/talks/wadah_khanfar_a_historic_moment_in_the_arab_world/transcript"
       ]
      },
      {
       "output_type": "stream",
       "stream": "stdout",
       "text": [
        "\n",
        "https://www.ted.com/talks/margaret_heffernan_dare_to_disagree/transcript"
       ]
      },
      {
       "output_type": "stream",
       "stream": "stdout",
       "text": [
        "\n",
        "https://www.ted.com/talks/dean_kamen_the_emotion_behind_invention/transcript"
       ]
      },
      {
       "output_type": "stream",
       "stream": "stdout",
       "text": [
        "\n",
        "https://www.ted.com/talks/skylar_tibbits_the_emergence_of_4d_printing/transcript"
       ]
      },
      {
       "output_type": "stream",
       "stream": "stdout",
       "text": [
        "\n",
        "https://www.ted.com/talks/bastian_schaefer_a_3d_printed_jumbo_jet/transcript"
       ]
      },
      {
       "output_type": "stream",
       "stream": "stdout",
       "text": [
        "\n",
        "https://www.ted.com/talks/amory_lovins_a_50_year_plan_for_energy/transcript"
       ]
      },
      {
       "output_type": "stream",
       "stream": "stdout",
       "text": [
        "\n",
        "https://www.ted.com/talks/edith_widder_how_we_found_the_giant_squid/transcript"
       ]
      },
      {
       "output_type": "stream",
       "stream": "stdout",
       "text": [
        "\n",
        "https://www.ted.com/talks/kartick_satyanarayan_how_we_rescued_the_dancing_bears/transcript"
       ]
      },
      {
       "output_type": "stream",
       "stream": "stdout",
       "text": [
        "\n",
        "https://www.ted.com/talks/mellody_hobson_color_blind_or_color_brave/transcript"
       ]
      },
      {
       "output_type": "stream",
       "stream": "stdout",
       "text": [
        "\n",
        "https://www.ted.com/talks/james_watson_on_how_he_discovered_dna/transcript"
       ]
      },
      {
       "output_type": "stream",
       "stream": "stdout",
       "text": [
        "\n",
        "https://www.ted.com/talks/christopher_decharms_scans_the_brain_in_real_time/transcript"
       ]
      },
      {
       "output_type": "stream",
       "stream": "stdout",
       "text": [
        "\n",
        "https://www.ted.com/talks/io_tillett_wright_fifty_shades_of_gay/transcript"
       ]
      },
      {
       "output_type": "stream",
       "stream": "stdout",
       "text": [
        "\n",
        "https://www.ted.com/talks/janine_benyus_biomimicry_in_action/transcript"
       ]
      },
      {
       "output_type": "stream",
       "stream": "stdout",
       "text": [
        "\n",
        "https://www.ted.com/talks/srdja_popovic_how_to_topple_a_dictator/transcript"
       ]
      },
      {
       "output_type": "stream",
       "stream": "stdout",
       "text": [
        "\n",
        "https://www.ted.com/talks/sarah_parcak_archeology_from_space/transcript"
       ]
      },
      {
       "output_type": "stream",
       "stream": "stdout",
       "text": [
        "\n",
        "https://www.ted.com/talks/raffaello_d_andrea_the_astounding_athletic_power_of_quadcopters/transcript"
       ]
      },
      {
       "output_type": "stream",
       "stream": "stdout",
       "text": [
        "\n",
        "https://www.ted.com/talks/jonathan_haidt_on_the_moral_mind/transcript"
       ]
      },
      {
       "output_type": "stream",
       "stream": "stdout",
       "text": [
        "\n",
        "https://www.ted.com/talks/taryn_simon_the_stories_behind_the_bloodlines/transcript"
       ]
      },
      {
       "output_type": "stream",
       "stream": "stdout",
       "text": [
        "\n",
        "https://www.ted.com/talks/rose_george_inside_the_secret_shipping_industry/transcript"
       ]
      },
      {
       "output_type": "stream",
       "stream": "stdout",
       "text": [
        "\n",
        "https://www.ted.com/talks/bruce_mccall_s_faux_nostalgia/transcript"
       ]
      },
      {
       "output_type": "stream",
       "stream": "stdout",
       "text": [
        "\n",
        "https://www.ted.com/talks/jacek_utko_asks_can_design_save_the_newspaper/transcript"
       ]
      },
      {
       "output_type": "stream",
       "stream": "stdout",
       "text": [
        "\n",
        "https://www.ted.com/talks/david_rockwell_builds_at_ground_zero/transcript"
       ]
      },
      {
       "output_type": "stream",
       "stream": "stdout",
       "text": [
        "\n",
        "https://www.ted.com/talks/scott_mccloud_on_comics/transcript"
       ]
      },
      {
       "output_type": "stream",
       "stream": "stdout",
       "text": [
        "\n",
        "https://www.ted.com/talks/richard_seymour_how_beauty_feels/transcript"
       ]
      },
      {
       "output_type": "stream",
       "stream": "stdout",
       "text": [
        "\n",
        "https://www.ted.com/talks/stephen_lawler_tours_microsoft_virtual_earth/transcript"
       ]
      },
      {
       "output_type": "stream",
       "stream": "stdout",
       "text": [
        "\n",
        "https://www.ted.com/talks/chris_anderson_shares_his_vision_for_ted/transcript"
       ]
      },
      {
       "output_type": "stream",
       "stream": "stdout",
       "text": [
        "\n",
        "https://www.ted.com/talks/manu_prakash_a_50_cent_microscope_that_folds_like_origami/transcript"
       ]
      },
      {
       "output_type": "stream",
       "stream": "stdout",
       "text": [
        "\n",
        "https://www.ted.com/talks/ray_kurzweil_announces_singularity_university/transcript"
       ]
      },
      {
       "output_type": "stream",
       "stream": "stdout",
       "text": [
        "\n",
        "https://www.ted.com/talks/jd_schramm/transcript"
       ]
      },
      {
       "output_type": "stream",
       "stream": "stdout",
       "text": [
        "\n",
        "https://www.ted.com/talks/jim_fallon_exploring_the_mind_of_a_killer/transcript"
       ]
      },
      {
       "output_type": "stream",
       "stream": "stdout",
       "text": [
        "\n",
        "https://www.ted.com/talks/greg_gage_how_to_control_someone_else_s_arm_with_your_brain/transcript"
       ]
      },
      {
       "output_type": "stream",
       "stream": "stdout",
       "text": [
        "\n",
        "https://www.ted.com/talks/alice_goffman_college_or_prison_two_destinies_one_blatant_injustice/transcript"
       ]
      },
      {
       "output_type": "stream",
       "stream": "stdout",
       "text": [
        "\n",
        "https://www.ted.com/talks/emily_levine_s_theory_of_everything/transcript"
       ]
      },
      {
       "output_type": "stream",
       "stream": "stdout",
       "text": [
        "\n",
        "https://www.ted.com/talks/frank_warren_half_a_million_secrets/transcript"
       ]
      },
      {
       "output_type": "stream",
       "stream": "stdout",
       "text": [
        "\n",
        "https://www.ted.com/talks/jody_williams_a_realistic_vision_for_world_peace/transcript"
       ]
      },
      {
       "output_type": "stream",
       "stream": "stdout",
       "text": [
        "\n",
        "https://www.ted.com/talks/sleepy_man_banjo_boys_bluegrass_virtuosity_from_new_jersey/transcript"
       ]
      },
      {
       "output_type": "stream",
       "stream": "stdout",
       "text": [
        "\n",
        "https://www.ted.com/talks/chip_kidd_the_art_of_first_impressions_in_design_and_life/transcript"
       ]
      },
      {
       "output_type": "stream",
       "stream": "stdout",
       "text": [
        "\n",
        "https://www.ted.com/talks/tony_robbins_asks_why_we_do_what_we_do/transcript"
       ]
      },
      {
       "output_type": "stream",
       "stream": "stdout",
       "text": [
        "\n",
        "https://www.ted.com/talks/andrew_mwenda_takes_a_new_look_at_africa/transcript"
       ]
      },
      {
       "output_type": "stream",
       "stream": "stdout",
       "text": [
        "\n",
        "https://www.ted.com/talks/henry_evans_and_chad_jenkins_meet_the_robots_for_humanity/transcript"
       ]
      },
      {
       "output_type": "stream",
       "stream": "stdout",
       "text": [
        "\n",
        "https://www.ted.com/talks/harvey_fineberg_are_we_ready_for_neo_evolution/transcript"
       ]
      },
      {
       "output_type": "stream",
       "stream": "stdout",
       "text": [
        "\n",
        "https://www.ted.com/talks/camille_seaman_photos_from_a_storm_chaser/transcript"
       ]
      },
      {
       "output_type": "stream",
       "stream": "stdout",
       "text": [
        "\n",
        "https://www.ted.com/talks/billy_collins_everyday_moments_caught_in_time/transcript"
       ]
      },
      {
       "output_type": "stream",
       "stream": "stdout",
       "text": [
        "\n",
        "https://www.ted.com/talks/rachel_pike_the_science_behind_a_climate_headline/transcript"
       ]
      },
      {
       "output_type": "stream",
       "stream": "stdout",
       "text": [
        "\n",
        "https://www.ted.com/talks/ed_gavagan_a_story_about_knots_and_surgeons/transcript"
       ]
      },
      {
       "output_type": "stream",
       "stream": "stdout",
       "text": [
        "\n",
        "https://www.ted.com/talks/ramsey_musallam_3_rules_to_spark_learning/transcript"
       ]
      },
      {
       "output_type": "stream",
       "stream": "stdout",
       "text": [
        "\n",
        "https://www.ted.com/talks/karen_armstrong_let_s_revive_the_golden_rule/transcript"
       ]
      },
      {
       "output_type": "stream",
       "stream": "stdout",
       "text": [
        "\n",
        "https://www.ted.com/talks/liu_bolin_the_invisible_man/transcript"
       ]
      },
      {
       "output_type": "stream",
       "stream": "stdout",
       "text": [
        "\n",
        "https://www.ted.com/talks/mike_degruy_hooked_by_octopus/transcript"
       ]
      },
      {
       "output_type": "stream",
       "stream": "stdout",
       "text": [
        "\n",
        "https://www.ted.com/talks/sebastian_seung/transcript"
       ]
      },
      {
       "output_type": "stream",
       "stream": "stdout",
       "text": [
        "\n",
        "https://www.ted.com/talks/bunker_roy/transcript"
       ]
      },
      {
       "output_type": "stream",
       "stream": "stdout",
       "text": [
        "\n",
        "https://www.ted.com/talks/mark_bittman_on_what_s_wrong_with_what_we_eat/transcript"
       ]
      },
      {
       "output_type": "stream",
       "stream": "stdout",
       "text": [
        "\n",
        "https://www.ted.com/talks/joe_smith_how_to_use_a_paper_towel/transcript"
       ]
      },
      {
       "output_type": "stream",
       "stream": "stdout",
       "text": [
        "\n",
        "https://www.ted.com/talks/christien_meindertsma_on_pig_05049/transcript"
       ]
      },
      {
       "output_type": "stream",
       "stream": "stdout",
       "text": [
        "\n",
        "https://www.ted.com/talks/rokia_traore_sings_kounandi/transcript"
       ]
      },
      {
       "output_type": "stream",
       "stream": "stdout",
       "text": [
        "\n",
        "https://www.ted.com/talks/elene_gabre_madhin_on_ethiopian_economics/transcript"
       ]
      },
      {
       "output_type": "stream",
       "stream": "stdout",
       "text": [
        "\n",
        "https://www.ted.com/talks/freeman_hrabowski_4_pillars_of_college_success_in_science/transcript"
       ]
      },
      {
       "output_type": "stream",
       "stream": "stdout",
       "text": [
        "\n",
        "https://www.ted.com/talks/jeff_bezos_gifts_vs_choices/transcript"
       ]
      },
      {
       "output_type": "stream",
       "stream": "stdout",
       "text": [
        "\n",
        "https://www.ted.com/talks/gavin_schmidt_the_emergent_patterns_of_climate_change/transcript"
       ]
      },
      {
       "output_type": "stream",
       "stream": "stdout",
       "text": [
        "\n",
        "https://www.ted.com/talks/donald_hoffman_do_we_see_reality_as_it_is/transcript"
       ]
      },
      {
       "output_type": "stream",
       "stream": "stdout",
       "text": [
        "\n",
        "https://www.ted.com/talks/rives_controls_the_internet/transcript"
       ]
      },
      {
       "output_type": "stream",
       "stream": "stdout",
       "text": [
        "\n",
        "https://www.ted.com/talks/aziz_abu_sarah_for_more_tolerance_we_need_more_tourism/transcript"
       ]
      },
      {
       "output_type": "stream",
       "stream": "stdout",
       "text": [
        "\n",
        "https://www.ted.com/talks/jason_fried_why_work_doesn_t_happen_at_work/transcript"
       ]
      },
      {
       "output_type": "stream",
       "stream": "stdout",
       "text": [
        "\n",
        "https://www.ted.com/talks/robert_wright_the_evolution_of_compassion/transcript"
       ]
      },
      {
       "output_type": "stream",
       "stream": "stdout",
       "text": [
        "\n",
        "https://www.ted.com/talks/aaron_o_connell_making_sense_of_a_visible_quantum_object/transcript"
       ]
      },
      {
       "output_type": "stream",
       "stream": "stdout",
       "text": [
        "\n",
        "https://www.ted.com/talks/bilal_bomani_plant_fuels_that_could_power_a_jet/transcript"
       ]
      },
      {
       "output_type": "stream",
       "stream": "stdout",
       "text": [
        "\n",
        "https://www.ted.com/talks/craig_venter_on_dna_and_the_sea/transcript"
       ]
      },
      {
       "output_type": "stream",
       "stream": "stdout",
       "text": [
        "\n",
        "https://www.ted.com/talks/kirk_sorensen_thorium_an_alternative_nuclear_fuel/transcript"
       ]
      },
      {
       "output_type": "stream",
       "stream": "stdout",
       "text": [
        "\n",
        "https://www.ted.com/talks/jessica_green_are_we_filtering_the_wrong_microbes/transcript"
       ]
      },
      {
       "output_type": "stream",
       "stream": "stdout",
       "text": [
        "\n",
        "https://www.ted.com/talks/willard_wigan_hold_your_breath_for_micro_sculpture/transcript"
       ]
      },
      {
       "output_type": "stream",
       "stream": "stdout",
       "text": [
        "\n",
        "https://www.ted.com/talks/diana_laufenberg_3_ways_to_teach/transcript"
       ]
      },
      {
       "output_type": "stream",
       "stream": "stdout",
       "text": [
        "\n",
        "https://www.ted.com/talks/ray_kurzweil_on_how_technology_will_transform_us/transcript"
       ]
      },
      {
       "output_type": "stream",
       "stream": "stdout",
       "text": [
        "\n",
        "https://www.ted.com/talks/rick_guidotti_from_stigma_to_supermodel/transcript"
       ]
      },
      {
       "output_type": "stream",
       "stream": "stdout",
       "text": [
        "\n",
        "https://www.ted.com/talks/amory_lovins_on_winning_the_oil_endgame/transcript"
       ]
      },
      {
       "output_type": "stream",
       "stream": "stdout",
       "text": [
        "\n",
        "https://www.ted.com/talks/atul_gawande_how_do_we_heal_medicine/transcript"
       ]
      },
      {
       "output_type": "stream",
       "stream": "stdout",
       "text": [
        "\n",
        "https://www.ted.com/talks/ken_jennings_watson_jeopardy_and_me_the_obsolete_know_it_all/transcript"
       ]
      },
      {
       "output_type": "stream",
       "stream": "stdout",
       "text": [
        "\n",
        "https://www.ted.com/talks/paula_johnson_his_and_hers_healthcare/transcript"
       ]
      },
      {
       "output_type": "stream",
       "stream": "stdout",
       "text": [
        "\n",
        "https://www.ted.com/talks/janette_sadik_khan_new_york_s_streets_not_so_mean_any_more/transcript"
       ]
      },
      {
       "output_type": "stream",
       "stream": "stdout",
       "text": [
        "\n",
        "https://www.ted.com/talks/allison_hunt_gets_a_new_hip/transcript"
       ]
      },
      {
       "output_type": "stream",
       "stream": "stdout",
       "text": [
        "\n",
        "https://www.ted.com/talks/judy_macdonald_johnston_prepare_for_a_good_end_of_life/transcript"
       ]
      },
      {
       "output_type": "stream",
       "stream": "stdout",
       "text": [
        "\n",
        "https://www.ted.com/talks/kevin_kelly_on_how_technology_evolves/transcript"
       ]
      },
      {
       "output_type": "stream",
       "stream": "stdout",
       "text": [
        "\n",
        "https://www.ted.com/talks/john_hodgman_s_brief_digression/transcript"
       ]
      },
      {
       "output_type": "stream",
       "stream": "stdout",
       "text": [
        "\n",
        "https://www.ted.com/talks/pia_mancini_how_to_upgrade_democracy_for_the_internet_era/transcript"
       ]
      },
      {
       "output_type": "stream",
       "stream": "stdout",
       "text": [
        "\n",
        "https://www.ted.com/talks/joe_derisi_hunts_the_next_killer_virus/transcript"
       ]
      },
      {
       "output_type": "stream",
       "stream": "stdout",
       "text": [
        "\n",
        "https://www.ted.com/talks/joann_kuchera_morin_tours_the_allosphere/transcript"
       ]
      },
      {
       "output_type": "stream",
       "stream": "stdout",
       "text": [
        "\n",
        "https://www.ted.com/talks/donald_sadoway_the_missing_link_to_renewable_energy/transcript"
       ]
      },
      {
       "output_type": "stream",
       "stream": "stdout",
       "text": [
        "\n",
        "https://www.ted.com/talks/jay_silver_hack_a_banana_make_a_keyboard/transcript"
       ]
      },
      {
       "output_type": "stream",
       "stream": "stdout",
       "text": [
        "\n",
        "https://www.ted.com/talks/steven_cowley_fusion_is_energy_s_future/transcript"
       ]
      },
      {
       "output_type": "stream",
       "stream": "stdout",
       "text": [
        "\n",
        "https://www.ted.com/talks/kevin_surace_fixing_drywall_to_heal_the_planet/transcript"
       ]
      },
      {
       "output_type": "stream",
       "stream": "stdout",
       "text": [
        "\n",
        "https://www.ted.com/talks/seth_berkley_the_troubling_reason_why_vaccines_are_made_too_late_if_they_re_made_at_all/transcript"
       ]
      },
      {
       "output_type": "stream",
       "stream": "stdout",
       "text": [
        "\n",
        "https://www.ted.com/talks/raul_midon_plays_all_the_answers_and_tembererana/transcript"
       ]
      },
      {
       "output_type": "stream",
       "stream": "stdout",
       "text": [
        "\n",
        "https://www.ted.com/talks/alastair_parvin_architecture_for_the_people_by_the_people/transcript"
       ]
      },
      {
       "output_type": "stream",
       "stream": "stdout",
       "text": [
        "\n",
        "https://www.ted.com/talks/suki_kim_this_is_what_it_s_like_to_go_undercover_in_north_korea/transcript"
       ]
      },
      {
       "output_type": "stream",
       "stream": "stdout",
       "text": [
        "\n",
        "https://www.ted.com/talks/rose_goslinga_crop_insurance_an_idea_worth_seeding/transcript"
       ]
      },
      {
       "output_type": "stream",
       "stream": "stdout",
       "text": [
        "\n",
        "https://www.ted.com/talks/robert_full_the_secrets_of_nature_s_grossest_creatures_channeled_into_robots/transcript"
       ]
      },
      {
       "output_type": "stream",
       "stream": "stdout",
       "text": [
        "\n",
        "https://www.ted.com/talks/alan_russell_on_regenerating_our_bodies/transcript"
       ]
      },
      {
       "output_type": "stream",
       "stream": "stdout",
       "text": [
        "\n",
        "https://www.ted.com/talks/genevieve_von_petzinger_why_are_these_32_symbols_found_in_ancient_caves_all_over_europe/transcript"
       ]
      },
      {
       "output_type": "stream",
       "stream": "stdout",
       "text": [
        "\n",
        "https://www.ted.com/talks/shereen_el_feki_how_to_fight_an_epidemic_of_bad_laws/transcript"
       ]
      },
      {
       "output_type": "stream",
       "stream": "stdout",
       "text": [
        "\n",
        "https://www.ted.com/talks/robert_gupta_and_joshua_roman_duet_on_passacaglia/transcript"
       ]
      },
      {
       "output_type": "stream",
       "stream": "stdout",
       "text": [
        "\n",
        "https://www.ted.com/talks/pistol/transcript"
       ]
      },
      {
       "output_type": "stream",
       "stream": "stdout",
       "text": [
        "\n",
        "https://www.ted.com/talks/catarina_mota_play_with_smart_materials/transcript"
       ]
      },
      {
       "output_type": "stream",
       "stream": "stdout",
       "text": [
        "\n",
        "https://www.ted.com/talks/tim_leberecht_3_ways_to_usefully_lose_control_of_your_reputation/transcript"
       ]
      },
      {
       "output_type": "stream",
       "stream": "stdout",
       "text": [
        "\n",
        "https://www.ted.com/talks/dan_dennett_on_our_consciousness/transcript"
       ]
      },
      {
       "output_type": "stream",
       "stream": "stdout",
       "text": [
        "\n",
        "https://www.ted.com/talks/amy_smith_shares_simple_lifesaving_design/transcript"
       ]
      },
      {
       "output_type": "stream",
       "stream": "stdout",
       "text": [
        "\n",
        "https://www.ted.com/talks/ze_frank_s_nerdcore_comedy/transcript"
       ]
      },
      {
       "output_type": "stream",
       "stream": "stdout",
       "text": [
        "\n",
        "https://www.ted.com/talks/shekhar_kapur_we_are_the_stories_we_tell_ourselves/transcript"
       ]
      },
      {
       "output_type": "stream",
       "stream": "stdout",
       "text": [
        "\n",
        "https://www.ted.com/talks/neri_oxman_design_at_the_intersection_of_technology_and_biology/transcript"
       ]
      },
      {
       "output_type": "stream",
       "stream": "stdout",
       "text": [
        "\n",
        "https://www.ted.com/talks/rajiv_maheswaran_the_math_behind_basketball_s_wildest_moves/transcript"
       ]
      },
      {
       "output_type": "stream",
       "stream": "stdout",
       "text": [
        "\n",
        "https://www.ted.com/talks/dan_gilbert_asks_why_are_we_happy/transcript"
       ]
      },
      {
       "output_type": "stream",
       "stream": "stdout",
       "text": [
        "\n",
        "https://www.ted.com/talks/frances_larson_why_public_beheadings_get_millions_of_views/transcript"
       ]
      },
      {
       "output_type": "stream",
       "stream": "stdout",
       "text": [
        "\n",
        "https://www.ted.com/talks/dan_dennett_cute_sexy_sweet_funny/transcript"
       ]
      },
      {
       "output_type": "stream",
       "stream": "stdout",
       "text": [
        "\n",
        "https://www.ted.com/talks/david_pogue_on_the_music_wars/transcript"
       ]
      },
      {
       "output_type": "stream",
       "stream": "stdout",
       "text": [
        "\n",
        "https://www.ted.com/talks/charity_tilleman_dick_singing_after_a_double_lung_transplant/transcript"
       ]
      },
      {
       "output_type": "stream",
       "stream": "stdout",
       "text": [
        "\n",
        "https://www.ted.com/talks/nadine_burke_harris_how_childhood_trauma_affects_health_across_a_lifetime/transcript"
       ]
      },
      {
       "output_type": "stream",
       "stream": "stdout",
       "text": [
        "\n",
        "https://www.ted.com/talks/bob_mankoff_anatomy_of_a_new_yorker_cartoon/transcript"
       ]
      },
      {
       "output_type": "stream",
       "stream": "stdout",
       "text": [
        "\n",
        "https://www.ted.com/talks/boyd_varty_what_i_learned_from_nelson_mandela/transcript"
       ]
      },
      {
       "output_type": "stream",
       "stream": "stdout",
       "text": [
        "\n",
        "https://www.ted.com/talks/paul_root_wolpe_it_s_time_to_question_bio_engineering/transcript"
       ]
      },
      {
       "output_type": "stream",
       "stream": "stdout",
       "text": [
        "\n",
        "https://www.ted.com/talks/edith_widder_the_weird_and_wonderful_world_of_bioluminescence/transcript"
       ]
      },
      {
       "output_type": "stream",
       "stream": "stdout",
       "text": [
        "\n",
        "https://www.ted.com/talks/lessig_nyed/transcript"
       ]
      },
      {
       "output_type": "stream",
       "stream": "stdout",
       "text": [
        "\n",
        "https://www.ted.com/talks/nikolai_begg_a_tool_to_fix_one_of_the_most_dangerous_moments_in_surgery/transcript"
       ]
      },
      {
       "output_type": "stream",
       "stream": "stdout",
       "text": [
        "\n",
        "https://www.ted.com/talks/brenda_laurel_on_making_games_for_girls/transcript"
       ]
      },
      {
       "output_type": "stream",
       "stream": "stdout",
       "text": [
        "\n",
        "https://www.ted.com/talks/michael_norton_how_to_buy_happiness/transcript"
       ]
      },
      {
       "output_type": "stream",
       "stream": "stdout",
       "text": [
        "\n",
        "https://www.ted.com/talks/john_hockenberry_we_are_all_designers/transcript"
       ]
      },
      {
       "output_type": "stream",
       "stream": "stdout",
       "text": [
        "\n",
        "https://www.ted.com/talks/andrew_mcafee_what_will_future_jobs_look_like/transcript"
       ]
      },
      {
       "output_type": "stream",
       "stream": "stdout",
       "text": [
        "\n",
        "https://www.ted.com/talks/parul_sehgal_an_ode_to_envy/transcript"
       ]
      },
      {
       "output_type": "stream",
       "stream": "stdout",
       "text": [
        "\n",
        "https://www.ted.com/talks/emiliano_salinas_a_civil_response_to_violence/transcript"
       ]
      },
      {
       "output_type": "stream",
       "stream": "stdout",
       "text": [
        "\n",
        "https://www.ted.com/talks/robert_hammond_building_a_park_in_the_sky/transcript"
       ]
      },
      {
       "output_type": "stream",
       "stream": "stdout",
       "text": [
        "\n",
        "https://www.ted.com/talks/noreena_hertz_how_to_use_experts_and_when_not_to/transcript"
       ]
      },
      {
       "output_type": "stream",
       "stream": "stdout",
       "text": [
        "\n",
        "https://www.ted.com/talks/patricia_burchat_leads_a_search_for_dark_energy/transcript"
       ]
      },
      {
       "output_type": "stream",
       "stream": "stdout",
       "text": [
        "\n",
        "https://www.ted.com/talks/jeremy_jackson/transcript"
       ]
      },
      {
       "output_type": "stream",
       "stream": "stdout",
       "text": [
        "\n",
        "https://www.ted.com/talks/geoffrey_canada_our_failing_schools_enough_is_enough/transcript"
       ]
      },
      {
       "output_type": "stream",
       "stream": "stdout",
       "text": [
        "\n",
        "https://www.ted.com/talks/tom_thum_the_orchestra_in_my_mouth/transcript"
       ]
      },
      {
       "output_type": "stream",
       "stream": "stdout",
       "text": [
        "\n",
        "https://www.ted.com/talks/kailash_satyarthi_how_to_make_peace_get_angry/transcript"
       ]
      },
      {
       "output_type": "stream",
       "stream": "stdout",
       "text": [
        "\n",
        "https://www.ted.com/talks/nancy_lublin_texting_that_saves_lives/transcript"
       ]
      },
      {
       "output_type": "stream",
       "stream": "stdout",
       "text": [
        "\n",
        "https://www.ted.com/talks/clay_shirky_how_the_internet_will_one_day_transform_government/transcript"
       ]
      },
      {
       "output_type": "stream",
       "stream": "stdout",
       "text": [
        "\n",
        "https://www.ted.com/talks/todd_humphreys_how_to_fool_a_gps/transcript"
       ]
      },
      {
       "output_type": "stream",
       "stream": "stdout",
       "text": [
        "\n",
        "https://www.ted.com/talks/jeff_smith_lessons_in_business_from_prison/transcript"
       ]
      },
      {
       "output_type": "stream",
       "stream": "stdout",
       "text": [
        "\n",
        "https://www.ted.com/talks/andreas_schleicher_use_data_to_build_better_schools/transcript"
       ]
      },
      {
       "output_type": "stream",
       "stream": "stdout",
       "text": [
        "\n",
        "https://www.ted.com/talks/iain_hutchison_saving_faces/transcript"
       ]
      },
      {
       "output_type": "stream",
       "stream": "stdout",
       "text": [
        "\n",
        "https://www.ted.com/talks/laura_schulz_the_surprisingly_logical_minds_of_babies/transcript"
       ]
      },
      {
       "output_type": "stream",
       "stream": "stdout",
       "text": [
        "\n",
        "https://www.ted.com/talks/sean_carroll_distant_time_and_the_hint_of_a_multiverse/transcript"
       ]
      },
      {
       "output_type": "stream",
       "stream": "stdout",
       "text": [
        "\n",
        "https://www.ted.com/talks/david_perry_on_videogames/transcript"
       ]
      },
      {
       "output_type": "stream",
       "stream": "stdout",
       "text": [
        "\n",
        "https://www.ted.com/talks/krista_donaldson_the_80_prosthetic_knee_that_s_changing_lives/transcript"
       ]
      },
      {
       "output_type": "stream",
       "stream": "stdout",
       "text": [
        "\n",
        "https://www.ted.com/talks/vicki_arroyo_let_s_prepare_for_our_new_climate/transcript"
       ]
      },
      {
       "output_type": "stream",
       "stream": "stdout",
       "text": [
        "\n",
        "https://www.ted.com/talks/jennifer_golbeck_the_curly_fry_conundrum_why_social_media_likes_say_more_than_you_might_think/transcript"
       ]
      },
      {
       "output_type": "stream",
       "stream": "stdout",
       "text": [
        "\n",
        "https://www.ted.com/talks/emily_pilloton_teaching_design_for_change/transcript"
       ]
      },
      {
       "output_type": "stream",
       "stream": "stdout",
       "text": [
        "\n",
        "https://www.ted.com/talks/pearl_arredondo_my_story_from_gangland_daughter_to_star_teacher/transcript"
       ]
      },
      {
       "output_type": "stream",
       "stream": "stdout",
       "text": [
        "\n",
        "https://www.ted.com/talks/daniel_kish_how_i_use_sonar_to_navigate_the_world/transcript"
       ]
      },
      {
       "output_type": "stream",
       "stream": "stdout",
       "text": [
        "\n",
        "https://www.ted.com/talks/will_wright_makes_toys_that_make_worlds/transcript"
       ]
      },
      {
       "output_type": "stream",
       "stream": "stdout",
       "text": [
        "\n",
        "https://www.ted.com/talks/conrad_wolfram_teaching_kids_real_math_with_computers/transcript"
       ]
      },
      {
       "output_type": "stream",
       "stream": "stdout",
       "text": [
        "\n",
        "https://www.ted.com/talks/tom_uglow_an_internet_without_screens_might_look_like_this/transcript"
       ]
      },
      {
       "output_type": "stream",
       "stream": "stdout",
       "text": [
        "\n",
        "https://www.ted.com/talks/zak_ebrahim_i_am_the_son_of_a_terrorist_here_s_how_i_chose_peace/transcript"
       ]
      },
      {
       "output_type": "stream",
       "stream": "stdout",
       "text": [
        "\n",
        "https://www.ted.com/talks/astonishing_performance_by_a_venezuelan_youth_orchestra_1/transcript"
       ]
      },
      {
       "output_type": "stream",
       "stream": "stdout",
       "text": [
        "\n",
        "https://www.ted.com/talks/william_mcdonough_on_cradle_to_cradle_design/transcript"
       ]
      },
      {
       "output_type": "stream",
       "stream": "stdout",
       "text": [
        "\n",
        "https://www.ted.com/talks/nandan_nilekani_s_ideas_for_india_s_future/transcript"
       ]
      },
      {
       "output_type": "stream",
       "stream": "stdout",
       "text": [
        "\n",
        "https://www.ted.com/talks/ethel_performs_blue_room/transcript"
       ]
      },
      {
       "output_type": "stream",
       "stream": "stdout",
       "text": [
        "\n",
        "https://www.ted.com/talks/murray_gell_mann_on_beauty_and_truth_in_physics/transcript"
       ]
      },
      {
       "output_type": "stream",
       "stream": "stdout",
       "text": [
        "\n",
        "https://www.ted.com/talks/rick_smolan_tells_the_story_of_a_girl/transcript"
       ]
      },
      {
       "output_type": "stream",
       "stream": "stdout",
       "text": [
        "\n",
        "https://www.ted.com/talks/louie_schwartzberg_hidden_miracles_of_the_natural_world/transcript"
       ]
      },
      {
       "output_type": "stream",
       "stream": "stdout",
       "text": [
        "\n",
        "https://www.ted.com/talks/john_hunter_on_the_world_peace_game/transcript"
       ]
      },
      {
       "output_type": "stream",
       "stream": "stdout",
       "text": [
        "\n",
        "https://www.ted.com/talks/loretta_napoleoni_the_intricate_economics_of_terrorism/transcript"
       ]
      },
      {
       "output_type": "stream",
       "stream": "stdout",
       "text": [
        "\n",
        "https://www.ted.com/talks/james_cameron_before_avatar_a_curious_boy/transcript"
       ]
      },
      {
       "output_type": "stream",
       "stream": "stdout",
       "text": [
        "\n",
        "https://www.ted.com/talks/boniface_mwangi_boniface_mwangi_the_day_i_stood_up_alone/transcript"
       ]
      },
      {
       "output_type": "stream",
       "stream": "stdout",
       "text": [
        "\n",
        "https://www.ted.com/talks/matthew_o_reilly_am_i_dying_the_honest_answer/transcript"
       ]
      },
      {
       "output_type": "stream",
       "stream": "stdout",
       "text": [
        "\n",
        "https://www.ted.com/talks/majora_carter_s_tale_of_urban_renewal/transcript"
       ]
      },
      {
       "output_type": "stream",
       "stream": "stdout",
       "text": [
        "\n",
        "https://www.ted.com/talks/karen_tse_how_to_stop_torture/transcript"
       ]
      },
      {
       "output_type": "stream",
       "stream": "stdout",
       "text": [
        "\n",
        "https://www.ted.com/talks/gregory_stock_to_upgrade_is_human/transcript"
       ]
      },
      {
       "output_type": "stream",
       "stream": "stdout",
       "text": [
        "\n",
        "https://www.ted.com/talks/nigel_marsh_how_to_make_work_life_balance_work/transcript"
       ]
      },
      {
       "output_type": "stream",
       "stream": "stdout",
       "text": [
        "\n",
        "https://www.ted.com/talks/margaret_heffernan_the_dangers_of_willful_blindness/transcript"
       ]
      },
      {
       "output_type": "stream",
       "stream": "stdout",
       "text": [
        "\n",
        "https://www.ted.com/talks/kary_mullis_next_gen_cure_for_killer_infections/transcript"
       ]
      },
      {
       "output_type": "stream",
       "stream": "stdout",
       "text": [
        "\n",
        "https://www.ted.com/talks/mckenna_pope_want_to_be_an_activist_start_with_your_toys/transcript"
       ]
      },
      {
       "output_type": "stream",
       "stream": "stdout",
       "text": [
        "\n",
        "https://www.ted.com/talks/jeremy_heimans_what_new_power_looks_like/transcript"
       ]
      },
      {
       "output_type": "stream",
       "stream": "stdout",
       "text": [
        "\n",
        "https://www.ted.com/talks/eli_beer_the_fastest_ambulance_a_motorcycle/transcript"
       ]
      },
      {
       "output_type": "stream",
       "stream": "stdout",
       "text": [
        "\n",
        "https://www.ted.com/talks/steven_pinker_on_language_and_thought/transcript"
       ]
      },
      {
       "output_type": "stream",
       "stream": "stdout",
       "text": [
        "\n",
        "https://www.ted.com/talks/paul_pholeros_how_to_reduce_poverty_fix_homes/transcript"
       ]
      },
      {
       "output_type": "stream",
       "stream": "stdout",
       "text": [
        "\n",
        "https://www.ted.com/talks/deborah_scranton_on_her_war_tapes/transcript"
       ]
      },
      {
       "output_type": "stream",
       "stream": "stdout",
       "text": [
        "\n",
        "https://www.ted.com/talks/salman_khan_let_s_use_video_to_reinvent_education/transcript"
       ]
      },
      {
       "output_type": "stream",
       "stream": "stdout",
       "text": [
        "\n",
        "https://www.ted.com/talks/patrick_awuah_on_educating_leaders/transcript"
       ]
      },
      {
       "output_type": "stream",
       "stream": "stdout",
       "text": [
        "\n",
        "https://www.ted.com/talks/ueli_gegenschatz_extreme_wingsuit_jumping/transcript"
       ]
      },
      {
       "output_type": "stream",
       "stream": "stdout",
       "text": [
        "\n",
        "https://www.ted.com/talks/adam_garone_healthier_men_one_moustache_at_a_time/transcript"
       ]
      },
      {
       "output_type": "stream",
       "stream": "stdout",
       "text": [
        "\n",
        "https://www.ted.com/talks/isaac_mizrahi_on_fashion_and_creativity/transcript"
       ]
      },
      {
       "output_type": "stream",
       "stream": "stdout",
       "text": [
        "\n",
        "https://www.ted.com/talks/nalini_nadkarni_life_science_in_prison/transcript"
       ]
      },
      {
       "output_type": "stream",
       "stream": "stdout",
       "text": [
        "\n",
        "https://www.ted.com/talks/tim_harford_how_messy_problems_can_inspire_creativity/transcript"
       ]
      },
      {
       "output_type": "stream",
       "stream": "stdout",
       "text": [
        "\n",
        "https://www.ted.com/talks/hannah_brencher_love_letters_to_strangers/transcript"
       ]
      },
      {
       "output_type": "stream",
       "stream": "stdout",
       "text": [
        "\n",
        "https://www.ted.com/talks/golan_levin_on_software_as_art/transcript"
       ]
      },
      {
       "output_type": "stream",
       "stream": "stdout",
       "text": [
        "\n",
        "https://www.ted.com/talks/paul_sereno_digs_up_dinosaurs/transcript"
       ]
      },
      {
       "output_type": "stream",
       "stream": "stdout",
       "text": [
        "\n",
        "https://www.ted.com/talks/raul_midon_plays_everybody_and_peace_on_earth/transcript"
       ]
      },
      {
       "output_type": "stream",
       "stream": "stdout",
       "text": [
        "\n",
        "https://www.ted.com/talks/dambisa_moyo_is_china_the_new_idol_for_emerging_economies/transcript"
       ]
      },
      {
       "output_type": "stream",
       "stream": "stdout",
       "text": [
        "\n",
        "https://www.ted.com/talks/neil_macgregor_2600_years_of_history_in_one_object/transcript"
       ]
      },
      {
       "output_type": "stream",
       "stream": "stdout",
       "text": [
        "\n",
        "https://www.ted.com/talks/michael_green_what_the_social_progress_index_can_reveal_about_your_country/transcript"
       ]
      },
      {
       "output_type": "stream",
       "stream": "stdout",
       "text": [
        "\n",
        "https://www.ted.com/talks/michael_sandel_the_lost_art_of_democratic_debate/transcript"
       ]
      },
      {
       "output_type": "stream",
       "stream": "stdout",
       "text": [
        "\n",
        "https://www.ted.com/talks/bobby_mcferrin_hacks_your_brain_with_music/transcript"
       ]
      },
      {
       "output_type": "stream",
       "stream": "stdout",
       "text": [
        "\n",
        "https://www.ted.com/talks/ex_moonie_diane_benscoter_how_cults_think/transcript"
       ]
      },
      {
       "output_type": "stream",
       "stream": "stdout",
       "text": [
        "\n",
        "https://www.ted.com/talks/leana_wen_what_your_doctor_won_t_disclose/transcript"
       ]
      },
      {
       "output_type": "stream",
       "stream": "stdout",
       "text": [
        "\n",
        "https://www.ted.com/talks/sophie_scott_why_we_laugh/transcript"
       ]
      },
      {
       "output_type": "stream",
       "stream": "stdout",
       "text": [
        "\n",
        "https://www.ted.com/talks/morgan_spurlock_the_greatest_ted_talk_ever_sold/transcript"
       ]
      },
      {
       "output_type": "stream",
       "stream": "stdout",
       "text": [
        "\n",
        "https://www.ted.com/talks/gero_miesenboeck/transcript"
       ]
      },
      {
       "output_type": "stream",
       "stream": "stdout",
       "text": [
        "\n",
        "https://www.ted.com/talks/maira_kalman_the_illustrated_woman/transcript"
       ]
      },
      {
       "output_type": "stream",
       "stream": "stdout",
       "text": [
        "\n",
        "https://www.ted.com/talks/lalitesh_katragadda_making_maps_to_fight_disaster_build_economies/transcript"
       ]
      },
      {
       "output_type": "stream",
       "stream": "stdout",
       "text": [
        "\n",
        "https://www.ted.com/talks/steven_pinker_chalks_it_up_to_the_blank_slate/transcript"
       ]
      },
      {
       "output_type": "stream",
       "stream": "stdout",
       "text": [
        "\n",
        "https://www.ted.com/talks/eric_mead_the_magic_of_the_placebo/transcript"
       ]
      },
      {
       "output_type": "stream",
       "stream": "stdout",
       "text": [
        "\n",
        "https://www.ted.com/talks/david_holt_plays_mountain_music/transcript"
       ]
      },
      {
       "output_type": "stream",
       "stream": "stdout",
       "text": [
        "\n",
        "https://www.ted.com/talks/tom_rielly_delivers_a_comic_send_up_of_ted2006/transcript"
       ]
      },
      {
       "output_type": "stream",
       "stream": "stdout",
       "text": [
        "\n",
        "https://www.ted.com/talks/lee_hotz_inside_an_antarctic_time_machine/transcript"
       ]
      },
      {
       "output_type": "stream",
       "stream": "stdout",
       "text": [
        "\n",
        "https://www.ted.com/talks/kaki_king_a_musical_escape_into_a_world_of_light_and_color/transcript"
       ]
      },
      {
       "output_type": "stream",
       "stream": "stdout",
       "text": [
        "\n",
        "https://www.ted.com/talks/george_takei_why_i_love_a_country_that_once_betrayed_me/transcript"
       ]
      },
      {
       "output_type": "stream",
       "stream": "stdout",
       "text": [
        "\n",
        "https://www.ted.com/talks/aleph_molinari_let_s_bridge_the_digital_divide/transcript"
       ]
      },
      {
       "output_type": "stream",
       "stream": "stdout",
       "text": [
        "\n",
        "https://www.ted.com/talks/william_kamkwamba_on_building_a_windmill/transcript"
       ]
      },
      {
       "output_type": "stream",
       "stream": "stdout",
       "text": [
        "\n",
        "https://www.ted.com/talks/iqbal_quadir_says_mobiles_fight_poverty/transcript"
       ]
      },
      {
       "output_type": "stream",
       "stream": "stdout",
       "text": [
        "\n",
        "https://www.ted.com/talks/ken_kamler_medical_miracle_on_everest/transcript"
       ]
      },
      {
       "output_type": "stream",
       "stream": "stdout",
       "text": [
        "\n",
        "https://www.ted.com/talks/jimmy_nelson_gorgeous_portraits_of_the_world_s_vanishing_people/transcript"
       ]
      },
      {
       "output_type": "stream",
       "stream": "stdout",
       "text": [
        "\n",
        "https://www.ted.com/talks/hans_and_ola_rosling_how_not_to_be_ignorant_about_the_world/transcript"
       ]
      },
      {
       "output_type": "stream",
       "stream": "stdout",
       "text": [
        "\n",
        "https://www.ted.com/talks/sally_kohn_don_t_like_clickbait_don_t_click/transcript"
       ]
      },
      {
       "output_type": "stream",
       "stream": "stdout",
       "text": [
        "\n",
        "https://www.ted.com/talks/dan_ariely_how_equal_do_we_want_the_world_to_be_you_d_be_surprised/transcript"
       ]
      },
      {
       "output_type": "stream",
       "stream": "stdout",
       "text": [
        "\n",
        "https://www.ted.com/talks/juliana_rotich_meet_brck_internet_access_built_for_africa/transcript"
       ]
      },
      {
       "output_type": "stream",
       "stream": "stdout",
       "text": [
        "\n",
        "https://www.ted.com/talks/barry_schwartz_the_way_we_think_about_work_is_broken/transcript"
       ]
      },
      {
       "output_type": "stream",
       "stream": "stdout",
       "text": [
        "\n",
        "https://www.ted.com/talks/martine_rothblatt_my_daughter_my_wife_our_robot_and_the_quest_for_immortality/transcript"
       ]
      },
      {
       "output_type": "stream",
       "stream": "stdout",
       "text": [
        "\n",
        "https://www.ted.com/talks/steven_wise_chimps_have_feelings_and_thoughts_they_should_also_have_rights/transcript"
       ]
      },
      {
       "output_type": "stream",
       "stream": "stdout",
       "text": [
        "\n",
        "https://www.ted.com/talks/michelle_obama/transcript"
       ]
      },
      {
       "output_type": "stream",
       "stream": "stdout",
       "text": [
        "\n",
        "https://www.ted.com/talks/jack_choi_on_the_virtual_dissection_table/transcript"
       ]
      },
      {
       "output_type": "stream",
       "stream": "stdout",
       "text": [
        "\n",
        "https://www.ted.com/talks/jose_abreu_on_kids_transformed_by_music/transcript"
       ]
      },
      {
       "output_type": "stream",
       "stream": "stdout",
       "text": [
        "\n",
        "https://www.ted.com/talks/miguel_nicolelis_a_monkey_that_controls_a_robot_with_its_thoughts_no_really/transcript"
       ]
      },
      {
       "output_type": "stream",
       "stream": "stdout",
       "text": [
        "\n",
        "https://www.ted.com/talks/aaron_koblin/transcript"
       ]
      },
      {
       "output_type": "stream",
       "stream": "stdout",
       "text": [
        "\n",
        "https://www.ted.com/talks/severine_autesserre_to_solve_mass_violence_look_to_locals/transcript"
       ]
      },
      {
       "output_type": "stream",
       "stream": "stdout",
       "text": [
        "\n",
        "https://www.ted.com/talks/louise_fresco_on_feeding_the_whole_world/transcript"
       ]
      },
      {
       "output_type": "stream",
       "stream": "stdout",
       "text": [
        "\n",
        "https://www.ted.com/talks/jonathan_drori_the_beautiful_tricks_of_flowers/transcript"
       ]
      },
      {
       "output_type": "stream",
       "stream": "stdout",
       "text": [
        "\n",
        "https://www.ted.com/talks/laurie_santos/transcript"
       ]
      },
      {
       "output_type": "stream",
       "stream": "stdout",
       "text": [
        "\n",
        "https://www.ted.com/talks/paul_collier_shares_4_ways_to_help_the_bottom_billion/transcript"
       ]
      },
      {
       "output_type": "stream",
       "stream": "stdout",
       "text": [
        "\n",
        "https://www.ted.com/talks/susan_savage_rumbaugh_on_apes_that_write/transcript"
       ]
      },
      {
       "output_type": "stream",
       "stream": "stdout",
       "text": [
        "\n",
        "https://www.ted.com/talks/carter_emmart_demos_a_3d_atlas_of_the_universe/transcript"
       ]
      },
      {
       "output_type": "stream",
       "stream": "stdout",
       "text": [
        "\n",
        "https://www.ted.com/talks/peter_singer_the_why_and_how_of_effective_altruism/transcript"
       ]
      },
      {
       "output_type": "stream",
       "stream": "stdout",
       "text": [
        "\n",
        "https://www.ted.com/talks/tavi_gevinson_a_teen_just_trying_to_figure_it_out/transcript"
       ]
      },
      {
       "output_type": "stream",
       "stream": "stdout",
       "text": [
        "\n",
        "https://www.ted.com/talks/noy_thrupkaew_human_trafficking_is_all_around_you_this_is_how_it_works/transcript"
       ]
      },
      {
       "output_type": "stream",
       "stream": "stdout",
       "text": [
        "\n",
        "https://www.ted.com/talks/wes_moore_how_to_talk_to_veterans_about_the_war/transcript"
       ]
      },
      {
       "output_type": "stream",
       "stream": "stdout",
       "text": [
        "\n",
        "https://www.ted.com/talks/ziyah_gafic_everyday_objects_tragic_histories/transcript"
       ]
      },
      {
       "output_type": "stream",
       "stream": "stdout",
       "text": [
        "\n",
        "https://www.ted.com/talks/lisa_gansky_the_future_of_business_is_the_mesh/transcript"
       ]
      },
      {
       "output_type": "stream",
       "stream": "stdout",
       "text": [
        "\n",
        "https://www.ted.com/talks/ludwick_marishane_a_bath_without_water/transcript"
       ]
      },
      {
       "output_type": "stream",
       "stream": "stdout",
       "text": [
        "\n",
        "https://www.ted.com/talks/benjamin_barber_why_mayors_should_rule_the_world/transcript"
       ]
      },
      {
       "output_type": "stream",
       "stream": "stdout",
       "text": [
        "\n",
        "https://www.ted.com/talks/david_mackay_a_reality_check_on_renewables/transcript"
       ]
      },
      {
       "output_type": "stream",
       "stream": "stdout",
       "text": [
        "\n",
        "https://www.ted.com/talks/cameron_sinclair_on_open_source_architecture/transcript"
       ]
      },
      {
       "output_type": "stream",
       "stream": "stdout",
       "text": [
        "\n",
        "https://www.ted.com/talks/howard_rheingold_on_collaboration/transcript"
       ]
      },
      {
       "output_type": "stream",
       "stream": "stdout",
       "text": [
        "\n",
        "https://www.ted.com/talks/marc_kushner_why_the_buildings_of_the_future_will_be_shaped_by_you/transcript"
       ]
      },
      {
       "output_type": "stream",
       "stream": "stdout",
       "text": [
        "\n",
        "https://www.ted.com/talks/john_delaney_wiring_an_interactive_ocean/transcript"
       ]
      },
      {
       "output_type": "stream",
       "stream": "stdout",
       "text": [
        "\n",
        "https://www.ted.com/talks/natalie_macmaster_and_donnell_leahy_play_the_cape_breton_fiddle/transcript"
       ]
      },
      {
       "output_type": "stream",
       "stream": "stdout",
       "text": [
        "\n",
        "https://www.ted.com/talks/jill_tarter_s_call_to_join_the_seti_search/transcript"
       ]
      },
      {
       "output_type": "stream",
       "stream": "stdout",
       "text": [
        "\n",
        "https://www.ted.com/talks/pranav_mistry_the_thrilling_potential_of_sixthsense_technology/transcript"
       ]
      },
      {
       "output_type": "stream",
       "stream": "stdout",
       "text": [
        "\n",
        "https://www.ted.com/talks/matthew_white_gives_the_euphonium_a_new_voice/transcript"
       ]
      },
      {
       "output_type": "stream",
       "stream": "stdout",
       "text": [
        "\n",
        "https://www.ted.com/talks/peter_norvig_the_100_000_student_classroom/transcript"
       ]
      },
      {
       "output_type": "stream",
       "stream": "stdout",
       "text": [
        "\n",
        "https://www.ted.com/talks/helen_fisher_tells_us_why_we_love_cheat/transcript"
       ]
      },
      {
       "output_type": "stream",
       "stream": "stdout",
       "text": [
        "\n",
        "https://www.ted.com/talks/george_papandreou_imagine_a_european_democracy_without_borders/transcript"
       ]
      },
      {
       "output_type": "stream",
       "stream": "stdout",
       "text": [
        "\n",
        "https://www.ted.com/talks/ben_saunders_to_the_south_pole_and_back_the_hardest_105_days_of_my_life/transcript"
       ]
      },
      {
       "output_type": "stream",
       "stream": "stdout",
       "text": [
        "\n",
        "https://www.ted.com/talks/sergey_brin_and_larry_page_on_google/transcript"
       ]
      },
      {
       "output_type": "stream",
       "stream": "stdout",
       "text": [
        "\n",
        "https://www.ted.com/talks/wingham_rowan_a_new_kind_of_job_market/transcript"
       ]
      },
      {
       "output_type": "stream",
       "stream": "stdout",
       "text": [
        "\n",
        "https://www.ted.com/talks/james_b_glattfelder_who_controls_the_world/transcript"
       ]
      },
      {
       "output_type": "stream",
       "stream": "stdout",
       "text": [
        "\n",
        "https://www.ted.com/talks/david_pizarro_the_strange_politics_of_disgust/transcript"
       ]
      },
      {
       "output_type": "stream",
       "stream": "stdout",
       "text": [
        "\n",
        "https://www.ted.com/talks/mick_cornett_how_an_obese_town_lost_a_million_pounds/transcript"
       ]
      },
      {
       "output_type": "stream",
       "stream": "stdout",
       "text": [
        "\n",
        "https://www.ted.com/talks/peter_diamandis_on_stephen_hawking_in_zero_g/transcript"
       ]
      },
      {
       "output_type": "stream",
       "stream": "stdout",
       "text": [
        "\n",
        "https://www.ted.com/talks/jon_nguyen_tour_the_solar_system_from_home/transcript"
       ]
      },
      {
       "output_type": "stream",
       "stream": "stdout",
       "text": [
        "\n",
        "https://www.ted.com/talks/lawrence_lessig_the_unstoppable_walk_to_political_reform/transcript"
       ]
      },
      {
       "output_type": "stream",
       "stream": "stdout",
       "text": [
        "\n",
        "https://www.ted.com/talks/don_norman_on_design_and_emotion/transcript"
       ]
      },
      {
       "output_type": "stream",
       "stream": "stdout",
       "text": [
        "\n",
        "https://www.ted.com/talks/simon_sinek_how_great_leaders_inspire_action/transcript"
       ]
      },
      {
       "output_type": "stream",
       "stream": "stdout",
       "text": [
        "\n",
        "https://www.ted.com/talks/molly_crockett_beware_neuro_bunk/transcript"
       ]
      },
      {
       "output_type": "stream",
       "stream": "stdout",
       "text": [
        "\n",
        "https://www.ted.com/talks/robert_gordon_the_death_of_innovation_the_end_of_growth/transcript"
       ]
      },
      {
       "output_type": "stream",
       "stream": "stdout",
       "text": [
        "\n",
        "https://www.ted.com/talks/michael_archer_how_we_ll_resurrect_the_gastric_brooding_frog_the_tasmanian_tiger/transcript"
       ]
      },
      {
       "output_type": "stream",
       "stream": "stdout",
       "text": [
        "\n",
        "https://www.ted.com/talks/paul_tudor_jones_ii_why_we_need_to_rethink_capitalism/transcript"
       ]
      },
      {
       "output_type": "stream",
       "stream": "stdout",
       "text": [
        "\n",
        "https://www.ted.com/talks/jok_church_a_circle_of_caring/transcript"
       ]
      },
      {
       "output_type": "stream",
       "stream": "stdout",
       "text": [
        "\n",
        "https://www.ted.com/talks/yves_morieux_how_too_many_rules_at_work_keep_you_from_getting_things_done/transcript"
       ]
      },
      {
       "output_type": "stream",
       "stream": "stdout",
       "text": [
        "\n",
        "https://www.ted.com/talks/aakash_odedra_a_dance_in_a_hurricane_of_paper_wind_and_light/transcript"
       ]
      },
      {
       "output_type": "stream",
       "stream": "stdout",
       "text": [
        "\n",
        "https://www.ted.com/talks/joe_desimone_what_if_3d_printing_was_25x_faster/transcript"
       ]
      },
      {
       "output_type": "stream",
       "stream": "stdout",
       "text": [
        "\n",
        "https://www.ted.com/talks/reuben_margolin_sculpting_waves_in_wood_and_time/transcript"
       ]
      },
      {
       "output_type": "stream",
       "stream": "stdout",
       "text": [
        "\n",
        "https://www.ted.com/talks/thomas_pogge_medicine_for_the_99_percent/transcript"
       ]
      },
      {
       "output_type": "stream",
       "stream": "stdout",
       "text": [
        "\n",
        "https://www.ted.com/talks/simon_sinek_why_good_leaders_make_you_feel_safe/transcript"
       ]
      },
      {
       "output_type": "stream",
       "stream": "stdout",
       "text": [
        "\n",
        "https://www.ted.com/talks/jonas_gahr_store_in_defense_of_dialogue/transcript"
       ]
      },
      {
       "output_type": "stream",
       "stream": "stdout",
       "text": [
        "\n",
        "https://www.ted.com/talks/anthony_atala_growing_organs_engineering_tissue/transcript"
       ]
      },
      {
       "output_type": "stream",
       "stream": "stdout",
       "text": [
        "\n",
        "https://www.ted.com/talks/milton_glaser_on_using_design_to_make_ideas_new/transcript"
       ]
      },
      {
       "output_type": "stream",
       "stream": "stdout",
       "text": [
        "\n",
        "https://www.ted.com/talks/frederick_balagadde_bio_lab_on_a_microchip/transcript"
       ]
      },
      {
       "output_type": "stream",
       "stream": "stdout",
       "text": [
        "\n",
        "https://www.ted.com/talks/greg_stone_saving_the_ocean_one_island_at_a_time/transcript"
       ]
      },
      {
       "output_type": "stream",
       "stream": "stdout",
       "text": [
        "\n",
        "https://www.ted.com/talks/evelyn_glennie_shows_how_to_listen/transcript"
       ]
      },
      {
       "output_type": "stream",
       "stream": "stdout",
       "text": [
        "\n",
        "https://www.ted.com/talks/derek_sivers_weird_or_just_different/transcript"
       ]
      },
      {
       "output_type": "stream",
       "stream": "stdout",
       "text": [
        "\n",
        "https://www.ted.com/talks/alisa_miller_shares_the_news_about_the_news/transcript"
       ]
      },
      {
       "output_type": "stream",
       "stream": "stdout",
       "text": [
        "\n",
        "https://www.ted.com/talks/rainer_strack_the_surprising_workforce_crisis_of_2030_and_how_to_start_solving_it_now/transcript"
       ]
      },
      {
       "output_type": "stream",
       "stream": "stdout",
       "text": [
        "\n",
        "https://www.ted.com/talks/golan_levin_ted2009/transcript"
       ]
      },
      {
       "output_type": "stream",
       "stream": "stdout",
       "text": [
        "\n",
        "https://www.ted.com/talks/achenyo_idachaba_how_i_turned_a_deadly_plant_into_a_thriving_business/transcript"
       ]
      },
      {
       "output_type": "stream",
       "stream": "stdout",
       "text": [
        "\n",
        "https://www.ted.com/talks/alex_tabarrok_foresees_economic_growth/transcript"
       ]
      },
      {
       "output_type": "stream",
       "stream": "stdout",
       "text": [
        "\n",
        "https://www.ted.com/talks/cynthia_schneider_the_surprising_spread_of_idol_tv/transcript"
       ]
      },
      {
       "output_type": "stream",
       "stream": "stdout",
       "text": [
        "\n",
        "https://www.ted.com/talks/graham_hill_weekday_vegetarian/transcript"
       ]
      },
      {
       "output_type": "stream",
       "stream": "stdout",
       "text": [
        "\n",
        "https://www.ted.com/talks/sarah_kaminsky/transcript"
       ]
      },
      {
       "output_type": "stream",
       "stream": "stdout",
       "text": [
        "\n",
        "https://www.ted.com/talks/janna_levin_the_sound_the_universe_makes/transcript"
       ]
      },
      {
       "output_type": "stream",
       "stream": "stdout",
       "text": [
        "\n",
        "https://www.ted.com/talks/hannah_fry_the_mathematics_of_love/transcript"
       ]
      },
      {
       "output_type": "stream",
       "stream": "stdout",
       "text": [
        "\n",
        "https://www.ted.com/talks/vilayanur_ramachandran_on_your_mind/transcript"
       ]
      },
      {
       "output_type": "stream",
       "stream": "stdout",
       "text": [
        "\n",
        "https://www.ted.com/talks/edward_burtynsky_photographs_the_landscape_of_oil/transcript"
       ]
      },
      {
       "output_type": "stream",
       "stream": "stdout",
       "text": [
        "\n",
        "https://www.ted.com/talks/alison_killing_what_happens_when_a_city_runs_out_of_room_for_its_dead/transcript"
       ]
      },
      {
       "output_type": "stream",
       "stream": "stdout",
       "text": [
        "\n",
        "https://www.ted.com/talks/zeynep_tufekci_how_the_internet_has_made_social_change_easy_to_organize_hard_to_win/transcript"
       ]
      },
      {
       "output_type": "stream",
       "stream": "stdout",
       "text": [
        "\n",
        "https://www.ted.com/talks/heather_brooke_my_battle_to_expose_government_corruption/transcript"
       ]
      },
      {
       "output_type": "stream",
       "stream": "stdout",
       "text": [
        "\n",
        "https://www.ted.com/talks/chris_mcknett_the_investment_logic_for_sustainability/transcript"
       ]
      },
      {
       "output_type": "stream",
       "stream": "stdout",
       "text": [
        "\n",
        "https://www.ted.com/talks/jared_ficklin_new_ways_to_see_music_with_color_and_fire/transcript"
       ]
      },
      {
       "output_type": "stream",
       "stream": "stdout",
       "text": [
        "\n",
        "https://www.ted.com/talks/raghava_kk_shake_up_your_story/transcript"
       ]
      },
      {
       "output_type": "stream",
       "stream": "stdout",
       "text": [
        "\n",
        "https://www.ted.com/talks/angelo_vermeulen_how_to_go_to_space_without_having_to_go_to_space/transcript"
       ]
      },
      {
       "output_type": "stream",
       "stream": "stdout",
       "text": [
        "\n",
        "https://www.ted.com/talks/sam_richards_a_radical_experiment_in_empathy/transcript"
       ]
      },
      {
       "output_type": "stream",
       "stream": "stdout",
       "text": [
        "\n",
        "https://www.ted.com/talks/linda_liukas_a_delightful_way_to_teach_kids_about_computers/transcript"
       ]
      },
      {
       "output_type": "stream",
       "stream": "stdout",
       "text": [
        "\n",
        "https://www.ted.com/talks/david_hoffman_on_losing_everything/transcript"
       ]
      },
      {
       "output_type": "stream",
       "stream": "stdout",
       "text": [
        "\n",
        "https://www.ted.com/talks/christopher_soghoian_a_brief_history_of_phone_wiretapping_and_how_to_avoid_it/transcript"
       ]
      },
      {
       "output_type": "stream",
       "stream": "stdout",
       "text": [
        "\n",
        "https://www.ted.com/talks/carl_honore_praises_slowness/transcript"
       ]
      },
      {
       "output_type": "stream",
       "stream": "stdout",
       "text": [
        "\n",
        "https://www.ted.com/talks/barat_ali_batoor_my_desperate_journey_with_a_human_smuggler/transcript"
       ]
      },
      {
       "output_type": "stream",
       "stream": "stdout",
       "text": [
        "\n",
        "https://www.ted.com/talks/sharmeen_obaid_chinoy_inside_a_school_for_suicide_bombers/transcript"
       ]
      },
      {
       "output_type": "stream",
       "stream": "stdout",
       "text": [
        "\n",
        "https://www.ted.com/talks/regina_hartley_why_the_best_hire_might_not_have_the_perfect_resume/transcript"
       ]
      },
      {
       "output_type": "stream",
       "stream": "stdout",
       "text": [
        "\n",
        "https://www.ted.com/talks/marla_spivak_why_bees_are_disappearing/transcript"
       ]
      },
      {
       "output_type": "stream",
       "stream": "stdout",
       "text": [
        "\n",
        "https://www.ted.com/talks/viktor_frankl_youth_in_search_of_meaning/transcript"
       ]
      },
      {
       "output_type": "stream",
       "stream": "stdout",
       "text": [
        "\n",
        "https://www.ted.com/talks/jaime_lerner_sings_of_the_city/transcript"
       ]
      },
      {
       "output_type": "stream",
       "stream": "stdout",
       "text": [
        "\n",
        "https://www.ted.com/talks/ilona_szabo_de_carvalho_4_lessons_i_learned_from_taking_a_stand_against_drugs_and_gun_violence/transcript"
       ]
      },
      {
       "output_type": "stream",
       "stream": "stdout",
       "text": [
        "\n",
        "https://www.ted.com/talks/annmarie_thomas_squishy_circuits/transcript"
       ]
      },
      {
       "output_type": "stream",
       "stream": "stdout",
       "text": [
        "\n",
        "https://www.ted.com/talks/thomas_heatherwick/transcript"
       ]
      },
      {
       "output_type": "stream",
       "stream": "stdout",
       "text": [
        "\n",
        "https://www.ted.com/talks/antony_gormley_sculpted_space_within_and_without/transcript"
       ]
      },
      {
       "output_type": "stream",
       "stream": "stdout",
       "text": [
        "\n",
        "https://www.ted.com/talks/dan_gilbert_you_are_always_changing/transcript"
       ]
      },
      {
       "output_type": "stream",
       "stream": "stdout",
       "text": [
        "\n",
        "https://www.ted.com/talks/tim_jackson_s_economic_reality_check/transcript"
       ]
      },
      {
       "output_type": "stream",
       "stream": "stdout",
       "text": [
        "\n",
        "https://www.ted.com/talks/nathaniel_kahn_on_my_architect/transcript"
       ]
      },
      {
       "output_type": "stream",
       "stream": "stdout",
       "text": [
        "\n",
        "https://www.ted.com/talks/majora_carter_3_stories_of_local_ecoactivism/transcript"
       ]
      },
      {
       "output_type": "stream",
       "stream": "stdout",
       "text": [
        "\n",
        "https://www.ted.com/talks/don_levy_a_cinematic_journey_through_visual_effects/transcript"
       ]
      },
      {
       "output_type": "stream",
       "stream": "stdout",
       "text": [
        "\n",
        "https://www.ted.com/talks/lee_smolin_on_science_and_democracy/transcript"
       ]
      },
      {
       "output_type": "stream",
       "stream": "stdout",
       "text": [
        "\n",
        "https://www.ted.com/talks/jonathan_klein_photos_that_changed_the_world/transcript"
       ]
      },
      {
       "output_type": "stream",
       "stream": "stdout",
       "text": [
        "\n",
        "https://www.ted.com/talks/bjarke_ingels_hedonistic_sustainability/transcript"
       ]
      },
      {
       "output_type": "stream",
       "stream": "stdout",
       "text": [
        "\n",
        "https://www.ted.com/talks/srikumar_rao_plug_into_your_hard_wired_happiness/transcript"
       ]
      },
      {
       "output_type": "stream",
       "stream": "stdout",
       "text": [
        "\n",
        "https://www.ted.com/talks/reinventing_the_car/transcript"
       ]
      },
      {
       "output_type": "stream",
       "stream": "stdout",
       "text": [
        "\n",
        "https://www.ted.com/talks/timothy_prestero_design_for_people_not_awards/transcript"
       ]
      },
      {
       "output_type": "stream",
       "stream": "stdout",
       "text": [
        "\n",
        "https://www.ted.com/talks/tyler_cowen_be_suspicious_of_stories/transcript"
       ]
      },
      {
       "output_type": "stream",
       "stream": "stdout",
       "text": [
        "\n",
        "https://www.ted.com/talks/ameenah_gurib_fakim_humble_plants_that_hide_surprising_secrets/transcript"
       ]
      },
      {
       "output_type": "stream",
       "stream": "stdout",
       "text": [
        "\n",
        "https://www.ted.com/talks/clint_smith_the_danger_of_silence/transcript"
       ]
      },
      {
       "output_type": "stream",
       "stream": "stdout",
       "text": [
        "\n",
        "https://www.ted.com/talks/bill_davenhall_your_health_depends_on_where_you_live/transcript"
       ]
      },
      {
       "output_type": "stream",
       "stream": "stdout",
       "text": [
        "\n",
        "https://www.ted.com/talks/jared_diamond_how_societies_can_grow_old_better/transcript"
       ]
      },
      {
       "output_type": "stream",
       "stream": "stdout",
       "text": [
        "\n",
        "https://www.ted.com/talks/sarah_kay_how_many_lives_can_you_live/transcript"
       ]
      },
      {
       "output_type": "stream",
       "stream": "stdout",
       "text": [
        "\n",
        "https://www.ted.com/talks/svante_paeaebo_dna_clues_to_our_inner_neanderthal/transcript"
       ]
      },
      {
       "output_type": "stream",
       "stream": "stdout",
       "text": [
        "\n",
        "https://www.ted.com/talks/melvin_russell_i_love_being_a_police_officer_but_we_need_reform/transcript"
       ]
      },
      {
       "output_type": "stream",
       "stream": "stdout",
       "text": [
        "\n",
        "https://www.ted.com/talks/karen_thompson_walker_what_fear_can_teach_us/transcript"
       ]
      },
      {
       "output_type": "stream",
       "stream": "stdout",
       "text": [
        "\n",
        "https://www.ted.com/talks/munir_virani_why_i_love_vultures/transcript"
       ]
      },
      {
       "output_type": "stream",
       "stream": "stdout",
       "text": [
        "\n",
        "https://www.ted.com/talks/jonathan_haidt_how_common_threats_can_make_common_political_ground/transcript"
       ]
      },
      {
       "output_type": "stream",
       "stream": "stdout",
       "text": [
        "\n",
        "https://www.ted.com/talks/geoff_mulgan_a_short_intro_to_the_studio_school/transcript"
       ]
      },
      {
       "output_type": "stream",
       "stream": "stdout",
       "text": [
        "\n",
        "https://www.ted.com/talks/rebecca_mackinnon_let_s_take_back_the_internet/transcript"
       ]
      },
      {
       "output_type": "stream",
       "stream": "stdout",
       "text": [
        "\n",
        "https://www.ted.com/talks/jk_rowling_the_fringe_benefits_of_failure/transcript"
       ]
      },
      {
       "output_type": "stream",
       "stream": "stdout",
       "text": [
        "\n",
        "https://www.ted.com/talks/daniel_libeskind_s_17_words_of_architectural_inspiration/transcript"
       ]
      },
      {
       "output_type": "stream",
       "stream": "stdout",
       "text": [
        "\n",
        "https://www.ted.com/talks/roger_doiron_my_subversive_garden_plot/transcript"
       ]
      },
      {
       "output_type": "stream",
       "stream": "stdout",
       "text": [
        "\n",
        "https://www.ted.com/talks/martin_villeneuve_how_i_made_an_impossible_film/transcript"
       ]
      },
      {
       "output_type": "stream",
       "stream": "stdout",
       "text": [
        "\n",
        "https://www.ted.com/talks/leyla_acaroglu_paper_beats_plastic_how_to_rethink_environmental_folklore/transcript"
       ]
      },
      {
       "output_type": "stream",
       "stream": "stdout",
       "text": [
        "\n",
        "https://www.ted.com/talks/marvin_minsky_on_health_and_the_human_mind/transcript"
       ]
      },
      {
       "output_type": "stream",
       "stream": "stdout",
       "text": [
        "\n",
        "https://www.ted.com/talks/pamelia_kurstin_plays_the_theremin/transcript"
       ]
      },
      {
       "output_type": "stream",
       "stream": "stdout",
       "text": [
        "\n",
        "https://www.ted.com/talks/jackson_browne_if_i_could_be_anywhere/transcript"
       ]
      },
      {
       "output_type": "stream",
       "stream": "stdout",
       "text": [
        "\n",
        "https://www.ted.com/talks/gayle_tzemach_lemmon_meet_the_first_women_to_fight_on_the_front_lines_of_an_american_war/transcript"
       ]
      },
      {
       "output_type": "stream",
       "stream": "stdout",
       "text": [
        "\n",
        "https://www.ted.com/talks/steven_schwaitzberg_a_universal_translator_for_surgeons/transcript"
       ]
      },
      {
       "output_type": "stream",
       "stream": "stdout",
       "text": [
        "\n",
        "https://www.ted.com/talks/julian_treasure_how_to_speak_so_that_people_want_to_listen/transcript"
       ]
      },
      {
       "output_type": "stream",
       "stream": "stdout",
       "text": [
        "\n",
        "https://www.ted.com/talks/norman_spack_how_i_help_transgender_teens_become_who_they_want_to_be/transcript"
       ]
      },
      {
       "output_type": "stream",
       "stream": "stdout",
       "text": [
        "\n",
        "https://www.ted.com/talks/guy_winch_the_case_for_emotional_hygiene/transcript"
       ]
      },
      {
       "output_type": "stream",
       "stream": "stdout",
       "text": [
        "\n",
        "https://www.ted.com/talks/matt_ridley_when_ideas_have_sex/transcript"
       ]
      },
      {
       "output_type": "stream",
       "stream": "stdout",
       "text": [
        "\n",
        "https://www.ted.com/talks/edward_tenner_unintended_consequences/transcript"
       ]
      },
      {
       "output_type": "stream",
       "stream": "stdout",
       "text": [
        "\n",
        "https://www.ted.com/talks/jane_mcgonigal_the_game_that_can_give_you_10_extra_years_of_life/transcript"
       ]
      },
      {
       "output_type": "stream",
       "stream": "stdout",
       "text": [
        "\n",
        "https://www.ted.com/talks/sara_seager_the_search_for_planets_beyond_our_solar_system/transcript"
       ]
      },
      {
       "output_type": "stream",
       "stream": "stdout",
       "text": [
        "\n",
        "https://www.ted.com/talks/seth_shostak_et_is_probably_out_there_get_ready/transcript"
       ]
      },
      {
       "output_type": "stream",
       "stream": "stdout",
       "text": [
        "\n",
        "https://www.ted.com/talks/sheikha_al_mayassa_globalizing_the_local_localizing_the_global/transcript"
       ]
      },
      {
       "output_type": "stream",
       "stream": "stdout",
       "text": [
        "\n",
        "https://www.ted.com/talks/morgana_bailey_the_danger_of_hiding_who_you_are/transcript"
       ]
      },
      {
       "output_type": "stream",
       "stream": "stdout",
       "text": [
        "\n",
        "https://www.ted.com/talks/ian_dunbar_on_dog_friendly_dog_training/transcript"
       ]
      },
      {
       "output_type": "stream",
       "stream": "stdout",
       "text": [
        "\n",
        "https://www.ted.com/talks/charles_leadbeater_on_education/transcript"
       ]
      },
      {
       "output_type": "stream",
       "stream": "stdout",
       "text": [
        "\n",
        "https://www.ted.com/talks/marcel_dicke_why_not_eat_insects/transcript"
       ]
      },
      {
       "output_type": "stream",
       "stream": "stdout",
       "text": [
        "\n",
        "https://www.ted.com/talks/joseph_pine_on_what_consumers_want/transcript"
       ]
      },
      {
       "output_type": "stream",
       "stream": "stdout",
       "text": [
        "\n",
        "https://www.ted.com/talks/dan_barber_s_surprising_foie_gras_parable/transcript"
       ]
      },
      {
       "output_type": "stream",
       "stream": "stdout",
       "text": [
        "\n",
        "https://www.ted.com/talks/the_raspyni_brothers_juggle_and_jest/transcript"
       ]
      },
      {
       "output_type": "stream",
       "stream": "stdout",
       "text": [
        "\n",
        "https://www.ted.com/talks/beatrice_coron_stories_cut_from_paper/transcript"
       ]
      },
      {
       "output_type": "stream",
       "stream": "stdout",
       "text": [
        "\n",
        "https://www.ted.com/talks/paul_bennett_finds_design_in_the_details/transcript"
       ]
      },
      {
       "output_type": "stream",
       "stream": "stdout",
       "text": [
        "\n",
        "https://www.ted.com/talks/vijay_kumar_robots_that_fly_and_cooperate/transcript"
       ]
      },
      {
       "output_type": "stream",
       "stream": "stdout",
       "text": [
        "\n",
        "https://www.ted.com/talks/janine_di_giovanni_what_i_saw_in_the_war/transcript"
       ]
      },
      {
       "output_type": "stream",
       "stream": "stdout",
       "text": [
        "\n",
        "https://www.ted.com/talks/rachel_sussman_the_world_s_oldest_living_things/transcript"
       ]
      },
      {
       "output_type": "stream",
       "stream": "stdout",
       "text": [
        "\n",
        "https://www.ted.com/talks/joe_kowan_how_i_beat_stage_fright/transcript"
       ]
      },
      {
       "output_type": "stream",
       "stream": "stdout",
       "text": [
        "\n",
        "https://www.ted.com/talks/mike_matas/transcript"
       ]
      },
      {
       "output_type": "stream",
       "stream": "stdout",
       "text": [
        "\n",
        "https://www.ted.com/talks/danny_hillis_two_frontiers_of_cancer_treatment/transcript"
       ]
      },
      {
       "output_type": "stream",
       "stream": "stdout",
       "text": [
        "\n",
        "https://www.ted.com/talks/cesar_harada_a_novel_idea_for_cleaning_up_oil_spills/transcript"
       ]
      },
      {
       "output_type": "stream",
       "stream": "stdout",
       "text": [
        "\n",
        "https://www.ted.com/talks/honor_harger_a_history_of_the_universe_in_sound/transcript"
       ]
      },
      {
       "output_type": "stream",
       "stream": "stdout",
       "text": [
        "\n",
        "https://www.ted.com/talks/lian_pin_koh_a_drone_s_eye_view_of_conservation/transcript"
       ]
      },
      {
       "output_type": "stream",
       "stream": "stdout",
       "text": [
        "\n",
        "https://www.ted.com/talks/andreas_raptopoulos_no_roads_there_s_a_drone_for_that/transcript"
       ]
      },
      {
       "output_type": "stream",
       "stream": "stdout",
       "text": [
        "\n",
        "https://www.ted.com/talks/kate_stone_dj_decks_made_of_paper/transcript"
       ]
      },
      {
       "output_type": "stream",
       "stream": "stdout",
       "text": [
        "\n",
        "https://www.ted.com/talks/omar_ahmad_political_change_with_pen_and_paper/transcript"
       ]
      },
      {
       "output_type": "stream",
       "stream": "stdout",
       "text": [
        "\n",
        "https://www.ted.com/talks/paola_antonelli_treats_design_as_art/transcript"
       ]
      },
      {
       "output_type": "stream",
       "stream": "stdout",
       "text": [
        "\n",
        "https://www.ted.com/talks/barbara_natterson_horowitz_what_veterinarians_know_that_doctors_don_t/transcript"
       ]
      },
      {
       "output_type": "stream",
       "stream": "stdout",
       "text": [
        "\n",
        "https://www.ted.com/talks/clayton_cameron_a_rhythm_etic_the_math_behind_the_beats/transcript"
       ]
      },
      {
       "output_type": "stream",
       "stream": "stdout",
       "text": [
        "\n",
        "https://www.ted.com/talks/jeff_hancock_3_types_of_digital_lies/transcript"
       ]
      },
      {
       "output_type": "stream",
       "stream": "stdout",
       "text": [
        "\n",
        "https://www.ted.com/talks/yang_lan/transcript"
       ]
      },
      {
       "output_type": "stream",
       "stream": "stdout",
       "text": [
        "\n",
        "https://www.ted.com/talks/chris_abani_muses_on_humanity/transcript"
       ]
      },
      {
       "output_type": "stream",
       "stream": "stdout",
       "text": [
        "\n",
        "https://www.ted.com/talks/david_anderson_your_brain_is_more_than_a_bag_of_chemicals/transcript"
       ]
      },
      {
       "output_type": "stream",
       "stream": "stdout",
       "text": [
        "\n",
        "https://www.ted.com/talks/paul_maccready_flies_on_solar_wings/transcript"
       ]
      },
      {
       "output_type": "stream",
       "stream": "stdout",
       "text": [
        "\n",
        "https://www.ted.com/talks/jinsop_lee_design_for_all_5_senses/transcript"
       ]
      },
      {
       "output_type": "stream",
       "stream": "stdout",
       "text": [
        "\n",
        "https://www.ted.com/talks/eve_ensler_on_happiness_in_body_and_soul/transcript"
       ]
      },
      {
       "output_type": "stream",
       "stream": "stdout",
       "text": [
        "\n",
        "https://www.ted.com/talks/peter_saul_let_s_talk_about_dying/transcript"
       ]
      },
      {
       "output_type": "stream",
       "stream": "stdout",
       "text": [
        "\n",
        "https://www.ted.com/talks/shilo_shiv_suleman_using_tech_to_enable_dreaming/transcript"
       ]
      },
      {
       "output_type": "stream",
       "stream": "stdout",
       "text": [
        "\n",
        "https://www.ted.com/talks/put_the_financial_aid_in_the_bag/transcript"
       ]
      },
      {
       "output_type": "stream",
       "stream": "stdout",
       "text": [
        "\n",
        "https://www.ted.com/talks/dennis_hong_my_seven_species_of_robot/transcript"
       ]
      },
      {
       "output_type": "stream",
       "stream": "stdout",
       "text": [
        "\n",
        "https://www.ted.com/talks/sergei_lupashin_a_flying_camera_on_a_leash/transcript"
       ]
      },
      {
       "output_type": "stream",
       "stream": "stdout",
       "text": [
        "\n",
        "https://www.ted.com/talks/barry_schuler_genomics_101/transcript"
       ]
      },
      {
       "output_type": "stream",
       "stream": "stdout",
       "text": [
        "\n",
        "https://www.ted.com/talks/sasa_vucinic_invests_in_free_press/transcript"
       ]
      },
      {
       "output_type": "stream",
       "stream": "stdout",
       "text": [
        "\n",
        "https://www.ted.com/talks/tony_fadell_the_first_secret_of_design_is_noticing/transcript"
       ]
      },
      {
       "output_type": "stream",
       "stream": "stdout",
       "text": [
        "\n",
        "https://www.ted.com/talks/gary_kovacs_tracking_the_trackers/transcript"
       ]
      },
      {
       "output_type": "stream",
       "stream": "stdout",
       "text": [
        "\n",
        "https://www.ted.com/talks/paul_moller_on_the_skycar/transcript"
       ]
      },
      {
       "output_type": "stream",
       "stream": "stdout",
       "text": [
        "\n",
        "https://www.ted.com/talks/brene_brown_on_vulnerability/transcript"
       ]
      },
      {
       "output_type": "stream",
       "stream": "stdout",
       "text": [
        "\n",
        "https://www.ted.com/talks/julie_taymor_spider_man_the_lion_king_and_life_on_the_creative_edge/transcript"
       ]
      },
      {
       "output_type": "stream",
       "stream": "stdout",
       "text": [
        "\n",
        "https://www.ted.com/talks/jonathan_haidt_humanity_s_stairway_to_self_transcendence/transcript"
       ]
      },
      {
       "output_type": "stream",
       "stream": "stdout",
       "text": [
        "\n",
        "https://www.ted.com/talks/marlene_zuk_what_we_learn_from_insects_kinky_sex_lives/transcript"
       ]
      },
      {
       "output_type": "stream",
       "stream": "stdout",
       "text": [
        "\n",
        "https://www.ted.com/talks/matthew_childs_9_rules_of_rock_climbing/transcript"
       ]
      },
      {
       "output_type": "stream",
       "stream": "stdout",
       "text": [
        "\n",
        "https://www.ted.com/talks/rebecca_saxe_how_brains_make_moral_judgments/transcript"
       ]
      },
      {
       "output_type": "stream",
       "stream": "stdout",
       "text": [
        "\n",
        "https://www.ted.com/talks/just_how_small_is_an_atom/transcript"
       ]
      },
      {
       "output_type": "stream",
       "stream": "stdout",
       "text": [
        "\n",
        "https://www.ted.com/talks/ron_eglash_on_african_fractals/transcript"
       ]
      },
      {
       "output_type": "stream",
       "stream": "stdout",
       "text": [
        "\n",
        "https://www.ted.com/talks/jim_holt_why_does_the_universe_exist/transcript"
       ]
      },
      {
       "output_type": "stream",
       "stream": "stdout",
       "text": [
        "\n",
        "https://www.ted.com/talks/janet_echelman/transcript"
       ]
      },
      {
       "output_type": "stream",
       "stream": "stdout",
       "text": [
        "\n",
        "https://www.ted.com/talks/patrick_chappatte_the_power_of_cartoons/transcript"
       ]
      },
      {
       "output_type": "stream",
       "stream": "stdout",
       "text": [
        "\n",
        "https://www.ted.com/talks/bill_t_jones_the_dancer_the_singer_the_cellist_and_a_moment_of_creative_magic/transcript"
       ]
      },
      {
       "output_type": "stream",
       "stream": "stdout",
       "text": [
        "\n",
        "https://www.ted.com/talks/r_a_mashelkar_breakthrough_designs_for_ultra_low_cost_products/transcript"
       ]
      },
      {
       "output_type": "stream",
       "stream": "stdout",
       "text": [
        "\n",
        "https://www.ted.com/talks/virginia_postrel_on_glamour/transcript"
       ]
      },
      {
       "output_type": "stream",
       "stream": "stdout",
       "text": [
        "\n",
        "https://www.ted.com/talks/ziauddin_yousafzai_my_daughter_malala/transcript"
       ]
      },
      {
       "output_type": "stream",
       "stream": "stdout",
       "text": [
        "\n",
        "https://www.ted.com/talks/yves_behar_on_designing_objects_that_tell_stories/transcript"
       ]
      },
      {
       "output_type": "stream",
       "stream": "stdout",
       "text": [
        "\n",
        "https://www.ted.com/talks/hendrik_poinar_bring_back_the_woolly_mammoth/transcript"
       ]
      },
      {
       "output_type": "stream",
       "stream": "stdout",
       "text": [
        "\n",
        "https://www.ted.com/talks/paul_zak_trust_morality_and_oxytocin/transcript"
       ]
      },
      {
       "output_type": "stream",
       "stream": "stdout",
       "text": [
        "\n",
        "https://www.ted.com/talks/rodrigo_bijou_governments_don_t_understand_cyber_warfare_we_need_hackers/transcript"
       ]
      },
      {
       "output_type": "stream",
       "stream": "stdout",
       "text": [
        "\n",
        "https://www.ted.com/talks/sarah_kay_if_i_should_have_a_daughter/transcript"
       ]
      },
      {
       "output_type": "stream",
       "stream": "stdout",
       "text": [
        "\n",
        "https://www.ted.com/talks/bill_gross_the_single_biggest_reason_why_startups_succeed/transcript"
       ]
      },
      {
       "output_type": "stream",
       "stream": "stdout",
       "text": [
        "\n",
        "https://www.ted.com/talks/nathalie_miebach/transcript"
       ]
      },
      {
       "output_type": "stream",
       "stream": "stdout",
       "text": [
        "\n",
        "https://www.ted.com/talks/suzanne_talhouk_don_t_kill_your_language/transcript"
       ]
      },
      {
       "output_type": "stream",
       "stream": "stdout",
       "text": [
        "\n",
        "https://www.ted.com/talks/maya_beiser_s_and_her_cello_s/transcript"
       ]
      },
      {
       "output_type": "stream",
       "stream": "stdout",
       "text": [
        "\n",
        "https://www.ted.com/talks/mitch_resnick_let_s_teach_kids_to_code/transcript"
       ]
      },
      {
       "output_type": "stream",
       "stream": "stdout",
       "text": [
        "\n",
        "https://www.ted.com/talks/daniele_quercia_happy_maps/transcript"
       ]
      },
      {
       "output_type": "stream",
       "stream": "stdout",
       "text": [
        "\n",
        "https://www.ted.com/talks/raghava_kk_five_lives_of_an_artist/transcript"
       ]
      },
      {
       "output_type": "stream",
       "stream": "stdout",
       "text": [
        "\n",
        "https://www.ted.com/talks/marc_pachter_the_art_of_the_interview/transcript"
       ]
      },
      {
       "output_type": "stream",
       "stream": "stdout",
       "text": [
        "\n",
        "https://www.ted.com/talks/robin_ince_science_versus_wonder/transcript"
       ]
      },
      {
       "output_type": "stream",
       "stream": "stdout",
       "text": [
        "\n",
        "https://www.ted.com/talks/julian_assange_why_the_world_needs_wikileaks/transcript"
       ]
      },
      {
       "output_type": "stream",
       "stream": "stdout",
       "text": [
        "\n",
        "https://www.ted.com/talks/janine_shepherd_a_broken_body_isn_t_a_broken_person/transcript"
       ]
      },
      {
       "output_type": "stream",
       "stream": "stdout",
       "text": [
        "\n",
        "https://www.ted.com/talks/george_monbiot_for_more_wonder_rewild_the_world/transcript"
       ]
      },
      {
       "output_type": "stream",
       "stream": "stdout",
       "text": [
        "\n",
        "https://www.ted.com/talks/david_sedlak_4_ways_we_can_avoid_a_catastrophic_drought/transcript"
       ]
      },
      {
       "output_type": "stream",
       "stream": "stdout",
       "text": [
        "\n",
        "https://www.ted.com/talks/yves_rossy_fly_with_the_jetman/transcript"
       ]
      },
      {
       "output_type": "stream",
       "stream": "stdout",
       "text": [
        "\n",
        "https://www.ted.com/talks/martin_pistorius_how_my_mind_came_back_to_life_and_no_one_knew/transcript"
       ]
      },
      {
       "output_type": "stream",
       "stream": "stdout",
       "text": [
        "\n",
        "https://www.ted.com/talks/elizabeth_lesser_take_the_other_to_lunch/transcript"
       ]
      },
      {
       "output_type": "stream",
       "stream": "stdout",
       "text": [
        "\n",
        "https://www.ted.com/talks/navi_radjou_creative_problem_solving_in_the_face_of_extreme_limits/transcript"
       ]
      },
      {
       "output_type": "stream",
       "stream": "stdout",
       "text": [
        "\n",
        "https://www.ted.com/talks/juan_enriquez_will_our_kids_be_a_different_species/transcript"
       ]
      },
      {
       "output_type": "stream",
       "stream": "stdout",
       "text": [
        "\n",
        "https://www.ted.com/talks/jinha_lee_a_tool_that_lets_you_touch_pixels/transcript"
       ]
      },
      {
       "output_type": "stream",
       "stream": "stdout",
       "text": [
        "\n",
        "https://www.ted.com/talks/randy_pausch_really_achieving_your_childhood_dreams/transcript"
       ]
      },
      {
       "output_type": "stream",
       "stream": "stdout",
       "text": [
        "\n",
        "https://www.ted.com/talks/avi_rubin_all_your_devices_can_be_hacked/transcript"
       ]
      },
      {
       "output_type": "stream",
       "stream": "stdout",
       "text": [
        "\n",
        "https://www.ted.com/talks/rob_hopkins_transition_to_a_world_without_oil/transcript"
       ]
      },
      {
       "output_type": "stream",
       "stream": "stdout",
       "text": [
        "\n",
        "https://www.ted.com/talks/simon_lewis_don_t_take_consciousness_for_granted/transcript"
       ]
      },
      {
       "output_type": "stream",
       "stream": "stdout",
       "text": [
        "\n",
        "https://www.ted.com/talks/freeman_dyson_says_let_s_look_for_life_in_the_outer_solar_system/transcript"
       ]
      },
      {
       "output_type": "stream",
       "stream": "stdout",
       "text": [
        "\n",
        "https://www.ted.com/talks/john_hardy_my_green_school_dream/transcript"
       ]
      },
      {
       "output_type": "stream",
       "stream": "stdout",
       "text": [
        "\n",
        "https://www.ted.com/talks/malcolm_gladwell_on_spaghetti_sauce/transcript"
       ]
      },
      {
       "output_type": "stream",
       "stream": "stdout",
       "text": [
        "\n",
        "https://www.ted.com/talks/diane_j_savino_the_case_for_same_sex_marriage/transcript"
       ]
      },
      {
       "output_type": "stream",
       "stream": "stdout",
       "text": [
        "\n",
        "https://www.ted.com/talks/jennifer_healey_if_cars_could_talk_accidents_might_be_avoidable/transcript"
       ]
      },
      {
       "output_type": "stream",
       "stream": "stdout",
       "text": [
        "\n",
        "https://www.ted.com/talks/hilary_cottam_social_services_are_broken_how_we_can_fix_them/transcript"
       ]
      },
      {
       "output_type": "stream",
       "stream": "stdout",
       "text": [
        "\n",
        "https://www.ted.com/talks/jacqueline_novogratz_on_an_escape_from_poverty/transcript"
       ]
      },
      {
       "output_type": "stream",
       "stream": "stdout",
       "text": [
        "\n",
        "https://www.ted.com/talks/wade_davis_on_endangered_cultures/transcript"
       ]
      },
      {
       "output_type": "stream",
       "stream": "stdout",
       "text": [
        "\n",
        "https://www.ted.com/talks/jehane_noujaim_inspires_a_global_day_of_film/transcript"
       ]
      },
      {
       "output_type": "stream",
       "stream": "stdout",
       "text": [
        "\n",
        "https://www.ted.com/talks/erik_brynjolfsson_the_key_to_growth_race_em_with_em_the_machines/transcript"
       ]
      },
      {
       "output_type": "stream",
       "stream": "stdout",
       "text": [
        "\n",
        "https://www.ted.com/talks/matthieu_ricard_on_the_habits_of_happiness/transcript"
       ]
      },
      {
       "output_type": "stream",
       "stream": "stdout",
       "text": [
        "\n",
        "https://www.ted.com/talks/saul_griffith_on_kites_as_the_future_of_renewable_energy/transcript"
       ]
      },
      {
       "output_type": "stream",
       "stream": "stdout",
       "text": [
        "\n",
        "https://www.ted.com/talks/clifford_stoll_on_everything/transcript"
       ]
      },
      {
       "output_type": "stream",
       "stream": "stdout",
       "text": [
        "\n",
        "https://www.ted.com/talks/david_agus_a_new_strategy_in_the_war_on_cancer/transcript"
       ]
      },
      {
       "output_type": "stream",
       "stream": "stdout",
       "text": [
        "\n",
        "https://www.ted.com/talks/lisa_kristine_glimpses_of_modern_day_slavery/transcript"
       ]
      },
      {
       "output_type": "stream",
       "stream": "stdout",
       "text": [
        "\n",
        "https://www.ted.com/talks/aditi_shankardass_a_second_opinion_on_learning_disorders/transcript"
       ]
      },
      {
       "output_type": "stream",
       "stream": "stdout",
       "text": [
        "\n",
        "https://www.ted.com/talks/jeff_hawkins_on_how_brain_science_will_change_computing/transcript"
       ]
      },
      {
       "output_type": "stream",
       "stream": "stdout",
       "text": [
        "\n",
        "https://www.ted.com/talks/niels_diffrient_rethinks_the_way_we_sit_at_work/transcript"
       ]
      },
      {
       "output_type": "stream",
       "stream": "stdout",
       "text": [
        "\n",
        "https://www.ted.com/talks/karen_bass_unseen_footage_untamed_nature/transcript"
       ]
      },
      {
       "output_type": "stream",
       "stream": "stdout",
       "text": [
        "\n",
        "https://www.ted.com/talks/vincent_moon_and_nana_vasconcelos_the_world_s_hidden_music_rituals/transcript"
       ]
      },
      {
       "output_type": "stream",
       "stream": "stdout",
       "text": [
        "\n",
        "https://www.ted.com/talks/david_mccandless_the_beauty_of_data_visualization/transcript"
       ]
      },
      {
       "output_type": "stream",
       "stream": "stdout",
       "text": [
        "\n",
        "https://www.ted.com/talks/greg_lynn_on_organic_design/transcript"
       ]
      },
      {
       "output_type": "stream",
       "stream": "stdout",
       "text": [
        "\n",
        "https://www.ted.com/talks/fred_swaniker_the_leaders_who_ruined_africa_and_the_generation_who_can_fix_it/transcript"
       ]
      },
      {
       "output_type": "stream",
       "stream": "stdout",
       "text": [
        "\n",
        "https://www.ted.com/talks/melinda_gates_let_s_put_birth_control_back_on_the_agenda/transcript"
       ]
      },
      {
       "output_type": "stream",
       "stream": "stdout",
       "text": [
        "\n",
        "https://www.ted.com/talks/how_much_does_a_video_weigh/transcript"
       ]
      },
      {
       "output_type": "stream",
       "stream": "stdout",
       "text": [
        "\n",
        "https://www.ted.com/talks/bran_ferren_to_create_for_the_ages_let_s_combine_art_and_engineering/transcript"
       ]
      },
      {
       "output_type": "stream",
       "stream": "stdout",
       "text": [
        "\n",
        "https://www.ted.com/talks/gary_flake_is_pivot_a_turning_point_for_web_exploration/transcript"
       ]
      },
      {
       "output_type": "stream",
       "stream": "stdout",
       "text": [
        "\n",
        "https://www.ted.com/talks/melissa_garren_the_sea_we_ve_hardly_seen/transcript"
       ]
      },
      {
       "output_type": "stream",
       "stream": "stdout",
       "text": [
        "\n",
        "https://www.ted.com/talks/brian_dettmer_old_books_reborn_as_intricate_art/transcript"
       ]
      },
      {
       "output_type": "stream",
       "stream": "stdout",
       "text": [
        "\n",
        "https://www.ted.com/talks/janet_iwasa_how_animations_can_help_scientists_test_a_hypothesis/transcript"
       ]
      },
      {
       "output_type": "stream",
       "stream": "stdout",
       "text": [
        "\n",
        "https://www.ted.com/talks/nancy_kanwisher_the_brain_is_a_swiss_army_knife/transcript"
       ]
      },
      {
       "output_type": "stream",
       "stream": "stdout",
       "text": [
        "\n",
        "https://www.ted.com/talks/diana_nyad_extreme_swimming_with_the_world_s_most_dangerous_jellyfish/transcript"
       ]
      },
      {
       "output_type": "stream",
       "stream": "stdout",
       "text": [
        "\n",
        "https://www.ted.com/talks/heather_barnett_what_humans_can_learn_from_semi_intelligent_slime_1/transcript"
       ]
      },
      {
       "output_type": "stream",
       "stream": "stdout",
       "text": [
        "\n",
        "https://www.ted.com/talks/eric_sanderson_pictures_new_york_before_the_city/transcript"
       ]
      },
      {
       "output_type": "stream",
       "stream": "stdout",
       "text": [
        "\n",
        "https://www.ted.com/talks/sanjay_pradhan_how_open_data_is_changing_international_aid/transcript"
       ]
      },
      {
       "output_type": "stream",
       "stream": "stdout",
       "text": [
        "\n",
        "https://www.ted.com/talks/margaret_stewart_how_youtube_thinks_about_copyright/transcript"
       ]
      },
      {
       "output_type": "stream",
       "stream": "stdout",
       "text": [
        "\n",
        "https://www.ted.com/talks/michael_moschen_juggles_rhythm_and_motion/transcript"
       ]
      },
      {
       "output_type": "stream",
       "stream": "stdout",
       "text": [
        "\n",
        "https://www.ted.com/talks/chris_urmson_how_a_driverless_car_sees_the_road/transcript"
       ]
      },
      {
       "output_type": "stream",
       "stream": "stdout",
       "text": [
        "\n",
        "https://www.ted.com/talks/tom_wujec_build_a_tower/transcript"
       ]
      },
      {
       "output_type": "stream",
       "stream": "stdout",
       "text": [
        "\n",
        "https://www.ted.com/talks/jamie_bartlett_how_the_mysterious_dark_net_is_going_mainstream/transcript"
       ]
      },
      {
       "output_type": "stream",
       "stream": "stdout",
       "text": [
        "\n",
        "https://www.ted.com/talks/nathan_wolfe_what_s_left_to_explore/transcript"
       ]
      },
      {
       "output_type": "stream",
       "stream": "stdout",
       "text": [
        "\n",
        "https://www.ted.com/talks/johanna_blakley_social_media_and_the_end_of_gender/transcript"
       ]
      },
      {
       "output_type": "stream",
       "stream": "stdout",
       "text": [
        "\n",
        "https://www.ted.com/talks/manuel_lima_a_visual_history_of_human_knowledge/transcript"
       ]
      },
      {
       "output_type": "stream",
       "stream": "stdout",
       "text": [
        "\n",
        "https://www.ted.com/talks/ed_yong_suicidal_wasps_zombie_roaches_and_other_tales_of_parasites/transcript"
       ]
      },
      {
       "output_type": "stream",
       "stream": "stdout",
       "text": [
        "\n",
        "https://www.ted.com/talks/richard_baraniuk_on_open_source_learning/transcript"
       ]
      },
      {
       "output_type": "stream",
       "stream": "stdout",
       "text": [
        "\n",
        "https://www.ted.com/talks/e_o_wilson_on_saving_life_on_earth/transcript"
       ]
      },
      {
       "output_type": "stream",
       "stream": "stdout",
       "text": [
        "\n",
        "https://www.ted.com/talks/faith_jegede_what_i_ve_learned_from_my_autistic_brothers/transcript"
       ]
      },
      {
       "output_type": "stream",
       "stream": "stdout",
       "text": [
        "\n",
        "https://www.ted.com/talks/wael_ghonim_let_s_design_social_media_that_drives_real_change/transcript"
       ]
      },
      {
       "output_type": "stream",
       "stream": "stdout",
       "text": [
        "\n",
        "https://www.ted.com/talks/kevin_rudd_are_china_and_the_us_doomed_to_conflict/transcript"
       ]
      },
      {
       "output_type": "stream",
       "stream": "stdout",
       "text": [
        "\n",
        "https://www.ted.com/talks/arthur_benjamin_does_mathemagic/transcript"
       ]
      },
      {
       "output_type": "stream",
       "stream": "stdout",
       "text": [
        "\n",
        "https://www.ted.com/talks/peter_reinhart_on_bread/transcript"
       ]
      },
      {
       "output_type": "stream",
       "stream": "stdout",
       "text": [
        "\n",
        "https://www.ted.com/talks/jamila_lyiscott_3_ways_to_speak_english/transcript"
       ]
      },
      {
       "output_type": "stream",
       "stream": "stdout",
       "text": [
        "\n",
        "https://www.ted.com/talks/steve_howard_let_s_go_all_in_on_selling_sustainability/transcript"
       ]
      },
      {
       "output_type": "stream",
       "stream": "stdout",
       "text": [
        "\n",
        "https://www.ted.com/talks/becci_manson_re_touching_lives_through_photos/transcript"
       ]
      },
      {
       "output_type": "stream",
       "stream": "stdout",
       "text": [
        "\n",
        "https://www.ted.com/talks/daniel_schnitzer_inventing_is_the_easy_part/transcript"
       ]
      },
      {
       "output_type": "stream",
       "stream": "stdout",
       "text": [
        "\n",
        "https://www.ted.com/talks/jennifer_doudna_we_can_now_edit_our_dna_but_let_s_do_it_wisely/transcript"
       ]
      },
      {
       "output_type": "stream",
       "stream": "stdout",
       "text": [
        "\n",
        "https://www.ted.com/talks/paul_stamets_on_6_ways_mushrooms_can_save_the_world/transcript"
       ]
      },
      {
       "output_type": "stream",
       "stream": "stdout",
       "text": [
        "\n",
        "https://www.ted.com/talks/george_dyson_on_project_orion/transcript"
       ]
      },
      {
       "output_type": "stream",
       "stream": "stdout",
       "text": [
        "\n",
        "https://www.ted.com/talks/al_vernacchio_sex_needs_a_new_metaphor_here_s_one/transcript"
       ]
      },
      {
       "output_type": "stream",
       "stream": "stdout",
       "text": [
        "\n",
        "https://www.ted.com/talks/meera_vijayann_find_your_voice_against_gender_violence/transcript"
       ]
      },
      {
       "output_type": "stream",
       "stream": "stdout",
       "text": [
        "\n",
        "https://www.ted.com/talks/jeffrey_kluger_the_sibling_bond/transcript"
       ]
      },
      {
       "output_type": "stream",
       "stream": "stdout",
       "text": [
        "\n",
        "https://www.ted.com/talks/thom_mayne_on_architecture_as_connection/transcript"
       ]
      },
      {
       "output_type": "stream",
       "stream": "stdout",
       "text": [
        "\n",
        "https://www.ted.com/talks/william_ury/transcript"
       ]
      },
      {
       "output_type": "stream",
       "stream": "stdout",
       "text": [
        "\n",
        "https://www.ted.com/talks/kirk_citron_and_now_the_real_news/transcript"
       ]
      },
      {
       "output_type": "stream",
       "stream": "stdout",
       "text": [
        "\n",
        "https://www.ted.com/talks/pawan_sinha_on_how_brains_learn_to_see/transcript"
       ]
      },
      {
       "output_type": "stream",
       "stream": "stdout",
       "text": [
        "\n",
        "https://www.ted.com/talks/sivamani_rhythm_is_everything_everywhere/transcript"
       ]
      },
      {
       "output_type": "stream",
       "stream": "stdout",
       "text": [
        "\n",
        "https://www.ted.com/talks/sendhil_mullainathan/transcript"
       ]
      },
      {
       "output_type": "stream",
       "stream": "stdout",
       "text": [
        "\n",
        "https://www.ted.com/talks/dan_meyer_math_curriculum_makeover/transcript"
       ]
      },
      {
       "output_type": "stream",
       "stream": "stdout",
       "text": [
        "\n",
        "https://www.ted.com/talks/marc_goodman_a_vision_of_crimes_in_the_future/transcript"
       ]
      },
      {
       "output_type": "stream",
       "stream": "stdout",
       "text": [
        "\n",
        "https://www.ted.com/talks/burt_rutan_sees_the_future_of_space/transcript"
       ]
      },
      {
       "output_type": "stream",
       "stream": "stdout",
       "text": [
        "\n",
        "https://www.ted.com/talks/jeff_iliff_one_more_reason_to_get_a_good_night_s_sleep/transcript"
       ]
      },
      {
       "output_type": "stream",
       "stream": "stdout",
       "text": [
        "\n",
        "https://www.ted.com/talks/shaka_senghor_why_your_worst_deeds_don_t_define_you/transcript"
       ]
      },
      {
       "output_type": "stream",
       "stream": "stdout",
       "text": [
        "\n",
        "https://www.ted.com/talks/pamela_meyer_how_to_spot_a_liar/transcript"
       ]
      },
      {
       "output_type": "stream",
       "stream": "stdout",
       "text": [
        "\n",
        "https://www.ted.com/talks/caroline_lavelle_casts_a_spell_on_cello/transcript"
       ]
      },
      {
       "output_type": "stream",
       "stream": "stdout",
       "text": [
        "\n",
        "https://www.ted.com/talks/doris_kim_sung_metal_that_breathes/transcript"
       ]
      },
      {
       "output_type": "stream",
       "stream": "stdout",
       "text": [
        "\n",
        "https://www.ted.com/talks/stewart_brand_proclaims_4_environmental_heresies/transcript"
       ]
      },
      {
       "output_type": "stream",
       "stream": "stdout",
       "text": [
        "\n",
        "https://www.ted.com/talks/jessi_arrington_wearing_nothing_new/transcript"
       ]
      },
      {
       "output_type": "stream",
       "stream": "stdout",
       "text": [
        "\n",
        "https://www.ted.com/talks/tod_machover_and_dan_ellsey_play_new_music/transcript"
       ]
      },
      {
       "output_type": "stream",
       "stream": "stdout",
       "text": [
        "\n",
        "https://www.ted.com/talks/nadia_al_sakkaf_see_yemen_through_my_eyes/transcript"
       ]
      },
      {
       "output_type": "stream",
       "stream": "stdout",
       "text": [
        "\n",
        "https://www.ted.com/talks/sarah_bergbreiter_why_i_make_robots_the_size_of_a_grain_of_rice/transcript"
       ]
      },
      {
       "output_type": "stream",
       "stream": "stdout",
       "text": [
        "\n",
        "https://www.ted.com/talks/shaffi_mather_a_new_way_to_fight_corruption/transcript"
       ]
      },
      {
       "output_type": "stream",
       "stream": "stdout",
       "text": [
        "\n",
        "https://www.ted.com/talks/antonio_donato_nobre_the_magic_of_the_amazon_a_river_that_flows_invisibly_all_around_us/transcript"
       ]
      },
      {
       "output_type": "stream",
       "stream": "stdout",
       "text": [
        "\n",
        "https://www.ted.com/talks/amy_webb_how_i_hacked_online_dating/transcript"
       ]
      },
      {
       "output_type": "stream",
       "stream": "stdout",
       "text": [
        "\n",
        "https://www.ted.com/talks/marcin_jakubowski/transcript"
       ]
      },
      {
       "output_type": "stream",
       "stream": "stdout",
       "text": [
        "\n",
        "https://www.ted.com/talks/bono_s_call_to_action_for_africa/transcript"
       ]
      },
      {
       "output_type": "stream",
       "stream": "stdout",
       "text": [
        "\n",
        "https://www.ted.com/talks/stephen_burt_why_people_need_poetry/transcript"
       ]
      },
      {
       "output_type": "stream",
       "stream": "stdout",
       "text": [
        "\n",
        "https://www.ted.com/talks/rokia_traore_sings_m_bifo/transcript"
       ]
      },
      {
       "output_type": "stream",
       "stream": "stdout",
       "text": [
        "\n",
        "https://www.ted.com/talks/shirin_neshat_art_in_exile/transcript"
       ]
      },
      {
       "output_type": "stream",
       "stream": "stdout",
       "text": [
        "\n",
        "https://www.ted.com/talks/jimmy_wales_on_the_birth_of_wikipedia/transcript"
       ]
      },
      {
       "output_type": "stream",
       "stream": "stdout",
       "text": [
        "\n",
        "https://www.ted.com/talks/james_patten_the_best_computer_interface_maybe_your_hands/transcript"
       ]
      },
      {
       "output_type": "stream",
       "stream": "stdout",
       "text": [
        "\n",
        "https://www.ted.com/talks/andres_lozano_parkinson_s_depression_and_the_switch_that_might_turn_them_off/transcript"
       ]
      },
      {
       "output_type": "stream",
       "stream": "stdout",
       "text": [
        "\n",
        "https://www.ted.com/talks/saki_mafundikwa_ingenuity_and_elegance_in_ancient_african_alphabets/transcript"
       ]
      },
      {
       "output_type": "stream",
       "stream": "stdout",
       "text": [
        "\n",
        "https://www.ted.com/talks/mohamed_ali_the_link_between_unemployment_and_terrorism/transcript"
       ]
      },
      {
       "output_type": "stream",
       "stream": "stdout",
       "text": [
        "\n",
        "https://www.ted.com/talks/pw_singer_on_robots_of_war/transcript"
       ]
      },
      {
       "output_type": "stream",
       "stream": "stdout",
       "text": [
        "\n",
        "https://www.ted.com/talks/dave_debronkart_meet_e_patient_dave/transcript"
       ]
      },
      {
       "output_type": "stream",
       "stream": "stdout",
       "text": [
        "\n",
        "https://www.ted.com/talks/dawn_landes_a_song_for_my_hero_the_woman_who_rowed_into_a_hurricane/transcript"
       ]
      },
      {
       "output_type": "stream",
       "stream": "stdout",
       "text": [
        "\n",
        "https://www.ted.com/talks/ngozi_okonjo_iweala_on_aid_versus_trade/transcript"
       ]
      },
      {
       "output_type": "stream",
       "stream": "stdout",
       "text": [
        "\n",
        "https://www.ted.com/talks/keith_barry_does_brain_magic/transcript"
       ]
      },
      {
       "output_type": "stream",
       "stream": "stdout",
       "text": [
        "\n",
        "https://www.ted.com/talks/dan_barber_how_i_fell_in_love_with_a_fish/transcript"
       ]
      },
      {
       "output_type": "stream",
       "stream": "stdout",
       "text": [
        "\n",
        "https://www.ted.com/talks/james_balog_time_lapse_proof_of_extreme_ice_loss/transcript"
       ]
      },
      {
       "output_type": "stream",
       "stream": "stdout",
       "text": [
        "\n",
        "https://www.ted.com/talks/bill_and_melinda_gates_why_giving_away_our_wealth_has_been_the_most_satisfying_thing_we_ve_done/transcript"
       ]
      },
      {
       "output_type": "stream",
       "stream": "stdout",
       "text": [
        "\n",
        "https://www.ted.com/talks/rory_stewart_how_to_rebuild_democracy/transcript"
       ]
      },
      {
       "output_type": "stream",
       "stream": "stdout",
       "text": [
        "\n",
        "https://www.ted.com/talks/nathan_myhrvold_cut_your_food_in_half/transcript"
       ]
      },
      {
       "output_type": "stream",
       "stream": "stdout",
       "text": [
        "\n",
        "https://www.ted.com/talks/ken_robinson_changing_education_paradigms/transcript"
       ]
      },
      {
       "output_type": "stream",
       "stream": "stdout",
       "text": [
        "\n",
        "https://www.ted.com/talks/robin_chase_on_zipcar_and_her_next_big_idea/transcript"
       ]
      },
      {
       "output_type": "stream",
       "stream": "stdout",
       "text": [
        "\n",
        "https://www.ted.com/talks/tony_wyss_coray_how_young_blood_might_help_reverse_aging_yes_really/transcript"
       ]
      },
      {
       "output_type": "stream",
       "stream": "stdout",
       "text": [
        "\n",
        "https://www.ted.com/talks/jose_bowen_beethoven_the_businessman/transcript"
       ]
      },
      {
       "output_type": "stream",
       "stream": "stdout",
       "text": [
        "\n",
        "https://www.ted.com/talks/andrew_solomon_how_the_worst_moments_in_our_lives_make_us_who_we_are/transcript"
       ]
      },
      {
       "output_type": "stream",
       "stream": "stdout",
       "text": [
        "\n",
        "https://www.ted.com/talks/paul_ewald_asks_can_we_domesticate_germs/transcript"
       ]
      },
      {
       "output_type": "stream",
       "stream": "stdout",
       "text": [
        "\n",
        "https://www.ted.com/talks/nicolas_perony_puppies_now_that_i_ve_got_your_attention_complexity_theory/transcript"
       ]
      },
      {
       "output_type": "stream",
       "stream": "stdout",
       "text": [
        "\n",
        "https://www.ted.com/talks/anna_deavere_smith_s_american_character/transcript"
       ]
      },
      {
       "output_type": "stream",
       "stream": "stdout",
       "text": [
        "\n",
        "https://www.ted.com/talks/paul_bloom_can_prejudice_ever_be_a_good_thing/transcript"
       ]
      },
      {
       "output_type": "stream",
       "stream": "stdout",
       "text": [
        "\n",
        "https://www.ted.com/talks/tan_le_a_headset_that_reads_your_brainwaves/transcript"
       ]
      },
      {
       "output_type": "stream",
       "stream": "stdout",
       "text": [
        "\n",
        "https://www.ted.com/talks/suzana_herculano_houzel_what_is_so_special_about_the_human_brain/transcript"
       ]
      },
      {
       "output_type": "stream",
       "stream": "stdout",
       "text": [
        "\n",
        "https://www.ted.com/talks/david_brooks_the_social_animal/transcript"
       ]
      },
      {
       "output_type": "stream",
       "stream": "stdout",
       "text": [
        "\n",
        "https://www.ted.com/talks/ken_robinson_says_schools_kill_creativity/transcript"
       ]
      },
      {
       "output_type": "stream",
       "stream": "stdout",
       "text": [
        "\n",
        "https://www.ted.com/talks/danny_hillis_back_to_the_future_of_1994/transcript"
       ]
      },
      {
       "output_type": "stream",
       "stream": "stdout",
       "text": [
        "\n",
        "https://www.ted.com/talks/sandra_aamodt_why_dieting_doesn_t_usually_work/transcript"
       ]
      },
      {
       "output_type": "stream",
       "stream": "stdout",
       "text": [
        "\n",
        "https://www.ted.com/talks/anil_ananthaswamy/transcript"
       ]
      },
      {
       "output_type": "stream",
       "stream": "stdout",
       "text": [
        "\n",
        "https://www.ted.com/talks/david_carson_on_design/transcript"
       ]
      },
      {
       "output_type": "stream",
       "stream": "stdout",
       "text": [
        "\n",
        "https://www.ted.com/talks/dianna_cohen_tough_truths_about_plastic_pollution/transcript"
       ]
      },
      {
       "output_type": "stream",
       "stream": "stdout",
       "text": [
        "\n",
        "https://www.ted.com/talks/chris_hadfield_what_i_learned_from_going_blind_in_space/transcript"
       ]
      },
      {
       "output_type": "stream",
       "stream": "stdout",
       "text": [
        "\n",
        "https://www.ted.com/talks/martin_jacques_understanding_the_rise_of_china/transcript"
       ]
      },
      {
       "output_type": "stream",
       "stream": "stdout",
       "text": [
        "\n",
        "https://www.ted.com/talks/eric_berlow_and_sean_gourley_mapping_ideas_worth_spreading/transcript"
       ]
      },
      {
       "output_type": "stream",
       "stream": "stdout",
       "text": [
        "\n",
        "https://www.ted.com/talks/eddie_obeng_smart_failure_for_a_fast_changing_world/transcript"
       ]
      },
      {
       "output_type": "stream",
       "stream": "stdout",
       "text": [
        "\n",
        "https://www.ted.com/talks/teitur_home_is_a_song_i_ve_always_remembered/transcript"
       ]
      },
      {
       "output_type": "stream",
       "stream": "stdout",
       "text": [
        "\n",
        "https://www.ted.com/talks/dee_boersma_pay_attention_to_penguins/transcript"
       ]
      },
      {
       "output_type": "stream",
       "stream": "stdout",
       "text": [
        "\n",
        "https://www.ted.com/talks/paula_scher_gets_serious/transcript"
       ]
      },
      {
       "output_type": "stream",
       "stream": "stdout",
       "text": [
        "\n",
        "https://www.ted.com/talks/rob_legato_the_art_of_creating_awe/transcript"
       ]
      },
      {
       "output_type": "stream",
       "stream": "stdout",
       "text": [
        "\n",
        "https://www.ted.com/talks/thomas_suarez_a_12_year_old_app_developer/transcript"
       ]
      },
      {
       "output_type": "stream",
       "stream": "stdout",
       "text": [
        "\n",
        "https://www.ted.com/talks/tim_berners_lee_the_year_open_data_went_worldwide/transcript"
       ]
      },
      {
       "output_type": "stream",
       "stream": "stdout",
       "text": [
        "\n",
        "https://www.ted.com/talks/chip_conley_measuring_what_makes_life_worthwhile/transcript"
       ]
      },
      {
       "output_type": "stream",
       "stream": "stdout",
       "text": [
        "\n",
        "https://www.ted.com/talks/laura_trice_suggests_we_all_say_thank_you/transcript"
       ]
      },
      {
       "output_type": "stream",
       "stream": "stdout",
       "text": [
        "\n",
        "https://www.ted.com/talks/dustin_yellin_a_journey_through_the_mind_of_an_artist/transcript"
       ]
      },
      {
       "output_type": "stream",
       "stream": "stdout",
       "text": [
        "\n",
        "https://www.ted.com/talks/charles_leadbeater_on_innovation/transcript"
       ]
      },
      {
       "output_type": "stream",
       "stream": "stdout",
       "text": [
        "\n",
        "https://www.ted.com/talks/larry_smith_why_you_will_fail_to_have_a_great_career/transcript"
       ]
      },
      {
       "output_type": "stream",
       "stream": "stdout",
       "text": [
        "\n",
        "https://www.ted.com/talks/stewart_brand_on_the_long_now/transcript"
       ]
      },
      {
       "output_type": "stream",
       "stream": "stdout",
       "text": [
        "\n",
        "https://www.ted.com/talks/ken_goldberg_4_lessons_from_robots_about_being_human/transcript"
       ]
      },
      {
       "output_type": "stream",
       "stream": "stdout",
       "text": [
        "\n",
        "https://www.ted.com/talks/jenna_mccarthy_what_you_don_t_know_about_marriage/transcript"
       ]
      },
      {
       "output_type": "stream",
       "stream": "stdout",
       "text": [
        "\n",
        "https://www.ted.com/talks/david_eagleman_can_we_create_new_senses_for_humans/transcript"
       ]
      },
      {
       "output_type": "stream",
       "stream": "stdout",
       "text": [
        "\n",
        "https://www.ted.com/talks/ric_elias/transcript"
       ]
      },
      {
       "output_type": "stream",
       "stream": "stdout",
       "text": [
        "\n",
        "https://www.ted.com/talks/nirmalya_kumar_india_s_invisible_entrepreneurs/transcript"
       ]
      },
      {
       "output_type": "stream",
       "stream": "stdout",
       "text": [
        "\n",
        "https://www.ted.com/talks/malcolm_gladwell/transcript"
       ]
      },
      {
       "output_type": "stream",
       "stream": "stdout",
       "text": [
        "\n",
        "https://www.ted.com/talks/shih_chieh_huang_sculptures_that_d_be_at_home_at_the_bottom_of_the_ocean/transcript"
       ]
      },
      {
       "output_type": "stream",
       "stream": "stdout",
       "text": [
        "\n",
        "https://www.ted.com/talks/christopher_mcdougall_are_we_born_to_run/transcript"
       ]
      },
      {
       "output_type": "stream",
       "stream": "stdout",
       "text": [
        "\n",
        "https://www.ted.com/talks/blaise_aguera_y_arcas_demos_photosynth/transcript"
       ]
      },
      {
       "output_type": "stream",
       "stream": "stdout",
       "text": [
        "\n",
        "https://www.ted.com/talks/charmian_gooch_meet_global_corruption_s_hidden_players/transcript"
       ]
      },
      {
       "output_type": "stream",
       "stream": "stdout",
       "text": [
        "\n",
        "https://www.ted.com/talks/natalie_macmaster_fiddles_in_reel_time/transcript"
       ]
      },
      {
       "output_type": "stream",
       "stream": "stdout",
       "text": [
        "\n",
        "https://www.ted.com/talks/erik_johansson_impossible_photography/transcript"
       ]
      },
      {
       "output_type": "stream",
       "stream": "stdout",
       "text": [
        "\n",
        "https://www.ted.com/talks/eduardo_paes_the_4_commandments_of_cities/transcript"
       ]
      },
      {
       "output_type": "stream",
       "stream": "stdout",
       "text": [
        "\n",
        "https://www.ted.com/talks/garth_lenz_images_of_beauty_and_devastation/transcript"
       ]
      },
      {
       "output_type": "stream",
       "stream": "stdout",
       "text": [
        "\n",
        "https://www.ted.com/talks/hillel_cooperman_legos_for_grownups/transcript"
       ]
      },
      {
       "output_type": "stream",
       "stream": "stdout",
       "text": [
        "\n",
        "https://www.ted.com/talks/ron_gutman_the_hidden_power_of_smiling/transcript"
       ]
      },
      {
       "output_type": "stream",
       "stream": "stdout",
       "text": [
        "\n",
        "https://www.ted.com/talks/jay_bradner_open_source_cancer_research/transcript"
       ]
      },
      {
       "output_type": "stream",
       "stream": "stdout",
       "text": [
        "\n",
        "https://www.ted.com/talks/james_forbes/transcript"
       ]
      },
      {
       "output_type": "stream",
       "stream": "stdout",
       "text": [
        "\n",
        "https://www.ted.com/talks/rich_benjamin_my_road_trip_through_the_whitest_towns_in_america/transcript"
       ]
      },
      {
       "output_type": "stream",
       "stream": "stdout",
       "text": [
        "\n",
        "https://www.ted.com/talks/kevin_breel_confessions_of_a_depressed_comic/transcript"
       ]
      },
      {
       "output_type": "stream",
       "stream": "stdout",
       "text": [
        "\n",
        "https://www.ted.com/talks/shai_agassi_on_electric_cars/transcript"
       ]
      },
      {
       "output_type": "stream",
       "stream": "stdout",
       "text": [
        "\n",
        "https://www.ted.com/talks/paolo_cardini_forget_multitasking_try_monotasking/transcript"
       ]
      },
      {
       "output_type": "stream",
       "stream": "stdout",
       "text": [
        "\n",
        "https://www.ted.com/talks/liza_donnelly_drawing_upon_humor_for_change/transcript"
       ]
      },
      {
       "output_type": "stream",
       "stream": "stdout",
       "text": [
        "\n",
        "https://www.ted.com/talks/brian_cox_why_we_need_the_explorers/transcript"
       ]
      },
      {
       "output_type": "stream",
       "stream": "stdout",
       "text": [
        "\n",
        "https://www.ted.com/talks/van_jones_the_economic_injustice_of_plastic/transcript"
       ]
      },
      {
       "output_type": "stream",
       "stream": "stdout",
       "text": [
        "\n",
        "https://www.ted.com/talks/lucianne_walkowicz_finding_planets_around_other_stars/transcript"
       ]
      },
      {
       "output_type": "stream",
       "stream": "stdout",
       "text": [
        "\n",
        "https://www.ted.com/talks/oren_yakobovich_hidden_cameras_that_film_injustice_in_the_world_s_most_dangerous_places/transcript"
       ]
      },
      {
       "output_type": "stream",
       "stream": "stdout",
       "text": [
        "\n",
        "https://www.ted.com/talks/asha_de_vos_why_you_should_care_about_whale_poo/transcript"
       ]
      },
      {
       "output_type": "stream",
       "stream": "stdout",
       "text": [
        "\n",
        "https://www.ted.com/talks/joe_madiath_better_toilets_better_life/transcript"
       ]
      },
      {
       "output_type": "stream",
       "stream": "stdout",
       "text": [
        "\n",
        "https://www.ted.com/talks/bassam_tariq_the_beauty_and_diversity_of_muslim_life/transcript"
       ]
      },
      {
       "output_type": "stream",
       "stream": "stdout",
       "text": [
        "\n",
        "https://www.ted.com/talks/scilla_elworthy_fighting_with_non_violence/transcript"
       ]
      },
      {
       "output_type": "stream",
       "stream": "stdout",
       "text": [
        "\n",
        "https://www.ted.com/talks/richard_dawkins_on_militant_atheism/transcript"
       ]
      },
      {
       "output_type": "stream",
       "stream": "stdout",
       "text": [
        "\n",
        "https://www.ted.com/talks/herbie_hancock_s_all_star_set/transcript"
       ]
      },
      {
       "output_type": "stream",
       "stream": "stdout",
       "text": [
        "\n",
        "https://www.ted.com/talks/stanley_mcchrystal/transcript"
       ]
      },
      {
       "output_type": "stream",
       "stream": "stdout",
       "text": [
        "\n",
        "https://www.ted.com/talks/stephen_ritz_a_teacher_growing_green_in_the_south_bronx/transcript"
       ]
      },
      {
       "output_type": "stream",
       "stream": "stdout",
       "text": [
        "\n",
        "https://www.ted.com/talks/stefan_sagmeister_shares_happy_design/transcript"
       ]
      },
      {
       "output_type": "stream",
       "stream": "stdout",
       "text": [
        "\n",
        "https://www.ted.com/talks/ramona_pierson_an_unexpected_place_of_healing/transcript"
       ]
      },
      {
       "output_type": "stream",
       "stream": "stdout",
       "text": [
        "\n",
        "https://www.ted.com/talks/jack_horner_building_a_dinosaur_from_a_chicken/transcript"
       ]
      },
      {
       "output_type": "stream",
       "stream": "stdout",
       "text": [
        "\n",
        "https://www.ted.com/talks/niall_ferguson_the_6_killer_apps_of_prosperity/transcript"
       ]
      },
      {
       "output_type": "stream",
       "stream": "stdout",
       "text": [
        "\n",
        "https://www.ted.com/talks/trevor_aaronson_how_this_fbi_strategy_is_actually_creating_us_based_terrorists/transcript"
       ]
      },
      {
       "output_type": "stream",
       "stream": "stdout",
       "text": [
        "\n",
        "https://www.ted.com/talks/andras_forgacs_leather_and_meat_without_killing_animals/transcript"
       ]
      },
      {
       "output_type": "stream",
       "stream": "stdout",
       "text": [
        "\n",
        "https://www.ted.com/talks/leymah_gbowee_unlock_the_intelligence_passion_greatness_of_girls/transcript"
       ]
      },
      {
       "output_type": "stream",
       "stream": "stdout",
       "text": [
        "\n",
        "https://www.ted.com/talks/lee_mokobe_a_powerful_poem_about_what_it_feels_like_to_be_transgender/transcript"
       ]
      },
      {
       "output_type": "stream",
       "stream": "stdout",
       "text": [
        "\n",
        "https://www.ted.com/talks/fredy_peccerelli_a_forensic_anthropologist_who_brings_closure_for_the_disappeared/transcript"
       ]
      },
      {
       "output_type": "stream",
       "stream": "stdout",
       "text": [
        "\n",
        "https://www.ted.com/talks/malcolm_gladwell_the_unheard_story_of_david_and_goliath/transcript"
       ]
      },
      {
       "output_type": "stream",
       "stream": "stdout",
       "text": [
        "\n",
        "https://www.ted.com/talks/kathryn_schulz_on_being_wrong/transcript"
       ]
      },
      {
       "output_type": "stream",
       "stream": "stdout",
       "text": [
        "\n",
        "https://www.ted.com/talks/guy_hoffman_robots_with_soul/transcript"
       ]
      },
      {
       "output_type": "stream",
       "stream": "stdout",
       "text": [
        "\n",
        "https://www.ted.com/talks/chris_bliss_comedy_is_translation/transcript"
       ]
      },
      {
       "output_type": "stream",
       "stream": "stdout",
       "text": [
        "\n",
        "https://www.ted.com/talks/nicholas_christakis_how_social_networks_predict_epidemics/transcript"
       ]
      },
      {
       "output_type": "stream",
       "stream": "stdout",
       "text": [
        "\n",
        "https://www.ted.com/talks/iwan_baan_ingenious_homes_in_unexpected_places/transcript"
       ]
      },
      {
       "output_type": "stream",
       "stream": "stdout",
       "text": [
        "\n",
        "https://www.ted.com/talks/suheir_hammad_poems_of_war_peace_women_power/transcript"
       ]
      },
      {
       "output_type": "stream",
       "stream": "stdout",
       "text": [
        "\n",
        "https://www.ted.com/talks/neil_harbisson_i_listen_to_color/transcript"
       ]
      },
      {
       "output_type": "stream",
       "stream": "stdout",
       "text": [
        "\n",
        "https://www.ted.com/talks/katherine_fulton_you_are_the_future_of_philanthropy/transcript"
       ]
      },
      {
       "output_type": "stream",
       "stream": "stdout",
       "text": [
        "\n",
        "https://www.ted.com/talks/sting_how_i_started_writing_songs_again/transcript"
       ]
      },
      {
       "output_type": "stream",
       "stream": "stdout",
       "text": [
        "\n",
        "https://www.ted.com/talks/james_surowiecki_on_the_turning_point_for_social_media/transcript"
       ]
      },
      {
       "output_type": "stream",
       "stream": "stdout",
       "text": [
        "\n",
        "https://www.ted.com/talks/dan_ariely_on_our_buggy_moral_code/transcript"
       ]
      },
      {
       "output_type": "stream",
       "stream": "stdout",
       "text": [
        "\n",
        "https://www.ted.com/talks/sebastian_deterding_what_your_designs_say_about_you/transcript"
       ]
      },
      {
       "output_type": "stream",
       "stream": "stdout",
       "text": [
        "\n",
        "https://www.ted.com/talks/alexis_ohanian_how_to_make_a_splash_in_social_media/transcript"
       ]
      },
      {
       "output_type": "stream",
       "stream": "stdout",
       "text": [
        "\n",
        "https://www.ted.com/talks/carl_schoonover_how_to_look_inside_the_brain/transcript"
       ]
      },
      {
       "output_type": "stream",
       "stream": "stdout",
       "text": [
        "\n",
        "https://www.ted.com/talks/david_sengeh_the_sore_problem_of_prosthetic_limbs/transcript"
       ]
      },
      {
       "output_type": "stream",
       "stream": "stdout",
       "text": [
        "\n",
        "https://www.ted.com/talks/ben_goldacre_battling_bad_science/transcript"
       ]
      },
      {
       "output_type": "stream",
       "stream": "stdout",
       "text": [
        "\n",
        "https://www.ted.com/talks/naturally_7_jams_fly_baby_with_an_orchestra_of_vocals/transcript"
       ]
      },
      {
       "output_type": "stream",
       "stream": "stdout",
       "text": [
        "\n",
        "https://www.ted.com/talks/khalida_brohi_how_i_work_to_protect_women_from_honor_killings/transcript"
       ]
      },
      {
       "output_type": "stream",
       "stream": "stdout",
       "text": [
        "\n",
        "https://www.ted.com/talks/sanjay_dastoor_a_skateboard_with_a_boost/transcript"
       ]
      },
      {
       "output_type": "stream",
       "stream": "stdout",
       "text": [
        "\n",
        "https://www.ted.com/talks/julian_treasure_5_ways_to_listen_better/transcript"
       ]
      },
      {
       "output_type": "stream",
       "stream": "stdout",
       "text": [
        "\n",
        "https://www.ted.com/talks/maysoon_zayid_i_got_99_problems_palsy_is_just_one/transcript"
       ]
      },
      {
       "output_type": "stream",
       "stream": "stdout",
       "text": [
        "\n",
        "https://www.ted.com/talks/michel_laberge_how_synchronized_hammer_strikes_could_generate_nuclear_fusion/transcript"
       ]
      },
      {
       "output_type": "stream",
       "stream": "stdout",
       "text": [
        "\n",
        "https://www.ted.com/talks/eva_vertes_looks_to_the_future_of_medicine/transcript"
       ]
      },
      {
       "output_type": "stream",
       "stream": "stdout",
       "text": [
        "\n",
        "https://www.ted.com/talks/david_christian_big_history/transcript"
       ]
      },
      {
       "output_type": "stream",
       "stream": "stdout",
       "text": [
        "\n",
        "https://www.ted.com/talks/raymond_wang_how_germs_travel_on_planes_and_how_we_can_stop_them/transcript"
       ]
      },
      {
       "output_type": "stream",
       "stream": "stdout",
       "text": [
        "\n",
        "https://www.ted.com/talks/helder_guimaraes_a_magical_search_for_a_coincidence/transcript"
       ]
      },
      {
       "output_type": "stream",
       "stream": "stdout",
       "text": [
        "\n",
        "https://www.ted.com/talks/ivan_krastev_can_democracy_exist_without_trust/transcript"
       ]
      },
      {
       "output_type": "stream",
       "stream": "stdout",
       "text": [
        "\n",
        "https://www.ted.com/talks/marco_tempest_a_cyber_magic_card_trick_like_no_other/transcript"
       ]
      },
      {
       "output_type": "stream",
       "stream": "stdout",
       "text": [
        "\n",
        "https://www.ted.com/talks/nina_tandon_caring_for_cells/transcript"
       ]
      },
      {
       "output_type": "stream",
       "stream": "stdout",
       "text": [
        "\n",
        "https://www.ted.com/talks/stefan_larsson_what_doctors_can_learn_from_each_other/transcript"
       ]
      },
      {
       "output_type": "stream",
       "stream": "stdout",
       "text": [
        "\n",
        "https://www.ted.com/talks/anas_aremeyaw_anas_how_i_named_shamed_and_jailed/transcript"
       ]
      },
      {
       "output_type": "stream",
       "stream": "stdout",
       "text": [
        "\n",
        "https://www.ted.com/talks/hans_rosling_religions_and_babies/transcript"
       ]
      },
      {
       "output_type": "stream",
       "stream": "stdout",
       "text": [
        "\n",
        "https://www.ted.com/talks/abe_davis_new_video_technology_that_reveals_an_object_s_hidden_properties/transcript"
       ]
      },
      {
       "output_type": "stream",
       "stream": "stdout",
       "text": [
        "\n",
        "https://www.ted.com/talks/al_gore_on_averting_climate_crisis/transcript"
       ]
      },
      {
       "output_type": "stream",
       "stream": "stdout",
       "text": [
        "\n",
        "https://www.ted.com/talks/michael_metcalfe_we_need_money_for_aid_so_let_s_print_it/transcript"
       ]
      },
      {
       "output_type": "stream",
       "stream": "stdout",
       "text": [
        "\n",
        "https://www.ted.com/talks/janine_benyus_shares_nature_s_designs/transcript"
       ]
      },
      {
       "output_type": "stream",
       "stream": "stdout",
       "text": [
        "\n",
        "https://www.ted.com/talks/joshua_foer_feats_of_memory_anyone_can_do/transcript"
       ]
      },
      {
       "output_type": "stream",
       "stream": "stdout",
       "text": [
        "\n",
        "https://www.ted.com/talks/robin_chase_excuse_me_may_i_rent_your_car/transcript"
       ]
      },
      {
       "output_type": "stream",
       "stream": "stdout",
       "text": [
        "\n",
        "https://www.ted.com/talks/marco_tempest_a_magical_tale_with_augmented_reality/transcript"
       ]
      },
      {
       "output_type": "stream",
       "stream": "stdout",
       "text": [
        "\n",
        "https://www.ted.com/talks/antonio_damasio_the_quest_to_understand_consciousness/transcript"
       ]
      },
      {
       "output_type": "stream",
       "stream": "stdout",
       "text": [
        "\n",
        "https://www.ted.com/talks/charles_elachi_on_the_mars_rovers/transcript"
       ]
      },
      {
       "output_type": "stream",
       "stream": "stdout",
       "text": [
        "\n",
        "https://www.ted.com/talks/dean_ornish_on_healing/transcript"
       ]
      },
      {
       "output_type": "stream",
       "stream": "stdout",
       "text": [
        "\n",
        "https://www.ted.com/talks/stewart_brand_the_dawn_of_de_extinction_are_you_ready/transcript"
       ]
      },
      {
       "output_type": "stream",
       "stream": "stdout",
       "text": [
        "\n",
        "https://www.ted.com/talks/steven_johnson_on_the_web_as_a_city/transcript"
       ]
      },
      {
       "output_type": "stream",
       "stream": "stdout",
       "text": [
        "\n",
        "https://www.ted.com/talks/phil_plait_how_to_defend_earth_from_asteroids/transcript"
       ]
      },
      {
       "output_type": "stream",
       "stream": "stdout",
       "text": [
        "\n",
        "https://www.ted.com/talks/alberto_cairo_there_are_no_scraps_of_men/transcript"
       ]
      },
      {
       "output_type": "stream",
       "stream": "stdout",
       "text": [
        "\n",
        "https://www.ted.com/talks/nick_veasey_exposing_the_invisible_1/transcript"
       ]
      },
      {
       "output_type": "stream",
       "stream": "stdout",
       "text": [
        "\n",
        "https://www.ted.com/talks/juan_enriquez_on_genomics_and_our_future/transcript"
       ]
      },
      {
       "output_type": "stream",
       "stream": "stdout",
       "text": [
        "\n",
        "https://www.ted.com/talks/ross_lovegrove_shares_organic_designs/transcript"
       ]
      },
      {
       "output_type": "stream",
       "stream": "stdout",
       "text": [
        "\n",
        "https://www.ted.com/talks/michael_anti_behind_the_great_firewall_of_china/transcript"
       ]
      },
      {
       "output_type": "stream",
       "stream": "stdout",
       "text": [
        "\n",
        "https://www.ted.com/talks/alwar_balasubramaniam_sculpture_of_substance_and_absence/transcript"
       ]
      },
      {
       "output_type": "stream",
       "stream": "stdout",
       "text": [
        "\n",
        "https://www.ted.com/talks/ellen_jorgensen_biohacking_you_can_do_it_too/transcript"
       ]
      },
      {
       "output_type": "stream",
       "stream": "stdout",
       "text": [
        "\n",
        "https://www.ted.com/talks/ian_goldin_navigating_our_global_future/transcript"
       ]
      },
      {
       "output_type": "stream",
       "stream": "stdout",
       "text": [
        "\n",
        "https://www.ted.com/talks/amanda_burden_how_public_spaces_make_cities_work/transcript"
       ]
      },
      {
       "output_type": "stream",
       "stream": "stdout",
       "text": [
        "\n",
        "https://www.ted.com/talks/david_lang_my_underwater_robot/transcript"
       ]
      },
      {
       "output_type": "stream",
       "stream": "stdout",
       "text": [
        "\n",
        "https://www.ted.com/talks/natalie_jeremijenko_the_art_of_the_eco_mindshift/transcript"
       ]
      },
      {
       "output_type": "stream",
       "stream": "stdout",
       "text": [
        "\n",
        "https://www.ted.com/talks/hasan_elahi/transcript"
       ]
      },
      {
       "output_type": "stream",
       "stream": "stdout",
       "text": [
        "\n",
        "https://www.ted.com/talks/richard_feynman/transcript"
       ]
      },
      {
       "output_type": "stream",
       "stream": "stdout",
       "text": [
        "\n",
        "https://www.ted.com/talks/reggie_watts_disorients_you_in_the_most_entertaining_way/transcript"
       ]
      },
      {
       "output_type": "stream",
       "stream": "stdout",
       "text": [
        "\n",
        "https://www.ted.com/talks/gregory_petsko_on_the_coming_neurological_epidemic/transcript"
       ]
      },
      {
       "output_type": "stream",
       "stream": "stdout",
       "text": [
        "\n",
        "https://www.ted.com/talks/rory_sutherland_life_lessons_from_an_ad_man/transcript"
       ]
      },
      {
       "output_type": "stream",
       "stream": "stdout",
       "text": [
        "\n",
        "https://www.ted.com/talks/andrew_fitzgerald_adventures_in_twitter_fiction/transcript"
       ]
      },
      {
       "output_type": "stream",
       "stream": "stdout",
       "text": [
        "\n",
        "https://www.ted.com/talks/stuart_brown_says_play_is_more_than_fun_it_s_vital/transcript"
       ]
      },
      {
       "output_type": "stream",
       "stream": "stdout",
       "text": [
        "\n",
        "https://www.ted.com/talks/tom_chatfield_7_ways_games_reward_the_brain/transcript"
       ]
      },
      {
       "output_type": "stream",
       "stream": "stdout",
       "text": [
        "\n",
        "https://www.ted.com/talks/bandi_mbubi_demand_a_fair_trade_cell_phone/transcript"
       ]
      },
      {
       "output_type": "stream",
       "stream": "stdout",
       "text": [
        "\n",
        "https://www.ted.com/talks/gary_lauder_s_new_traffic_sign_take_turns/transcript"
       ]
      },
      {
       "output_type": "stream",
       "stream": "stdout",
       "text": [
        "\n",
        "https://www.ted.com/talks/jennifer_senior_for_parents_happiness_is_a_very_high_bar/transcript"
       ]
      },
      {
       "output_type": "stream",
       "stream": "stdout",
       "text": [
        "\n",
        "https://www.ted.com/talks/aparna_rao_art_that_craves_your_attention/transcript"
       ]
      },
      {
       "output_type": "stream",
       "stream": "stdout",
       "text": [
        "\n",
        "https://www.ted.com/talks/cynthia_kenyon_experiments_that_hint_of_longer_lives/transcript"
       ]
      },
      {
       "output_type": "stream",
       "stream": "stdout",
       "text": [
        "\n",
        "https://www.ted.com/talks/christopher_emdin_teach_teachers_how_to_create_magic/transcript"
       ]
      },
      {
       "output_type": "stream",
       "stream": "stdout",
       "text": [
        "\n",
        "https://www.ted.com/talks/stefon_harris_there_are_no_mistakes_on_the_bandstand/transcript"
       ]
      },
      {
       "output_type": "stream",
       "stream": "stdout",
       "text": [
        "\n",
        "https://www.ted.com/talks/will_potter_the_shocking_move_to_criminalize_non_violent_protest/transcript"
       ]
      },
      {
       "output_type": "stream",
       "stream": "stdout",
       "text": [
        "\n",
        "https://www.ted.com/talks/mark_plotkin_what_the_people_of_the_amazon_know_that_you_don_t/transcript"
       ]
      },
      {
       "output_type": "stream",
       "stream": "stdout",
       "text": [
        "\n",
        "https://www.ted.com/talks/colin_powell_kids_need_structure/transcript"
       ]
      },
      {
       "output_type": "stream",
       "stream": "stdout",
       "text": [
        "\n",
        "https://www.ted.com/talks/anupam_mishra_the_ancient_ingenuity_of_water_harvesting/transcript"
       ]
      },
      {
       "output_type": "stream",
       "stream": "stdout",
       "text": [
        "\n",
        "https://www.ted.com/talks/laurel_braitman_depressed_dogs_cats_with_ocd_what_animal_madness_means_for_us_humans/transcript"
       ]
      },
      {
       "output_type": "stream",
       "stream": "stdout",
       "text": [
        "\n",
        "https://www.ted.com/talks/temple_grandin_the_world_needs_all_kinds_of_minds/transcript"
       ]
      },
      {
       "output_type": "stream",
       "stream": "stdout",
       "text": [
        "\n",
        "https://www.ted.com/talks/arvind_gupta_turning_trash_into_toys_for_learning/transcript"
       ]
      },
      {
       "output_type": "stream",
       "stream": "stdout",
       "text": [
        "\n",
        "https://www.ted.com/talks/two_young_scientists_break_down_plastics_with_bacteria/transcript"
       ]
      },
      {
       "output_type": "stream",
       "stream": "stdout",
       "text": [
        "\n",
        "https://www.ted.com/talks/mikko_hypponen_how_the_nsa_betrayed_the_world_s_trust_time_to_act/transcript"
       ]
      },
      {
       "output_type": "stream",
       "stream": "stdout",
       "text": [
        "\n",
        "https://www.ted.com/talks/rana_el_kaliouby_this_app_knows_how_you_feel_from_the_look_on_your_face/transcript"
       ]
      },
      {
       "output_type": "stream",
       "stream": "stdout",
       "text": [
        "\n",
        "https://www.ted.com/talks/dean_ornish_on_the_world_s_killer_diet/transcript"
       ]
      },
      {
       "output_type": "stream",
       "stream": "stdout",
       "text": [
        "\n",
        "https://www.ted.com/talks/ismael_nazario_what_i_learned_as_a_kid_in_jail/transcript"
       ]
      },
      {
       "output_type": "stream",
       "stream": "stdout",
       "text": [
        "\n",
        "https://www.ted.com/talks/inge_missmahl_brings_peace_to_the_minds_of_afghanistan/transcript"
       ]
      },
      {
       "output_type": "stream",
       "stream": "stdout",
       "text": [
        "\n",
        "https://www.ted.com/talks/jon_ronson_strange_answers_to_the_psychopath_test/transcript"
       ]
      },
      {
       "output_type": "stream",
       "stream": "stdout",
       "text": [
        "\n",
        "https://www.ted.com/talks/allan_adams_the_discovery_that_could_rewrite_physics/transcript"
       ]
      },
      {
       "output_type": "stream",
       "stream": "stdout",
       "text": [
        "\n",
        "https://www.ted.com/talks/adam_spencer_why_i_fell_in_love_with_monster_prime_numbers/transcript"
       ]
      },
      {
       "output_type": "stream",
       "stream": "stdout",
       "text": [
        "\n",
        "https://www.ted.com/talks/jeffrey_brown_how_we_cut_youth_violence_in_boston_by_79_percent/transcript"
       ]
      },
      {
       "output_type": "stream",
       "stream": "stdout",
       "text": [
        "\n",
        "https://www.ted.com/talks/mark_applebaum_the_mad_scientist_of_music/transcript"
       ]
      },
      {
       "output_type": "stream",
       "stream": "stdout",
       "text": [
        "\n",
        "https://www.ted.com/talks/enrique_penalosa_why_buses_represent_democracy_in_action/transcript"
       ]
      },
      {
       "output_type": "stream",
       "stream": "stdout",
       "text": [
        "\n",
        "https://www.ted.com/talks/jake_barton_the_museum_of_you/transcript"
       ]
      },
      {
       "output_type": "stream",
       "stream": "stdout",
       "text": [
        "\n",
        "https://www.ted.com/talks/dave_eggers_makes_his_ted_prize_wish_once_upon_a_school/transcript"
       ]
      },
      {
       "output_type": "stream",
       "stream": "stdout",
       "text": [
        "\n",
        "https://www.ted.com/talks/lz_granderson_the_myth_of_the_gay_agenda/transcript"
       ]
      },
      {
       "output_type": "stream",
       "stream": "stdout",
       "text": [
        "\n",
        "https://www.ted.com/talks/robert_muggah_how_to_protect_fast_growing_cities_from_failing/transcript"
       ]
      },
      {
       "output_type": "stream",
       "stream": "stdout",
       "text": [
        "\n",
        "https://www.ted.com/talks/daniel_tammet_different_ways_of_knowing/transcript"
       ]
      },
      {
       "output_type": "stream",
       "stream": "stdout",
       "text": [
        "\n",
        "https://www.ted.com/talks/peter_eigen_how_to_expose_the_corrupt/transcript"
       ]
      },
      {
       "output_type": "stream",
       "stream": "stdout",
       "text": [
        "\n",
        "https://www.ted.com/talks/tal_golesworthy_how_i_repaired_my_own_heart/transcript"
       ]
      },
      {
       "output_type": "stream",
       "stream": "stdout",
       "text": [
        "\n",
        "https://www.ted.com/talks/apollo_robbins_the_art_of_misdirection/transcript"
       ]
      },
      {
       "output_type": "stream",
       "stream": "stdout",
       "text": [
        "\n",
        "https://www.ted.com/talks/isabel_allende_tells_tales_of_passion/transcript"
       ]
      },
      {
       "output_type": "stream",
       "stream": "stdout",
       "text": [
        "\n",
        "https://www.ted.com/talks/sebastian_junger_why_veterans_miss_war/transcript"
       ]
      },
      {
       "output_type": "stream",
       "stream": "stdout",
       "text": [
        "\n",
        "https://www.ted.com/talks/peter_ward_on_mass_extinctions/transcript"
       ]
      },
      {
       "output_type": "stream",
       "stream": "stdout",
       "text": [
        "\n",
        "https://www.ted.com/talks/sean_gourley_on_the_mathematics_of_war/transcript"
       ]
      },
      {
       "output_type": "stream",
       "stream": "stdout",
       "text": [
        "\n",
        "https://www.ted.com/talks/scott_summit_beautiful_artificial_limbs/transcript"
       ]
      },
      {
       "output_type": "stream",
       "stream": "stdout",
       "text": [
        "\n",
        "https://www.ted.com/talks/yoav_medan_ultrasound_surgery_healing_without_cuts/transcript"
       ]
      },
      {
       "output_type": "stream",
       "stream": "stdout",
       "text": [
        "\n",
        "https://www.ted.com/talks/esther_duflo_social_experiments_to_fight_poverty/transcript"
       ]
      },
      {
       "output_type": "stream",
       "stream": "stdout",
       "text": [
        "\n",
        "https://www.ted.com/talks/johan_rockstrom_let_the_environment_guide_our_development/transcript"
       ]
      },
      {
       "output_type": "stream",
       "stream": "stdout",
       "text": [
        "\n",
        "https://www.ted.com/talks/hans_rosling_reveals_new_insights_on_poverty/transcript"
       ]
      },
      {
       "output_type": "stream",
       "stream": "stdout",
       "text": [
        "\n",
        "https://www.ted.com/talks/corneille_ewango_is_a_hero_of_the_congo_forest/transcript"
       ]
      },
      {
       "output_type": "stream",
       "stream": "stdout",
       "text": [
        "\n",
        "https://www.ted.com/talks/laura_snyder_the_philosophical_breakfast_club/transcript"
       ]
      },
      {
       "output_type": "stream",
       "stream": "stdout",
       "text": [
        "\n",
        "https://www.ted.com/talks/michael_shermer_on_believing_strange_things/transcript"
       ]
      },
      {
       "output_type": "stream",
       "stream": "stdout",
       "text": [
        "\n",
        "https://www.ted.com/talks/kevin_briggs_the_bridge_between_suicide_and_life/transcript"
       ]
      },
      {
       "output_type": "stream",
       "stream": "stdout",
       "text": [
        "\n",
        "https://www.ted.com/talks/arthur_benjamin_s_formula_for_changing_math_education/transcript"
       ]
      },
      {
       "output_type": "stream",
       "stream": "stdout",
       "text": [
        "\n",
        "https://www.ted.com/talks/billie_jean_king_this_tennis_icon_paved_the_way_for_women_in_sports/transcript"
       ]
      },
      {
       "output_type": "stream",
       "stream": "stdout",
       "text": [
        "\n",
        "https://www.ted.com/talks/nicholas_negroponte_on_one_laptop_per_child/transcript"
       ]
      },
      {
       "output_type": "stream",
       "stream": "stdout",
       "text": [
        "\n",
        "https://www.ted.com/talks/christophe_adami_finding_life_we_can_t_imagine/transcript"
       ]
      },
      {
       "output_type": "stream",
       "stream": "stdout",
       "text": [
        "\n",
        "https://www.ted.com/talks/anil_gupta_india_s_hidden_hotbeds_of_invention/transcript"
       ]
      },
      {
       "output_type": "stream",
       "stream": "stdout",
       "text": [
        "\n",
        "https://www.ted.com/talks/kevin_slavin_how_algorithms_shape_our_world/transcript"
       ]
      },
      {
       "output_type": "stream",
       "stream": "stdout",
       "text": [
        "\n",
        "https://www.ted.com/talks/jarrett_j_krosoczka_how_a_boy_became_an_artist/transcript"
       ]
      },
      {
       "output_type": "stream",
       "stream": "stdout",
       "text": [
        "\n",
        "https://www.ted.com/talks/roger_stein_a_bold_new_way_to_fund_drug_research/transcript"
       ]
      },
      {
       "output_type": "stream",
       "stream": "stdout",
       "text": [
        "\n",
        "https://www.ted.com/talks/ed_boyden/transcript"
       ]
      },
      {
       "output_type": "stream",
       "stream": "stdout",
       "text": [
        "\n",
        "https://www.ted.com/talks/norman_foster_s_green_agenda/transcript"
       ]
      },
      {
       "output_type": "stream",
       "stream": "stdout",
       "text": [
        "\n",
        "https://www.ted.com/talks/holly_morris_why_stay_in_chernobyl_because_it_s_home/transcript"
       ]
      },
      {
       "output_type": "stream",
       "stream": "stdout",
       "text": [
        "\n",
        "https://www.ted.com/talks/marisa_fick_jordan_shares_the_wonder_of_zulu_wire_art/transcript"
       ]
      },
      {
       "output_type": "stream",
       "stream": "stdout",
       "text": [
        "\n",
        "https://www.ted.com/talks/daniel_suarez_the_kill_decision_shouldn_t_belong_to_a_robot/transcript"
       ]
      },
      {
       "output_type": "stream",
       "stream": "stdout",
       "text": [
        "\n",
        "https://www.ted.com/talks/t_boone_pickens_let_s_transform_energy_with_natural_gas/transcript"
       ]
      },
      {
       "output_type": "stream",
       "stream": "stdout",
       "text": [
        "\n",
        "https://www.ted.com/talks/kristen_marhaver_how_we_re_growing_baby_corals_to_rebuild_reefs/transcript"
       ]
      },
      {
       "output_type": "stream",
       "stream": "stdout",
       "text": [
        "\n",
        "https://www.ted.com/talks/gary_vaynerchuk_do_what_you_love_no_excuses/transcript"
       ]
      },
      {
       "output_type": "stream",
       "stream": "stdout",
       "text": [
        "\n",
        "https://www.ted.com/talks/clint_smith_how_to_raise_a_black_son_in_america/transcript"
       ]
      },
      {
       "output_type": "stream",
       "stream": "stdout",
       "text": [
        "\n",
        "https://www.ted.com/talks/taylor_wilson_my_radical_plan_for_small_nuclear_fission_reactors/transcript"
       ]
      },
      {
       "output_type": "stream",
       "stream": "stdout",
       "text": [
        "\n",
        "https://www.ted.com/talks/khadija_gbla_my_mother_s_strange_definition_of_empowerment/transcript"
       ]
      },
      {
       "output_type": "stream",
       "stream": "stdout",
       "text": [
        "\n",
        "https://www.ted.com/talks/karen_armstrong_makes_her_ted_prize_wish_the_charter_for_compassion/transcript"
       ]
      },
      {
       "output_type": "stream",
       "stream": "stdout",
       "text": [
        "\n",
        "https://www.ted.com/talks/david_cameron/transcript"
       ]
      },
      {
       "output_type": "stream",
       "stream": "stdout",
       "text": [
        "\n",
        "https://www.ted.com/talks/tim_ferriss_smash_fear_learn_anything/transcript"
       ]
      },
      {
       "output_type": "stream",
       "stream": "stdout",
       "text": [
        "\n",
        "https://www.ted.com/talks/david_byrne_how_architecture_helped_music_evolve/transcript"
       ]
      },
      {
       "output_type": "stream",
       "stream": "stdout",
       "text": [
        "\n",
        "https://www.ted.com/talks/elora_hardy_magical_houses_made_of_bamboo/transcript"
       ]
      },
      {
       "output_type": "stream",
       "stream": "stdout",
       "text": [
        "\n",
        "https://www.ted.com/talks/dan_buettner_how_to_live_to_be_100/transcript"
       ]
      },
      {
       "output_type": "stream",
       "stream": "stdout",
       "text": [
        "\n",
        "https://www.ted.com/talks/thomas_dolby_and_rachelle_garniez/transcript"
       ]
      },
      {
       "output_type": "stream",
       "stream": "stdout",
       "text": [
        "\n",
        "https://www.ted.com/talks/glenn_greenwald_why_privacy_matters/transcript"
       ]
      },
      {
       "output_type": "stream",
       "stream": "stdout",
       "text": [
        "\n",
        "https://www.ted.com/talks/john_mcwhorter_txtng_is_killing_language_jk/transcript"
       ]
      },
      {
       "output_type": "stream",
       "stream": "stdout",
       "text": [
        "\n",
        "https://www.ted.com/talks/keith_chen_could_your_language_affect_your_ability_to_save_money/transcript"
       ]
      },
      {
       "output_type": "stream",
       "stream": "stdout",
       "text": [
        "\n",
        "https://www.ted.com/talks/thomas_goetz_it_s_time_to_redesign_medical_data/transcript"
       ]
      },
      {
       "output_type": "stream",
       "stream": "stdout",
       "text": [
        "\n",
        "https://www.ted.com/talks/christopher_deam_restyles_the_airstream/transcript"
       ]
      },
      {
       "output_type": "stream",
       "stream": "stdout",
       "text": [
        "\n",
        "https://www.ted.com/talks/kitra_cahana_my_father_locked_in_his_body_but_soaring_free/transcript"
       ]
      },
      {
       "output_type": "stream",
       "stream": "stdout",
       "text": [
        "\n",
        "https://www.ted.com/talks/david_deutsch_a_new_way_to_explain_explanation/transcript"
       ]
      },
      {
       "output_type": "stream",
       "stream": "stdout",
       "text": [
        "\n",
        "https://www.ted.com/talks/klaus_stadlmann_the_world_s_smallest_3d_printer/transcript"
       ]
      },
      {
       "output_type": "stream",
       "stream": "stdout",
       "text": [
        "\n",
        "https://www.ted.com/talks/annie_lennox_why_i_am_an_hiv_aids_activist/transcript"
       ]
      },
      {
       "output_type": "stream",
       "stream": "stdout",
       "text": [
        "\n",
        "https://www.ted.com/talks/emma_teeling_the_secret_of_the_bat_genome/transcript"
       ]
      },
      {
       "output_type": "stream",
       "stream": "stdout",
       "text": [
        "\n",
        "https://www.ted.com/talks/lewis_pugh_swims_the_north_pole/transcript"
       ]
      },
      {
       "output_type": "stream",
       "stream": "stdout",
       "text": [
        "\n",
        "https://www.ted.com/talks/arunachalam_muruganantham_how_i_started_a_sanitary_napkin_revolution/transcript"
       ]
      },
      {
       "output_type": "stream",
       "stream": "stdout",
       "text": [
        "\n",
        "https://www.ted.com/talks/andrea_ghez_the_hunt_for_a_supermassive_black_hole/transcript"
       ]
      },
      {
       "output_type": "stream",
       "stream": "stdout",
       "text": [
        "\n",
        "https://www.ted.com/talks/jonas_eliasson_how_to_solve_traffic_jams/transcript"
       ]
      },
      {
       "output_type": "stream",
       "stream": "stdout",
       "text": [
        "\n",
        "https://www.ted.com/talks/charles_anderson_discovers_dragonflies_that_cross_oceans/transcript"
       ]
      },
      {
       "output_type": "stream",
       "stream": "stdout",
       "text": [
        "\n",
        "https://www.ted.com/talks/david_gallo_shows_underwater_astonishments/transcript"
       ]
      },
      {
       "output_type": "stream",
       "stream": "stdout",
       "text": [
        "\n",
        "https://www.ted.com/talks/caroline_phillips_hurdy_gurdy_for_beginners/transcript"
       ]
      },
      {
       "output_type": "stream",
       "stream": "stdout",
       "text": [
        "\n",
        "https://www.ted.com/talks/kelli_swazey_life_that_doesn_t_end_with_death/transcript"
       ]
      },
      {
       "output_type": "stream",
       "stream": "stdout",
       "text": [
        "\n",
        "https://www.ted.com/talks/christopher_m00t_poole_the_case_for_anonymity_online/transcript"
       ]
      },
      {
       "output_type": "stream",
       "stream": "stdout",
       "text": [
        "\n",
        "https://www.ted.com/talks/stephen_cave_the_4_stories_we_tell_ourselves_about_death/transcript"
       ]
      },
      {
       "output_type": "stream",
       "stream": "stdout",
       "text": [
        "\n",
        "https://www.ted.com/talks/mina_bissell_experiments_that_point_to_a_new_understanding_of_cancer/transcript"
       ]
      },
      {
       "output_type": "stream",
       "stream": "stdout",
       "text": [
        "\n",
        "https://www.ted.com/talks/sonia_shah_3_reasons_we_still_haven_t_gotten_rid_of_malaria/transcript"
       ]
      },
      {
       "output_type": "stream",
       "stream": "stdout",
       "text": [
        "\n",
        "https://www.ted.com/talks/kees_moeliker_how_a_dead_duck_changed_my_life/transcript"
       ]
      },
      {
       "output_type": "stream",
       "stream": "stdout",
       "text": [
        "\n",
        "https://www.ted.com/talks/nilofer_merchant_got_a_meeting_take_a_walk/transcript"
       ]
      },
      {
       "output_type": "stream",
       "stream": "stdout",
       "text": [
        "\n",
        "https://www.ted.com/talks/shigeru_ban_emergency_shelters_made_from_paper/transcript"
       ]
      },
      {
       "output_type": "stream",
       "stream": "stdout",
       "text": [
        "\n",
        "https://www.ted.com/talks/eric_lewis_strikes_chords_to_rock_the_jazz_world/transcript"
       ]
      },
      {
       "output_type": "stream",
       "stream": "stdout",
       "text": [
        "\n",
        "https://www.ted.com/talks/jeremy_kasdin_the_flower_shaped_starshade_that_might_help_us_detect_earth_like_planets/transcript"
       ]
      },
      {
       "output_type": "stream",
       "stream": "stdout",
       "text": [
        "\n",
        "https://www.ted.com/talks/stefan_sagmeister_on_what_he_has_learned/transcript"
       ]
      },
      {
       "output_type": "stream",
       "stream": "stdout",
       "text": [
        "\n",
        "https://www.ted.com/talks/jeremy_howard_the_wonderful_and_terrifying_implications_of_computers_that_can_learn/transcript"
       ]
      },
      {
       "output_type": "stream",
       "stream": "stdout",
       "text": [
        "\n",
        "https://www.ted.com/talks/ravin_agrawal_10_young_indian_artists_to_watch/transcript"
       ]
      },
      {
       "output_type": "stream",
       "stream": "stdout",
       "text": [
        "\n",
        "https://www.ted.com/talks/keren_elazari_hackers_the_internet_s_immune_system/transcript"
       ]
      },
      {
       "output_type": "stream",
       "stream": "stdout",
       "text": [
        "\n",
        "https://www.ted.com/talks/baba_shiv_sometimes_it_s_good_to_give_up_the_driver_s_seat/transcript"
       ]
      },
      {
       "output_type": "stream",
       "stream": "stdout",
       "text": [
        "\n",
        "https://www.ted.com/talks/steven_addis_a_father_daughter_bond_one_photo_at_a_time/transcript"
       ]
      },
      {
       "output_type": "stream",
       "stream": "stdout",
       "text": [
        "\n",
        "https://www.ted.com/talks/esta_soler_how_we_turned_the_tide_on_domestic_violence_hint_the_polaroid_helped/transcript"
       ]
      },
      {
       "output_type": "stream",
       "stream": "stdout",
       "text": [
        "\n",
        "https://www.ted.com/talks/leslie_dodson_don_t_misrepresent_africa/transcript"
       ]
      },
      {
       "output_type": "stream",
       "stream": "stdout",
       "text": [
        "\n",
        "https://www.ted.com/talks/lies_damned_lies_and_statistics_about_tedtalks/transcript"
       ]
      },
      {
       "output_type": "stream",
       "stream": "stdout",
       "text": [
        "\n",
        "https://www.ted.com/talks/jennifer_8_lee_looks_for_general_tso/transcript"
       ]
      },
      {
       "output_type": "stream",
       "stream": "stdout",
       "text": [
        "\n",
        "https://www.ted.com/talks/sheryl_sandberg_why_we_have_too_few_women_leaders/transcript"
       ]
      },
      {
       "output_type": "stream",
       "stream": "stdout",
       "text": [
        "\n",
        "https://www.ted.com/talks/amy_lockwood_selling_condoms_in_the_congo/transcript"
       ]
      },
      {
       "output_type": "stream",
       "stream": "stdout",
       "text": [
        "\n",
        "https://www.ted.com/talks/arianna_huffington_how_to_succeed_get_more_sleep/transcript"
       ]
      },
      {
       "output_type": "stream",
       "stream": "stdout",
       "text": [
        "\n",
        "https://www.ted.com/talks/didier_sornette_how_we_can_predict_the_next_financial_crisis/transcript"
       ]
      },
      {
       "output_type": "stream",
       "stream": "stdout",
       "text": [
        "\n",
        "https://www.ted.com/talks/jose_miguel_sokoloff_how_christmas_lights_helped_guerrillas_put_down_their_guns/transcript"
       ]
      },
      {
       "output_type": "stream",
       "stream": "stdout",
       "text": [
        "\n",
        "https://www.ted.com/talks/arthur_benjamin_the_magic_of_fibonacci_numbers/transcript"
       ]
      },
      {
       "output_type": "stream",
       "stream": "stdout",
       "text": [
        "\n",
        "https://www.ted.com/talks/stanley_mcchrystal_the_military_case_for_sharing_knowledge/transcript"
       ]
      },
      {
       "output_type": "stream",
       "stream": "stdout",
       "text": [
        "\n",
        "https://www.ted.com/talks/jonathan_trent_energy_from_floating_algae_pods/transcript"
       ]
      },
      {
       "output_type": "stream",
       "stream": "stdout",
       "text": [
        "\n",
        "https://www.ted.com/talks/malte_spitz_your_phone_company_is_watching/transcript"
       ]
      },
      {
       "output_type": "stream",
       "stream": "stdout",
       "text": [
        "\n",
        "https://www.ted.com/talks/fiorenzo_omenetto_silk_the_ancient_material_of_the_future/transcript"
       ]
      },
      {
       "output_type": "stream",
       "stream": "stdout",
       "text": [
        "\n",
        "https://www.ted.com/talks/lord_nicholas_stern_the_state_of_the_climate_and_what_we_might_do_about_it/transcript"
       ]
      },
      {
       "output_type": "stream",
       "stream": "stdout",
       "text": [
        "\n",
        "https://www.ted.com/talks/robert_waldinger_what_makes_a_good_life_lessons_from_the_longest_study_on_happiness/transcript"
       ]
      },
      {
       "output_type": "stream",
       "stream": "stdout",
       "text": [
        "\n",
        "https://www.ted.com/talks/frans_lanting_s_lyrical_nature_photos/transcript"
       ]
      },
      {
       "output_type": "stream",
       "stream": "stdout",
       "text": [
        "\n",
        "https://www.ted.com/talks/geena_rocero_why_i_must_come_out/transcript"
       ]
      },
      {
       "output_type": "stream",
       "stream": "stdout",
       "text": [
        "\n",
        "https://www.ted.com/talks/james_hansen_why_i_must_speak_out_about_climate_change/transcript"
       ]
      },
      {
       "output_type": "stream",
       "stream": "stdout",
       "text": [
        "\n",
        "https://www.ted.com/talks/siddhartha_mukherjee_soon_we_ll_cure_diseases_with_a_cell_not_a_pill/transcript"
       ]
      },
      {
       "output_type": "stream",
       "stream": "stdout",
       "text": [
        "\n",
        "https://www.ted.com/talks/natasha_tsakos_multimedia_theatrical_adventure/transcript"
       ]
      },
      {
       "output_type": "stream",
       "stream": "stdout",
       "text": [
        "\n",
        "https://www.ted.com/talks/angela_lee_duckworth_the_key_to_success_grit/transcript"
       ]
      },
      {
       "output_type": "stream",
       "stream": "stdout",
       "text": [
        "\n",
        "https://www.ted.com/talks/ryan_lobo_through_the_lens_of_compassion/transcript"
       ]
      },
      {
       "output_type": "stream",
       "stream": "stdout",
       "text": [
        "\n",
        "https://www.ted.com/talks/anders_fjellberg_two_nameless_bodies_washed_up_on_the_beach_here_are_their_stories/transcript"
       ]
      },
      {
       "output_type": "stream",
       "stream": "stdout",
       "text": [
        "\n",
        "https://www.ted.com/talks/philip_zimbardo_on_the_psychology_of_evil/transcript"
       ]
      },
      {
       "output_type": "stream",
       "stream": "stdout",
       "text": [
        "\n",
        "https://www.ted.com/talks/jeremy_gilley_one_day_of_peace/transcript"
       ]
      },
      {
       "output_type": "stream",
       "stream": "stdout",
       "text": [
        "\n",
        "https://www.ted.com/talks/yassmin_abdel_magied_what_does_my_headscarf_mean_to_you/transcript"
       ]
      },
      {
       "output_type": "stream",
       "stream": "stdout",
       "text": [
        "\n",
        "https://www.ted.com/talks/paul_rothemund_casts_a_spell_with_dna/transcript"
       ]
      },
      {
       "output_type": "stream",
       "stream": "stdout",
       "text": [
        "\n",
        "https://www.ted.com/talks/jamais_cascio_looks_ahead/transcript"
       ]
      },
      {
       "output_type": "stream",
       "stream": "stdout",
       "text": [
        "\n",
        "https://www.ted.com/talks/kid_president_i_think_we_all_need_a_pep_talk/transcript"
       ]
      },
      {
       "output_type": "stream",
       "stream": "stdout",
       "text": [
        "\n",
        "https://www.ted.com/talks/ben_saunders_why_bother_leaving_the_house/transcript"
       ]
      },
      {
       "output_type": "stream",
       "stream": "stdout",
       "text": [
        "\n",
        "https://www.ted.com/talks/sheila_patek_clocks_the_fastest_animals/transcript"
       ]
      },
      {
       "output_type": "stream",
       "stream": "stdout",
       "text": [
        "\n",
        "https://www.ted.com/talks/blaise_aguera/transcript"
       ]
      },
      {
       "output_type": "stream",
       "stream": "stdout",
       "text": [
        "\n",
        "https://www.ted.com/talks/david_kwong_two_nerdy_obsessions_meet_and_it_s_magic/transcript"
       ]
      },
      {
       "output_type": "stream",
       "stream": "stdout",
       "text": [
        "\n",
        "https://www.ted.com/talks/romina_libster_the_power_of_herd_immunity/transcript"
       ]
      },
      {
       "output_type": "stream",
       "stream": "stdout",
       "text": [
        "\n",
        "https://www.ted.com/talks/aimee_mullins_prosthetic_aesthetics/transcript"
       ]
      },
      {
       "output_type": "stream",
       "stream": "stdout",
       "text": [
        "\n",
        "https://www.ted.com/talks/jim_simons_a_rare_interview_with_the_mathematician_who_cracked_wall_street/transcript"
       ]
      },
      {
       "output_type": "stream",
       "stream": "stdout",
       "text": [
        "\n",
        "https://www.ted.com/talks/monika_bulaj_the_hidden_light_of_afghanistan/transcript"
       ]
      },
      {
       "output_type": "stream",
       "stream": "stdout",
       "text": [
        "\n",
        "https://www.ted.com/talks/elaine_morgan_says_we_evolved_from_aquatic_apes/transcript"
       ]
      },
      {
       "output_type": "stream",
       "stream": "stdout",
       "text": [
        "\n",
        "https://www.ted.com/talks/sunitha_krishnan_tedindia/transcript"
       ]
      },
      {
       "output_type": "stream",
       "stream": "stdout",
       "text": [
        "\n",
        "https://www.ted.com/talks/james_nachtwey_fights_xdrtb/transcript"
       ]
      },
      {
       "output_type": "stream",
       "stream": "stdout",
       "text": [
        "\n",
        "https://www.ted.com/talks/jamie_drummond_how_to_set_goals_for_the_world/transcript"
       ]
      },
      {
       "output_type": "stream",
       "stream": "stdout",
       "text": [
        "\n",
        "https://www.ted.com/talks/charmian_gooch_my_wish_to_launch_a_new_era_of_openness_in_business/transcript"
       ]
      },
      {
       "output_type": "stream",
       "stream": "stdout",
       "text": [
        "\n",
        "https://www.ted.com/talks/dame_stephanie_shirley_why_do_ambitious_women_have_flat_heads/transcript"
       ]
      },
      {
       "output_type": "stream",
       "stream": "stdout",
       "text": [
        "\n",
        "https://www.ted.com/talks/francesco_sauro_deep_under_the_earth_s_surface_discovering_beauty_and_science/transcript"
       ]
      },
      {
       "output_type": "stream",
       "stream": "stdout",
       "text": [
        "\n",
        "https://www.ted.com/talks/stephen_hawking_asks_big_questions_about_the_universe/transcript"
       ]
      },
      {
       "output_type": "stream",
       "stream": "stdout",
       "text": [
        "\n",
        "https://www.ted.com/talks/fields_wicker_miurin_learning_from_leadership_s_missing_manual/transcript"
       ]
      },
      {
       "output_type": "stream",
       "stream": "stdout",
       "text": [
        "\n",
        "https://www.ted.com/talks/jessica_shortall_how_america_fails_new_parents_and_their_babies/transcript"
       ]
      },
      {
       "output_type": "stream",
       "stream": "stdout",
       "text": [
        "\n",
        "https://www.ted.com/talks/ellen_dunham_jones_retrofitting_suburbia/transcript"
       ]
      },
      {
       "output_type": "stream",
       "stream": "stdout",
       "text": [
        "\n",
        "https://www.ted.com/talks/evgeny_morozov_is_the_internet_what_orwell_feared/transcript"
       ]
      },
      {
       "output_type": "stream",
       "stream": "stdout",
       "text": [
        "\n",
        "https://www.ted.com/talks/john_searle_our_shared_condition_consciousness/transcript"
       ]
      },
      {
       "output_type": "stream",
       "stream": "stdout",
       "text": [
        "\n",
        "https://www.ted.com/talks/ben_wellington_how_we_found_the_worst_place_to_park_in_new_york_city_using_big_data/transcript"
       ]
      },
      {
       "output_type": "stream",
       "stream": "stdout",
       "text": [
        "\n",
        "https://www.ted.com/talks/mikko_hypponen_fighting_viruses_defending_the_net/transcript"
       ]
      },
      {
       "output_type": "stream",
       "stream": "stdout",
       "text": [
        "\n",
        "https://www.ted.com/talks/timothy_bartik_the_economic_case_for_preschool/transcript"
       ]
      },
      {
       "output_type": "stream",
       "stream": "stdout",
       "text": [
        "\n",
        "https://www.ted.com/talks/renny_gleeson_404_the_story_of_a_page_not_found/transcript"
       ]
      },
      {
       "output_type": "stream",
       "stream": "stdout",
       "text": [
        "\n",
        "https://www.ted.com/talks/john_walker_re_creates_great_performances/transcript"
       ]
      },
      {
       "output_type": "stream",
       "stream": "stdout",
       "text": [
        "\n",
        "https://www.ted.com/talks/the_cockroach_beatbox/transcript"
       ]
      },
      {
       "output_type": "stream",
       "stream": "stdout",
       "text": [
        "\n",
        "https://www.ted.com/talks/kate_hartman_the_art_of_wearable_communication/transcript"
       ]
      },
      {
       "output_type": "stream",
       "stream": "stdout",
       "text": [
        "\n",
        "https://www.ted.com/talks/cheryl_hayashi_the_magnificence_of_spider_silk/transcript"
       ]
      },
      {
       "output_type": "stream",
       "stream": "stdout",
       "text": [
        "\n",
        "https://www.ted.com/talks/mother_and_daughter_doctor_heroes_hawa_abdi_deqo_mohamed/transcript"
       ]
      },
      {
       "output_type": "stream",
       "stream": "stdout",
       "text": [
        "\n",
        "https://www.ted.com/talks/mary_roach_10_things_you_didn_t_know_about_orgasm/transcript"
       ]
      },
      {
       "output_type": "stream",
       "stream": "stdout",
       "text": [
        "\n",
        "https://www.ted.com/talks/courtney_martin_reinventing_feminism/transcript"
       ]
      },
      {
       "output_type": "stream",
       "stream": "stdout",
       "text": [
        "\n",
        "https://www.ted.com/talks/yochai_benkler_on_the_new_open_source_economics/transcript"
       ]
      },
      {
       "output_type": "stream",
       "stream": "stdout",
       "text": [
        "\n",
        "https://www.ted.com/talks/marco_tempest_the_electric_rise_and_fall_of_nikola_tesla/transcript"
       ]
      },
      {
       "output_type": "stream",
       "stream": "stdout",
       "text": [
        "\n",
        "https://www.ted.com/talks/molly_stevens_a_new_way_to_grow_bone/transcript"
       ]
      },
      {
       "output_type": "stream",
       "stream": "stdout",
       "text": [
        "\n",
        "https://www.ted.com/talks/rodrigo_canales_the_deadly_genius_of_drug_cartels/transcript"
       ]
      },
      {
       "output_type": "stream",
       "stream": "stdout",
       "text": [
        "\n",
        "https://www.ted.com/talks/marco_tempest_maybe_the_best_robot_demo_ever/transcript"
       ]
      },
      {
       "output_type": "stream",
       "stream": "stdout",
       "text": [
        "\n",
        "https://www.ted.com/talks/alexander_tsiaras_conception_to_birth_visualized/transcript"
       ]
      },
      {
       "output_type": "stream",
       "stream": "stdout",
       "text": [
        "\n",
        "https://www.ted.com/talks/joshua_walters_on_being_just_crazy_enough/transcript"
       ]
      },
      {
       "output_type": "stream",
       "stream": "stdout",
       "text": [
        "\n",
        "https://www.ted.com/talks/swami_dayananda_saraswati/transcript"
       ]
      },
      {
       "output_type": "stream",
       "stream": "stdout",
       "text": [
        "\n",
        "https://www.ted.com/talks/joachim_de_posada_says_don_t_eat_the_marshmallow_yet/transcript"
       ]
      },
      {
       "output_type": "stream",
       "stream": "stdout",
       "text": [
        "\n",
        "https://www.ted.com/talks/deep_ocean_mysteries_and_wonders/transcript"
       ]
      },
      {
       "output_type": "stream",
       "stream": "stdout",
       "text": [
        "\n",
        "https://www.ted.com/talks/ethan_zuckerman/transcript"
       ]
      },
      {
       "output_type": "stream",
       "stream": "stdout",
       "text": [
        "\n",
        "https://www.ted.com/talks/henry_markram_supercomputing_the_brain_s_secrets/transcript"
       ]
      },
      {
       "output_type": "stream",
       "stream": "stdout",
       "text": [
        "\n",
        "https://www.ted.com/talks/mallika_sarabhai/transcript"
       ]
      },
      {
       "output_type": "stream",
       "stream": "stdout",
       "text": [
        "\n",
        "https://www.ted.com/talks/mark_raymond_victims_of_the_city/transcript"
       ]
      },
      {
       "output_type": "stream",
       "stream": "stdout",
       "text": [
        "\n",
        "https://www.ted.com/talks/inara_george_sings_family_tree/transcript"
       ]
      },
      {
       "output_type": "stream",
       "stream": "stdout",
       "text": [
        "\n",
        "https://www.ted.com/talks/drew_berry_animations_of_unseeable_biology/transcript"
       ]
      },
      {
       "output_type": "stream",
       "stream": "stdout",
       "text": [
        "\n",
        "https://www.ted.com/talks/ann_cooper_talks_school_lunches/transcript"
       ]
      },
      {
       "output_type": "stream",
       "stream": "stdout",
       "text": [
        "\n",
        "https://www.ted.com/talks/laurie_garrett_on_lessons_from_the_1918_flu/transcript"
       ]
      },
      {
       "output_type": "stream",
       "stream": "stdout",
       "text": [
        "\n",
        "https://www.ted.com/talks/manal_al_sharif_a_saudi_woman_who_dared_to_drive/transcript"
       ]
      },
      {
       "output_type": "stream",
       "stream": "stdout",
       "text": [
        "\n",
        "https://www.ted.com/talks/nicole_paris_and_ed_cage_a_beatboxing_lesson_from_a_father_daughter_duo/transcript"
       ]
      },
      {
       "output_type": "stream",
       "stream": "stdout",
       "text": [
        "\n",
        "https://www.ted.com/talks/ben_cameron_tedxyyc/transcript"
       ]
      },
      {
       "output_type": "stream",
       "stream": "stdout",
       "text": [
        "\n",
        "https://www.ted.com/talks/questions_no_one_knows_the_answers_to/transcript"
       ]
      },
      {
       "output_type": "stream",
       "stream": "stdout",
       "text": [
        "\n",
        "https://www.ted.com/talks/james_flynn_why_our_iq_levels_are_higher_than_our_grandparents/transcript"
       ]
      },
      {
       "output_type": "stream",
       "stream": "stdout",
       "text": [
        "\n",
        "https://www.ted.com/talks/tal_danino_we_can_use_bacteria_to_detect_cancer_and_maybe_treat_it/transcript"
       ]
      },
      {
       "output_type": "stream",
       "stream": "stdout",
       "text": [
        "\n",
        "https://www.ted.com/talks/bill_gross_on_new_energy/transcript"
       ]
      },
      {
       "output_type": "stream",
       "stream": "stdout",
       "text": [
        "\n",
        "https://www.ted.com/talks/nancy_lublin_the_heartbreaking_text_that_inspired_a_crisis_help_line/transcript"
       ]
      },
      {
       "output_type": "stream",
       "stream": "stdout",
       "text": [
        "\n",
        "https://www.ted.com/talks/brian_greene_why_is_our_universe_fine_tuned_for_life/transcript"
       ]
      },
      {
       "output_type": "stream",
       "stream": "stdout",
       "text": [
        "\n",
        "https://www.ted.com/talks/spencer_wells_is_building_a_family_tree_for_all_humanity/transcript"
       ]
      },
      {
       "output_type": "stream",
       "stream": "stdout",
       "text": [
        "\n",
        "https://www.ted.com/talks/toby_eccles_invest_in_social_change/transcript"
       ]
      },
      {
       "output_type": "stream",
       "stream": "stdout",
       "text": [
        "\n",
        "https://www.ted.com/talks/annette_heuser_the_3_agencies_with_the_power_to_make_or_break_economies/transcript"
       ]
      },
      {
       "output_type": "stream",
       "stream": "stdout",
       "text": [
        "\n",
        "https://www.ted.com/talks/haas_hahn_how_painting_can_transform_communities/transcript"
       ]
      },
      {
       "output_type": "stream",
       "stream": "stdout",
       "text": [
        "\n",
        "https://www.ted.com/talks/tristram_stuart_the_global_food_waste_scandal/transcript"
       ]
      },
      {
       "output_type": "stream",
       "stream": "stdout",
       "text": [
        "\n",
        "https://www.ted.com/talks/pilobolus_perform_symbiosis/transcript"
       ]
      },
      {
       "output_type": "stream",
       "stream": "stdout",
       "text": [
        "\n",
        "https://www.ted.com/talks/becky_blanton_the_year_i_was_homeless/transcript"
       ]
      },
      {
       "output_type": "stream",
       "stream": "stdout",
       "text": [
        "\n",
        "https://www.ted.com/talks/robert_swan_let_s_save_the_last_pristine_continent/transcript"
       ]
      },
      {
       "output_type": "stream",
       "stream": "stdout",
       "text": [
        "\n",
        "https://www.ted.com/talks/cesar_kuriyama_one_second_every_day/transcript"
       ]
      },
      {
       "output_type": "stream",
       "stream": "stdout",
       "text": [
        "\n",
        "https://www.ted.com/talks/robyn_stein_deluca_the_good_news_about_pms/transcript"
       ]
      },
      {
       "output_type": "stream",
       "stream": "stdout",
       "text": [
        "\n",
        "https://www.ted.com/talks/pamela_ronald_the_case_for_engineering_our_food/transcript"
       ]
      },
      {
       "output_type": "stream",
       "stream": "stdout",
       "text": [
        "\n",
        "https://www.ted.com/talks/kelli_anderson_design_to_challenge_reality/transcript"
       ]
      },
      {
       "output_type": "stream",
       "stream": "stdout",
       "text": [
        "\n",
        "https://www.ted.com/talks/jill_sobule_sings_to_al_gore/transcript"
       ]
      },
      {
       "output_type": "stream",
       "stream": "stdout",
       "text": [
        "\n",
        "https://www.ted.com/talks/ole_scheeren_why_great_architecture_should_tell_a_story/transcript"
       ]
      },
      {
       "output_type": "stream",
       "stream": "stdout",
       "text": [
        "\n",
        "https://www.ted.com/talks/deborah_gordon_what_ants_teach_us_about_the_brain_cancer_and_the_internet/transcript"
       ]
      },
      {
       "output_type": "stream",
       "stream": "stdout",
       "text": [
        "\n",
        "https://www.ted.com/talks/sheryl_sandberg_so_we_leaned_in_now_what/transcript"
       ]
      },
      {
       "output_type": "stream",
       "stream": "stdout",
       "text": [
        "\n",
        "https://www.ted.com/talks/paul_rothemund_details_dna_folding/transcript"
       ]
      },
      {
       "output_type": "stream",
       "stream": "stdout",
       "text": [
        "\n",
        "https://www.ted.com/talks/chelsea_shields_how_i_m_working_for_change_inside_my_church/transcript"
       ]
      },
      {
       "output_type": "stream",
       "stream": "stdout",
       "text": [
        "\n",
        "https://www.ted.com/talks/cary_fowler_one_seed_at_a_time_protecting_the_future_of_food/transcript"
       ]
      },
      {
       "output_type": "stream",
       "stream": "stdout",
       "text": [
        "\n",
        "https://www.ted.com/talks/david_kelley_how_to_build_your_creative_confidence/transcript"
       ]
      },
      {
       "output_type": "stream",
       "stream": "stdout",
       "text": [
        "\n",
        "https://www.ted.com/talks/matt_cutts_try_something_new_for_30_days/transcript"
       ]
      },
      {
       "output_type": "stream",
       "stream": "stdout",
       "text": [
        "\n",
        "https://www.ted.com/talks/pico_iyer_the_art_of_stillness/transcript"
       ]
      },
      {
       "output_type": "stream",
       "stream": "stdout",
       "text": [
        "\n",
        "https://www.ted.com/talks/myriam_sidibe_the_simple_power_of_hand_washing/transcript"
       ]
      },
      {
       "output_type": "stream",
       "stream": "stdout",
       "text": [
        "\n",
        "https://www.ted.com/talks/vusi_mahlasela_sings_thula_mama/transcript"
       ]
      },
      {
       "output_type": "stream",
       "stream": "stdout",
       "text": [
        "\n",
        "https://www.ted.com/talks/richard_resnick_welcome_to_the_genomic_revolution/transcript"
       ]
      },
      {
       "output_type": "stream",
       "stream": "stdout",
       "text": [
        "\n",
        "https://www.ted.com/talks/jae_rhim_lee/transcript"
       ]
      },
      {
       "output_type": "stream",
       "stream": "stdout",
       "text": [
        "\n",
        "https://www.ted.com/talks/thulasiraj_ravilla_how_low_cost_eye_care_can_be_world_class/transcript"
       ]
      },
      {
       "output_type": "stream",
       "stream": "stdout",
       "text": [
        "\n",
        "https://www.ted.com/talks/shlomo_benartzi_saving_more_tomorrow/transcript"
       ]
      },
      {
       "output_type": "stream",
       "stream": "stdout",
       "text": [
        "\n",
        "https://www.ted.com/talks/damon_horowitz_philosophy_in_prison/transcript"
       ]
      },
      {
       "output_type": "stream",
       "stream": "stdout",
       "text": [
        "\n",
        "https://www.ted.com/talks/penelope_boston/transcript"
       ]
      },
      {
       "output_type": "stream",
       "stream": "stdout",
       "text": [
        "\n",
        "https://www.ted.com/talks/nicholas_negroponte_on_one_laptop_per_child_two_years_on/transcript"
       ]
      },
      {
       "output_type": "stream",
       "stream": "stdout",
       "text": [
        "\n",
        "https://www.ted.com/talks/neil_turok_makes_his_ted_prize_wish/transcript"
       ]
      },
      {
       "output_type": "stream",
       "stream": "stdout",
       "text": [
        "\n",
        "https://www.ted.com/talks/clay_shirky_on_institutions_versus_collaboration/transcript"
       ]
      },
      {
       "output_type": "stream",
       "stream": "stdout",
       "text": [
        "\n",
        "https://www.ted.com/talks/siddharthan_chandran_can_the_damaged_brain_repair_itself/transcript"
       ]
      },
      {
       "output_type": "stream",
       "stream": "stdout",
       "text": [
        "\n",
        "https://www.ted.com/talks/daniel_h_cohen_for_argument_s_sake/transcript"
       ]
      },
      {
       "output_type": "stream",
       "stream": "stdout",
       "text": [
        "\n",
        "https://www.ted.com/talks/imam_feisal_abdul_rauf/transcript"
       ]
      },
      {
       "output_type": "stream",
       "stream": "stdout",
       "text": [
        "\n",
        "https://www.ted.com/talks/wendy_freedman_this_new_telescope_might_show_us_the_beginning_of_the_universe/transcript"
       ]
      },
      {
       "output_type": "stream",
       "stream": "stdout",
       "text": [
        "\n",
        "https://www.ted.com/talks/roxane_gay_confessions_of_a_bad_feminist/transcript"
       ]
      },
      {
       "output_type": "stream",
       "stream": "stdout",
       "text": [
        "\n",
        "https://www.ted.com/talks/paul_piff_does_money_make_you_mean/transcript"
       ]
      },
      {
       "output_type": "stream",
       "stream": "stdout",
       "text": [
        "\n",
        "https://www.ted.com/talks/barbara_block_tagging_tuna_in_the_deep_ocean/transcript"
       ]
      },
      {
       "output_type": "stream",
       "stream": "stdout",
       "text": [
        "\n",
        "https://www.ted.com/talks/diane_kelly_what_we_didn_t_know_about_penis_anatomy/transcript"
       ]
      },
      {
       "output_type": "stream",
       "stream": "stdout",
       "text": [
        "\n",
        "https://www.ted.com/talks/emilie_wapnick_why_some_of_us_don_t_have_one_true_calling/transcript"
       ]
      },
      {
       "output_type": "stream",
       "stream": "stdout",
       "text": [
        "\n",
        "https://www.ted.com/talks/tania_simoncelli_should_you_be_able_to_patent_a_human_gene/transcript"
       ]
      },
      {
       "output_type": "stream",
       "stream": "stdout",
       "text": [
        "\n",
        "https://www.ted.com/talks/neil_burgess_how_your_brain_tells_you_where_you_are/transcript"
       ]
      },
      {
       "output_type": "stream",
       "stream": "stdout",
       "text": [
        "\n",
        "https://www.ted.com/talks/david_deutsch_on_our_place_in_the_cosmos/transcript"
       ]
      },
      {
       "output_type": "stream",
       "stream": "stdout",
       "text": [
        "\n",
        "https://www.ted.com/talks/steven_levitt_on_child_carseats/transcript"
       ]
      },
      {
       "output_type": "stream",
       "stream": "stdout",
       "text": [
        "\n",
        "https://www.ted.com/talks/kenichi_ebina_s_magic_moves/transcript"
       ]
      },
      {
       "output_type": "stream",
       "stream": "stdout",
       "text": [
        "\n",
        "https://www.ted.com/talks/the_secret_life_of_plankton/transcript"
       ]
      },
      {
       "output_type": "stream",
       "stream": "stdout",
       "text": [
        "\n",
        "https://www.ted.com/talks/barton_seaver_sustainable_seafood_let_s_get_smart/transcript"
       ]
      },
      {
       "output_type": "stream",
       "stream": "stdout",
       "text": [
        "\n",
        "https://www.ted.com/talks/andrew_connolly_what_s_the_next_window_into_our_universe/transcript"
       ]
      },
      {
       "output_type": "stream",
       "stream": "stdout",
       "text": [
        "\n",
        "https://www.ted.com/talks/angela_belcher_using_nature_to_grow_batteries/transcript"
       ]
      },
      {
       "output_type": "stream",
       "stream": "stdout",
       "text": [
        "\n",
        "https://www.ted.com/talks/philippe_starck_thinks_deep_on_design/transcript"
       ]
      },
      {
       "output_type": "stream",
       "stream": "stdout",
       "text": [
        "\n",
        "https://www.ted.com/talks/jeff_han_demos_his_breakthrough_touchscreen/transcript"
       ]
      },
      {
       "output_type": "stream",
       "stream": "stdout",
       "text": [
        "\n",
        "https://www.ted.com/talks/jacqueline_novogratz_invests_in_ending_poverty/transcript"
       ]
      },
      {
       "output_type": "stream",
       "stream": "stdout",
       "text": [
        "\n",
        "https://www.ted.com/talks/elizabeth_gilbert_on_genius/transcript"
       ]
      },
      {
       "output_type": "stream",
       "stream": "stdout",
       "text": [
        "\n",
        "https://www.ted.com/talks/kimberley_motley_how_i_defend_the_rule_of_law/transcript"
       ]
      },
      {
       "output_type": "stream",
       "stream": "stdout",
       "text": [
        "\n",
        "https://www.ted.com/talks/kim_gorgens_protecting_the_brain_against_concussion/transcript"
       ]
      },
      {
       "output_type": "stream",
       "stream": "stdout",
       "text": [
        "\n",
        "https://www.ted.com/talks/candy_chang_before_i_die_i_want_to/transcript"
       ]
      },
      {
       "output_type": "stream",
       "stream": "stdout",
       "text": [
        "\n",
        "https://www.ted.com/talks/michael_pawlyn_using_nature_s_genius_in_architecture/transcript"
       ]
      },
      {
       "output_type": "stream",
       "stream": "stdout",
       "text": [
        "\n",
        "https://www.ted.com/talks/adam_savage_s_obsessions/transcript"
       ]
      },
      {
       "output_type": "stream",
       "stream": "stdout",
       "text": [
        "\n",
        "https://www.ted.com/talks/paul_maccready_on_nature_vs_humans/transcript"
       ]
      },
      {
       "output_type": "stream",
       "stream": "stdout",
       "text": [
        "\n",
        "https://www.ted.com/talks/ron_finley_a_guerilla_gardener_in_south_central_la/transcript"
       ]
      },
      {
       "output_type": "stream",
       "stream": "stdout",
       "text": [
        "\n",
        "https://www.ted.com/talks/kwabena_boahen_on_a_computer_that_works_like_the_brain/transcript"
       ]
      },
      {
       "output_type": "stream",
       "stream": "stdout",
       "text": [
        "\n",
        "https://www.ted.com/talks/steve_truglia_a_leap_from_the_edge_of_space/transcript"
       ]
      },
      {
       "output_type": "stream",
       "stream": "stdout",
       "text": [
        "\n",
        "https://www.ted.com/talks/fabien_cousteau_what_i_learned_from_spending_31_days_underwater/transcript"
       ]
      },
      {
       "output_type": "stream",
       "stream": "stdout",
       "text": [
        "\n",
        "https://www.ted.com/talks/pavan_sukhdev_what_s_the_price_of_nature/transcript"
       ]
      },
      {
       "output_type": "stream",
       "stream": "stdout",
       "text": [
        "\n",
        "https://www.ted.com/talks/beth_noveck_demand_a_more_open_source_government/transcript"
       ]
      },
      {
       "output_type": "stream",
       "stream": "stdout",
       "text": [
        "\n",
        "https://www.ted.com/talks/larry_lessig_says_the_law_is_strangling_creativity/transcript"
       ]
      },
      {
       "output_type": "stream",
       "stream": "stdout",
       "text": [
        "\n",
        "https://www.ted.com/talks/george_ayittey_on_cheetahs_vs_hippos/transcript"
       ]
      },
      {
       "output_type": "stream",
       "stream": "stdout",
       "text": [
        "\n",
        "https://www.ted.com/talks/joshua_klein_on_the_intelligence_of_crows/transcript"
       ]
      },
      {
       "output_type": "stream",
       "stream": "stdout",
       "text": [
        "\n",
        "https://www.ted.com/talks/woody_norris_invents_amazing_things/transcript"
       ]
      },
      {
       "output_type": "stream",
       "stream": "stdout",
       "text": [
        "\n",
        "https://www.ted.com/talks/chade_meng_tan_everyday_compassion_at_google/transcript"
       ]
      },
      {
       "output_type": "stream",
       "stream": "stdout",
       "text": [
        "\n",
        "https://www.ted.com/talks/elizabeth_nyamayaro_an_invitation_to_men_who_want_a_better_world_for_women/transcript"
       ]
      },
      {
       "output_type": "stream",
       "stream": "stdout",
       "text": [
        "\n",
        "https://www.ted.com/talks/bertrand_piccard_s_solar_powered_adventure/transcript"
       ]
      },
      {
       "output_type": "stream",
       "stream": "stdout",
       "text": [
        "\n",
        "https://www.ted.com/talks/memory_banda_a_warrior_s_cry_against_child_marriage/transcript"
       ]
      },
      {
       "output_type": "stream",
       "stream": "stdout",
       "text": [
        "\n",
        "https://www.ted.com/talks/jonathan_foley_the_other_inconvenient_truth/transcript"
       ]
      },
      {
       "output_type": "stream",
       "stream": "stdout",
       "text": [
        "\n",
        "https://www.ted.com/talks/allan_jones_a_map_of_the_brain/transcript"
       ]
      },
      {
       "output_type": "stream",
       "stream": "stdout",
       "text": [
        "\n",
        "https://www.ted.com/talks/amy_tan_on_creativity/transcript"
       ]
      },
      {
       "output_type": "stream",
       "stream": "stdout",
       "text": [
        "\n",
        "https://www.ted.com/talks/joel_selanikio_the_surprising_seeds_of_a_big_data_revolution_in_healthcare/transcript"
       ]
      },
      {
       "output_type": "stream",
       "stream": "stdout",
       "text": [
        "\n",
        "https://www.ted.com/talks/julian_baggini_is_there_a_real_you/transcript"
       ]
      },
      {
       "output_type": "stream",
       "stream": "stdout",
       "text": [
        "\n",
        "https://www.ted.com/talks/elizabeth_murchison/transcript"
       ]
      },
      {
       "output_type": "stream",
       "stream": "stdout",
       "text": [
        "\n",
        "https://www.ted.com/talks/ann_morgan_my_year_reading_a_book_from_every_country_in_the_world/transcript"
       ]
      },
      {
       "output_type": "stream",
       "stream": "stdout",
       "text": [
        "\n",
        "https://www.ted.com/talks/tim_berners_lee_on_the_next_web/transcript"
       ]
      },
      {
       "output_type": "stream",
       "stream": "stdout",
       "text": [
        "\n",
        "https://www.ted.com/talks/sugata_mitra_build_a_school_in_the_cloud/transcript"
       ]
      },
      {
       "output_type": "stream",
       "stream": "stdout",
       "text": [
        "\n",
        "https://www.ted.com/talks/maria_bezaitis_the_surprising_need_for_strangeness/transcript"
       ]
      },
      {
       "output_type": "stream",
       "stream": "stdout",
       "text": [
        "\n",
        "https://www.ted.com/talks/kevin_kelly_tells_technology_s_epic_story/transcript"
       ]
      },
      {
       "output_type": "stream",
       "stream": "stdout",
       "text": [
        "\n",
        "https://www.ted.com/talks/jacqueline_novogratz_a_third_way_to_think_about_aid/transcript"
       ]
      },
      {
       "output_type": "stream",
       "stream": "stdout",
       "text": [
        "\n",
        "https://www.ted.com/talks/margaret_heffernan_why_it_s_time_to_forget_the_pecking_order_at_work/transcript"
       ]
      },
      {
       "output_type": "stream",
       "stream": "stdout",
       "text": [
        "\n",
        "https://www.ted.com/talks/stella_young_i_m_not_your_inspiration_thank_you_very_much/transcript"
       ]
      },
      {
       "output_type": "stream",
       "stream": "stdout",
       "text": [
        "\n",
        "https://www.ted.com/talks/juan_enriquez_wants_to_grow_energy/transcript"
       ]
      },
      {
       "output_type": "stream",
       "stream": "stdout",
       "text": [
        "\n",
        "https://www.ted.com/talks/rob_knight_how_our_microbes_make_us_who_we_are/transcript"
       ]
      },
      {
       "output_type": "stream",
       "stream": "stdout",
       "text": [
        "\n",
        "https://www.ted.com/talks/louie_schwartzberg_nature_beauty_gratitude/transcript"
       ]
      },
      {
       "output_type": "stream",
       "stream": "stdout",
       "text": [
        "\n",
        "https://www.ted.com/talks/jonathan_drori_why_we_re_storing_billions_of_seeds/transcript"
       ]
      },
      {
       "output_type": "stream",
       "stream": "stdout",
       "text": [
        "\n",
        "https://www.ted.com/talks/sarah_jones_one_woman_five_characters_and_a_sex_lesson_from_the_future/transcript"
       ]
      },
      {
       "output_type": "stream",
       "stream": "stdout",
       "text": [
        "\n",
        "https://www.ted.com/talks/amos_winter_the_cheap_all_terrain_wheelchair/transcript"
       ]
      },
      {
       "output_type": "stream",
       "stream": "stdout",
       "text": [
        "\n",
        "https://www.ted.com/talks/meaghan_ramsey_why_thinking_you_re_ugly_is_bad_for_you/transcript"
       ]
      },
      {
       "output_type": "stream",
       "stream": "stdout",
       "text": [
        "\n",
        "https://www.ted.com/talks/douglas_adams_parrots_the_universe_and_everything/transcript"
       ]
      },
      {
       "output_type": "stream",
       "stream": "stdout",
       "text": [
        "\n",
        "https://www.ted.com/talks/madeleine_albright_on_being_a_woman_and_a_diplomat/transcript"
       ]
      },
      {
       "output_type": "stream",
       "stream": "stdout",
       "text": [
        "\n",
        "https://www.ted.com/talks/richard_branson_s_life_at_30_000_feet/transcript"
       ]
      },
      {
       "output_type": "stream",
       "stream": "stdout",
       "text": [
        "\n",
        "https://www.ted.com/talks/black_my_journey_to_yo_yo_mastery/transcript"
       ]
      },
      {
       "output_type": "stream",
       "stream": "stdout",
       "text": [
        "\n",
        "https://www.ted.com/talks/kiran_bir_sethi_teaches_kids_to_take_charge/transcript"
       ]
      },
      {
       "output_type": "stream",
       "stream": "stdout",
       "text": [
        "\n",
        "https://www.ted.com/talks/ed_ulbrich_shows_how_benjamin_button_got_his_face/transcript"
       ]
      },
      {
       "output_type": "stream",
       "stream": "stdout",
       "text": [
        "\n",
        "https://www.ted.com/talks/david_birch_identity_without_a_name/transcript"
       ]
      },
      {
       "output_type": "stream",
       "stream": "stdout",
       "text": [
        "\n",
        "https://www.ted.com/talks/gail_reed_where_to_train_the_world_s_doctors_cuba/transcript"
       ]
      },
      {
       "output_type": "stream",
       "stream": "stdout",
       "text": [
        "\n",
        "https://www.ted.com/talks/denis_dutton_a_darwinian_theory_of_beauty/transcript"
       ]
      },
      {
       "output_type": "stream",
       "stream": "stdout",
       "text": [
        "\n",
        "https://www.ted.com/talks/alain_de_botton_a_kinder_gentler_philosophy_of_success/transcript"
       ]
      },
      {
       "output_type": "stream",
       "stream": "stdout",
       "text": [
        "\n",
        "https://www.ted.com/talks/miru_kim_s_underground_art/transcript"
       ]
      },
      {
       "output_type": "stream",
       "stream": "stdout",
       "text": [
        "\n",
        "https://www.ted.com/talks/capt_charles_moore_on_the_seas_of_plastic/transcript"
       ]
      },
      {
       "output_type": "stream",
       "stream": "stdout",
       "text": [
        "\n",
        "https://www.ted.com/talks/nick_bostrom_on_our_biggest_problems/transcript"
       ]
      },
      {
       "output_type": "stream",
       "stream": "stdout",
       "text": [
        "\n",
        "https://www.ted.com/talks/oliver_sacks_what_hallucination_reveals_about_our_minds/transcript"
       ]
      },
      {
       "output_type": "stream",
       "stream": "stdout",
       "text": [
        "\n",
        "https://www.ted.com/talks/david_kelley_on_human_centered_design/transcript"
       ]
      },
      {
       "output_type": "stream",
       "stream": "stdout",
       "text": [
        "\n",
        "https://www.ted.com/talks/carolyn_porco_could_a_saturn_moon_harbor_life/transcript"
       ]
      },
      {
       "output_type": "stream",
       "stream": "stdout",
       "text": [
        "\n",
        "https://www.ted.com/talks/erik_schlangen_a_self_healing_asphalt/transcript"
       ]
      },
      {
       "output_type": "stream",
       "stream": "stdout",
       "text": [
        "\n",
        "https://www.ted.com/talks/paul_conneally_digital_humanitarianism/transcript"
       ]
      },
      {
       "output_type": "stream",
       "stream": "stdout",
       "text": [
        "\n",
        "https://www.ted.com/talks/susan_colantuono_the_career_advice_you_probably_didn_t_get/transcript"
       ]
      },
      {
       "output_type": "stream",
       "stream": "stdout",
       "text": [
        "\n",
        "https://www.ted.com/talks/johann_hari_everything_you_think_you_know_about_addiction_is_wrong/transcript"
       ]
      },
      {
       "output_type": "stream",
       "stream": "stdout",
       "text": [
        "\n",
        "https://www.ted.com/talks/joseph_nye_on_global_power_shifts/transcript"
       ]
      },
      {
       "output_type": "stream",
       "stream": "stdout",
       "text": [
        "\n",
        "https://www.ted.com/talks/hubertus_knabe_the_dark_secrets_of_a_surveillance_state/transcript"
       ]
      },
      {
       "output_type": "stream",
       "stream": "stdout",
       "text": [
        "\n",
        "https://www.ted.com/talks/alanna_shaikh_how_i_m_preparing_to_get_alzheimer_s/transcript"
       ]
      },
      {
       "output_type": "stream",
       "stream": "stdout",
       "text": [
        "\n",
        "https://www.ted.com/talks/charles_robertson_africa_s_next_boom/transcript"
       ]
      },
      {
       "output_type": "stream",
       "stream": "stdout",
       "text": [
        "\n",
        "https://www.ted.com/talks/bryan_stevenson_we_need_to_talk_about_an_injustice/transcript"
       ]
      },
      {
       "output_type": "stream",
       "stream": "stdout",
       "text": [
        "\n",
        "https://www.ted.com/talks/ananda_shankar_jayant_fights_cancer_with_a_dance/transcript"
       ]
      },
      {
       "output_type": "stream",
       "stream": "stdout",
       "text": [
        "\n",
        "https://www.ted.com/talks/brewster_kahle_builds_a_free_digital_library/transcript"
       ]
      },
      {
       "output_type": "stream",
       "stream": "stdout",
       "text": [
        "\n",
        "https://www.ted.com/talks/linda_hill_how_to_manage_for_collective_creativity/transcript"
       ]
      },
      {
       "output_type": "stream",
       "stream": "stdout",
       "text": [
        "\n",
        "https://www.ted.com/talks/michael_shermer_the_pattern_behind_self_deception/transcript"
       ]
      },
      {
       "output_type": "stream",
       "stream": "stdout",
       "text": [
        "\n",
        "https://www.ted.com/talks/george_whitesides_toward_a_science_of_simplicity/transcript"
       ]
      },
      {
       "output_type": "stream",
       "stream": "stdout",
       "text": [
        "\n",
        "https://www.ted.com/talks/guillaume_nery_the_exhilarating_peace_of_freediving/transcript"
       ]
      },
      {
       "output_type": "stream",
       "stream": "stdout",
       "text": [
        "\n",
        "https://www.ted.com/talks/tim_berners_lee_a_magna_carta_for_the_web/transcript"
       ]
      },
      {
       "output_type": "stream",
       "stream": "stdout",
       "text": [
        "\n",
        "https://www.ted.com/talks/terry_moore_how_to_tie_your_shoes/transcript"
       ]
      },
      {
       "output_type": "stream",
       "stream": "stdout",
       "text": [
        "\n",
        "https://www.ted.com/talks/jarrett_krosoczka_why_lunch_ladies_are_heroes/transcript"
       ]
      },
      {
       "output_type": "stream",
       "stream": "stdout",
       "text": [
        "\n",
        "https://www.ted.com/talks/alexa_meade/transcript"
       ]
      },
      {
       "output_type": "stream",
       "stream": "stdout",
       "text": [
        "\n",
        "https://www.ted.com/talks/maurizio_seracini_the_secret_lives_of_paintings/transcript"
       ]
      },
      {
       "output_type": "stream",
       "stream": "stdout",
       "text": [
        "\n",
        "https://www.ted.com/talks/regina_dugan_from_mach_20_glider_to_humming_bird_drone/transcript"
       ]
      },
      {
       "output_type": "stream",
       "stream": "stdout",
       "text": [
        "\n",
        "https://www.ted.com/talks/rives_tells_a_story_of_mixed_emoticons/transcript"
       ]
      },
      {
       "output_type": "stream",
       "stream": "stdout",
       "text": [
        "\n",
        "https://www.ted.com/talks/iain_mcgilchrist_the_divided_brain/transcript"
       ]
      },
      {
       "output_type": "stream",
       "stream": "stdout",
       "text": [
        "\n",
        "https://www.ted.com/talks/kitra_cahana_stories_of_the_homeless_and_hidden/transcript"
       ]
      },
      {
       "output_type": "stream",
       "stream": "stdout",
       "text": [
        "\n",
        "https://www.ted.com/talks/al_gore_warns_on_latest_climate_trends/transcript"
       ]
      },
      {
       "output_type": "stream",
       "stream": "stdout",
       "text": [
        "\n",
        "https://www.ted.com/talks/gian_giudice_why_our_universe_might_exist_on_a_knife_edge/transcript"
       ]
      },
      {
       "output_type": "stream",
       "stream": "stdout",
       "text": [
        "\n",
        "https://www.ted.com/talks/tim_birkhead_the_wisdom_of_birds/transcript"
       ]
      },
      {
       "output_type": "stream",
       "stream": "stdout",
       "text": [
        "\n",
        "https://www.ted.com/talks/jorge_soto_the_future_of_early_cancer_detection/transcript"
       ]
      },
      {
       "output_type": "stream",
       "stream": "stdout",
       "text": [
        "\n",
        "https://www.ted.com/talks/larry_brilliant_makes_the_case_for_optimism/transcript"
       ]
      },
      {
       "output_type": "stream",
       "stream": "stdout",
       "text": [
        "\n",
        "https://www.ted.com/talks/jonathan_zittrain_the_web_is_a_random_act_of_kindness/transcript"
       ]
      },
      {
       "output_type": "stream",
       "stream": "stdout",
       "text": [
        "\n",
        "https://www.ted.com/talks/kevin_kelly_on_the_next_5_000_days_of_the_web/transcript"
       ]
      },
      {
       "output_type": "stream",
       "stream": "stdout",
       "text": [
        "\n",
        "https://www.ted.com/talks/ryan_holladay_to_hear_this_music_you_have_to_be_there_literally/transcript"
       ]
      },
      {
       "output_type": "stream",
       "stream": "stdout",
       "text": [
        "\n",
        "https://www.ted.com/talks/karima_bennoune_the_side_of_terrorism_that_doesn_t_make_headlines/transcript"
       ]
      },
      {
       "output_type": "stream",
       "stream": "stdout",
       "text": [
        "\n",
        "https://www.ted.com/talks/adam_davidson_what_we_learned_from_teetering_on_the_fiscal_cliff/transcript"
       ]
      },
      {
       "output_type": "stream",
       "stream": "stdout",
       "text": [
        "\n",
        "https://www.ted.com/talks/tom_honey_on_god_and_the_tsunami/transcript"
       ]
      },
      {
       "output_type": "stream",
       "stream": "stdout",
       "text": [
        "\n",
        "https://www.ted.com/talks/sherry_turkle_alone_together/transcript"
       ]
      },
      {
       "output_type": "stream",
       "stream": "stdout",
       "text": [
        "\n",
        "https://www.ted.com/talks/barry_schwartz_using_our_practical_wisdom/transcript"
       ]
      },
      {
       "output_type": "stream",
       "stream": "stdout",
       "text": [
        "\n",
        "https://www.ted.com/talks/melinda_french_gates_what_nonprofits_can_learn_from_coca_cola/transcript"
       ]
      },
      {
       "output_type": "stream",
       "stream": "stdout",
       "text": [
        "\n",
        "https://www.ted.com/talks/justin_hall_tipping_freeing_energy_from_the_grid/transcript"
       ]
      },
      {
       "output_type": "stream",
       "stream": "stdout",
       "text": [
        "\n",
        "https://www.ted.com/talks/abraham_verghese_a_doctor_s_touch/transcript"
       ]
      },
      {
       "output_type": "stream",
       "stream": "stdout",
       "text": [
        "\n",
        "https://www.ted.com/talks/jonathan_harris_tells_the_web_s_secret_stories/transcript"
       ]
      },
      {
       "output_type": "stream",
       "stream": "stdout",
       "text": [
        "\n",
        "https://www.ted.com/talks/paul_greenberg_the_four_fish_we_re_overeating_and_what_to_eat_instead/transcript"
       ]
      },
      {
       "output_type": "stream",
       "stream": "stdout",
       "text": [
        "\n",
        "https://www.ted.com/talks/tom_shannon_s_magnetic_sculpture/transcript"
       ]
      },
      {
       "output_type": "stream",
       "stream": "stdout",
       "text": [
        "\n",
        "https://www.ted.com/talks/topher_white_what_can_save_the_rainforest_your_used_cell_phone/transcript"
       ]
      },
      {
       "output_type": "stream",
       "stream": "stdout",
       "text": [
        "\n",
        "https://www.ted.com/talks/wendy_chung_autism_what_we_know_and_what_we_don_t_know_yet/transcript"
       ]
      },
      {
       "output_type": "stream",
       "stream": "stdout",
       "text": [
        "\n",
        "https://www.ted.com/talks/michael_tilson_thomas_music_and_emotion_through_time/transcript"
       ]
      },
      {
       "output_type": "stream",
       "stream": "stdout",
       "text": [
        "\n",
        "https://www.ted.com/talks/james_burchfield_plays_invisible_turntables/transcript"
       ]
      },
      {
       "output_type": "stream",
       "stream": "stdout",
       "text": [
        "\n",
        "https://www.ted.com/talks/terry_moore_why_is_x_the_unknown/transcript"
       ]
      },
      {
       "output_type": "stream",
       "stream": "stdout",
       "text": [
        "\n",
        "https://www.ted.com/talks/antonio_guterres_refugees_have_the_right_to_be_protected/transcript"
       ]
      },
      {
       "output_type": "stream",
       "stream": "stdout",
       "text": [
        "\n",
        "https://www.ted.com/talks/sir_ken_robinson_bring_on_the_revolution/transcript"
       ]
      },
      {
       "output_type": "stream",
       "stream": "stdout",
       "text": [
        "\n",
        "https://www.ted.com/talks/nizar_ibrahim_how_we_unearthed_the_spinosaurus/transcript"
       ]
      },
      {
       "output_type": "stream",
       "stream": "stdout",
       "text": [
        "\n",
        "https://www.ted.com/talks/sarah_jayne_blakemore_the_mysterious_workings_of_the_adolescent_brain/transcript"
       ]
      },
      {
       "output_type": "stream",
       "stream": "stdout",
       "text": [
        "\n",
        "https://www.ted.com/talks/rodney_brooks_on_robots/transcript"
       ]
      },
      {
       "output_type": "stream",
       "stream": "stdout",
       "text": [
        "\n",
        "https://www.ted.com/talks/david_bolinsky_animates_a_cell/transcript"
       ]
      },
      {
       "output_type": "stream",
       "stream": "stdout",
       "text": [
        "\n",
        "https://www.ted.com/talks/carin_bondar_the_birds_and_the_bees_are_just_the_beginning/transcript"
       ]
      },
      {
       "output_type": "stream",
       "stream": "stdout",
       "text": [
        "\n",
        "https://www.ted.com/talks/richard_weller_could_the_sun_be_good_for_your_heart/transcript"
       ]
      },
      {
       "output_type": "stream",
       "stream": "stdout",
       "text": [
        "\n",
        "https://www.ted.com/talks/dan_pink_on_motivation/transcript"
       ]
      },
      {
       "output_type": "stream",
       "stream": "stdout",
       "text": [
        "\n",
        "https://www.ted.com/talks/adam_sadowsky_engineers_a_viral_music_video/transcript"
       ]
      },
      {
       "output_type": "stream",
       "stream": "stdout",
       "text": [
        "\n",
        "https://www.ted.com/talks/ze_frank_s_web_playroom/transcript"
       ]
      },
      {
       "output_type": "stream",
       "stream": "stdout",
       "text": [
        "\n",
        "https://www.ted.com/talks/michael_pritchard_invents_a_water_filter/transcript"
       ]
      },
      {
       "output_type": "stream",
       "stream": "stdout",
       "text": [
        "\n",
        "https://www.ted.com/talks/phil_hansen_embrace_the_shake/transcript"
       ]
      },
      {
       "output_type": "stream",
       "stream": "stdout",
       "text": [
        "\n",
        "https://www.ted.com/talks/markham_nolan_how_to_separate_fact_and_fiction_online/transcript"
       ]
      },
      {
       "output_type": "stream",
       "stream": "stdout",
       "text": [
        "\n",
        "https://www.ted.com/talks/ory_okolloh_on_becoming_an_activist/transcript"
       ]
      },
      {
       "output_type": "stream",
       "stream": "stdout",
       "text": [
        "\n",
        "https://www.ted.com/talks/alejandro_aravena_my_architectural_philosophy_bring_the_community_into_the_process/transcript"
       ]
      },
      {
       "output_type": "stream",
       "stream": "stdout",
       "text": [
        "\n",
        "https://www.ted.com/talks/danielle_de_niese_a_flirtatious_aria/transcript"
       ]
      },
      {
       "output_type": "stream",
       "stream": "stdout",
       "text": [
        "\n",
        "https://www.ted.com/talks/luca_turin_on_the_science_of_scent/transcript"
       ]
      },
      {
       "output_type": "stream",
       "stream": "stdout",
       "text": [
        "\n",
        "https://www.ted.com/talks/bill_stone_explores_the_earth_and_space/transcript"
       ]
      },
      {
       "output_type": "stream",
       "stream": "stdout",
       "text": [
        "\n",
        "https://www.ted.com/talks/jack_horner_shape_shifting_dinosaurs/transcript"
       ]
      },
      {
       "output_type": "stream",
       "stream": "stdout",
       "text": [
        "\n",
        "https://www.ted.com/talks/christopher_ryan_are_we_designed_to_be_sexual_omnivores/transcript"
       ]
      },
      {
       "output_type": "stream",
       "stream": "stdout",
       "text": [
        "\n",
        "https://www.ted.com/talks/kevin_stone_the_bio_future_of_joint_replacement/transcript"
       ]
      },
      {
       "output_type": "stream",
       "stream": "stdout",
       "text": [
        "\n",
        "https://www.ted.com/talks/bonnie_bassler_on_how_bacteria_communicate/transcript"
       ]
      },
      {
       "output_type": "stream",
       "stream": "stdout",
       "text": [
        "\n",
        "https://www.ted.com/talks/massimo_banzi_how_arduino_is_open_sourcing_imagination/transcript"
       ]
      },
      {
       "output_type": "stream",
       "stream": "stdout",
       "text": [
        "\n",
        "https://www.ted.com/talks/adora_svitak/transcript"
       ]
      },
      {
       "output_type": "stream",
       "stream": "stdout",
       "text": [
        "\n",
        "https://www.ted.com/talks/tristram_wyatt_the_smelly_mystery_of_the_human_pheromone/transcript"
       ]
      },
      {
       "output_type": "stream",
       "stream": "stdout",
       "text": [
        "\n",
        "https://www.ted.com/talks/toni_griffin_a_new_vision_for_rebuilding_detroit/transcript"
       ]
      },
      {
       "output_type": "stream",
       "stream": "stdout",
       "text": [
        "\n",
        "https://www.ted.com/talks/theo_jansen_creates_new_creatures/transcript"
       ]
      },
      {
       "output_type": "stream",
       "stream": "stdout",
       "text": [
        "\n",
        "https://www.ted.com/talks/tyler_dewitt_hey_science_teachers_make_it_fun/transcript"
       ]
      },
      {
       "output_type": "stream",
       "stream": "stdout",
       "text": [
        "\n",
        "https://www.ted.com/talks/richard_wilkinson/transcript"
       ]
      },
      {
       "output_type": "stream",
       "stream": "stdout",
       "text": [
        "\n",
        "https://www.ted.com/talks/bjorn_lomborg_sets_global_priorities/transcript"
       ]
      },
      {
       "output_type": "stream",
       "stream": "stdout",
       "text": [
        "\n",
        "https://www.ted.com/talks/daniel_kraft_medicine_s_future/transcript"
       ]
      },
      {
       "output_type": "stream",
       "stream": "stdout",
       "text": [
        "\n",
        "https://www.ted.com/talks/martin_rees_can_we_prevent_the_end_of_the_world/transcript"
       ]
      },
      {
       "output_type": "stream",
       "stream": "stdout",
       "text": [
        "\n",
        "https://www.ted.com/talks/david_brooks_should_you_live_for_your_resume_or_your_eulogy/transcript"
       ]
      },
      {
       "output_type": "stream",
       "stream": "stdout",
       "text": [
        "\n",
        "https://www.ted.com/talks/frank_gehry_asks_then_what/transcript"
       ]
      },
      {
       "output_type": "stream",
       "stream": "stdout",
       "text": [
        "\n",
        "https://www.ted.com/talks/stefan_wolff_the_path_to_ending_ethnic_conflicts/transcript"
       ]
      },
      {
       "output_type": "stream",
       "stream": "stdout",
       "text": [
        "\n",
        "https://www.ted.com/talks/edi_rama_take_back_your_city_with_paint/transcript"
       ]
      },
      {
       "output_type": "stream",
       "stream": "stdout",
       "text": [
        "\n",
        "https://www.ted.com/talks/keller_rinaudo_a_mini_robot_powered_by_your_phone/transcript"
       ]
      },
      {
       "output_type": "stream",
       "stream": "stdout",
       "text": [
        "\n",
        "https://www.ted.com/talks/steven_johnson_tours_the_ghost_map/transcript"
       ]
      },
      {
       "output_type": "stream",
       "stream": "stdout",
       "text": [
        "\n",
        "https://www.ted.com/talks/rives_a_museum_of_4_o_clock_in_the_morning/transcript"
       ]
      },
      {
       "output_type": "stream",
       "stream": "stdout",
       "text": [
        "\n",
        "https://www.ted.com/talks/toys_from_the_future/transcript"
       ]
      },
      {
       "output_type": "stream",
       "stream": "stdout",
       "text": [
        "\n",
        "https://www.ted.com/talks/roger_ebert_remaking_my_voice/transcript"
       ]
      },
      {
       "output_type": "stream",
       "stream": "stdout",
       "text": [
        "\n",
        "https://www.ted.com/talks/lee_cronin_print_your_own_medicine/transcript"
       ]
      },
      {
       "output_type": "stream",
       "stream": "stdout",
       "text": [
        "\n",
        "https://www.ted.com/talks/bill_doyle_treating_cancer_with_electric_fields/transcript"
       ]
      },
      {
       "output_type": "stream",
       "stream": "stdout",
       "text": [
        "\n",
        "https://www.ted.com/talks/rives_remixes_ted2006/transcript"
       ]
      },
      {
       "output_type": "stream",
       "stream": "stdout",
       "text": [
        "\n",
        "https://www.ted.com/talks/johnny_lee_demos_wii_remote_hacks/transcript"
       ]
      },
      {
       "output_type": "stream",
       "stream": "stdout",
       "text": [
        "\n",
        "https://www.ted.com/talks/graham_hill_less_stuff_more_happiness/transcript"
       ]
      },
      {
       "output_type": "stream",
       "stream": "stdout",
       "text": [
        "\n",
        "https://www.ted.com/talks/david_byrne_sings_nothing_but_flowers/transcript"
       ]
      },
      {
       "output_type": "stream",
       "stream": "stdout",
       "text": [
        "\n",
        "https://www.ted.com/talks/daniel_reisel_the_neuroscience_of_restorative_justice/transcript"
       ]
      },
      {
       "output_type": "stream",
       "stream": "stdout",
       "text": [
        "\n",
        "https://www.ted.com/talks/david_steindl_rast_want_to_be_happy_be_grateful/transcript"
       ]
      },
      {
       "output_type": "stream",
       "stream": "stdout",
       "text": [
        "\n",
        "https://www.ted.com/talks/matt_mills_image_recognition_that_triggers_augmented_reality/transcript"
       ]
      },
      {
       "output_type": "stream",
       "stream": "stdout",
       "text": [
        "\n",
        "https://www.ted.com/talks/tom_wujec_demos_the_13th_century_astrolabe/transcript"
       ]
      },
      {
       "output_type": "stream",
       "stream": "stdout",
       "text": [
        "\n",
        "https://www.ted.com/talks/erin_mckean_redefines_the_dictionary/transcript"
       ]
      },
      {
       "output_type": "stream",
       "stream": "stdout",
       "text": [
        "\n",
        "https://www.ted.com/talks/roger_mcnamee_six_ways_to_save_the_internet/transcript"
       ]
      },
      {
       "output_type": "stream",
       "stream": "stdout",
       "text": [
        "\n",
        "https://www.ted.com/talks/margaret_wertheim_crochets_the_coral_reef/transcript"
       ]
      },
      {
       "output_type": "stream",
       "stream": "stdout",
       "text": [
        "\n",
        "https://www.ted.com/talks/lemn_sissay_a_child_of_the_state/transcript"
       ]
      },
      {
       "output_type": "stream",
       "stream": "stdout",
       "text": [
        "\n",
        "https://www.ted.com/talks/sangu_delle_in_praise_of_macro_yes_macro_finance_in_africa/transcript"
       ]
      },
      {
       "output_type": "stream",
       "stream": "stdout",
       "text": [
        "\n",
        "https://www.ted.com/talks/anne_curzan_what_makes_a_word_real/transcript"
       ]
      },
      {
       "output_type": "stream",
       "stream": "stdout",
       "text": [
        "\n",
        "https://www.ted.com/talks/israel_and_iran_a_love_story/transcript"
       ]
      },
      {
       "output_type": "stream",
       "stream": "stdout",
       "text": [
        "\n",
        "https://www.ted.com/talks/gavin_pretor_pinney_cloudy_with_a_chance_of_joy/transcript"
       ]
      },
      {
       "output_type": "stream",
       "stream": "stdout",
       "text": [
        "\n",
        "https://www.ted.com/talks/eric_berlow_how_complexity_leads_to_simplicity/transcript"
       ]
      },
      {
       "output_type": "stream",
       "stream": "stdout",
       "text": [
        "\n",
        "https://www.ted.com/talks/anand_varma_a_thrilling_look_at_the_first_21_days_of_a_bee_s_life/transcript"
       ]
      },
      {
       "output_type": "stream",
       "stream": "stdout",
       "text": [
        "\n",
        "https://www.ted.com/talks/tyrone_hayes_penelope_jagessar_chaffer_the_toxic_baby/transcript"
       ]
      },
      {
       "output_type": "stream",
       "stream": "stdout",
       "text": [
        "\n",
        "https://www.ted.com/talks/john_kasaona_from_poachers_to_caretakers/transcript"
       ]
      },
      {
       "output_type": "stream",
       "stream": "stdout",
       "text": [
        "\n",
        "https://www.ted.com/talks/neil_pasricha_the_3_a_s_of_awesome/transcript"
       ]
      },
      {
       "output_type": "stream",
       "stream": "stdout",
       "text": [
        "\n",
        "https://www.ted.com/talks/shai_reshef_a_tuition_free_college_degree/transcript"
       ]
      },
      {
       "output_type": "stream",
       "stream": "stdout",
       "text": [
        "\n",
        "https://www.ted.com/talks/daphne_bavelier_your_brain_on_video_games/transcript"
       ]
      },
      {
       "output_type": "stream",
       "stream": "stdout",
       "text": [
        "\n",
        "https://www.ted.com/talks/jean_baptiste_michel_the_mathematics_of_history/transcript"
       ]
      },
      {
       "output_type": "stream",
       "stream": "stdout",
       "text": [
        "\n",
        "https://www.ted.com/talks/lorrie_faith_cranor_what_s_wrong_with_your_pa_w0rd/transcript"
       ]
      },
      {
       "output_type": "stream",
       "stream": "stdout",
       "text": [
        "\n",
        "https://www.ted.com/talks/carl_safina_the_oil_spill_s_unseen_culprits_victims/transcript"
       ]
      },
      {
       "output_type": "stream",
       "stream": "stdout",
       "text": [
        "\n",
        "https://www.ted.com/talks/fred_jansen_how_to_land_on_a_comet/transcript"
       ]
      },
      {
       "output_type": "stream",
       "stream": "stdout",
       "text": [
        "\n",
        "https://www.ted.com/talks/steven_pinker_on_the_myth_of_violence/transcript"
       ]
      },
      {
       "output_type": "stream",
       "stream": "stdout",
       "text": [
        "\n",
        "https://www.ted.com/talks/andy_hobsbawm_says_do_the_green_thing/transcript"
       ]
      },
      {
       "output_type": "stream",
       "stream": "stdout",
       "text": [
        "\n",
        "https://www.ted.com/talks/bruno_torturra_got_a_smartphone_start_broadcasting/transcript"
       ]
      },
      {
       "output_type": "stream",
       "stream": "stdout",
       "text": [
        "\n",
        "https://www.ted.com/talks/jim_toomey_learning_from_sherman_the_shark/transcript"
       ]
      },
      {
       "output_type": "stream",
       "stream": "stdout",
       "text": [
        "\n",
        "https://www.ted.com/talks/jay_walker_s_library_of_human_imagination/transcript"
       ]
      },
      {
       "output_type": "stream",
       "stream": "stdout",
       "text": [
        "\n",
        "https://www.ted.com/talks/mustafa_akyol_faith_versus_tradition_in_islam/transcript"
       ]
      },
      {
       "output_type": "stream",
       "stream": "stdout",
       "text": [
        "\n",
        "https://www.ted.com/talks/sandrine_thuret_you_can_grow_new_brain_cells_here_s_how/transcript"
       ]
      },
      {
       "output_type": "stream",
       "stream": "stdout",
       "text": [
        "\n",
        "https://www.ted.com/talks/bill_gates_how_state_budgets_are_breaking_us_schools/transcript"
       ]
      },
      {
       "output_type": "stream",
       "stream": "stdout",
       "text": [
        "\n",
        "https://www.ted.com/talks/robin_murphy_these_robots_come_to_the_rescue_after_a_disaster/transcript"
       ]
      },
      {
       "output_type": "stream",
       "stream": "stdout",
       "text": [
        "\n",
        "https://www.ted.com/talks/jacqueline_novogratz_inspiring_a_life_of_immersion/transcript"
       ]
      },
      {
       "output_type": "stream",
       "stream": "stdout",
       "text": [
        "\n",
        "https://www.ted.com/talks/euvin_naidoo_on_investing_in_africa/transcript"
       ]
      },
      {
       "output_type": "stream",
       "stream": "stdout",
       "text": [
        "\n",
        "https://www.ted.com/talks/philip_howard/transcript"
       ]
      },
      {
       "output_type": "stream",
       "stream": "stdout",
       "text": [
        "\n",
        "https://www.ted.com/talks/9_11_healing_the_mothers_who_found_forgiveness_friendship/transcript"
       ]
      },
      {
       "output_type": "stream",
       "stream": "stdout",
       "text": [
        "\n",
        "https://www.ted.com/talks/charles_hazlewood/transcript"
       ]
      },
      {
       "output_type": "stream",
       "stream": "stdout",
       "text": [
        "\n",
        "https://www.ted.com/talks/seth_godin_on_sliced_bread/transcript"
       ]
      },
      {
       "output_type": "stream",
       "stream": "stdout",
       "text": [
        "\n",
        "https://www.ted.com/talks/jason_clay_how_big_brands_can_save_biodiversity/transcript"
       ]
      },
      {
       "output_type": "stream",
       "stream": "stdout",
       "text": [
        "\n",
        "https://www.ted.com/talks/kristina_gjerde_making_law_on_the_high_seas/transcript"
       ]
      },
      {
       "output_type": "stream",
       "stream": "stdout",
       "text": [
        "\n",
        "https://www.ted.com/talks/eman_mohammed_the_courage_to_tell_a_hidden_story/transcript"
       ]
      },
      {
       "output_type": "stream",
       "stream": "stdout",
       "text": [
        "\n",
        "https://www.ted.com/talks/dennis_hong_making_a_car_for_blind_drivers/transcript"
       ]
      },
      {
       "output_type": "stream",
       "stream": "stdout",
       "text": [
        "\n",
        "https://www.ted.com/talks/sebastian_wernicke_how_to_use_data_to_make_a_hit_tv_show/transcript"
       ]
      },
      {
       "output_type": "stream",
       "stream": "stdout",
       "text": [
        "\n",
        "https://www.ted.com/talks/eric_liu_why_ordinary_people_need_to_understand_power/transcript"
       ]
      },
      {
       "output_type": "stream",
       "stream": "stdout",
       "text": [
        "\n",
        "https://www.ted.com/talks/rick_falkvinge_i_am_a_pirate/transcript"
       ]
      },
      {
       "output_type": "stream",
       "stream": "stdout",
       "text": [
        "\n",
        "https://www.ted.com/talks/naomi_klein_addicted_to_risk/transcript"
       ]
      },
      {
       "output_type": "stream",
       "stream": "stdout",
       "text": [
        "\n",
        "https://www.ted.com/talks/skylar_tibbits_can_we_make_things_that_make_themselves/transcript"
       ]
      },
      {
       "output_type": "stream",
       "stream": "stdout",
       "text": [
        "\n",
        "https://www.ted.com/talks/bj_miller_what_really_matters_at_the_end_of_life/transcript"
       ]
      },
      {
       "output_type": "stream",
       "stream": "stdout",
       "text": [
        "\n",
        "https://www.ted.com/talks/paul_debevec_animates_a_photo_real_digital_face/transcript"
       ]
      },
      {
       "output_type": "stream",
       "stream": "stdout",
       "text": [
        "\n",
        "https://www.ted.com/talks/mac_stone_stunning_photos_of_the_endangered_everglades/transcript"
       ]
      },
      {
       "output_type": "stream",
       "stream": "stdout",
       "text": [
        "\n",
        "https://www.ted.com/talks/dan_pallotta_the_way_we_think_about_charity_is_dead_wrong/transcript"
       ]
      },
      {
       "output_type": "stream",
       "stream": "stdout",
       "text": [
        "\n",
        "https://www.ted.com/talks/seth_godin_on_the_tribes_we_lead/transcript"
       ]
      },
      {
       "output_type": "stream",
       "stream": "stdout",
       "text": [
        "\n",
        "https://www.ted.com/talks/deb_roy_the_birth_of_a_word/transcript"
       ]
      },
      {
       "output_type": "stream",
       "stream": "stdout",
       "text": [
        "\n",
        "https://www.ted.com/talks/kirby_ferguson_embrace_the_remix/transcript"
       ]
      },
      {
       "output_type": "stream",
       "stream": "stdout",
       "text": [
        "\n",
        "https://www.ted.com/talks/chris_bangle_says_great_cars_are_art/transcript"
       ]
      },
      {
       "output_type": "stream",
       "stream": "stdout",
       "text": [
        "\n",
        "https://www.ted.com/talks/julian_treasure_shh_sound_health_in_8_steps/transcript"
       ]
      },
      {
       "output_type": "stream",
       "stream": "stdout",
       "text": [
        "\n",
        "https://www.ted.com/talks/tierney_thys_swims_with_the_giant_sunfish/transcript"
       ]
      },
      {
       "output_type": "stream",
       "stream": "stdout",
       "text": [
        "\n",
        "https://www.ted.com/talks/diana_nyad_never_ever_give_up/transcript"
       ]
      },
      {
       "output_type": "stream",
       "stream": "stdout",
       "text": [
        "\n",
        "https://www.ted.com/talks/paul_snelgrove_a_census_of_the_ocean/transcript"
       ]
      },
      {
       "output_type": "stream",
       "stream": "stdout",
       "text": [
        "\n",
        "https://www.ted.com/talks/al_gore_s_new_thinking_on_the_climate_crisis/transcript"
       ]
      },
      {
       "output_type": "stream",
       "stream": "stdout",
       "text": [
        "\n",
        "https://www.ted.com/talks/elon_musk_the_mind_behind_tesla_spacex_solarcity/transcript"
       ]
      },
      {
       "output_type": "stream",
       "stream": "stdout",
       "text": [
        "\n",
        "https://www.ted.com/talks/david_blaine_how_i_held_my_breath_for_17_min/transcript"
       ]
      },
      {
       "output_type": "stream",
       "stream": "stdout",
       "text": [
        "\n",
        "https://www.ted.com/talks/renata_salecl_our_unhealthy_obsession_with_choice/transcript"
       ]
      },
      {
       "output_type": "stream",
       "stream": "stdout",
       "text": [
        "\n",
        "https://www.ted.com/talks/ivan_oransky_are_we_over_medicalized/transcript"
       ]
      },
      {
       "output_type": "stream",
       "stream": "stdout",
       "text": [
        "\n",
        "https://www.ted.com/talks/rita_pierson_every_kid_needs_a_champion/transcript"
       ]
      },
      {
       "output_type": "stream",
       "stream": "stdout",
       "text": [
        "\n",
        "https://www.ted.com/talks/alex_steffen/transcript"
       ]
      },
      {
       "output_type": "stream",
       "stream": "stdout",
       "text": [
        "\n",
        "https://www.ted.com/talks/laura_carstensen_older_people_are_happier/transcript"
       ]
      },
      {
       "output_type": "stream",
       "stream": "stdout",
       "text": [
        "\n",
        "https://www.ted.com/talks/damian_palin_mining_minerals_from_seawater/transcript"
       ]
      },
      {
       "output_type": "stream",
       "stream": "stdout",
       "text": [
        "\n",
        "https://www.ted.com/talks/mia_birdsong_the_story_we_tell_about_poverty_isn_t_true/transcript"
       ]
      },
      {
       "output_type": "stream",
       "stream": "stdout",
       "text": [
        "\n",
        "https://www.ted.com/talks/richard_dawkins_on_our_queer_universe/transcript"
       ]
      },
      {
       "output_type": "stream",
       "stream": "stdout",
       "text": [
        "\n",
        "https://www.ted.com/talks/frans_lanting_photos_that_give_voice_to_the_animal_kingdom/transcript"
       ]
      },
      {
       "output_type": "stream",
       "stream": "stdout",
       "text": [
        "\n",
        "https://www.ted.com/talks/eric_dishman_health_care_should_be_a_team_sport/transcript"
       ]
      },
      {
       "output_type": "stream",
       "stream": "stdout",
       "text": [
        "\n",
        "https://www.ted.com/talks/richard_sears_planning_for_the_end_of_oil/transcript"
       ]
      },
      {
       "output_type": "stream",
       "stream": "stdout",
       "text": [
        "\n",
        "https://www.ted.com/talks/trita_parsi_iran_and_israel_peace_is_possible/transcript"
       ]
      },
      {
       "output_type": "stream",
       "stream": "stdout",
       "text": [
        "\n",
        "https://www.ted.com/talks/morley_sings_women_of_hope/transcript"
       ]
      },
      {
       "output_type": "stream",
       "stream": "stdout",
       "text": [
        "\n",
        "https://www.ted.com/talks/david_rothkopf_how_fear_drives_american_politics/transcript"
       ]
      },
      {
       "output_type": "stream",
       "stream": "stdout",
       "text": [
        "\n",
        "https://www.ted.com/talks/vishal_vaid_s_hypnotic_song/transcript"
       ]
      },
      {
       "output_type": "stream",
       "stream": "stdout",
       "text": [
        "\n",
        "https://www.ted.com/talks/richard_st_john_success_is_a_continuous_journey/transcript"
       ]
      },
      {
       "output_type": "stream",
       "stream": "stdout",
       "text": [
        "\n",
        "https://www.ted.com/talks/kavita_ramdas_radical_women_embracing_tradition/transcript"
       ]
      },
      {
       "output_type": "stream",
       "stream": "stdout",
       "text": [
        "\n",
        "https://www.ted.com/talks/anand_agarawala_demos_his_bumptop_desktop/transcript"
       ]
      },
      {
       "output_type": "stream",
       "stream": "stdout",
       "text": [
        "\n",
        "https://www.ted.com/talks/chris_gerdes_the_future_race_car_150mph_and_no_driver/transcript"
       ]
      },
      {
       "output_type": "stream",
       "stream": "stdout",
       "text": [
        "\n",
        "https://www.ted.com/talks/teddy_cruz_how_architectural_innovations_migrate_across_borders/transcript"
       ]
      },
      {
       "output_type": "stream",
       "stream": "stdout",
       "text": [
        "\n",
        "https://www.ted.com/talks/alison_killing_there_s_a_better_way_to_die_and_architecture_can_help/transcript"
       ]
      },
      {
       "output_type": "stream",
       "stream": "stdout",
       "text": [
        "\n",
        "https://www.ted.com/talks/jill_heinerth_the_mysterious_world_of_underwater_caves/transcript"
       ]
      },
      {
       "output_type": "stream",
       "stream": "stdout",
       "text": [
        "\n",
        "https://www.ted.com/talks/eve_ensler_on_security/transcript"
       ]
      },
      {
       "output_type": "stream",
       "stream": "stdout",
       "text": [
        "\n",
        "https://www.ted.com/talks/hector_ruiz_on_connecting_the_world/transcript"
       ]
      },
      {
       "output_type": "stream",
       "stream": "stdout",
       "text": [
        "\n",
        "https://www.ted.com/talks/hans_rosling_the_good_news_of_the_decade/transcript"
       ]
      },
      {
       "output_type": "stream",
       "stream": "stdout",
       "text": [
        "\n",
        "https://www.ted.com/talks/sheila_nirenberg_a_prosthetic_eye_to_treat_blindness/transcript"
       ]
      },
      {
       "output_type": "stream",
       "stream": "stdout",
       "text": [
        "\n",
        "https://www.ted.com/talks/henry_lin_what_we_can_learn_from_galaxies_far_far_away/transcript"
       ]
      },
      {
       "output_type": "stream",
       "stream": "stdout",
       "text": [
        "\n",
        "https://www.ted.com/talks/jamie_oliver/transcript"
       ]
      },
      {
       "output_type": "stream",
       "stream": "stdout",
       "text": [
        "\n",
        "https://www.ted.com/talks/luis_von_ahn_massive_scale_online_collaboration/transcript"
       ]
      },
      {
       "output_type": "stream",
       "stream": "stdout",
       "text": [
        "\n",
        "https://www.ted.com/talks/read_montague_what_we_re_learning_from_5_000_brains/transcript"
       ]
      },
      {
       "output_type": "stream",
       "stream": "stdout",
       "text": [
        "\n",
        "https://www.ted.com/talks/joi_ito_want_to_innovate_become_a_now_ist/transcript"
       ]
      },
      {
       "output_type": "stream",
       "stream": "stdout",
       "text": [
        "\n",
        "https://www.ted.com/talks/william_noel_revealing_the_lost_codex_of_archimedes/transcript"
       ]
      },
      {
       "output_type": "stream",
       "stream": "stdout",
       "text": [
        "\n",
        "https://www.ted.com/talks/asher_hasan_s_message_of_peace_from_pakistan/transcript"
       ]
      },
      {
       "output_type": "stream",
       "stream": "stdout",
       "text": [
        "\n",
        "https://www.ted.com/talks/andrew_bastawrous_get_your_next_eye_exam_on_a_smartphone/transcript"
       ]
      },
      {
       "output_type": "stream",
       "stream": "stdout",
       "text": [
        "\n",
        "https://www.ted.com/talks/jason_mccue_terrorism_is_a_failed_brand/transcript"
       ]
      },
      {
       "output_type": "stream",
       "stream": "stdout",
       "text": [
        "\n",
        "https://www.ted.com/talks/daniel_goleman_on_compassion/transcript"
       ]
      },
      {
       "output_type": "stream",
       "stream": "stdout",
       "text": [
        "\n",
        "https://www.ted.com/talks/jill_farrant_how_we_can_make_crops_survive_without_water/transcript"
       ]
      },
      {
       "output_type": "stream",
       "stream": "stdout",
       "text": [
        "\n",
        "https://www.ted.com/talks/e_o_wilson_advice_to_young_scientists/transcript"
       ]
      },
      {
       "output_type": "stream",
       "stream": "stdout",
       "text": [
        "\n",
        "https://www.ted.com/talks/misha_glenny_investigates_global_crime_networks/transcript"
       ]
      },
      {
       "output_type": "stream",
       "stream": "stdout",
       "text": [
        "\n",
        "https://www.ted.com/talks/larry_brilliant_wants_to_stop_pandemics/transcript"
       ]
      },
      {
       "output_type": "stream",
       "stream": "stdout",
       "text": [
        "\n",
        "https://www.ted.com/talks/bruce_feiler_agile_programming_for_your_family/transcript"
       ]
      },
      {
       "output_type": "stream",
       "stream": "stdout",
       "text": [
        "\n",
        "https://www.ted.com/talks/joseph_lekuton_tells_a_parable_for_kenya/transcript"
       ]
      },
      {
       "output_type": "stream",
       "stream": "stdout",
       "text": [
        "\n",
        "https://www.ted.com/talks/neil_gershenfeld_on_fab_labs/transcript"
       ]
      },
      {
       "output_type": "stream",
       "stream": "stdout",
       "text": [
        "\n",
        "https://www.ted.com/talks/joshua_prince_ramus_building_a_theater_that_remakes_itself/transcript"
       ]
      },
      {
       "output_type": "stream",
       "stream": "stdout",
       "text": [
        "\n",
        "https://www.ted.com/talks/bill_clinton_on_rebuilding_rwanda/transcript"
       ]
      },
      {
       "output_type": "stream",
       "stream": "stdout",
       "text": [
        "\n",
        "https://www.ted.com/talks/josette_sheeran_ending_hunger_now/transcript"
       ]
      },
      {
       "output_type": "stream",
       "stream": "stdout",
       "text": [
        "\n",
        "https://www.ted.com/talks/david_gallo_on_life_in_the_deep_oceans/transcript"
       ]
      },
      {
       "output_type": "stream",
       "stream": "stdout",
       "text": [
        "\n",
        "https://www.ted.com/talks/kelly_mcgonigal_how_to_make_stress_your_friend/transcript"
       ]
      },
      {
       "output_type": "stream",
       "stream": "stdout",
       "text": [
        "\n",
        "https://www.ted.com/talks/a_whistleblower_you_haven_t_heard/transcript"
       ]
      },
      {
       "output_type": "stream",
       "stream": "stdout",
       "text": [
        "\n",
        "https://www.ted.com/talks/sarah_jones_as_a_one_woman_global_village/transcript"
       ]
      },
      {
       "output_type": "stream",
       "stream": "stdout",
       "text": [
        "\n",
        "https://www.ted.com/talks/harald_haas_a_breakthrough_new_kind_of_wireless_internet/transcript"
       ]
      },
      {
       "output_type": "stream",
       "stream": "stdout",
       "text": [
        "\n",
        "https://www.ted.com/talks/rives_on_4_a_m/transcript"
       ]
      },
      {
       "output_type": "stream",
       "stream": "stdout",
       "text": [
        "\n",
        "https://www.ted.com/talks/fabian_oefner_psychedelic_science/transcript"
       ]
      },
      {
       "output_type": "stream",
       "stream": "stdout",
       "text": [
        "\n",
        "https://www.ted.com/talks/eben_bayer_are_mushrooms_the_new_plastic/transcript"
       ]
      },
      {
       "output_type": "stream",
       "stream": "stdout",
       "text": [
        "\n",
        "https://www.ted.com/talks/jessica_green_good_germs_make_healthy_buildings/transcript"
       ]
      },
      {
       "output_type": "stream",
       "stream": "stdout",
       "text": [
        "\n",
        "https://www.ted.com/talks/j_j_abrams_mystery_box/transcript"
       ]
      },
      {
       "output_type": "stream",
       "stream": "stdout",
       "text": [
        "\n",
        "https://www.ted.com/talks/amber_case_we_are_all_cyborgs_now/transcript"
       ]
      },
      {
       "output_type": "stream",
       "stream": "stdout",
       "text": [
        "\n",
        "https://www.ted.com/talks/esther_perel_rethinking_infidelity_a_talk_for_anyone_who_has_ever_loved/transcript"
       ]
      },
      {
       "output_type": "stream",
       "stream": "stdout",
       "text": [
        "\n",
        "https://www.ted.com/talks/peter_tyack_the_intriguing_sound_of_marine_mammals/transcript"
       ]
      },
      {
       "output_type": "stream",
       "stream": "stdout",
       "text": [
        "\n",
        "https://www.ted.com/talks/roberto_d_angelo_francesca_fedeli_in_our_baby_s_illness_a_life_lesson/transcript"
       ]
      },
      {
       "output_type": "stream",
       "stream": "stdout",
       "text": [
        "\n",
        "https://www.ted.com/talks/jer_thorp_make_data_more_human/transcript"
       ]
      },
      {
       "output_type": "stream",
       "stream": "stdout",
       "text": [
        "\n",
        "https://www.ted.com/talks/bill_gates_the_next_disaster_we_re_not_ready/transcript"
       ]
      },
      {
       "output_type": "stream",
       "stream": "stdout",
       "text": [
        "\n",
        "https://www.ted.com/talks/moshe_safdie_on_building_uniqueness/transcript"
       ]
      },
      {
       "output_type": "stream",
       "stream": "stdout",
       "text": [
        "\n",
        "https://www.ted.com/talks/chimamanda_adichie_the_danger_of_a_single_story/transcript"
       ]
      },
      {
       "output_type": "stream",
       "stream": "stdout",
       "text": [
        "\n",
        "https://www.ted.com/talks/marina_abramovic_an_art_made_of_trust_vulnerability_and_connection/transcript"
       ]
      },
      {
       "output_type": "stream",
       "stream": "stdout",
       "text": [
        "\n",
        "https://www.ted.com/talks/homaro_cantu_ben_roche_cooking_as_alchemy/transcript"
       ]
      },
      {
       "output_type": "stream",
       "stream": "stdout",
       "text": [
        "\n",
        "https://www.ted.com/talks/ben_dunlap_talks_about_a_passionate_life/transcript"
       ]
      },
      {
       "output_type": "stream",
       "stream": "stdout",
       "text": [
        "\n",
        "https://www.ted.com/talks/lisa_bu_how_books_can_open_your_mind/transcript"
       ]
      },
      {
       "output_type": "stream",
       "stream": "stdout",
       "text": [
        "\n",
        "https://www.ted.com/talks/yoruba_richen_what_the_gay_rights_movement_learned_from_the_civil_rights_movement/transcript"
       ]
      },
      {
       "output_type": "stream",
       "stream": "stdout",
       "text": [
        "\n",
        "https://www.ted.com/talks/anastasia_taylor_lind_fighters_and_mourners_of_the_ukrainian_revolution/transcript"
       ]
      },
      {
       "output_type": "stream",
       "stream": "stdout",
       "text": [
        "\n",
        "https://www.ted.com/talks/nathan_myhrvold_on_archeology_animal_photography_bbq/transcript"
       ]
      },
      {
       "output_type": "stream",
       "stream": "stdout",
       "text": [
        "\n",
        "https://www.ted.com/talks/peter_donnelly_shows_how_stats_fool_juries/transcript"
       ]
      },
      {
       "output_type": "stream",
       "stream": "stdout",
       "text": [
        "\n",
        "https://www.ted.com/talks/bel_pesce_5_ways_to_kill_your_dreams/transcript"
       ]
      },
      {
       "output_type": "stream",
       "stream": "stdout",
       "text": [
        "\n",
        "https://www.ted.com/talks/josh_silver_demos_adjustable_liquid_filled_eyeglasses/transcript"
       ]
      },
      {
       "output_type": "stream",
       "stream": "stdout",
       "text": [
        "\n",
        "https://www.ted.com/talks/ellen_t_hoen_pool_medical_patents_save_lives/transcript"
       ]
      },
      {
       "output_type": "stream",
       "stream": "stdout",
       "text": [
        "\n",
        "https://www.ted.com/talks/rory_sutherland_perspective_is_everything/transcript"
       ]
      },
      {
       "output_type": "stream",
       "stream": "stdout",
       "text": [
        "\n",
        "https://www.ted.com/talks/rebecca_onie_what_if_our_healthcare_system_kept_us_healthy/transcript"
       ]
      },
      {
       "output_type": "stream",
       "stream": "stdout",
       "text": [
        "\n",
        "https://www.ted.com/talks/juan_enriquez_shares_mindboggling_new_science/transcript"
       ]
      },
      {
       "output_type": "stream",
       "stream": "stdout",
       "text": [
        "\n",
        "https://www.ted.com/talks/david_epstein_are_athletes_really_getting_faster_better_stronger/transcript"
       ]
      },
      {
       "output_type": "stream",
       "stream": "stdout",
       "text": [
        "\n",
        "https://www.ted.com/talks/helen_fisher_studies_the_brain_in_love/transcript"
       ]
      },
      {
       "output_type": "stream",
       "stream": "stdout",
       "text": [
        "\n",
        "https://www.ted.com/talks/eduardo_saenz_de_cabezon_math_is_forever/transcript"
       ]
      },
      {
       "output_type": "stream",
       "stream": "stdout",
       "text": [
        "\n",
        "https://www.ted.com/talks/patricia_ryan_ideas_in_all_languages_not_just_english/transcript"
       ]
      },
      {
       "output_type": "stream",
       "stream": "stdout",
       "text": [
        "\n",
        "https://www.ted.com/talks/ernesto_sirolli_want_to_help_someone_shut_up_and_listen/transcript"
       ]
      },
      {
       "output_type": "stream",
       "stream": "stdout",
       "text": [
        "\n",
        "https://www.ted.com/talks/katherine_kuchenbecker_the_technology_of_touch/transcript"
       ]
      },
      {
       "output_type": "stream",
       "stream": "stdout",
       "text": [
        "\n",
        "https://www.ted.com/talks/seth_priebatsch_the_game_layer_on_top_of_the_world/transcript"
       ]
      },
      {
       "output_type": "stream",
       "stream": "stdout",
       "text": [
        "\n",
        "https://www.ted.com/talks/a_robot_that_flies_like_a_bird/transcript"
       ]
      },
      {
       "output_type": "stream",
       "stream": "stdout",
       "text": [
        "\n",
        "https://www.ted.com/talks/gary_haugen_the_hidden_reason_for_poverty_the_world_needs_to_address_now/transcript"
       ]
      },
      {
       "output_type": "stream",
       "stream": "stdout",
       "text": [
        "\n",
        "https://www.ted.com/talks/peter_attia_what_if_we_re_wrong_about_diabetes/transcript"
       ]
      },
      {
       "output_type": "stream",
       "stream": "stdout",
       "text": [
        "\n",
        "https://www.ted.com/talks/carmen_agra_deedy_spins_stories/transcript"
       ]
      },
      {
       "output_type": "stream",
       "stream": "stdout",
       "text": [
        "\n",
        "https://www.ted.com/talks/halla_tomasdottir/transcript"
       ]
      },
      {
       "output_type": "stream",
       "stream": "stdout",
       "text": [
        "\n",
        "https://www.ted.com/talks/david_grady_how_to_save_the_world_or_at_least_yourself_from_bad_meetings/transcript"
       ]
      },
      {
       "output_type": "stream",
       "stream": "stdout",
       "text": [
        "\n",
        "https://www.ted.com/talks/josh_luber_the_secret_sneaker_market_and_why_it_matters/transcript"
       ]
      },
      {
       "output_type": "stream",
       "stream": "stdout",
       "text": [
        "\n",
        "https://www.ted.com/talks/mark_forsyth_what_s_a_snollygoster_a_short_lesson_in_political_speak/transcript"
       ]
      },
      {
       "output_type": "stream",
       "stream": "stdout",
       "text": [
        "\n",
        "https://www.ted.com/talks/maryn_mckenna_what_do_we_do_when_antibiotics_don_t_work_any_more/transcript"
       ]
      },
      {
       "output_type": "stream",
       "stream": "stdout",
       "text": [
        "\n",
        "https://www.ted.com/talks/ethan_nadelmann_why_we_need_to_end_the_war_on_drugs/transcript"
       ]
      },
      {
       "output_type": "stream",
       "stream": "stdout",
       "text": [
        "\n",
        "https://www.ted.com/talks/samantha_power_on_a_complicated_hero/transcript"
       ]
      },
      {
       "output_type": "stream",
       "stream": "stdout",
       "text": [
        "\n",
        "https://www.ted.com/talks/juliana_machado_ferreira/transcript"
       ]
      },
      {
       "output_type": "stream",
       "stream": "stdout",
       "text": [
        "\n",
        "https://www.ted.com/talks/hannah_fry_is_life_really_that_complex/transcript"
       ]
      },
      {
       "output_type": "stream",
       "stream": "stdout",
       "text": [
        "\n",
        "https://www.ted.com/talks/matt_kenyon_how_i_snuck_a_memorial_for_iraqi_civilians_into_the_us_government/transcript"
       ]
      },
      {
       "output_type": "stream",
       "stream": "stdout",
       "text": [
        "\n",
        "https://www.ted.com/talks/george_whitesides_a_lab_the_size_of_a_postage_stamp/transcript"
       ]
      },
      {
       "output_type": "stream",
       "stream": "stdout",
       "text": [
        "\n",
        "https://www.ted.com/talks/julia_sweeney_on_letting_go_of_god/transcript"
       ]
      },
      {
       "output_type": "stream",
       "stream": "stdout",
       "text": [
        "\n",
        "https://www.ted.com/talks/jakob_trollback_rethinks_the_music_video/transcript"
       ]
      },
      {
       "output_type": "stream",
       "stream": "stdout",
       "text": [
        "\n",
        "https://www.ted.com/talks/monica_lewinsky_the_price_of_shame/transcript"
       ]
      },
      {
       "output_type": "stream",
       "stream": "stdout",
       "text": [
        "\n",
        "https://www.ted.com/talks/john_hodgman_design_explained/transcript"
       ]
      },
      {
       "output_type": "stream",
       "stream": "stdout",
       "text": [
        "\n",
        "https://www.ted.com/talks/adam_ostrow_after_your_final_status_update/transcript"
       ]
      },
      {
       "output_type": "stream",
       "stream": "stdout",
       "text": [
        "\n",
        "https://www.ted.com/talks/robert_full_on_animal_movement/transcript"
       ]
      },
      {
       "output_type": "stream",
       "stream": "stdout",
       "text": [
        "\n",
        "https://www.ted.com/talks/richard_ledgett_the_nsa_responds_to_edward_snowden_s_ted_talk/transcript"
       ]
      },
      {
       "output_type": "stream",
       "stream": "stdout",
       "text": [
        "\n",
        "https://www.ted.com/talks/daniel_goldstein_the_battle_between_your_present_and_future_self/transcript"
       ]
      },
      {
       "output_type": "stream",
       "stream": "stdout",
       "text": [
        "\n",
        "https://www.ted.com/talks/michael_nielsen_open_science_now/transcript"
       ]
      },
      {
       "output_type": "stream",
       "stream": "stdout",
       "text": [
        "\n",
        "https://www.ted.com/talks/william_li/transcript"
       ]
      },
      {
       "output_type": "stream",
       "stream": "stdout",
       "text": [
        "\n",
        "https://www.ted.com/talks/leslie_t_chang_the_voices_of_china_s_workers/transcript"
       ]
      },
      {
       "output_type": "stream",
       "stream": "stdout",
       "text": [
        "\n",
        "https://www.ted.com/talks/chip_kidd_designing_books_is_no_laughing_matter_ok_it_is/transcript"
       ]
      },
      {
       "output_type": "stream",
       "stream": "stdout",
       "text": [
        "\n",
        "https://www.ted.com/talks/aaron_huey/transcript"
       ]
      },
      {
       "output_type": "stream",
       "stream": "stdout",
       "text": [
        "\n",
        "https://www.ted.com/talks/dan_dennett_on_dangerous_memes/transcript"
       ]
      },
      {
       "output_type": "stream",
       "stream": "stdout",
       "text": [
        "\n",
        "https://www.ted.com/talks/cosmin_mihaiu_physical_therapy_is_boring_play_a_game_instead/transcript"
       ]
      },
      {
       "output_type": "stream",
       "stream": "stdout",
       "text": [
        "\n",
        "https://www.ted.com/talks/robert_ballard_on_exploring_the_oceans/transcript"
       ]
      },
      {
       "output_type": "stream",
       "stream": "stdout",
       "text": [
        "\n",
        "https://www.ted.com/talks/john_lloyd_an_animated_tour_of_the_invisible/transcript"
       ]
      },
      {
       "output_type": "stream",
       "stream": "stdout",
       "text": [
        "\n",
        "https://www.ted.com/talks/mick_mountz_the_hidden_world_of_box_packing/transcript"
       ]
      },
      {
       "output_type": "stream",
       "stream": "stdout",
       "text": [
        "\n",
        "https://www.ted.com/talks/nellie_mckay_sings_feminists_and_if_i_had_you/transcript"
       ]
      },
      {
       "output_type": "stream",
       "stream": "stdout",
       "text": [
        "\n",
        "https://www.ted.com/talks/robert_thurman_on_compassion/transcript"
       ]
      },
      {
       "output_type": "stream",
       "stream": "stdout",
       "text": [
        "\n",
        "https://www.ted.com/talks/nate_garvis_change_our_culture_change_our_world/transcript"
       ]
      },
      {
       "output_type": "stream",
       "stream": "stdout",
       "text": [
        "\n",
        "https://www.ted.com/talks/seth_godin_this_is_broken_1/transcript"
       ]
      },
      {
       "output_type": "stream",
       "stream": "stdout",
       "text": [
        "\n",
        "https://www.ted.com/talks/kwame_anthony_appiah_is_religion_good_or_bad_this_is_a_trick_question/transcript"
       ]
      },
      {
       "output_type": "stream",
       "stream": "stdout",
       "text": [
        "\n",
        "https://www.ted.com/talks/aziza_chaouni_how_i_brought_a_river_and_my_city_back_to_life/transcript"
       ]
      },
      {
       "output_type": "stream",
       "stream": "stdout",
       "text": [
        "\n",
        "https://www.ted.com/talks/ayah_bdeir_building_blocks_that_blink_beep_and_teach/transcript"
       ]
      },
      {
       "output_type": "stream",
       "stream": "stdout",
       "text": [
        "\n",
        "https://www.ted.com/talks/caitria_and_morgan_o_neill_how_to_step_up_in_the_face_of_disaster/transcript"
       ]
      },
      {
       "output_type": "stream",
       "stream": "stdout",
       "text": [
        "\n",
        "https://www.ted.com/talks/hanna_rosin_new_data_on_the_rise_of_women/transcript"
       ]
      },
      {
       "output_type": "stream",
       "stream": "stdout",
       "text": [
        "\n",
        "https://www.ted.com/talks/jeff_skoll_makes_movies_that_make_change/transcript"
       ]
      },
      {
       "output_type": "stream",
       "stream": "stdout",
       "text": [
        "\n",
        "https://www.ted.com/talks/jason_decaires_taylor_an_underwater_art_museum_teeming_with_life/transcript"
       ]
      },
      {
       "output_type": "stream",
       "stream": "stdout",
       "text": [
        "\n",
        "https://www.ted.com/talks/eddy_cartaya_my_glacier_cave_discoveries/transcript"
       ]
      },
      {
       "output_type": "stream",
       "stream": "stdout",
       "text": [
        "\n",
        "https://www.ted.com/talks/simon_anholt_which_country_does_the_most_good_for_the_world/transcript"
       ]
      },
      {
       "output_type": "stream",
       "stream": "stdout",
       "text": [
        "\n",
        "https://www.ted.com/talks/gever_tulley_s_tinkering_school_in_action/transcript"
       ]
      },
      {
       "output_type": "stream",
       "stream": "stdout",
       "text": [
        "\n",
        "https://www.ted.com/talks/jan_chipchase_on_our_mobile_phones/transcript"
       ]
      },
      {
       "output_type": "stream",
       "stream": "stdout",
       "text": [
        "\n",
        "https://www.ted.com/talks/carolyn_porco_flies_us_to_saturn/transcript"
       ]
      },
      {
       "output_type": "stream",
       "stream": "stdout",
       "text": [
        "\n",
        "https://www.ted.com/talks/dean_ornish_says_your_genes_are_not_your_fate/transcript"
       ]
      },
      {
       "output_type": "stream",
       "stream": "stdout",
       "text": [
        "\n",
        "https://www.ted.com/talks/mary_robinson_why_climate_change_is_a_threat_to_human_rights/transcript"
       ]
      },
      {
       "output_type": "stream",
       "stream": "stdout",
       "text": [
        "\n",
        "https://www.ted.com/talks/melati_and_isabel_wijsen_our_campaign_to_ban_plastic_bags_in_bali/transcript"
       ]
      },
      {
       "output_type": "stream",
       "stream": "stdout",
       "text": [
        "\n",
        "https://www.ted.com/talks/ruby_wax_what_s_so_funny_about_mental_illness/transcript"
       ]
      },
      {
       "output_type": "stream",
       "stream": "stdout",
       "text": [
        "\n",
        "https://www.ted.com/talks/cat_laine_engineering_a_better_life_for_all/transcript"
       ]
      },
      {
       "output_type": "stream",
       "stream": "stdout",
       "text": [
        "\n",
        "https://www.ted.com/talks/gever_tulley_on_5_dangerous_things_for_kids/transcript"
       ]
      },
      {
       "output_type": "stream",
       "stream": "stdout",
       "text": [
        "\n",
        "https://www.ted.com/talks/amit_sood_building_a_museum_of_museums_on_the_web/transcript"
       ]
      },
      {
       "output_type": "stream",
       "stream": "stdout",
       "text": [
        "\n",
        "https://www.ted.com/talks/liz_coleman_s_call_to_reinvent_liberal_arts_education/transcript"
       ]
      },
      {
       "output_type": "stream",
       "stream": "stdout",
       "text": [
        "\n",
        "https://www.ted.com/talks/stefan_sagmeister_7_rules_for_making_more_happiness/transcript"
       ]
      },
      {
       "output_type": "stream",
       "stream": "stdout",
       "text": [
        "\n",
        "https://www.ted.com/talks/ramanan_laxminarayan_the_coming_crisis_in_antibiotics/transcript"
       ]
      },
      {
       "output_type": "stream",
       "stream": "stdout",
       "text": [
        "\n",
        "https://www.ted.com/talks/ge_wang_the_diy_orchestra_of_the_future/transcript"
       ]
      },
      {
       "output_type": "stream",
       "stream": "stdout",
       "text": [
        "\n",
        "https://www.ted.com/talks/lawrence_lessig_we_the_people_and_the_republic_we_must_reclaim/transcript"
       ]
      },
      {
       "output_type": "stream",
       "stream": "stdout",
       "text": [
        "\n",
        "https://www.ted.com/talks/scott_kim_takes_apart_the_art_of_puzzles/transcript"
       ]
      },
      {
       "output_type": "stream",
       "stream": "stdout",
       "text": [
        "\n",
        "https://www.ted.com/talks/lee_cronin_making_matter_come_alive/transcript"
       ]
      },
      {
       "output_type": "stream",
       "stream": "stdout",
       "text": [
        "\n",
        "https://www.ted.com/talks/nathan_wolfe_hunts_for_the_next_aids/transcript"
       ]
      },
      {
       "output_type": "stream",
       "stream": "stdout",
       "text": [
        "\n",
        "https://www.ted.com/talks/eve_ensler_embrace_your_inner_girl/transcript"
       ]
      },
      {
       "output_type": "stream",
       "stream": "stdout",
       "text": [
        "\n",
        "https://www.ted.com/talks/yves_morieux_as_work_gets_more_complex_6_rules_to_simplify/transcript"
       ]
      },
      {
       "output_type": "stream",
       "stream": "stdout",
       "text": [
        "\n",
        "https://www.ted.com/talks/dean_kamen_on_inventing_and_giving/transcript"
       ]
      },
      {
       "output_type": "stream",
       "stream": "stdout",
       "text": [
        "\n",
        "https://www.ted.com/talks/damon_horowitz/transcript"
       ]
      },
      {
       "output_type": "stream",
       "stream": "stdout",
       "text": [
        "\n",
        "https://www.ted.com/talks/paddy_ashdown_the_global_power_shift/transcript"
       ]
      },
      {
       "output_type": "stream",
       "stream": "stdout",
       "text": [
        "\n",
        "https://www.ted.com/talks/jonathan_drori_every_pollen_grain_has_a_story/transcript"
       ]
      },
      {
       "output_type": "stream",
       "stream": "stdout",
       "text": [
        "\n",
        "https://www.ted.com/talks/angela_patton_a_father_daughter_dance_in_prison/transcript"
       ]
      },
      {
       "output_type": "stream",
       "stream": "stdout",
       "text": [
        "\n",
        "https://www.ted.com/talks/the_lxd_in_the_internet_age_dance_evolves/transcript"
       ]
      },
      {
       "output_type": "stream",
       "stream": "stdout",
       "text": [
        "\n",
        "https://www.ted.com/talks/john_graham_cumming_the_greatest_machine_that_never_was/transcript"
       ]
      },
      {
       "output_type": "stream",
       "stream": "stdout",
       "text": [
        "\n",
        "https://www.ted.com/talks/peter_fankhauser_meet_rezero_the_dancing_ballbot/transcript"
       ]
      },
      {
       "output_type": "stream",
       "stream": "stdout",
       "text": [
        "\n",
        "https://www.ted.com/talks/michael_kimmel_why_gender_equality_is_good_for_everyone_men_included/transcript"
       ]
      },
      {
       "output_type": "stream",
       "stream": "stdout",
       "text": [
        "\n",
        "https://www.ted.com/talks/ruth_chang_how_to_make_hard_choices/transcript"
       ]
      },
      {
       "output_type": "stream",
       "stream": "stdout",
       "text": [
        "\n",
        "https://www.ted.com/talks/jackie_tabick/transcript"
       ]
      },
      {
       "output_type": "stream",
       "stream": "stdout",
       "text": [
        "\n",
        "https://www.ted.com/talks/marcus_du_sautoy_symmetry_reality_s_riddle/transcript"
       ]
      },
      {
       "output_type": "stream",
       "stream": "stdout",
       "text": [
        "\n",
        "https://www.ted.com/talks/lesley_hazleton_the_doubt_essential_to_faith/transcript"
       ]
      },
      {
       "output_type": "stream",
       "stream": "stdout",
       "text": [
        "\n",
        "https://www.ted.com/talks/liz_diller_a_giant_bubble_for_debate/transcript"
       ]
      },
      {
       "output_type": "stream",
       "stream": "stdout",
       "text": [
        "\n",
        "https://www.ted.com/talks/sandra_fisher_martins_the_right_to_understand/transcript"
       ]
      },
      {
       "output_type": "stream",
       "stream": "stdout",
       "text": [
        "\n",
        "https://www.ted.com/talks/rob_forbes_on_ways_of_seeing/transcript"
       ]
      },
      {
       "output_type": "stream",
       "stream": "stdout",
       "text": [
        "\n",
        "https://www.ted.com/talks/robert_sapolsky_the_uniqueness_of_humans/transcript"
       ]
      },
      {
       "output_type": "stream",
       "stream": "stdout",
       "text": [
        "\n",
        "https://www.ted.com/talks/kathryn_schulz_don_t_regret_regret/transcript"
       ]
      },
      {
       "output_type": "stream",
       "stream": "stdout",
       "text": [
        "\n",
        "https://www.ted.com/talks/andrew_solomon_love_no_matter_what/transcript"
       ]
      },
      {
       "output_type": "stream",
       "stream": "stdout",
       "text": [
        "\n",
        "https://www.ted.com/talks/amy_purdy_living_beyond_limits/transcript"
       ]
      },
      {
       "output_type": "stream",
       "stream": "stdout",
       "text": [
        "\n",
        "https://www.ted.com/talks/anne_milgram_why_smart_statistics_are_the_key_to_fighting_crime/transcript"
       ]
      },
      {
       "output_type": "stream",
       "stream": "stdout",
       "text": [
        "\n",
        "https://www.ted.com/talks/magnus_larsson_turning_dunes_into_architecture/transcript"
       ]
      },
      {
       "output_type": "stream",
       "stream": "stdout",
       "text": [
        "\n",
        "https://www.ted.com/talks/gary_slutkin_let_s_treat_violence_like_a_contagious_disease/transcript"
       ]
      },
      {
       "output_type": "stream",
       "stream": "stdout",
       "text": [
        "\n",
        "https://www.ted.com/talks/brian_cox_what_went_wrong_at_the_lhc/transcript"
       ]
      },
      {
       "output_type": "stream",
       "stream": "stdout",
       "text": [
        "\n",
        "https://www.ted.com/talks/maya_penn_meet_a_young_entrepreneur_cartoonist_designer_activist/transcript"
       ]
      },
      {
       "output_type": "stream",
       "stream": "stdout",
       "text": [
        "\n",
        "https://www.ted.com/talks/hans_rosling_on_global_population_growth/transcript"
       ]
      },
      {
       "output_type": "stream",
       "stream": "stdout",
       "text": [
        "\n",
        "https://www.ted.com/talks/kary_mullis_on_what_scientists_do/transcript"
       ]
      },
      {
       "output_type": "stream",
       "stream": "stdout",
       "text": [
        "\n",
        "https://www.ted.com/talks/mark_pagel_how_language_transformed_humanity/transcript"
       ]
      },
      {
       "output_type": "stream",
       "stream": "stdout",
       "text": [
        "\n",
        "https://www.ted.com/talks/jon_mooallem_the_strange_story_of_the_teddy_bear_and_what_it_reveals_about_our_relationship_to_animals/transcript"
       ]
      },
      {
       "output_type": "stream",
       "stream": "stdout",
       "text": [
        "\n",
        "https://www.ted.com/talks/rodney_mullen_pop_an_ollie_and_innovate/transcript"
       ]
      },
      {
       "output_type": "stream",
       "stream": "stdout",
       "text": [
        "\n",
        "https://www.ted.com/talks/dan_phillips_creative_houses_from_reclaimed_stuff/transcript"
       ]
      },
      {
       "output_type": "stream",
       "stream": "stdout",
       "text": [
        "\n",
        "https://www.ted.com/talks/the_jill_and_julia_show/transcript"
       ]
      },
      {
       "output_type": "stream",
       "stream": "stdout",
       "text": [
        "\n",
        "https://www.ted.com/talks/rob_harmon_how_the_market_can_keep_streams_flowing/transcript"
       ]
      },
      {
       "output_type": "stream",
       "stream": "stdout",
       "text": [
        "\n",
        "https://www.ted.com/talks/daniel_kraft_invents_a_better_way_to_harvest_bone_marrow/transcript"
       ]
      },
      {
       "output_type": "stream",
       "stream": "stdout",
       "text": [
        "\n",
        "https://www.ted.com/talks/paul_romer/transcript"
       ]
      },
      {
       "output_type": "stream",
       "stream": "stdout",
       "text": [
        "\n",
        "https://www.ted.com/talks/maajid_nawaz_a_global_culture_to_fight_extremism/transcript"
       ]
      },
      {
       "output_type": "stream",
       "stream": "stdout",
       "text": [
        "\n",
        "https://www.ted.com/talks/chris_burkard_the_joy_of_surfing_in_ice_cold_water/transcript"
       ]
      },
      {
       "output_type": "stream",
       "stream": "stdout",
       "text": [
        "\n",
        "https://www.ted.com/talks/greg_asner_ecology_from_the_air/transcript"
       ]
      },
      {
       "output_type": "stream",
       "stream": "stdout",
       "text": [
        "\n",
        "https://www.ted.com/talks/gabriel_barcia_colombo_capturing_memories_in_video_art/transcript"
       ]
      },
      {
       "output_type": "stream",
       "stream": "stdout",
       "text": [
        "\n",
        "https://www.ted.com/talks/james_stavridis_how_nato_s_supreme_commander_thinks_about_global_security/transcript"
       ]
      },
      {
       "output_type": "stream",
       "stream": "stdout",
       "text": [
        "\n",
        "https://www.ted.com/talks/the_inspiration_of_second_life/transcript"
       ]
      },
      {
       "output_type": "stream",
       "stream": "stdout",
       "text": [
        "\n",
        "https://www.ted.com/talks/c_k_williams_reads_poetry_of_youth_and_age/transcript"
       ]
      },
      {
       "output_type": "stream",
       "stream": "stdout",
       "text": [
        "\n",
        "https://www.ted.com/talks/zainab_salbi/transcript"
       ]
      },
      {
       "output_type": "stream",
       "stream": "stdout",
       "text": [
        "\n",
        "https://www.ted.com/talks/francis_collins_we_need_better_drugs_now/transcript"
       ]
      },
      {
       "output_type": "stream",
       "stream": "stdout",
       "text": [
        "\n",
        "https://www.ted.com/talks/einstein_the_parrot_talks_and_squawks/transcript"
       ]
      },
      {
       "output_type": "stream",
       "stream": "stdout",
       "text": [
        "\n",
        "https://www.ted.com/talks/noel_bairey_merz_the_single_biggest_health_threat_women_face/transcript"
       ]
      },
      {
       "output_type": "stream",
       "stream": "stdout",
       "text": [
        "\n",
        "https://www.ted.com/talks/will_marshall_teeny_tiny_satellites_that_photograph_the_entire_planet_every_day/transcript"
       ]
      },
      {
       "output_type": "stream",
       "stream": "stdout",
       "text": [
        "\n",
        "https://www.ted.com/talks/dame_ellen_macarthur_the_surprising_thing_i_learned_sailing_solo_around_the_world/transcript"
       ]
      },
      {
       "output_type": "stream",
       "stream": "stdout",
       "text": [
        "\n",
        "https://www.ted.com/talks/beau_lotto_optical_illusions_show_how_we_see/transcript"
       ]
      },
      {
       "output_type": "stream",
       "stream": "stdout",
       "text": [
        "\n",
        "https://www.ted.com/talks/dan_ariely_beware_conflicts_of_interest/transcript"
       ]
      },
      {
       "output_type": "stream",
       "stream": "stdout",
       "text": [
        "\n",
        "https://www.ted.com/talks/stephen_palumbi_following_the_mercury_trail/transcript"
       ]
      },
      {
       "output_type": "stream",
       "stream": "stdout",
       "text": [
        "\n",
        "https://www.ted.com/talks/maz_jobrani_make_jokes_not_bombs/transcript"
       ]
      },
      {
       "output_type": "stream",
       "stream": "stdout",
       "text": [
        "\n",
        "https://www.ted.com/talks/chris_anderson_how_web_video_powers_global_innovation/transcript"
       ]
      },
      {
       "output_type": "stream",
       "stream": "stdout",
       "text": [
        "\n",
        "https://www.ted.com/talks/mark_bezos_a_life_lesson_from_a_volunteer_firefighter/transcript"
       ]
      },
      {
       "output_type": "stream",
       "stream": "stdout",
       "text": [
        "\n",
        "https://www.ted.com/talks/may_el_khalil_making_peace_is_a_marathon/transcript"
       ]
      },
      {
       "output_type": "stream",
       "stream": "stdout",
       "text": [
        "\n",
        "https://www.ted.com/talks/david_logan_on_tribal_leadership/transcript"
       ]
      },
      {
       "output_type": "stream",
       "stream": "stdout",
       "text": [
        "\n",
        "https://www.ted.com/talks/hans_rosling_at_state/transcript"
       ]
      },
      {
       "output_type": "stream",
       "stream": "stdout",
       "text": [
        "\n",
        "https://www.ted.com/talks/dave_isay_everyone_around_you_has_a_story_the_world_needs_to_hear/transcript"
       ]
      },
      {
       "output_type": "stream",
       "stream": "stdout",
       "text": [
        "\n",
        "https://www.ted.com/talks/robert_fischell_on_medical_inventing/transcript"
       ]
      },
      {
       "output_type": "stream",
       "stream": "stdout",
       "text": [
        "\n",
        "https://www.ted.com/talks/mena_trott_tours_her_blog_world/transcript"
       ]
      },
      {
       "output_type": "stream",
       "stream": "stdout",
       "text": [
        "\n",
        "https://www.ted.com/talks/barry_schwartz_on_our_loss_of_wisdom/transcript"
       ]
      },
      {
       "output_type": "stream",
       "stream": "stdout",
       "text": [
        "\n",
        "https://www.ted.com/talks/alec_soth_stacey_baker_this_is_what_enduring_love_looks_like/transcript"
       ]
      },
      {
       "output_type": "stream",
       "stream": "stdout",
       "text": [
        "\n",
        "https://www.ted.com/talks/james_lyne_everyday_cybercrime_and_what_you_can_do_about_it/transcript"
       ]
      },
      {
       "output_type": "stream",
       "stream": "stdout",
       "text": [
        "\n",
        "https://www.ted.com/talks/ali_carr_chellman_gaming_to_re_engage_boys_in_learning/transcript"
       ]
      },
      {
       "output_type": "stream",
       "stream": "stdout",
       "text": [
        "\n",
        "https://www.ted.com/talks/pankaj_ghemawat_actually_the_world_isn_t_flat/transcript"
       ]
      },
      {
       "output_type": "stream",
       "stream": "stdout",
       "text": [
        "\n",
        "https://www.ted.com/talks/catherine_mohr_surgery_s_past_present_and_robotic_future/transcript"
       ]
      },
      {
       "output_type": "stream",
       "stream": "stdout",
       "text": [
        "\n",
        "https://www.ted.com/talks/mikko_hypponen_three_types_of_online_attack/transcript"
       ]
      },
      {
       "output_type": "stream",
       "stream": "stdout",
       "text": [
        "\n",
        "https://www.ted.com/talks/taylor_wilson_yup_i_built_a_nuclear_fusion_reactor/transcript"
       ]
      },
      {
       "output_type": "stream",
       "stream": "stdout",
       "text": [
        "\n",
        "https://www.ted.com/talks/jedidah_isler_how_i_fell_in_love_with_quasars_blazars_and_our_incredible_universe/transcript"
       ]
      },
      {
       "output_type": "stream",
       "stream": "stdout",
       "text": [
        "\n",
        "https://www.ted.com/talks/rob_reid_the_8_billion_ipod/transcript"
       ]
      },
      {
       "output_type": "stream",
       "stream": "stdout",
       "text": [
        "\n",
        "https://www.ted.com/talks/rachel_botsman_the_currency_of_the_new_economy_is_trust/transcript"
       ]
      },
      {
       "output_type": "stream",
       "stream": "stdout",
       "text": [
        "\n",
        "https://www.ted.com/talks/andrew_bird_s_one_man_orchestra_of_the_imagination/transcript"
       ]
      },
      {
       "output_type": "stream",
       "stream": "stdout",
       "text": [
        "\n",
        "https://www.ted.com/talks/nora_york_sings_what_i_want/transcript"
       ]
      },
      {
       "output_type": "stream",
       "stream": "stdout",
       "text": [
        "\n",
        "https://www.ted.com/talks/will_potter_the_secret_us_prisons_you_ve_never_heard_of_before/transcript"
       ]
      },
      {
       "output_type": "stream",
       "stream": "stdout",
       "text": [
        "\n",
        "https://www.ted.com/talks/a_ted_speaker_s_worst_nightmare/transcript"
       ]
      },
      {
       "output_type": "stream",
       "stream": "stdout",
       "text": [
        "\n",
        "https://www.ted.com/talks/noah_wilson_rich_every_city_needs_healthy_honey_bees/transcript"
       ]
      },
      {
       "output_type": "stream",
       "stream": "stdout",
       "text": [
        "\n",
        "https://www.ted.com/talks/shawn_achor_the_happy_secret_to_better_work/transcript"
       ]
      },
      {
       "output_type": "stream",
       "stream": "stdout",
       "text": [
        "\n",
        "https://www.ted.com/talks/jeremy_rifkin_on_the_empathic_civilization/transcript"
       ]
      },
      {
       "output_type": "stream",
       "stream": "stdout",
       "text": [
        "\n",
        "https://www.ted.com/talks/steven_johnson_where_good_ideas_come_from/transcript"
       ]
      },
      {
       "output_type": "stream",
       "stream": "stdout",
       "text": [
        "\n",
        "https://www.ted.com/talks/enric_sala/transcript"
       ]
      },
      {
       "output_type": "stream",
       "stream": "stdout",
       "text": [
        "\n",
        "https://www.ted.com/talks/mitchell_joachim_don_t_build_your_home_grow_it/transcript"
       ]
      },
      {
       "output_type": "stream",
       "stream": "stdout",
       "text": [
        "\n",
        "https://www.ted.com/talks/andy_puddicombe_all_it_takes_is_10_mindful_minutes/transcript"
       ]
      },
      {
       "output_type": "stream",
       "stream": "stdout",
       "text": [
        "\n",
        "https://www.ted.com/talks/steven_levitt_analyzes_crack_economics/transcript"
       ]
      },
      {
       "output_type": "stream",
       "stream": "stdout",
       "text": [
        "\n",
        "https://www.ted.com/talks/evan_williams_on_listening_to_twitter_users/transcript"
       ]
      },
      {
       "output_type": "stream",
       "stream": "stdout",
       "text": [
        "\n",
        "https://www.ted.com/talks/joel_levine/transcript"
       ]
      },
      {
       "output_type": "stream",
       "stream": "stdout",
       "text": [
        "\n",
        "https://www.ted.com/talks/siegfried_woldhek_shows_how_he_found_the_true_face_of_leonardo/transcript"
       ]
      },
      {
       "output_type": "stream",
       "stream": "stdout",
       "text": [
        "\n",
        "https://www.ted.com/talks/larry_page_where_s_google_going_next/transcript"
       ]
      },
      {
       "output_type": "stream",
       "stream": "stdout",
       "text": [
        "\n",
        "https://www.ted.com/talks/bill_joy_muses_on_what_s_next/transcript"
       ]
      },
      {
       "output_type": "stream",
       "stream": "stdout",
       "text": [
        "\n",
        "https://www.ted.com/talks/sasha_dichter/transcript"
       ]
      },
      {
       "output_type": "stream",
       "stream": "stdout",
       "text": [
        "\n",
        "https://www.ted.com/talks/daria_van_den_bercken_why_i_take_the_piano_on_the_road_and_in_the_air/transcript"
       ]
      },
      {
       "output_type": "stream",
       "stream": "stdout",
       "text": [
        "\n",
        "https://www.ted.com/talks/amanda_bennett_a_heroic_narrative_for_letting_go/transcript"
       ]
      },
      {
       "output_type": "stream",
       "stream": "stdout",
       "text": [
        "\n",
        "https://www.ted.com/talks/gabby_giffords_and_mark_kelly_be_passionate_be_courageous_be_your_best/transcript"
       ]
      },
      {
       "output_type": "stream",
       "stream": "stdout",
       "text": [
        "\n",
        "https://www.ted.com/talks/john_maeda_on_the_simple_life/transcript"
       ]
      },
      {
       "output_type": "stream",
       "stream": "stdout",
       "text": [
        "\n",
        "https://www.ted.com/talks/barry_schwartz_on_the_paradox_of_choice/transcript"
       ]
      },
      {
       "output_type": "stream",
       "stream": "stdout",
       "text": [
        "\n",
        "https://www.ted.com/talks/catherine_mohr_builds_green/transcript"
       ]
      },
      {
       "output_type": "stream",
       "stream": "stdout",
       "text": [
        "\n",
        "https://www.ted.com/talks/dennis_vanengelsdorp_a_plea_for_bees/transcript"
       ]
      },
      {
       "output_type": "stream",
       "stream": "stdout",
       "text": [
        "\n",
        "https://www.ted.com/talks/joshua_prince_ramus_on_seattle_s_library/transcript"
       ]
      },
      {
       "output_type": "stream",
       "stream": "stdout",
       "text": [
        "\n",
        "https://www.ted.com/talks/bill_gates_teachers_need_real_feedback/transcript"
       ]
      },
      {
       "output_type": "stream",
       "stream": "stdout",
       "text": [
        "\n",
        "https://www.ted.com/talks/leah_buechley_how_to_sketch_with_electronics/transcript"
       ]
      },
      {
       "output_type": "stream",
       "stream": "stdout",
       "text": [
        "\n",
        "https://www.ted.com/talks/roz_savage_why_i_m_rowing_across_the_pacific/transcript"
       ]
      },
      {
       "output_type": "stream",
       "stream": "stdout",
       "text": [
        "\n",
        "https://www.ted.com/talks/frank_gehry_as_a_young_rebel/transcript"
       ]
      },
      {
       "output_type": "stream",
       "stream": "stdout",
       "text": [
        "\n",
        "https://www.ted.com/talks/david_binder_the_arts_festival_revolution/transcript"
       ]
      },
      {
       "output_type": "stream",
       "stream": "stdout",
       "text": [
        "\n",
        "https://www.ted.com/talks/vik_muniz_makes_art_with_wire_sugar/transcript"
       ]
      },
      {
       "output_type": "stream",
       "stream": "stdout",
       "text": [
        "\n",
        "https://www.ted.com/talks/tania_luna_how_a_penny_made_me_feel_like_a_millionaire/transcript"
       ]
      },
      {
       "output_type": "stream",
       "stream": "stdout",
       "text": [
        "\n",
        "https://www.ted.com/talks/award_winning_teen_age_science_in_action/transcript"
       ]
      },
      {
       "output_type": "stream",
       "stream": "stdout",
       "text": [
        "\n",
        "https://www.ted.com/talks/jane_goodall_on_what_separates_us_from_the_apes/transcript"
       ]
      },
      {
       "output_type": "stream",
       "stream": "stdout",
       "text": [
        "\n",
        "https://www.ted.com/talks/luke_syson_how_i_learned_to_stop_worrying_and_love_useless_art/transcript"
       ]
      },
      {
       "output_type": "stream",
       "stream": "stdout",
       "text": [
        "\n",
        "https://www.ted.com/talks/fabian_hemmert_the_shape_shifting_future_of_the_mobile_phone/transcript"
       ]
      },
      {
       "output_type": "stream",
       "stream": "stdout",
       "text": [
        "\n",
        "https://www.ted.com/talks/david_macaulay_s_rome_antics/transcript"
       ]
      },
      {
       "output_type": "stream",
       "stream": "stdout",
       "text": [
        "\n",
        "https://www.ted.com/talks/parag_khanna_maps_the_future_of_countries/transcript"
       ]
      },
      {
       "output_type": "stream",
       "stream": "stdout",
       "text": [
        "\n",
        "https://www.ted.com/talks/philippe_petit_the_journey_across_the_high_wire/transcript"
       ]
      },
      {
       "output_type": "stream",
       "stream": "stdout",
       "text": [
        "\n",
        "https://www.ted.com/talks/lucy_mcrae_how_can_technology_transform_the_human_body/transcript"
       ]
      },
      {
       "output_type": "stream",
       "stream": "stdout",
       "text": [
        "\n",
        "https://www.ted.com/talks/steven_pinker_and_rebecca_newberger_goldstein_the_long_reach_of_reason/transcript"
       ]
      },
      {
       "output_type": "stream",
       "stream": "stdout",
       "text": [
        "\n",
        "https://www.ted.com/talks/john_doerr_sees_salvation_and_profit_in_greentech/transcript"
       ]
      },
      {
       "output_type": "stream",
       "stream": "stdout",
       "text": [
        "\n",
        "https://www.ted.com/talks/shimpei_takahashi_play_this_game_to_come_up_with_original_ideas/transcript"
       ]
      },
      {
       "output_type": "stream",
       "stream": "stdout",
       "text": [
        "\n",
        "https://www.ted.com/talks/joseph_kim_the_family_i_lost_in_north_korea_and_the_family_i_gained/transcript"
       ]
      },
      {
       "output_type": "stream",
       "stream": "stdout",
       "text": [
        "\n",
        "https://www.ted.com/talks/megan_washington_why_i_live_in_mortal_dread_of_public_speaking/transcript"
       ]
      },
      {
       "output_type": "stream",
       "stream": "stdout",
       "text": [
        "\n",
        "https://www.ted.com/talks/james_veitch_this_is_what_happens_when_you_reply_to_spam_email/transcript"
       ]
      },
      {
       "output_type": "stream",
       "stream": "stdout",
       "text": [
        "\n",
        "https://www.ted.com/talks/dr_seyi_oyesola_tours_a_hospital_in_nigeria/transcript"
       ]
      },
      {
       "output_type": "stream",
       "stream": "stdout",
       "text": [
        "\n",
        "https://www.ted.com/talks/james_a_white_sr_the_little_problem_i_had_renting_a_house/transcript"
       ]
      },
      {
       "output_type": "stream",
       "stream": "stdout",
       "text": [
        "\n",
        "https://www.ted.com/talks/scott_fraser_the_problem_with_eyewitness_testimony/transcript"
       ]
      },
      {
       "output_type": "stream",
       "stream": "stdout",
       "text": [
        "\n",
        "https://www.ted.com/talks/emmanuel_jal_the_music_of_a_war_child/transcript"
       ]
      },
      {
       "output_type": "stream",
       "stream": "stdout",
       "text": [
        "\n",
        "https://www.ted.com/talks/james_nachtwey_s_searing_pictures_of_war/transcript"
       ]
      },
      {
       "output_type": "stream",
       "stream": "stdout",
       "text": [
        "\n",
        "https://www.ted.com/talks/vijay_kumar_the_future_of_flying_robots/transcript"
       ]
      },
      {
       "output_type": "stream",
       "stream": "stdout",
       "text": [
        "\n",
        "https://www.ted.com/talks/craig_venter_is_on_the_verge_of_creating_synthetic_life/transcript"
       ]
      },
      {
       "output_type": "stream",
       "stream": "stdout",
       "text": [
        "\n",
        "https://www.ted.com/talks/wolfgang_kessling_how_to_air_condition_outdoor_spaces/transcript"
       ]
      },
      {
       "output_type": "stream",
       "stream": "stdout",
       "text": [
        "\n",
        "https://www.ted.com/talks/martin_hanczyc_the_line_between_life_and_not_life/transcript"
       ]
      },
      {
       "output_type": "stream",
       "stream": "stdout",
       "text": [
        "\n",
        "https://www.ted.com/talks/george_smoot_on_the_design_of_the_universe/transcript"
       ]
      },
      {
       "output_type": "stream",
       "stream": "stdout",
       "text": [
        "\n",
        "https://www.ted.com/talks/mark_ronson_how_sampling_transformed_music/transcript"
       ]
      },
      {
       "output_type": "stream",
       "stream": "stdout",
       "text": [
        "\n",
        "https://www.ted.com/talks/brene_brown_listening_to_shame/transcript"
       ]
      },
      {
       "output_type": "stream",
       "stream": "stdout",
       "text": [
        "\n",
        "https://www.ted.com/talks/ray_zahab_treks_to_the_south_pole/transcript"
       ]
      },
      {
       "output_type": "stream",
       "stream": "stdout",
       "text": [
        "\n",
        "https://www.ted.com/talks/keith_nolan_deaf_in_the_military/transcript"
       ]
      },
      {
       "output_type": "stream",
       "stream": "stdout",
       "text": [
        "\n",
        "https://www.ted.com/talks/yann_dall_aglio_love_you_re_doing_it_wrong/transcript"
       ]
      },
      {
       "output_type": "stream",
       "stream": "stdout",
       "text": [
        "\n",
        "https://www.ted.com/talks/gabe_barcia_colombo_my_dna_vending_machine/transcript"
       ]
      },
      {
       "output_type": "stream",
       "stream": "stdout",
       "text": [
        "\n",
        "https://www.ted.com/talks/taryn_simon_photographs_secret_sites/transcript"
       ]
      },
      {
       "output_type": "stream",
       "stream": "stdout",
       "text": [
        "\n",
        "https://www.ted.com/talks/shane_koyczan_to_this_day_for_the_bullied_and_beautiful/transcript"
       ]
      },
      {
       "output_type": "stream",
       "stream": "stdout",
       "text": [
        "\n",
        "https://www.ted.com/talks/jane_fonda_and_lily_tomlin_a_hilarious_celebration_of_lifelong_female_friendship/transcript"
       ]
      },
      {
       "output_type": "stream",
       "stream": "stdout",
       "text": [
        "\n",
        "https://www.ted.com/talks/shubhendu_sharma_how_to_grow_a_tiny_forest_anywhere/transcript"
       ]
      },
      {
       "output_type": "stream",
       "stream": "stdout",
       "text": [
        "\n",
        "https://www.ted.com/talks/paul_gilding_the_earth_is_full/transcript"
       ]
      },
      {
       "output_type": "stream",
       "stream": "stdout",
       "text": [
        "\n",
        "https://www.ted.com/talks/max_little_a_test_for_parkinson_s_with_a_phone_call/transcript"
       ]
      },
      {
       "output_type": "stream",
       "stream": "stdout",
       "text": [
        "\n",
        "https://www.ted.com/talks/catherine_bracy_why_good_hackers_make_good_citizens/transcript"
       ]
      },
      {
       "output_type": "stream",
       "stream": "stdout",
       "text": [
        "\n",
        "https://www.ted.com/talks/ji_hae_park_the_violin_and_my_dark_night_of_the_soul/transcript"
       ]
      },
      {
       "output_type": "stream",
       "stream": "stdout",
       "text": [
        "\n",
        "https://www.ted.com/talks/dan_dennett_s_response_to_rick_warren/transcript"
       ]
      },
      {
       "output_type": "stream",
       "stream": "stdout",
       "text": [
        "\n",
        "https://www.ted.com/talks/danit_peleg_forget_shopping_soon_you_ll_download_your_new_clothes/transcript"
       ]
      },
      {
       "output_type": "stream",
       "stream": "stdout",
       "text": [
        "\n",
        "https://www.ted.com/talks/renny_gleeson_on_antisocial_phone_tricks/transcript"
       ]
      },
      {
       "output_type": "stream",
       "stream": "stdout",
       "text": [
        "\n",
        "https://www.ted.com/talks/tom_shannon_the_painter_and_the_pendulum/transcript"
       ]
      },
      {
       "output_type": "stream",
       "stream": "stdout",
       "text": [
        "\n",
        "https://www.ted.com/talks/derek_paravicini_and_adam_ockelford_in_the_key_of_genius/transcript"
       ]
      },
      {
       "output_type": "stream",
       "stream": "stdout",
       "text": [
        "\n",
        "https://www.ted.com/talks/chris_downey_design_with_the_blind_in_mind/transcript"
       ]
      },
      {
       "output_type": "stream",
       "stream": "stdout",
       "text": [
        "\n",
        "https://www.ted.com/talks/johanna_blakley_lessons_from_fashion_s_free_culture/transcript"
       ]
      },
      {
       "output_type": "stream",
       "stream": "stdout",
       "text": [
        "\n",
        "https://www.ted.com/talks/jenni_chang_and_lisa_dazols_this_is_what_lgbt_life_is_like_around_the_world/transcript"
       ]
      },
      {
       "output_type": "stream",
       "stream": "stdout",
       "text": [
        "\n",
        "https://www.ted.com/talks/amanda_palmer_the_art_of_asking/transcript"
       ]
      },
      {
       "output_type": "stream",
       "stream": "stdout",
       "text": [
        "\n",
        "https://www.ted.com/talks/geoffrey_west_the_surprising_math_of_cities_and_corporations/transcript"
       ]
      },
      {
       "output_type": "stream",
       "stream": "stdout",
       "text": [
        "\n",
        "https://www.ted.com/talks/david_hoffman_shares_his_sputnik_mania/transcript"
       ]
      },
      {
       "output_type": "stream",
       "stream": "stdout",
       "text": [
        "\n",
        "https://www.ted.com/talks/jeff_bezos_on_the_next_web_innovation/transcript"
       ]
      },
      {
       "output_type": "stream",
       "stream": "stdout",
       "text": [
        "\n",
        "https://www.ted.com/talks/joy_sun_should_you_donate_differently/transcript"
       ]
      },
      {
       "output_type": "stream",
       "stream": "stdout",
       "text": [
        "\n",
        "https://www.ted.com/talks/harry_cliff_have_we_reached_the_end_of_physics/transcript"
       ]
      },
      {
       "output_type": "stream",
       "stream": "stdout",
       "text": [
        "\n",
        "https://www.ted.com/talks/publisher_felix_dennis_odes_to_vice_and_consequences/transcript"
       ]
      },
      {
       "output_type": "stream",
       "stream": "stdout",
       "text": [
        "\n",
        "https://www.ted.com/talks/linda_cliatt_wayman_how_to_fix_a_broken_school_lead_fearlessly_love_hard/transcript"
       ]
      },
      {
       "output_type": "stream",
       "stream": "stdout",
       "text": [
        "\n",
        "https://www.ted.com/talks/sherwin_nuland_on_electroshock_therapy/transcript"
       ]
      },
      {
       "output_type": "stream",
       "stream": "stdout",
       "text": [
        "\n",
        "https://www.ted.com/talks/eva_zeisel_on_the_playful_search_for_beauty/transcript"
       ]
      },
      {
       "output_type": "stream",
       "stream": "stdout",
       "text": [
        "\n",
        "https://www.ted.com/talks/gary_wolf_the_quantified_self/transcript"
       ]
      },
      {
       "output_type": "stream",
       "stream": "stdout",
       "text": [
        "\n",
        "https://www.ted.com/talks/roselinde_torres_what_it_takes_to_be_a_great_leader/transcript"
       ]
      },
      {
       "output_type": "stream",
       "stream": "stdout",
       "text": [
        "\n",
        "https://www.ted.com/talks/shimon_schocken_the_self_organizing_computer_course/transcript"
       ]
      },
      {
       "output_type": "stream",
       "stream": "stdout",
       "text": [
        "\n",
        "https://www.ted.com/talks/carlo_ratti_architecture_that_senses_and_responds/transcript"
       ]
      },
      {
       "output_type": "stream",
       "stream": "stdout",
       "text": [
        "\n",
        "https://www.ted.com/talks/naomi_oreskes_why_we_should_believe_in_science/transcript"
       ]
      },
      {
       "output_type": "stream",
       "stream": "stdout",
       "text": [
        "\n",
        "https://www.ted.com/talks/quyen_nguyen_color_coded_surgery/transcript"
       ]
      },
      {
       "output_type": "stream",
       "stream": "stdout",
       "text": [
        "\n",
        "https://www.ted.com/talks/bart_weetjens_how_i_taught_rats_to_sniff_out_land_mines/transcript"
       ]
      },
      {
       "output_type": "stream",
       "stream": "stdout",
       "text": [
        "\n",
        "https://www.ted.com/talks/dan_gilbert_researches_happiness/transcript"
       ]
      },
      {
       "output_type": "stream",
       "stream": "stdout",
       "text": [
        "\n",
        "https://www.ted.com/talks/mitchell_besser_mothers_helping_mothers_fight_hiv/transcript"
       ]
      },
      {
       "output_type": "stream",
       "stream": "stdout",
       "text": [
        "\n",
        "https://www.ted.com/talks/gel_gotta_share/transcript"
       ]
      },
      {
       "output_type": "stream",
       "stream": "stdout",
       "text": [
        "\n",
        "https://www.ted.com/talks/isabel_behncke_evolution_s_gift_of_play_from_bonobo_apes_to_humans/transcript"
       ]
      },
      {
       "output_type": "stream",
       "stream": "stdout",
       "text": [
        "\n",
        "https://www.ted.com/talks/caroline_casey_looking_past_limits/transcript"
       ]
      }
     ]
    },
    {
     "cell_type": "code",
     "collapsed": false,
     "input": [
      "path='/home/ajinkyak/Workspace/Image/Parse_talks/'\n",
      "os.chdir(path)\n",
      "pieces=[]\n",
      "for file in glob.glob('*.csv'):\n",
      "    print file\n",
      "    frame=pd.read_csv(path+file,sep='\\t',encoding='utf-8')\n",
      "    pieces.append(frame)\n",
      "df= pd.concat(pieces, ignore_index=True)"
     ],
     "language": "python",
     "metadata": {},
     "outputs": [],
     "prompt_number": 119
    },
    {
     "cell_type": "code",
     "collapsed": false,
     "input": [
      "df.to_csv('All_TED_TALKS_DATA_1.csv',sep='\\t',encoding='utf-8')"
     ],
     "language": "python",
     "metadata": {},
     "outputs": [],
     "prompt_number": 119
    },
    {
     "cell_type": "code",
     "collapsed": false,
     "input": [
      "df"
     ],
     "language": "python",
     "metadata": {},
     "outputs": [
      {
       "html": [
        "<div style=\"max-height:1000px;max-width:1500px;overflow:auto;\">\n",
        "<table border=\"1\" class=\"dataframe\">\n",
        "  <thead>\n",
        "    <tr style=\"text-align: right;\">\n",
        "      <th></th>\n",
        "      <th>Unnamed: 0</th>\n",
        "      <th>ar</th>\n",
        "      <th>ar_time_frame</th>\n",
        "      <th>bg</th>\n",
        "      <th>bg_time_frame</th>\n",
        "      <th>cs</th>\n",
        "      <th>cs_time_frame</th>\n",
        "      <th>da</th>\n",
        "      <th>da_time_frame</th>\n",
        "      <th>de</th>\n",
        "      <th>...</th>\n",
        "      <th>uk</th>\n",
        "      <th>uk_time_frame</th>\n",
        "      <th>ur</th>\n",
        "      <th>ur_time_frame</th>\n",
        "      <th>vi</th>\n",
        "      <th>vi_time_frame</th>\n",
        "      <th>zh-cn</th>\n",
        "      <th>zh-cn_time_frame</th>\n",
        "      <th>zh-tw</th>\n",
        "      <th>zh-tw_time_frame</th>\n",
        "    </tr>\n",
        "  </thead>\n",
        "  <tbody>\n",
        "    <tr>\n",
        "      <th>0</th>\n",
        "      <td>0</td>\n",
        "      <td>\u0623\u0639\u0645\u0644 \u0641\u064a \u0645\u062c\u0627\u0644 \u0627\u0644\u062a\u0633\u0648\u064a\u0642\u060c \u0627\u0644\u0630\u064a \u0623\u062d\u0628\u0647\u060c</td>\n",
        "      <td>1000</td>\n",
        "      <td>\u0418 \u0442\u0430\u043a\u0430 \u0430\u0437 \u0440\u0430\u0431\u043e\u0442\u044f \u0432 \u043e\u0431\u043b\u0430\u0441\u0442\u0442\u0430 \u043d\u0430 \u043c\u0430\u0440\u043a\u0435\u0442\u0438\u043d\u0433\u0430, \u043a\u043e\u0439...</td>\n",
        "      <td>1000</td>\n",
        "      <td>Pracuju v marketingu, kter\u00fd miluju,</td>\n",
        "      <td>1000</td>\n",
        "      <td>NaN</td>\n",
        "      <td>NaN</td>\n",
        "      <td>Ich arbeite also im Marketing, was ich liebe,</td>\n",
        "      <td>...</td>\n",
        "      <td>\u041e\u0442\u043e\u0436 \u044f \u0437\u0430\u0439\u043c\u0430\u044e\u0441\u044c \u043c\u0430\u0440\u043a\u0435\u0442\u0438\u043d\u0433\u043e\u043c, \u0456 \u043b\u044e\u0431\u043b\u044e \u0441\u0432\u043e\u044e \u0440\u043e\u0431\u043e\u0442\u0443,</td>\n",
        "      <td>1000</td>\n",
        "      <td>NaN</td>\n",
        "      <td>NaN</td>\n",
        "      <td>T\u00f4i l\u00e0m vi\u1ec7c trong ng\u00e0nh marketing, ng\u00e0nh m\u00e0 t...</td>\n",
        "      <td>1000</td>\n",
        "      <td>\u6211\u73b0\u5728\u4ece\u4e8b\u6211\u6240\u559c\u7231\u7684\u5e02\u573a\u8425\u9500\u5de5\u4f5c\uff0c</td>\n",
        "      <td>1000</td>\n",
        "      <td>\u6211\u7684\u5de5\u4f5c\u662f\u884c\u92b7\uff0c\u6211\u4e5f\u6a02\u5728\u5176\u4e2d\u3002</td>\n",
        "      <td>1000</td>\n",
        "    </tr>\n",
        "    <tr>\n",
        "      <th>1</th>\n",
        "      <td>1</td>\n",
        "      <td>\u0644\u0643\u0646 \u063a\u0631\u0627\u0645\u064a \u0627\u0644\u0623\u0648\u0644 \u0643\u0627\u0646 \u0627\u0644\u0641\u064a\u0632\u064a\u0627\u0621\u060c</td>\n",
        "      <td>3000</td>\n",
        "      <td>\u043d\u043e \u043f\u044a\u0440\u0432\u0430\u0442\u0430 \u043c\u0438 \u0441\u0442\u0440\u0430\u0441\u0442 \u0435 \u0444\u0438\u0437\u0438\u043a\u0430\u0442\u0430,</td>\n",
        "      <td>3000</td>\n",
        "      <td>ale mou prvn\u00ed v\u00e1\u0161n\u00ed byla fyzika.</td>\n",
        "      <td>3000</td>\n",
        "      <td>NaN</td>\n",
        "      <td>NaN</td>\n",
        "      <td>aber meine erste Leidenschaft war Physik,</td>\n",
        "      <td>...</td>\n",
        "      <td>\u0430\u043b\u0435 \u043c\u043e\u0454\u044e \u043f\u0435\u0440\u0448\u043e\u044e \u043f\u0440\u0438\u0441\u0442\u0440\u0430\u0441\u0442\u044e \u0431\u0443\u043b\u0430 \u0444\u0456\u0437\u0438\u043a\u0430,</td>\n",
        "      <td>3000</td>\n",
        "      <td>NaN</td>\n",
        "      <td>NaN</td>\n",
        "      <td>nh\u01b0ng ni\u1ec1m \u0111am m\u00ea \u0111\u1ea7u ti\u00ean c\u1ee7a t\u00f4i l\u00e0 v\u1eadt l\u00fd,</td>\n",
        "      <td>3000</td>\n",
        "      <td>\u4f46\u662f\u6211\u7684\u7b2c\u4e00\u7231\u597d\u66fe\u7ecf\u662f\u7269\u7406\u5b66\uff0c</td>\n",
        "      <td>3000</td>\n",
        "      <td>\u800c\u7269\u7406\u662f\u6211\u6700\u521d\u7684\u646f\u611b\u3002</td>\n",
        "      <td>3000</td>\n",
        "    </tr>\n",
        "    <tr>\n",
        "      <th>2</th>\n",
        "      <td>2</td>\n",
        "      <td>\u0627\u0644\u063a\u0631\u0627\u0645 \u0627\u0644\u0630\u064a \u0623\u0648\u062f\u064a \u0628\u064a \u0625\u0644\u0649 \u0645\u0639\u0644\u0645 \u0645\u062f\u0631\u0633\u0629 \u0631\u0627\u0626\u0639\u060c</td>\n",
        "      <td>6000</td>\n",
        "      <td>\u0441\u0442\u0440\u0430\u0441\u0442 \u043f\u043e\u0440\u043e\u0434\u0435\u043d\u0430 \u043e\u0442 \u0435\u0434\u0438\u043d \u043f\u0440\u0435\u043a\u0440\u0430\u0441\u0435\u043d \u0443\u0447\u0438\u0442\u0435\u043b,</td>\n",
        "      <td>6000</td>\n",
        "      <td>Tuto v\u00e1\u0161e\u0148 jsem z\u00edskal d\u00edky \u00fa\u017easn\u00e9mu u\u010diteli v...</td>\n",
        "      <td>6000</td>\n",
        "      <td>NaN</td>\n",
        "      <td>NaN</td>\n",
        "      <td>eine Leidenschaft die entfacht wurde durch ein...</td>\n",
        "      <td>...</td>\n",
        "      <td>\u044f\u043a\u043e\u044e \u0437\u0430\u0445\u043e\u043f\u0438\u0432 \u043c\u0435\u043d\u0435 \u043f\u0440\u0435\u043a\u0440\u0430\u0441\u043d\u0438\u0439 \u0448\u043a\u0456\u043b\u044c\u043d\u0438\u0439 \u0432\u0447\u0438\u0442\u0435\u043b\u044c --</td>\n",
        "      <td>6000</td>\n",
        "      <td>NaN</td>\n",
        "      <td>NaN</td>\n",
        "      <td>m\u1ed9t ni\u1ec1m \u0111am m\u00ea \u0111\u01b0\u1ee3c truy\u1ec1n l\u1ea1i t\u1eeb ng\u01b0\u1eddi th\u1ea7y ...</td>\n",
        "      <td>6000</td>\n",
        "      <td>\u8fd9\u79cd\u70ed\u60c5\u662f\u4e00\u4e2a\u5f88\u68d2\u7684\u6559\u5e08\u5e26\u7ed9\u6211\u7684</td>\n",
        "      <td>6000</td>\n",
        "      <td>\u7576\u5e74\u5728\u5b78\u6821\u88cf\uff0c\u6709\u500b\u5f88\u68d2\u7684\u8001\u5e2b\uff0c\u4ed6\u71c3\u8d77\u4e86\u6211\u5c0d\u7269\u7406\u7684\u71b1\u60c5\uff0c</td>\n",
        "      <td>6000</td>\n",
        "    </tr>\n",
        "    <tr>\n",
        "      <th>3</th>\n",
        "      <td>3</td>\n",
        "      <td>\u0639\u0646\u062f\u0645\u0627 \u0643\u0627\u0646 \u0644\u062f\u064a \u0634\u0639\u0631 \u0623\u0642\u0644 \u0634\u064a\u0628\u0627.</td>\n",
        "      <td>9000</td>\n",
        "      <td>\u043a\u043e\u0433\u0430\u0442\u043e \u0438\u043c\u0430\u0445 \u043c\u0430\u043b\u043a\u043e \u043f\u043e-\u043c\u0430\u043b\u043a\u043e \u0441\u0438\u0432\u0430 \u043a\u043e\u0441\u0430.</td>\n",
        "      <td>9000</td>\n",
        "      <td>kdy jsem byl je\u0161t\u011b trochu m\u00ed\u0148 pro\u0161ediv\u011bl\u00fd.</td>\n",
        "      <td>9000</td>\n",
        "      <td>NaN</td>\n",
        "      <td>NaN</td>\n",
        "      <td>als ich noch etwas weniger graues Haar hatte.</td>\n",
        "      <td>...</td>\n",
        "      <td>\u0449\u0435 \u0442\u043e\u0434\u0456, \u043a\u043e\u043b\u0438 \u044f \u043c\u0430\u0432 \u043f\u043e\u043c\u0435\u043d\u0448\u0435 \u0441\u0438\u0432\u043e\u0433\u043e \u0432\u043e\u043b\u043e\u0441\u0441\u044f.</td>\n",
        "      <td>9000</td>\n",
        "      <td>NaN</td>\n",
        "      <td>NaN</td>\n",
        "      <td>t\u1eeb h\u1ed3i t\u00f3c t\u00f4i c\u00f2n xanh.</td>\n",
        "      <td>9000</td>\n",
        "      <td>\u90a3\u65f6\u6211\u6709\u4e00\u70b9\u70b9\u7070\u8272\u5934\u53d1\u3002</td>\n",
        "      <td>9000</td>\n",
        "      <td>\u7576\u5e74\u7684\u6211\uff0c\u6c92\u9019\u9ebc\u591a\u767d\u982d\u9aee\u3002</td>\n",
        "      <td>9000</td>\n",
        "    </tr>\n",
        "    <tr>\n",
        "      <th>4</th>\n",
        "      <td>4</td>\n",
        "      <td>\u0644\u0642\u062f \u0642\u0627\u0645 \u0628\u062a\u0639\u0644\u064a\u0645\u064a</td>\n",
        "      <td>12000</td>\n",
        "      <td>\u0418 \u0442\u0430\u043a\u0430, \u0442\u043e\u0439 \u043c\u0435 \u043d\u0430\u0443\u0447\u0438</td>\n",
        "      <td>12000</td>\n",
        "      <td>Nau\u010dil m\u011b,</td>\n",
        "      <td>12000</td>\n",
        "      <td>NaN</td>\n",
        "      <td>NaN</td>\n",
        "      <td>Er brachte mir bei,</td>\n",
        "      <td>...</td>\n",
        "      <td>\u0406 \u0432\u0456\u043d \u0440\u043e\u0437\u043f\u043e\u0432\u0456\u0432 \u043c\u0435\u043d\u0456,</td>\n",
        "      <td>12000</td>\n",
        "      <td>NaN</td>\n",
        "      <td>NaN</td>\n",
        "      <td>Th\u1ea7y \u0111\u00e3 d\u1ea1y t\u00f4i</td>\n",
        "      <td>12000</td>\n",
        "      <td>\u6240\u4ee5\u4ed6\u6559\u7ed9\u6211</td>\n",
        "      <td>12000</td>\n",
        "      <td>\u4ed6\u544a\u8a34\u6211\uff0c</td>\n",
        "      <td>12000</td>\n",
        "    </tr>\n",
        "    <tr>\n",
        "      <th>5</th>\n",
        "      <td>5</td>\n",
        "      <td>\u0623\u0646 \u0627\u0644\u0641\u064a\u0632\u064a\u0627\u0621 \u0645\u0627\u062f\u0629 \u062c\u064a\u062f\u0629</td>\n",
        "      <td>14000</td>\n",
        "      <td>\u0447\u0435 \u0444\u0438\u0437\u0438\u043a\u0430\u0442\u0430 \u0435 \u0433\u043e\u0442\u0438\u043d\u0430,</td>\n",
        "      <td>14000</td>\n",
        "      <td>\u017ee fyzika je fajn,</td>\n",
        "      <td>14000</td>\n",
        "      <td>NaN</td>\n",
        "      <td>NaN</td>\n",
        "      <td>dass Physik cool ist,</td>\n",
        "      <td>...</td>\n",
        "      <td>\u0449\u043e \u0444\u0456\u0437\u0438\u043a\u0430 -- \u0446\u0435 \u043a\u0440\u0443\u0442\u043e,</td>\n",
        "      <td>14000</td>\n",
        "      <td>NaN</td>\n",
        "      <td>NaN</td>\n",
        "      <td>r\u1eb1ng v\u1eadt l\u00fd r\u1ea5t l\u00fd th\u00fa</td>\n",
        "      <td>14000</td>\n",
        "      <td>\u7269\u7406\u5b66\u662f\u5f88\u9177\u7684</td>\n",
        "      <td>14000</td>\n",
        "      <td>\u7269\u7406\u5f88\u9177\uff0c</td>\n",
        "      <td>14000</td>\n",
        "    </tr>\n",
        "    <tr>\n",
        "      <th>6</th>\n",
        "      <td>6</td>\n",
        "      <td>\u0644\u0623\u0646\u0647\u0627 \u062a\u0639\u0644\u0645\u0646\u0627 \u0623\u0645\u0648\u0631 \u0643\u062b\u064a\u0631\u0629 \u0639\u0646 \u0627\u0644\u0639\u0627\u0644\u0645 \u0645\u0646 \u062d\u0648\u0644\u0646\u0627.</td>\n",
        "      <td>16000</td>\n",
        "      <td>\u0437\u0430\u0449\u043e\u0442\u043e \u0442\u044f \u043d\u0438 \u0443\u0447\u0438 \u043d\u0430 \u0442\u043e\u043b\u043a\u043e\u0432\u0430 \u043c\u043d\u043e\u0433\u043e \u043d\u0435\u0449\u0430 \u0437\u0430 \u0441\u0432\u0435\u0442...</td>\n",
        "      <td>16000</td>\n",
        "      <td>proto\u017ee n\u00e1s u\u010d\u00ed mnoh\u00e9 o sv\u011bt\u011b kolem n\u00e1s.</td>\n",
        "      <td>16000</td>\n",
        "      <td>NaN</td>\n",
        "      <td>NaN</td>\n",
        "      <td>weil es uns soviel \u00fcber die Welt um uns herum ...</td>\n",
        "      <td>...</td>\n",
        "      <td>\u0442\u043e\u043c\u0443 \u0449\u043e \u0432\u043e\u043d\u0430 \u043c\u043e\u0436\u0435 \u043f\u043e\u044f\u0441\u043d\u0438\u0442\u0438 \u043d\u0430\u043c, \u044f\u043a \u0432\u043b\u0430\u0448\u0442\u043e\u0432\u0430\u043d\u0438\u0439...</td>\n",
        "      <td>16000</td>\n",
        "      <td>NaN</td>\n",
        "      <td>NaN</td>\n",
        "      <td>b\u1edfi n\u00f3 d\u1ea1y ta r\u1ea5t nhi\u1ec1u v\u1ec1 th\u1ebf gi\u1edbi xung quanh.</td>\n",
        "      <td>16000</td>\n",
        "      <td>\u56e0\u4e3a\u5b83\u53ef\u4ee5\u6559\u7ed9\u6211\u4eec\u5f88\u591a\u5f88\u591a\u5173\u4e8e\u6211\u4eec\u5468\u56f4\u4e16\u754c\u7684\u4e8b\u60c5\u3002</td>\n",
        "      <td>16000</td>\n",
        "      <td>\u5b83\u6559\u6211\u5011\u5f88\u591a\u6709\u95dc\u9019\u500b\u4e16\u754c\u7684\u4e8b\u3002</td>\n",
        "      <td>16000</td>\n",
        "    </tr>\n",
        "    <tr>\n",
        "      <th>7</th>\n",
        "      <td>7</td>\n",
        "      <td>\u0648\u0633\u0623\u0642\u0636\u064a \u0627\u0644\u062f\u0642\u0627\u0626\u0642 \u0627\u0644\u0642\u0644\u064a\u0644\u0629 \u0627\u0644\u0642\u0627\u062f\u0645\u0629 \u0645\u062d\u0627\u0648\u0644\u0627 \u0625\u0642\u0646\u0627\u0639\u0643\u0645</td>\n",
        "      <td>18000</td>\n",
        "      <td>\u0418 \u0430\u0437 \u0449\u0435 \u043f\u0440\u0435\u043a\u0430\u0440\u0430\u043c \u0441\u043b\u0435\u0434\u0432\u0430\u0449\u0438\u0442\u0435 \u043d\u044f\u043a\u043e\u043b\u043a\u043e \u043c\u0438\u043d\u0443\u0442\u0438, \u043e\u043f...</td>\n",
        "      <td>18000</td>\n",
        "      <td>V n\u00e1sleduj\u00edc\u00edch n\u011bkolika minut\u00e1ch v\u00e1s zkus\u00edm p...</td>\n",
        "      <td>18000</td>\n",
        "      <td>NaN</td>\n",
        "      <td>NaN</td>\n",
        "      <td>Und ich werde in den n\u00e4chsten Minuten versuche...</td>\n",
        "      <td>...</td>\n",
        "      <td>\u0406 \u043d\u0430\u0441\u0442\u0443\u043f\u043d\u0456 \u0434\u0435\u043a\u0456\u043b\u044c\u043a\u0430 \u0445\u0432\u0438\u043b\u0438\u043d \u044f \u0432\u0438\u0442\u0440\u0430\u0447\u0443 \u043d\u0430 \u0441\u043f\u0440\u043e\u0431\u0438...</td>\n",
        "      <td>18000</td>\n",
        "      <td>NaN</td>\n",
        "      <td>NaN</td>\n",
        "      <td>V\u00e0 t\u00f4i s\u1ebd d\u00e0nh v\u00e0i ph\u00fat t\u1edbi \u0111\u1ec3 thuy\u1ebft ph\u1ee5c c\u00e1c...</td>\n",
        "      <td>18000</td>\n",
        "      <td>\u63a5\u4e0b\u6765\u6211\u8981\u82b1\u4e0a\u51e0\u5206\u949f\u7684\u65f6\u95f4\u8981\u4f60\u4eec\u76f8\u4fe1</td>\n",
        "      <td>18000</td>\n",
        "      <td>\u63a5\u4e0b\u4f86\u7684\u5e7e\u5206\u9418\u88cf\uff0c\u6211\u8981\u8b93\u5404\u4f4d\u76f8\u4fe1\uff0c</td>\n",
        "      <td>18000</td>\n",
        "    </tr>\n",
        "    <tr>\n",
        "      <th>8</th>\n",
        "      <td>8</td>\n",
        "      <td>\u0628\u0623\u0646 \u0627\u0644\u0641\u064a\u0632\u064a\u0627\u0621 \u064a\u0645\u0643\u0646 \u0623\u0646 \u062a\u0639\u0644\u0645\u0646\u0627 \u0634\u064a\u0626\u0627 \u0639\u0646 \u0627\u0644\u062a\u0633\u0648\u064a\u0642.</td>\n",
        "      <td>21000</td>\n",
        "      <td>\u0447\u0435 \u0444\u0438\u0437\u0438\u043a\u0430\u0442\u0430 \u043c\u043e\u0436\u0435 \u0434\u0430 \u043d\u0438 \u043d\u0430\u0443\u0447\u0438 \u043d\u0435\u0449\u043e \u0437\u0430 \u043c\u0430\u0440\u043a\u0435\u0442\u0438\u043d\u0433\u0430.</td>\n",
        "      <td>21000</td>\n",
        "      <td>\u017ee n\u00e1s fyzika m\u016f\u017ee n\u011bco m\u00e1lo nau\u010dit o marketingu.</td>\n",
        "      <td>21000</td>\n",
        "      <td>NaN</td>\n",
        "      <td>NaN</td>\n",
        "      <td>dass Physik uns etwas \u00fcber Marketing lehren kann.</td>\n",
        "      <td>...</td>\n",
        "      <td>\u0449\u043e \u0444\u0456\u0437\u0438\u043a\u0430 \u043c\u043e\u0436\u0435 \u043d\u0430\u0432\u0447\u0438\u0442\u0438 \u043d\u0430\u0441 \u0447\u043e\u043c\u0443\u0441\u044c \u0432 \u043e\u0431\u043b\u0430\u0441\u0442\u0456 \u043c\u0430...</td>\n",
        "      <td>21000</td>\n",
        "      <td>NaN</td>\n",
        "      <td>NaN</td>\n",
        "      <td>r\u1eb1ng v\u1eadt l\u00fd c\u00f3 th\u1ec3 d\u1ea1y ra nhi\u1ec1u \u0111i\u1ec1u v\u1ec1 market...</td>\n",
        "      <td>21000</td>\n",
        "      <td>\u7269\u7406\u5b66\u53ef\u4ee5\u6559\u7ed9\u6211\u4eec\u4e00\u4e9b\u5173\u4e8e\u5e02\u573a\u8425\u9500\u7684\u77e5\u8bc6\u3002</td>\n",
        "      <td>21000</td>\n",
        "      <td>\u7269\u7406\u5176\u5be6\u53ef\u4ee5\u6559\u6211\u5011\u4e00\u4e9b\u6709\u95dc\u884c\u92b7\u7684\u4e8b\u3002</td>\n",
        "      <td>21000</td>\n",
        "    </tr>\n",
        "    <tr>\n",
        "      <th>9</th>\n",
        "      <td>9</td>\n",
        "      <td>\u0639\u0631\u0636 \u0633\u0631\u064a\u0639 \u0628\u0631\u0641\u0639 \u0627\u0644\u0623\u064a\u062f\u064a --</td>\n",
        "      <td>24000</td>\n",
        "      <td>\u0418 \u0442\u0430\u043a\u0430, \u0431\u044a\u0440\u0437\u043e \u0432\u0434\u0438\u0433\u043d\u0435\u0442\u0435 \u0440\u044a\u043a\u0430 --</td>\n",
        "      <td>24000</td>\n",
        "      <td>Rychle zvedn\u011bte ruce \u2013</td>\n",
        "      <td>24000</td>\n",
        "      <td>NaN</td>\n",
        "      <td>NaN</td>\n",
        "      <td>So bitte ein kurzes Handzeichen --</td>\n",
        "      <td>...</td>\n",
        "      <td>\u041f\u0456\u0434\u043d\u0456\u043c\u0456\u043c\u043e \u0440\u0443\u043a\u0438:</td>\n",
        "      <td>24000</td>\n",
        "      <td>NaN</td>\n",
        "      <td>NaN</td>\n",
        "      <td>M\u00ecnh l\u00e0m m\u1ed9t cu\u1ed9c kh\u1ea3o s\u00e1t nho nh\u1ecf nh\u00e9 --</td>\n",
        "      <td>24000</td>\n",
        "      <td>\u90a3\u4e48\u5f88\u5feb\u7684\u4e3e\u4e00\u4e0b\u624b--</td>\n",
        "      <td>24000</td>\n",
        "      <td>\u6211\u5148\u505a\u500b\u5c0f\u8abf\u67e5\uff0c</td>\n",
        "      <td>24000</td>\n",
        "    </tr>\n",
        "    <tr>\n",
        "      <th>10</th>\n",
        "      <td>10</td>\n",
        "      <td>\u0645\u0646 \u0627\u0644\u0630\u064a \u062f\u0631\u0633 \u0634\u064a\u0626\u0627 \u0639\u0646 \u0627\u0644\u062a\u0633\u0648\u064a\u0642 \u0641\u064a \u0627\u0644\u062c\u0627\u0645\u0639\u0629\u061f</td>\n",
        "      <td>26000</td>\n",
        "      <td>\u043a\u043e\u0439 \u0435 \u0443\u0447\u0438\u043b \u043c\u0430\u0440\u043a\u0435\u0442\u0438\u043d\u0433 \u0432 \u0443\u043d\u0438\u0432\u0435\u0440\u0441\u0438\u0442\u0435\u0442\u0430?</td>\n",
        "      <td>26000</td>\n",
        "      <td>kdo jste na vysok\u00e9 studovali marketing?</td>\n",
        "      <td>26000</td>\n",
        "      <td>NaN</td>\n",
        "      <td>NaN</td>\n",
        "      <td>Wer studierte Marketing an einer Universi\u00e4t?</td>\n",
        "      <td>...</td>\n",
        "      <td>\u0445\u0442\u043e \u0432\u0438\u0432\u0447\u0430\u0432 \u0442\u0440\u043e\u0448\u043a\u0438 \u043c\u0430\u0440\u043a\u0435\u0442\u0438\u043d\u0433\u0443 \u0432 \u0443\u043d\u0456\u0432\u0435\u0440\u0441\u0438\u0442\u0435\u0442\u0456?</td>\n",
        "      <td>26000</td>\n",
        "      <td>NaN</td>\n",
        "      <td>NaN</td>\n",
        "      <td>ai trong s\u1ed1 c\u00e1c b\u1ea1n \u0111\u00e3 h\u1ecdc marketing \u1edf b\u1eadc \u0111\u1ea1i...</td>\n",
        "      <td>26000</td>\n",
        "      <td>\u6709\u8c01\u5728\u5927\u5b66\u91cc\u5b66\u4e60\u8fc7\u5e02\u573a\u8425\u9500\uff1f</td>\n",
        "      <td>26000</td>\n",
        "      <td>\u9019\u88cf\u6709\u4eba\u5728\u5927\u5b78\u88cf\u4fee\u904e\u884c\u92b7\u55ce?</td>\n",
        "      <td>26000</td>\n",
        "    </tr>\n",
        "    <tr>\n",
        "      <th>11</th>\n",
        "      <td>11</td>\n",
        "      <td>\u0645\u0646 \u0627\u0644\u0630\u064a \u062f\u0631\u0633 \u0634\u064a\u0626\u0627 \u0639\u0646 \u0627\u0644\u0641\u064a\u0632\u064a\u0627\u0621 \u0641\u064a \u0627\u0644\u062c\u0627\u0645\u0639\u0629\u061f</td>\n",
        "      <td>28000</td>\n",
        "      <td>\u041a\u043e\u0439 \u0435 \u0443\u0447\u0438\u043b \u0444\u0438\u0437\u0438\u043a\u0430 \u0432 \u0443\u043d\u0438\u0432\u0435\u0440\u0441\u0438\u0442\u0435\u0442\u0430?</td>\n",
        "      <td>28000</td>\n",
        "      <td>Kdo na v\u00fd\u0161ce studoval fyziku?</td>\n",
        "      <td>28000</td>\n",
        "      <td>NaN</td>\n",
        "      <td>NaN</td>\n",
        "      <td>Wer studierte Physik an einer Universit\u00e4t?</td>\n",
        "      <td>...</td>\n",
        "      <td>\u0410 \u0445\u0442\u043e \u0432\u0447\u0438\u0432 \u0442\u0440\u043e\u0448\u043a\u0438 \u0444\u0456\u0437\u0438\u043a\u0438?</td>\n",
        "      <td>28000</td>\n",
        "      <td>NaN</td>\n",
        "      <td>NaN</td>\n",
        "      <td>Ai t\u1eebng h\u1ecdc v\u1eadt l\u00fd \u1edf b\u1eadc \u0111\u1ea1i h\u1ecdc?</td>\n",
        "      <td>28000</td>\n",
        "      <td>\u6709\u8c01\u5728\u5927\u5b66\u91cc\u5b66\u4e60\u8fc7\u7269\u7406\u5b66\uff1f</td>\n",
        "      <td>28000</td>\n",
        "      <td>\u6709\u4eba\u5728\u5927\u5b78\u88cf\u4fee\u904e\u7269\u7406\u55ce?</td>\n",
        "      <td>28000</td>\n",
        "    </tr>\n",
        "    <tr>\n",
        "      <th>12</th>\n",
        "      <td>12</td>\n",
        "      <td>\u0623\u0648\u0648\u0647\u060c \u062c\u0645\u064a\u0644 \u062c\u062f\u0627\u060c \u0648\u0641\u064a \u0627\u0644\u0645\u062f\u0631\u0633\u0629\u061f</td>\n",
        "      <td>30000</td>\n",
        "      <td>\u041e, \u0434\u043e\u0441\u0442\u0430 \u0434\u043e\u0431\u0440\u0435. \u0410 \u0432 \u0443\u0447\u0438\u043b\u0438\u0449\u0435?</td>\n",
        "      <td>30000</td>\n",
        "      <td>Jo, docela dobr\u00e9. A ve \u0161kole?</td>\n",
        "      <td>30000</td>\n",
        "      <td>NaN</td>\n",
        "      <td>NaN</td>\n",
        "      <td>Ooh, ziemlich gut. Und in der Schule?</td>\n",
        "      <td>...</td>\n",
        "      <td>\u041e! \u0414\u0443\u0436\u0435 \u0434\u043e\u0431\u0440\u0435... \u0410 \u0432 \u0448\u043a\u043e\u043b\u0456?</td>\n",
        "      <td>30000</td>\n",
        "      <td>NaN</td>\n",
        "      <td>NaN</td>\n",
        "      <td>\u1ed2, c\u0169ng kh\u00e1 \u0111\u1ea5y ch\u1ee9? C\u00f2n \u1edf trung h\u1ecdc th\u00ec sao \u1ea1?</td>\n",
        "      <td>30000</td>\n",
        "      <td>\u54e6\uff0c\u5f88\u597d\u3002\u6709\u8c01\u5728\u9ad8\u4e2d\u5b66\u8fc7\uff1f</td>\n",
        "      <td>30000</td>\n",
        "      <td>\u5662\uff0c\u9084\u4e0d\u932f\u3002\u4e2d\u5b78\u7684\u6642\u5019\u5462?</td>\n",
        "      <td>30000</td>\n",
        "    </tr>\n",
        "    <tr>\n",
        "      <th>13</th>\n",
        "      <td>13</td>\n",
        "      <td>\u062d\u0633\u0646\u0627\u060c \u0627\u0644\u0639\u062f\u064a\u062f \u0645\u0646\u0643\u0645.</td>\n",
        "      <td>32000</td>\n",
        "      <td>\u0414\u043e\u0431\u0440\u0435, \u043c\u043d\u043e\u0433\u043e \u043e\u0442 \u0432\u0430\u0441.</td>\n",
        "      <td>32000</td>\n",
        "      <td>Dob\u0159e, docela hodn\u011b.</td>\n",
        "      <td>32000</td>\n",
        "      <td>NaN</td>\n",
        "      <td>NaN</td>\n",
        "      <td>Okay, eine ganze Reihe von Ihnen.</td>\n",
        "      <td>...</td>\n",
        "      <td>\u0417\u0440\u043e\u0437\u0443\u043c\u0456\u043b\u043e, \u0431\u0430\u0433\u0430\u0442\u043e.</td>\n",
        "      <td>32000</td>\n",
        "      <td>NaN</td>\n",
        "      <td>NaN</td>\n",
        "      <td>V\u00e2ng, r\u1ea5t nhi\u1ec1u.</td>\n",
        "      <td>32000</td>\n",
        "      <td>\u597d\uff0c\u5f88\u591a\u4eba\u3002</td>\n",
        "      <td>32000</td>\n",
        "      <td>\u597d\uff0c\u770b\u4f86\u9084\u4e0d\u5c11\u3002</td>\n",
        "      <td>32000</td>\n",
        "    </tr>\n",
        "    <tr>\n",
        "      <th>14</th>\n",
        "      <td>14</td>\n",
        "      <td>\u0644\u0630\u0627\u060c \u0622\u0645\u0644 \u0641\u064a \u0623\u0646 \u0647\u0630\u0627 \u0633\u064a\u0639\u064a\u062f \u0628\u0639\u0636\u0627 \u0645\u0646 \u0627\u0644\u0633\u0639\u0627\u062f\u0629\u060c</td>\n",
        "      <td>34000</td>\n",
        "      <td>\u0422\u0430\u043a\u0430, \u043d\u0430\u0434\u044f\u0432\u0430\u043c \u0441\u0435 \u0442\u043e\u0432\u0430 \u0449\u0435 \u0434\u043e\u043d\u0435\u0441\u0435 \u043d\u044f\u043a\u0430\u043a\u0432\u0438 \u0449\u0430\u0441\u0442\u043b\u0438\u0432\u0438,</td>\n",
        "      <td>34000</td>\n",
        "      <td>Snad se v\u00e1m tedy vybav\u00ed n\u011bjak\u00e9 \u0161\u0165astn\u00e9 \u2013</td>\n",
        "      <td>34000</td>\n",
        "      <td>NaN</td>\n",
        "      <td>NaN</td>\n",
        "      <td>So, hoffentlich wird dies ein paar gl\u00fcckliche</td>\n",
        "      <td>...</td>\n",
        "      <td>\u041d\u0443 \u0449\u043e \u0436 \u0431\u0443\u0434\u0435\u043c\u043e \u043d\u0430\u0434\u0456\u044f\u0442\u0438\u0441\u044c, \u0449\u043e \u0437\u0430\u0440\u0430\u0437 \u0437\u0433\u0430\u0434\u0430\u044e\u0442\u044c\u0441\u044f ...</td>\n",
        "      <td>34000</td>\n",
        "      <td>NaN</td>\n",
        "      <td>NaN</td>\n",
        "      <td>Hi v\u1ecdng l\u00e0 \u0111i\u1ec1u n\u00e0y s\u1ebd \u0111em \u0111\u1ebfn nh\u1eefng k\u1ef7 ni\u1ec7m v...</td>\n",
        "      <td>34000</td>\n",
        "      <td>\u6240\u4ee5\uff0c\u5e0c\u671b\u8fd9\u4f1a\u8ba9\u6211\u4eec\u91cd\u83b7\u4e00\u4e9b\u5feb\u4e50\uff0c</td>\n",
        "      <td>34000</td>\n",
        "      <td>\u90a3\u9ebc\uff0c\u5e0c\u671b\u9019\u80fd\u8b93\u4f60\u5011\u56de\u60f3\u8d77\u4e00\u4e9b\u5feb\u6a02\u7684\uff0c</td>\n",
        "      <td>34000</td>\n",
        "    </tr>\n",
        "    <tr>\n",
        "      <th>15</th>\n",
        "      <td>15</td>\n",
        "      <td>\u0623\u0648 \u0631\u0628\u0645\u0627 \u0628\u0639\u0636 \u0627\u0644\u0630\u0643\u0631\u064a\u0627\u062a \u0627\u0644\u0645\u0632\u0639\u062c\u0629 \u0642\u0644\u064a\u0644\u0627\u064b.</td>\n",
        "      <td>36000</td>\n",
        "      <td>\u0438\u043b\u0438 \u043c\u043e\u0436\u0435 \u0431\u0438 \u043d\u044f\u043a\u043e\u0438 \u043b\u0435\u043a\u043e \u0441\u043c\u0443\u0449\u0430\u0432\u0430\u0449\u0438 \u0441\u043f\u043e\u043c\u0435\u043d\u0438.</td>\n",
        "      <td>36000</td>\n",
        "      <td>nebo mo\u017en\u00e1 trochu rozru\u0161en\u00e9 \u2013 vzpom\u00ednky.</td>\n",
        "      <td>36000</td>\n",
        "      <td>NaN</td>\n",
        "      <td>NaN</td>\n",
        "      <td>oder vielleicht einige unangenehme Erinnerunge...</td>\n",
        "      <td>...</td>\n",
        "      <td>\u0447\u0438, \u043c\u043e\u0436\u043b\u0438\u0432\u043e, \u0442\u0440\u043e\u0445\u0438 \u0445\u0432\u0438\u043b\u044e\u044e\u0447\u0456 \u043c\u043e\u043c\u0435\u043d\u0442\u0438.</td>\n",
        "      <td>36000</td>\n",
        "      <td>NaN</td>\n",
        "      <td>NaN</td>\n",
        "      <td>ho\u1eb7c h\u01a1i l\u1ed9n x\u1ed9n m\u1ed9t ch\u00fat.</td>\n",
        "      <td>36000</td>\n",
        "      <td>\u6216\u8005\u53ef\u80fd\u662f\u4e00\u4e9b\u6709\u70b9\u4e0d\u5b89\u7684\u56de\u5fc6\u3002</td>\n",
        "      <td>36000</td>\n",
        "      <td>\u6216\u662f\u8b93\u4eba\u611f\u5230\u6709\u9ede\u6df7\u4e82\u7684\u5f80\u4e8b\u3002</td>\n",
        "      <td>36000</td>\n",
        "    </tr>\n",
        "    <tr>\n",
        "      <th>16</th>\n",
        "      <td>16</td>\n",
        "      <td>\u0647\u0643\u0630\u0627\u060c \u0627\u0644\u0641\u064a\u0632\u064a\u0627\u0621 \u0648\u0627\u0644\u062a\u0633\u0648\u064a\u0642:</td>\n",
        "      <td>39000</td>\n",
        "      <td>\u0418 \u0442\u0430\u043a\u0430, \u0444\u0438\u0437\u0438\u043a\u0430 \u0438 \u043c\u0430\u0440\u043a\u0435\u0442\u0438\u043d\u0433:</td>\n",
        "      <td>39000</td>\n",
        "      <td>Tak\u017ee\u2026 Fyzika a marketing:</td>\n",
        "      <td>39000</td>\n",
        "      <td>NaN</td>\n",
        "      <td>NaN</td>\n",
        "      <td>Also, Physik und Marketing:</td>\n",
        "      <td>...</td>\n",
        "      <td>\u041e\u0442\u043e\u0436, \u0444\u0456\u0437\u0438\u043a\u0430 \u0442\u0430 \u043c\u0430\u0440\u043a\u0435\u0442\u0438\u043d\u0433:</td>\n",
        "      <td>39000</td>\n",
        "      <td>NaN</td>\n",
        "      <td>NaN</td>\n",
        "      <td>V\u1eadt l\u00fd v\u00e0 marketing:</td>\n",
        "      <td>39000</td>\n",
        "      <td>\u6240\u4ee5\uff0c\u5173\u4e8e\u7269\u7406\u5b66\u548c\u5e02\u573a\u8425\u9500\uff1a</td>\n",
        "      <td>39000</td>\n",
        "      <td>\u597d\u7684\uff0c\u7269\u7406\u548c\u884c\u92b7:</td>\n",
        "      <td>39000</td>\n",
        "    </tr>\n",
        "    <tr>\n",
        "      <th>17</th>\n",
        "      <td>17</td>\n",
        "      <td>\u0633\u0646\u0628\u062f\u0623 \u0628\u0634\u064a\u0621 \u0628\u0633\u064a\u0637 \u062c\u062f\u0627\u064b\u060c \u0642\u0627\u0646\u0648\u0646 \u0646\u064a\u0648\u062a\u0646:</td>\n",
        "      <td>43000</td>\n",
        "      <td>\u0429\u0435 \u0437\u0430\u043f\u043e\u0447\u043d\u0435\u043c \u0441 \u043d\u0435\u0449\u043e \u043c\u043d\u043e\u0433\u043e \u043f\u0440\u043e\u0441\u0442\u043e, \u0437\u0430\u043a\u043e\u043d\u0430 \u043d\u0430 \u041d\u044e\u0442\u043e\u043d:</td>\n",
        "      <td>43000</td>\n",
        "      <td>Za\u010dneme n\u011b\u010d\u00edm velmi jednoduch\u00fdm, Newtonov\u00fdm z\u00e1...</td>\n",
        "      <td>43000</td>\n",
        "      <td>NaN</td>\n",
        "      <td>NaN</td>\n",
        "      <td>Wir werden mit etwas sehr einfachem starten: N...</td>\n",
        "      <td>...</td>\n",
        "      <td>\u043c\u0438 \u043f\u043e\u0447\u043d\u0435\u043c\u043e \u0437 \u043f\u0440\u043e\u0441\u0442\u043e\u0433\u043e -- \u0437\u0430\u043a\u043e\u043d \u041d\u044c\u044e\u0442\u043e\u043d\u0430:</td>\n",
        "      <td>43000</td>\n",
        "      <td>NaN</td>\n",
        "      <td>NaN</td>\n",
        "      <td>ch\u00fang ta s\u1ebd b\u1eaft \u0111\u1ea7u v\u1edbi m\u1ed9t th\u1ee9 \u0111\u01a1n gi\u1ea3n: \u0110\u1ecbnh...</td>\n",
        "      <td>43000</td>\n",
        "      <td>\u6211\u4eec\u8981\u4ece\u4e00\u4e9b\u7b80\u5355\u7684\u5f00\u59cb\uff0c\u725b\u987f\u7b2c\u4e8c\u5b9a\u5f8b\uff1a</td>\n",
        "      <td>43000</td>\n",
        "      <td>\u6211\u5011\u5148\u5f9e\u7c21\u55ae\u7684\u958b\u59cb\uff0c\u5148\u770b\u725b\u9813\u5b9a\u5f8b:</td>\n",
        "      <td>43000</td>\n",
        "    </tr>\n",
        "    <tr>\n",
        "      <th>18</th>\n",
        "      <td>18</td>\n",
        "      <td>\"\u0627\u0644\u0642\u0648\u0629 \u062a\u0633\u0627\u0648\u064a \u0627\u0644\u0639\u062c\u0644\u0629 \u0645\u0636\u0631\u0648\u0628\u0629 \u0641\u064a \u0627\u0644\u0643\u062a\u0644\u0629.\"</td>\n",
        "      <td>45000</td>\n",
        "      <td>\"\u0421\u0438\u043b\u0430\u0442\u0430 \u0441\u0435 \u0440\u0430\u0432\u043d\u044f\u0432\u0430 \u043d\u0430 \u043c\u0430\u0441\u0430\u0442\u0430 \u0443\u043c\u043d\u043e\u0436\u0435\u043d\u0430 \u043f\u043e \u0443\u0441\u043a\u043e\u0440...</td>\n",
        "      <td>45000</td>\n",
        "      <td>\u201eS\u00edla se rovn\u00e1 sou\u010dinu hmotnosti a zrychlen\u00ed.\u201c</td>\n",
        "      <td>45000</td>\n",
        "      <td>NaN</td>\n",
        "      <td>NaN</td>\n",
        "      <td>\"Kraft ist das Produkt aus Masse und Beschleun...</td>\n",
        "      <td>...</td>\n",
        "      <td>\"\u0421\u0438\u043b\u0430 \u0440\u0456\u0432\u043d\u0430 \u0434\u043e\u0431\u0443\u0442\u043a\u0443 \u043c\u0430\u0441\u0438 \u043d\u0430 \u043f\u0440\u0438\u0441\u043a\u043e\u0440\u0435\u043d\u043d\u044f\".</td>\n",
        "      <td>45000</td>\n",
        "      <td>NaN</td>\n",
        "      <td>NaN</td>\n",
        "      <td>\"L\u1ef1c b\u1eb1ng kh\u1ed1i l\u01b0\u1ee3ng nh\u00e2n v\u1edbi gia t\u1ed1c.\"</td>\n",
        "      <td>45000</td>\n",
        "      <td>\u201c\u5408\u5916\u529b\u7b49\u4e8e\u8d28\u91cf\u4e58\u4ee5\u52a0\u901f\u5ea6\u3002\u201d</td>\n",
        "      <td>45000</td>\n",
        "      <td>\u529b\u7b49\u65bc\u8cea\u91cf\u4e58\u4ee5\u52a0\u901f\u5ea6</td>\n",
        "      <td>45000</td>\n",
        "    </tr>\n",
        "    <tr>\n",
        "      <th>19</th>\n",
        "      <td>19</td>\n",
        "      <td>\u0647\u0630\u0627 \u0634\u064a\u0621 \u0631\u0628\u0645\u0627 \u064a\u062c\u0628 \u0639\u0644\u0649 \u0627\u0644\u062e\u0637\u0648\u0637 \u0627\u0644\u062c\u0648\u064a\u0629 \u0627\u0644\u062a\u0631\u0643\u064a\u0629</td>\n",
        "      <td>48000</td>\n",
        "      <td>\u0422\u043e\u0432\u0430 \u0435 \u043d\u0435\u0449\u043e, \u043a\u043e\u0435\u0442\u043e \u043c\u043e\u0436\u0435 \u0431\u0438 \u0422\u0443\u0440\u0441\u043a\u0438\u0442\u0435 \u0430\u0432\u0438\u043e\u043b\u0438\u043d\u0438\u0438</td>\n",
        "      <td>48000</td>\n",
        "      <td>Tohle mo\u017en\u00e1 m\u011bly Turkish Airlines</td>\n",
        "      <td>48000</td>\n",
        "      <td>NaN</td>\n",
        "      <td>NaN</td>\n",
        "      <td>Das ist etwas, was Turkish Airlines vielleicht</td>\n",
        "      <td>...</td>\n",
        "      <td>\u0422\u0443\u0440\u0435\u0446\u044c\u043a\u0438\u043c \u0430\u0432\u0456\u0430\u043b\u0456\u043d\u0456\u044f\u043c</td>\n",
        "      <td>48000</td>\n",
        "      <td>NaN</td>\n",
        "      <td>NaN</td>\n",
        "      <td>\u0110\u00e2y l\u00e0 m\u1ed9t \u0111i\u1ec1u m\u00e0 H\u00e3ng h\u00e0ng kh\u00f4ng Th\u1ed5 Nh\u0129 K\u1ef3</td>\n",
        "      <td>48000</td>\n",
        "      <td>\u8fd9\u662f\u4e00\u4e9b\u6216\u8bb8\u662f\u571f\u8033\u5176\u822a\u7a7a\u516c\u53f8</td>\n",
        "      <td>48000</td>\n",
        "      <td>\u571f\u8033\u5176\u822a\u7a7a\u4e5f\u8a31\u61c9\u8a72</td>\n",
        "      <td>48000</td>\n",
        "    </tr>\n",
        "    <tr>\n",
        "      <th>20</th>\n",
        "      <td>20</td>\n",
        "      <td>\u0623\u0646 \u062a\u0643\u0648\u0646 \u062f\u0631\u0627\u0633\u062a\u0647 \u0628\u0639\u0646\u0627\u064a\u0629 \u0623\u0643\u062b\u0631</td>\n",
        "      <td>50000</td>\n",
        "      <td>\u0442\u0440\u044f\u0431\u0432\u0430\u043b\u043e \u0434\u0430 \u0438\u0437\u0443\u0447\u0430\u0442 \u043c\u0430\u043b\u043a\u043e \u043f\u043e-\u0432\u043d\u0438\u043c\u0430\u0442\u0435\u043b\u043d\u043e,</td>\n",
        "      <td>50000</td>\n",
        "      <td>studovat trochu pe\u010dliv\u011bji,</td>\n",
        "      <td>50000</td>\n",
        "      <td>NaN</td>\n",
        "      <td>NaN</td>\n",
        "      <td>etwas sorgf\u00e4ltiger h\u00e4tte studieren sollen</td>\n",
        "      <td>...</td>\n",
        "      <td>\u0441\u043b\u0456\u0434 \u0431\u0438 \u043f\u0456\u0434\u0443\u0447\u0438\u0442\u0438 \u0446\u0435\u0439 \u0437\u0430\u043a\u043e\u043d</td>\n",
        "      <td>50000</td>\n",
        "      <td>NaN</td>\n",
        "      <td>NaN</td>\n",
        "      <td>n\u00ean nghi\u00ean c\u1ee9u c\u1ea9n th\u1eadn h\u01a1n</td>\n",
        "      <td>50000</td>\n",
        "      <td>\u672c\u5e94\u7a0d\u5fae\u591a\u4ed4\u7ec6\u5b66\u4e60\u7684\u4e1c\u897f</td>\n",
        "      <td>50000</td>\n",
        "      <td>\u5148\u597d\u597d\u5730\u5b78\u5b78\u9019\u500b\u5b9a\u5f8b\uff0c</td>\n",
        "      <td>50000</td>\n",
        "    </tr>\n",
        "    <tr>\n",
        "      <th>21</th>\n",
        "      <td>21</td>\n",
        "      <td>\u0642\u0628\u0644 \u0642\u064a\u0627\u0645\u0647\u0645 \u0628\u0647\u0630\u0647 \u0627\u0644\u062d\u0645\u0644\u0629.</td>\n",
        "      <td>53000</td>\n",
        "      <td>\u043f\u0440\u0435\u0434\u0438 \u0434\u0430 \u0437\u0430\u043f\u043e\u0447\u043d\u0430\u0442 \u0442\u0430\u0437\u0438 \u043a\u0430\u043c\u043f\u0430\u043d\u0438\u044f.</td>\n",
        "      <td>53000</td>\n",
        "      <td>ne\u017e spustily tuto kampa\u0148.</td>\n",
        "      <td>53000</td>\n",
        "      <td>NaN</td>\n",
        "      <td>NaN</td>\n",
        "      <td>bevor sie diese Kampagne starteten.</td>\n",
        "      <td>...</td>\n",
        "      <td>\u043f\u0435\u0440\u0435\u0434 \u0441\u0432\u043e\u0454\u044e \u0440\u0435\u043a\u043b\u0430\u043c\u043d\u043e\u044e \u043a\u0430\u043c\u043f\u0430\u043d\u0456\u0454\u044e.</td>\n",
        "      <td>53000</td>\n",
        "      <td>NaN</td>\n",
        "      <td>NaN</td>\n",
        "      <td>tr\u01b0\u1edbc khi h\u1ecd ra chi\u1ebfn d\u1ecbch v\u1eadn \u0111\u1ed9ng.</td>\n",
        "      <td>53000</td>\n",
        "      <td>\u7136\u540e\uff0c\u4ed6\u4eec\u518d\u8fdb\u884c\u7ade\u9009\u3002</td>\n",
        "      <td>53000</td>\n",
        "      <td>\u7136\u5f8c\u518d\u63a8\u51fa\u9019\u500b\u884c\u92b7\u6d3b\u52d5\u3002</td>\n",
        "      <td>53000</td>\n",
        "    </tr>\n",
        "    <tr>\n",
        "      <th>22</th>\n",
        "      <td>22</td>\n",
        "      <td>(\u0636\u062d\u0643)</td>\n",
        "      <td>55000</td>\n",
        "      <td>(\u0421\u043c\u044f\u0445)</td>\n",
        "      <td>55000</td>\n",
        "      <td>(Sm\u00edch)</td>\n",
        "      <td>55000</td>\n",
        "      <td>NaN</td>\n",
        "      <td>NaN</td>\n",
        "      <td>(Lachen)</td>\n",
        "      <td>...</td>\n",
        "      <td>(\u0421\u043c\u0456\u0445)</td>\n",
        "      <td>55000</td>\n",
        "      <td>NaN</td>\n",
        "      <td>NaN</td>\n",
        "      <td>(C\u01b0\u1eddi)</td>\n",
        "      <td>55000</td>\n",
        "      <td>\uff08\u7b11\u58f0\uff09</td>\n",
        "      <td>55000</td>\n",
        "      <td>(\u7b11\u8072)</td>\n",
        "      <td>55000</td>\n",
        "    </tr>\n",
        "    <tr>\n",
        "      <th>23</th>\n",
        "      <td>23</td>\n",
        "      <td>\u0644\u0643\u0646 \u0625\u0630\u0627 \u0642\u0645\u0646\u0627 \u0628\u0625\u0639\u0627\u062f\u0629 \u0647\u0630\u0647 \u0627\u0644\u0635\u064a\u063a\u0629 \u0628\u0633\u0631\u0639\u0629\u060c</td>\n",
        "      <td>58000</td>\n",
        "      <td>\u041d\u043e \u0430\u043a\u043e \u043f\u0440\u0435\u043d\u0430\u0440\u0435\u0434\u0438\u043c \u0431\u044a\u0440\u0437\u043e \u0442\u0430\u0437\u0438 \u0444\u043e\u0440\u043c\u0443\u043b\u0430,</td>\n",
        "      <td>58000</td>\n",
        "      <td>Kdy\u017e ale tento vztah trochu uprav\u00edme,</td>\n",
        "      <td>58000</td>\n",
        "      <td>NaN</td>\n",
        "      <td>NaN</td>\n",
        "      <td>Aber wenn wir diese Formel schnell umschreiben,</td>\n",
        "      <td>...</td>\n",
        "      <td>\u0410\u043b\u0435 \u044f\u043a\u0449\u043e \u043c\u0438 \u0448\u0432\u0438\u0434\u0435\u043d\u044c\u043a\u043e \u043f\u0435\u0440\u0435\u043d\u0435\u0441\u0435\u043c\u043e \u0447\u0430\u0441\u0442\u0438\u043d\u0438 \u0440\u0456\u0432\u043d\u044f...</td>\n",
        "      <td>58000</td>\n",
        "      <td>NaN</td>\n",
        "      <td>NaN</td>\n",
        "      <td>Nh\u01b0ng n\u1ebfu t\u00f4i t\u00e1i s\u1eafp x\u1ebfp nhanh c\u00f4ng th\u1ee9c n\u00e0y,</td>\n",
        "      <td>58000</td>\n",
        "      <td>\u4f46\u662f\u5982\u679c\u6211\u4eec\u91cd\u65b0\u5feb\u901f\u7684\u6392\u5217\u8fd9\u4e2a\u516c\u5f0f\uff0c</td>\n",
        "      <td>58000</td>\n",
        "      <td>\u5982\u679c\u6211\u5011\u5f88\u5feb\u5730\u91cd\u7d44\u9019\u500b\u65b9\u7a0b\u5f0f\uff0c</td>\n",
        "      <td>58000</td>\n",
        "    </tr>\n",
        "    <tr>\n",
        "      <th>24</th>\n",
        "      <td>24</td>\n",
        "      <td>\u064a\u0645\u0643\u0646\u0646\u0627 \u0623\u0646 \u0646\u062d\u0635\u0644 \u0639\u0644\u0649 \u0623\u0646 \u0627\u0644\u0639\u062c\u0644\u0629 \u062a\u0633\u0627\u0648\u064a \u0627\u0644\u0642\u0648\u0629 \u062a\u0642\u0633\u064a\u0645...</td>\n",
        "      <td>61000</td>\n",
        "      <td>\u0449\u0435 \u0434\u043e\u0441\u0442\u0438\u0433\u043d\u0435\u043c \u0434\u043e, \u0443\u0441\u043a\u043e\u0440\u0435\u043d\u0438\u0435\u0442\u043e \u0441\u0435 \u0440\u0430\u0432\u043d\u044f\u0432\u0430 \u043d\u0430 \u0441\u0438\u043b...</td>\n",
        "      <td>61000</td>\n",
        "      <td>dostaneme se ke zrychlen\u00ed rovnaj\u00edc\u00edmu se s\u00edle ...</td>\n",
        "      <td>61000</td>\n",
        "      <td>NaN</td>\n",
        "      <td>NaN</td>\n",
        "      <td>dann bekommen wir heraus, da\u00df Beschleunigung g...</td>\n",
        "      <td>...</td>\n",
        "      <td>\u0442\u043e \u043e\u0442\u0440\u0438\u043c\u0430\u0454\u043c\u043e, \u0449\u043e \u043f\u0440\u0438\u0448\u0432\u0438\u0434\u0448\u0435\u043d\u043d\u044f \u0440\u0456\u0432\u043d\u0435 \u0441\u0438\u043b\u0456, \u043f\u043e\u0434\u0456...</td>\n",
        "      <td>61000</td>\n",
        "      <td>NaN</td>\n",
        "      <td>NaN</td>\n",
        "      <td>ch\u00fang ta s\u1ebd c\u00f3 gia t\u1ed1c b\u1eb1ng l\u1ef1c chia kh\u1ed1i l\u01b0\u1ee3ng,</td>\n",
        "      <td>61000</td>\n",
        "      <td>\u6211\u4eec\u53ef\u4ee5\u5f97\u5230\u52a0\u901f\u5ea6\u7b49\u4e8e\u5408\u5916\u529b\u9664\u4ee5\u8d28\u91cf\uff0c</td>\n",
        "      <td>61000</td>\n",
        "      <td>\u6211\u5011\u53ef\u4ee5\u5f97\u51fa\uff0c\u52a0\u901f\u5ea6\u7b49\u65bc\u529b\u9664\u4ee5\u8cea\u91cf\uff0c</td>\n",
        "      <td>61000</td>\n",
        "    </tr>\n",
        "    <tr>\n",
        "      <th>25</th>\n",
        "      <td>25</td>\n",
        "      <td>\u0648\u0627\u0644\u0630\u064a \u064a\u0639\u0646\u064a</td>\n",
        "      <td>64000</td>\n",
        "      <td>\u043a\u043e\u0435\u0442\u043e \u043e\u0437\u043d\u0430\u0447\u0430\u0432\u0430,</td>\n",
        "      <td>64000</td>\n",
        "      <td>co\u017e znamen\u00e1,</td>\n",
        "      <td>64000</td>\n",
        "      <td>NaN</td>\n",
        "      <td>NaN</td>\n",
        "      <td>was hei\u00dft,</td>\n",
        "      <td>...</td>\n",
        "      <td>\u0430 \u0446\u0435 \u043e\u0437\u043d\u0430\u0447\u0430\u0454:</td>\n",
        "      <td>64000</td>\n",
        "      <td>NaN</td>\n",
        "      <td>NaN</td>\n",
        "      <td>ngh\u0129a l\u00e0</td>\n",
        "      <td>64000</td>\n",
        "      <td>\u8fd9\u5c31\u662f\u8bf4</td>\n",
        "      <td>64000</td>\n",
        "      <td>\u4e5f\u5c31\u662f\u8aaa</td>\n",
        "      <td>64000</td>\n",
        "    </tr>\n",
        "    <tr>\n",
        "      <th>26</th>\n",
        "      <td>26</td>\n",
        "      <td>\u0623\u0646\u0647 \u0628\u0627\u0644\u0646\u0633\u0628\u0629 \u0644\u0644\u062c\u0633\u064a\u0645 \u0627\u0644\u0623\u0643\u0628\u0631\u060c \u0627\u0644\u0643\u062a\u0644\u0629 \u0627\u0644\u0623\u0643\u0628\u0631\u060c</td>\n",
        "      <td>66000</td>\n",
        "      <td>\u0447\u0435 \u0437\u0430 \u043f\u043e-\u0433\u043e\u043b\u0435\u043c\u0438 \u0447\u0430\u0441\u0442\u0438\u0446\u0438, \u043f\u043e-\u0433\u043e\u043b\u044f\u043c\u0430 \u043c\u0430\u0441\u0430,</td>\n",
        "      <td>66000</td>\n",
        "      <td>\u017ee \u010d\u00edm v\u011bt\u0161\u00ed jmenovatel, v\u011bt\u0161\u00ed hmotnost,</td>\n",
        "      <td>66000</td>\n",
        "      <td>NaN</td>\n",
        "      <td>NaN</td>\n",
        "      <td>dass man f\u00fcr ein gr\u00f6\u00dferes Teilchen, eine gr\u00f6\u00dfe...</td>\n",
        "      <td>...</td>\n",
        "      <td>\u0449\u043e \u0431\u0456\u043b\u044c\u0448\u0430 \u0447\u0430\u0441\u0442\u0438\u043d\u0430 -- \u0449\u043e \u0431\u0456\u043b\u044c\u0448\u0430 \u0457\u0457 \u043c\u0430\u0441\u0430 --</td>\n",
        "      <td>66000</td>\n",
        "      <td>NaN</td>\n",
        "      <td>NaN</td>\n",
        "      <td>v\u1edbi m\u1ed9t v\u1eadt k\u00edch th\u01b0\u1edbc l\u1edbn, kh\u1ed1i l\u01b0\u1ee3ng l\u1edbn,</td>\n",
        "      <td>66000</td>\n",
        "      <td>\u5bf9\u4e8e\u4e00\u4e2a\u8f83\u5927\u7684\u9897\u7c92\uff0c\u8d28\u91cf\u8d8a\u5927\uff0c</td>\n",
        "      <td>66000</td>\n",
        "      <td>\u5c0d\u8cea\u91cf\u6bd4\u8f03\u5927\u7684\u7269\u9ad4\u800c\u8a00\uff0c</td>\n",
        "      <td>66000</td>\n",
        "    </tr>\n",
        "    <tr>\n",
        "      <th>27</th>\n",
        "      <td>27</td>\n",
        "      <td>\u064a\u062a\u0637\u0644\u0628 \u0630\u0644\u0643 \u0627\u0644\u0645\u0632\u064a\u062f \u0645\u0646 \u0627\u0644\u0642\u0648\u0629 \u0644\u062a\u063a\u064a\u064a\u0631 \u0625\u062a\u062c\u0627\u0647\u0647.</td>\n",
        "      <td>69000</td>\n",
        "      <td>\u0435 \u043d\u0435\u043e\u0431\u0445\u043e\u0434\u0438\u043c\u0430 \u043f\u043e-\u0433\u043e\u043b\u044f\u043c\u0430 \u0441\u0438\u043b\u0430, \u0437\u0430 \u0434\u0430 \u0441\u0435 \u043f\u0440\u043e\u043c\u0435\u043d\u0438 ...</td>\n",
        "      <td>69000</td>\n",
        "      <td>t\u00edm v\u011bt\u0161\u00ed s\u00edla je pot\u0159eba ke zm\u011bn\u011b sm\u011bru.</td>\n",
        "      <td>69000</td>\n",
        "      <td>NaN</td>\n",
        "      <td>NaN</td>\n",
        "      <td>mehr Kraft braucht um die Richtung zu \u00e4ndern.</td>\n",
        "      <td>...</td>\n",
        "      <td>\u0442\u043e \u0431\u0456\u043b\u044c\u0448\u0435 \u0441\u0438\u043b\u0438 \u043f\u043e\u0442\u0440\u0456\u0431\u043d\u043e, \u0430\u0431\u0438 \u0437\u043c\u0456\u043d\u0438\u0442\u0438 \u043d\u0430\u043f\u0440\u044f\u043c\u043e\u043a ...</td>\n",
        "      <td>69000</td>\n",
        "      <td>NaN</td>\n",
        "      <td>NaN</td>\n",
        "      <td>th\u00ec \u0111\u00f2i h\u1ecfi nhi\u1ec1u l\u1ef1c h\u01a1n \u0111\u1ec3 n\u00f3 \u0111\u1ed5i h\u01b0\u1edbng.</td>\n",
        "      <td>69000</td>\n",
        "      <td>\u5b83\u5c31\u8d8a\u9700\u8981\u66f4\u591a\u7684\u5916\u529b\u6765\u6539\u53d8\u8fd0\u52a8\u65b9\u5411\u3002</td>\n",
        "      <td>69000</td>\n",
        "      <td>\u8981\u6539\u8b8a\u5b83\u7684\u65b9\u5411\uff0c\u9700\u8981\u66f4\u5927\u7684\u529b\u3002</td>\n",
        "      <td>69000</td>\n",
        "    </tr>\n",
        "    <tr>\n",
        "      <th>28</th>\n",
        "      <td>28</td>\n",
        "      <td>\u0625\u0646\u0647 \u0646\u0641\u0633 \u0627\u0644\u0634\u064a\u0621 \u0628\u0627\u0644\u0646\u0633\u0628\u0629 \u0644\u0644\u0639\u0644\u0627\u0645\u0627\u062a \u0627\u0644\u062a\u062c\u0627\u0631\u064a\u0629.</td>\n",
        "      <td>73000</td>\n",
        "      <td>\u0421\u044a\u0449\u043e\u0442\u043e \u0435 \u0438 \u0441 \u043c\u0430\u0440\u043a\u0438\u0442\u0435.</td>\n",
        "      <td>73000</td>\n",
        "      <td>To sam\u00e9 plat\u00ed pro zna\u010dky.</td>\n",
        "      <td>73000</td>\n",
        "      <td>NaN</td>\n",
        "      <td>NaN</td>\n",
        "      <td>Das ist das Gleiche wie bei Marken</td>\n",
        "      <td>...</td>\n",
        "      <td>\u0417 \u0431\u0440\u0435\u043d\u0434\u0430\u043c\u0438 \u0432\u0441\u0435 \u0432\u043b\u0430\u0448\u0442\u043e\u0432\u0430\u043d\u043e \u0442\u0430\u043a \u0441\u0430\u043c\u0435:</td>\n",
        "      <td>73000</td>\n",
        "      <td>NaN</td>\n",
        "      <td>NaN</td>\n",
        "      <td>\u0110i\u1ec1u n\u00e0y c\u0169ng \u0111\u00fang v\u1edbi kinh doanh.</td>\n",
        "      <td>73000</td>\n",
        "      <td>\u54c1\u724c\u4e5f\u662f\u4e00\u6837\u3002</td>\n",
        "      <td>73000</td>\n",
        "      <td>\u54c1\u724c\u4e5f\u662f\u4e00\u6a23\u7684 \u3002</td>\n",
        "      <td>73000</td>\n",
        "    </tr>\n",
        "    <tr>\n",
        "      <th>29</th>\n",
        "      <td>29</td>\n",
        "      <td>\u0627\u0644\u0639\u0644\u0627\u0645\u0629 \u0627\u0644\u062a\u062c\u0627\u0631\u064a\u0629 \u0627\u0644\u0636\u062e\u0645\u0629\u060c \u064a\u0643\u0648\u0646 \u0644\u062f\u064a\u0647\u0627 \u0627\u0644\u0643\u062b\u064a\u0631 \u0645\u0646 ...</td>\n",
        "      <td>75000</td>\n",
        "      <td>\u041a\u043e\u043b\u043a\u043e\u0442\u043e \u043f\u043e-\u043c\u0430\u0441\u0438\u0432\u043d\u0430 \u0435 \u0435\u0434\u043d\u0430 \u043c\u0430\u0440\u043a\u0430, \u0442\u043e\u043b\u043a\u043e\u0432\u0430 \u043f\u043e\u0432\u0435\u0447...</td>\n",
        "      <td>75000</td>\n",
        "      <td>\u010c\u00edm masivn\u011bj\u0161\u00ed zna\u010dka, \u010d\u00edm v\u00edc toho zahrnuje,</td>\n",
        "      <td>75000</td>\n",
        "      <td>NaN</td>\n",
        "      <td>NaN</td>\n",
        "      <td>Je gr\u00f6\u00dfer der Markenname, je mehr Gewicht er hat,</td>\n",
        "      <td>...</td>\n",
        "      <td>\u0429\u043e \u0432\u0430\u0433\u043e\u043c\u0456\u0448\u0438\u0439 \u0431\u0440\u0435\u043d\u0434, \u0449\u043e \u0431\u0456\u043b\u044c\u0448\u0435 \u0431\u0430\u0433\u0430\u0436\u0443 \u0432\u0456\u043d \u043d\u0435\u0441\u0435,</td>\n",
        "      <td>75000</td>\n",
        "      <td>NaN</td>\n",
        "      <td>NaN</td>\n",
        "      <td>C\u00f4ng ty c\u00e0ng l\u1edbn, c\u00e0ng nhi\u1ec1u v\u1eadt t\u01b0,</td>\n",
        "      <td>75000</td>\n",
        "      <td>\u54c1\u724c\u7684\u89c4\u6a21\u8d8a\u5927\uff0c\u5305\u88b1\u8d8a\u5927\uff0c</td>\n",
        "      <td>75000</td>\n",
        "      <td>\u6108\u662f\u91cd\u91cf\u7d1a\u7684\u54c1\u724c\uff0c\u5305\u88b1\u4e5f\u6108\u91cd\u3002</td>\n",
        "      <td>75000</td>\n",
        "    </tr>\n",
        "    <tr>\n",
        "      <th>...</th>\n",
        "      <td>...</td>\n",
        "      <td>...</td>\n",
        "      <td>...</td>\n",
        "      <td>...</td>\n",
        "      <td>...</td>\n",
        "      <td>...</td>\n",
        "      <td>...</td>\n",
        "      <td>...</td>\n",
        "      <td>...</td>\n",
        "      <td>...</td>\n",
        "      <td>...</td>\n",
        "      <td>...</td>\n",
        "      <td>...</td>\n",
        "      <td>...</td>\n",
        "      <td>...</td>\n",
        "      <td>...</td>\n",
        "      <td>...</td>\n",
        "      <td>...</td>\n",
        "      <td>...</td>\n",
        "      <td>...</td>\n",
        "      <td>...</td>\n",
        "    </tr>\n",
        "    <tr>\n",
        "      <th>820</th>\n",
        "      <td>216</td>\n",
        "      <td>\u0628\u0627\u0644\u0637\u0628\u0639 \u0639\u0643\u0633 \u0627\u0644\u0637\u0631\u064a\u0642\u0629 \u0627\u0644\u062a\u064a \u0633\u062a\u0631\u0648\u0646\u0647\u0627 \u0639\u0644\u0649 \u0628\u0631\u0627\u0645\u062c \u0627\u0644\u0637\u0628...</td>\n",
        "      <td>600000</td>\n",
        "      <td>\u041d\u0430\u043f\u044a\u043b\u043d\u043e \u043f\u0440\u043e\u0442\u0438\u0432\u043e\u043f\u043e\u043b\u043e\u0436\u043d\u043e \u043d\u0430 \u0442\u043e\u0432\u0430, \u043a\u043e\u0435\u0442\u043e \u0431\u0438\u0445\u0442\u0435 \u0432\u0438...</td>\n",
        "      <td>600000</td>\n",
        "      <td>NaN</td>\n",
        "      <td>NaN</td>\n",
        "      <td>Fuldst\u00e6ndigt modsat af den m\u00e5de man ser det i ...</td>\n",
        "      <td>600000</td>\n",
        "      <td>Nat\u00fcrlich vollkommen anders, als sie das in ei...</td>\n",
        "      <td>...</td>\n",
        "      <td>NaN</td>\n",
        "      <td>NaN</td>\n",
        "      <td>NaN</td>\n",
        "      <td>NaN</td>\n",
        "      <td>Ho\u00e0n to\u00e0n ng\u01b0\u1ee3c v\u1edbi c\u00e1ch c\u00e1c b\u1ea1n v\u1eabn th\u1ea5y tr\u00ean...</td>\n",
        "      <td>600000</td>\n",
        "      <td>\u8fd9\u4e2a\u81ea\u7136\u548c\u5927\u5bb6\u5728\u81ea\u7136\u7eaa\u5f55\u7247\u4e2d\u770b\u5230\u7684\u987a\u5e8f\u622a\u7136\u76f8\u53cd\u3002</td>\n",
        "      <td>600000</td>\n",
        "      <td>\u9019\u5b8c\u5168\u548c\u4f60\u770b\u7684\u91ce\u751f\u52d5\u7269\u5f71\u7247\u88fd\u4f5c\u7684\u89c0\u9ede\u76f8\u53cd\uff0c</td>\n",
        "      <td>600000</td>\n",
        "    </tr>\n",
        "    <tr>\n",
        "      <th>821</th>\n",
        "      <td>217</td>\n",
        "      <td>\u062a\u0633\u0627\u0626\u0644\u0646\u0627 \"\u0647\u0644 \u064a\u062d\u0644\u0642\u0648\u0646 \u0641\u064a \u0627\u0644\u0648\u0627\u0642\u0639 \u0641\u064a \u0627\u0644\u0637\u0628\u064a\u0639\u0629\"\u0640</td>\n",
        "      <td>603000</td>\n",
        "      <td>\u0427\u0443\u0434\u0435\u0445\u043c\u0435 \u0441\u0435, \"\u041d\u0430\u0438\u0441\u0442\u0438\u043d\u0430 \u043b\u0438 \u043b\u0435\u0442\u044f\u0442 \u0432 \u043f\u0440\u0438\u0440\u043e\u0434\u0430\u0442\u0430?\"</td>\n",
        "      <td>603000</td>\n",
        "      <td>NaN</td>\n",
        "      <td>NaN</td>\n",
        "      <td>Vi undrede os, \"Sv\u00e6ver de egentligt i naturen?\"</td>\n",
        "      <td>603000</td>\n",
        "      <td>Wir haben uns gefragt: \"Gleiten sie wirklich i...</td>\n",
        "      <td>...</td>\n",
        "      <td>NaN</td>\n",
        "      <td>NaN</td>\n",
        "      <td>NaN</td>\n",
        "      <td>NaN</td>\n",
        "      <td>Ch\u00fang t\u00f4i th\u1eafc m\u1eafc, \"Ch\u00fang c\u00f3 l\u01b0\u1edbt trong t\u1ef1 nh...</td>\n",
        "      <td>603000</td>\n",
        "      <td>\u6211\u4eec\u60f3\uff1a\u201c\u81ea\u7136\u754c\u4e2d\uff0c\u8fd9\u79cd\u58c1\u864e\u662f\u5426\u6ed1\u7fd4\u3002\u201d</td>\n",
        "      <td>603000</td>\n",
        "      <td>\u6211\u5011\u60f3\uff1a\u300c\u4ed6\u5011\u771f\u7684\u6703\u5728\u91ce\u5916\u6ed1\u7fd4\u55ce\uff1f\u300d</td>\n",
        "      <td>603000</td>\n",
        "    </tr>\n",
        "    <tr>\n",
        "      <th>822</th>\n",
        "      <td>218</td>\n",
        "      <td>\u0641\u0630\u0647\u0628\u0646\u0627 \u0625\u0644\u0649 \u063a\u0627\u0628\u0627\u062a \u0633\u0646\u063a\u0627\u0641\u0648\u0631\u0629 \u0648\u062c\u0646\u0648\u0628 \u0634\u0631\u0642 \u0622\u0633\u064a\u0627</td>\n",
        "      <td>606000</td>\n",
        "      <td>\u0422\u0430\u043a\u0430 \u0447\u0435, \u043e\u0442\u0438\u0434\u043e\u0445\u043c\u0435 \u0432 \u0433\u043e\u0440\u0438\u0442\u0435 \u043d\u0430 \u0421\u0438\u043d\u0433\u0430\u043f\u0443\u0440 \u0438 \u044e\u0433\u043e\u0438\u0437...</td>\n",
        "      <td>606000</td>\n",
        "      <td>NaN</td>\n",
        "      <td>NaN</td>\n",
        "      <td>N\u00e5, men vi tog ud i skovene i Singapore og Syd...</td>\n",
        "      <td>606000</td>\n",
        "      <td>Wir gingen also in die W\u00e4lder Singapurs und S\u00fc...</td>\n",
        "      <td>...</td>\n",
        "      <td>NaN</td>\n",
        "      <td>NaN</td>\n",
        "      <td>NaN</td>\n",
        "      <td>NaN</td>\n",
        "      <td>Ch\u00fang t\u00f4i \u0111\u1ebfn c\u00e1c khu r\u1eebng c\u1ee7a Singapore v\u00e0 \u0110\u00f4...</td>\n",
        "      <td>606000</td>\n",
        "      <td>\u6211\u4eec\u524d\u5f80\u4e1c\u5357\u4e9a\u65b0\u52a0\u5761\u7684\u68ee\u6797\u4e2d\u3002</td>\n",
        "      <td>606000</td>\n",
        "      <td>\u6211\u5011\u8dd1\u5230\u65b0\u52a0\u5761\u548c\u6771\u5357\u4e9e\u7684\u68ee\u6797\u88e1\u53bb\uff0c</td>\n",
        "      <td>606000</td>\n",
        "    </tr>\n",
        "    <tr>\n",
        "      <th>823</th>\n",
        "      <td>219</td>\n",
        "      <td>\u0648\u0627\u0644\u0645\u0642\u0637\u0639 \u0627\u0644\u062a\u0627\u0644\u064a \u0646\u0639\u0631\u0636\u0647 \u0644\u0623\u0648\u0644 \u0645\u0631\u0629</td>\n",
        "      <td>608000</td>\n",
        "      <td>\u0421\u043b\u0435\u0434\u0432\u0430\u0449\u043e\u0442\u043e \u0432\u0438\u0434\u0435\u043e, \u043a\u043e\u0435\u0442\u043e \u0449\u0435 \u0432\u0438\u0434\u0438\u0442\u0435, \u0449\u0435 \u0431\u044a\u0434\u0435 \u043f\u043e\u043a...</td>\n",
        "      <td>608000</td>\n",
        "      <td>NaN</td>\n",
        "      <td>NaN</td>\n",
        "      <td>Og i den n\u00e6ste video ser i den f\u00f8rste gang vi ...</td>\n",
        "      <td>608000</td>\n",
        "      <td>Das n\u00e4chste Video, das Sie sehen werden, haben...</td>\n",
        "      <td>...</td>\n",
        "      <td>NaN</td>\n",
        "      <td>NaN</td>\n",
        "      <td>NaN</td>\n",
        "      <td>NaN</td>\n",
        "      <td>V\u00e0 video c\u00e1c b\u1ea1n s\u1eafp xem ti\u1ebfp theo c\u0169ng l\u00e0 l\u1ea7n...</td>\n",
        "      <td>608000</td>\n",
        "      <td>\u4e0b\u4e00\u4e2a\u77ed\u7247\u662f\u6211\u4eec\u7b2c\u4e00\u6b21\u5c55\u793a\u3002</td>\n",
        "      <td>608000</td>\n",
        "      <td>\u7b49\u6703\u5152\u4f60\u5011\u5c07\u6703\u770b\u5230\u9996\u6b21\u516c\u958b\u64ad\u6620\u7684\u5f71\u7247\u3002</td>\n",
        "      <td>608000</td>\n",
        "    </tr>\n",
        "    <tr>\n",
        "      <th>824</th>\n",
        "      <td>220</td>\n",
        "      <td>\u0647\u0630\u0627 \u0647\u0648 \u0627\u0644\u0645\u0642\u0637\u0639 \u0627\u0644\u0641\u0639\u0644\u064a\u060c \u063a\u064a\u0631 \u0645\u0641\u0628\u0631\u0643\u060c \u0645\u0642\u0637\u0639 \u0628\u062d\u062b \u062d\u0642\u064a\u0642\u064a</td>\n",
        "      <td>610000</td>\n",
        "      <td>\u0422\u043e\u0432\u0430 \u0435 \u0441\u044a\u0449\u0438\u043d\u0441\u043a\u043e\u0442\u043e \u0432\u0438\u0434\u0435\u043e, \u0431\u0435\u0437 \u043d\u0430\u0433\u043b\u0430\u0441\u044f\u043d\u0435, \u0438\u0441\u0442\u0438\u043d\u0441...</td>\n",
        "      <td>610000</td>\n",
        "      <td>NaN</td>\n",
        "      <td>NaN</td>\n",
        "      <td>Dette er den \u00e6gte optagelse, ikke opsat, en ri...</td>\n",
        "      <td>610000</td>\n",
        "      <td>Das ist die Originalaufnahme, es ist nichts ge...</td>\n",
        "      <td>...</td>\n",
        "      <td>NaN</td>\n",
        "      <td>NaN</td>\n",
        "      <td>NaN</td>\n",
        "      <td>NaN</td>\n",
        "      <td>\u0110\u00e2y l\u00e0 video th\u1ef1c -- ho\u00e0n to\u00e0n kh\u00f4ng d\u00e0n d\u1ef1ng,...</td>\n",
        "      <td>610000</td>\n",
        "      <td>\u8fd9\u4e2a\u77ed\u7247\u6ca1\u7528\u9053\u5177\uff0c\u6ca1\u6709\u4f5c\u5047\uff0c\u662f\u7b2c\u4e00\u624b\u7684\u79d1\u7814\u6570\u636e\u3002</td>\n",
        "      <td>610000</td>\n",
        "      <td>\u9019\u662f\u771f\u5be6\u7684\u91ce\u5916\u5f71\u7247\uff0c\u4e0d\u662f\u8a2d\u8a08\u904e\u7684\uff0c</td>\n",
        "      <td>610000</td>\n",
        "    </tr>\n",
        "    <tr>\n",
        "      <th>825</th>\n",
        "      <td>221</td>\n",
        "      <td>\u0644\u062d\u064a\u0648\u0627\u0646 \u064a\u062d\u0644\u0642 \u0646\u0632\u0648\u0644\u0627 -- \u0647\u0646\u0627\u0643 \u062e\u0637 \u0627\u0644\u0645\u0633\u0627\u0631 \u0628\u0627\u0644\u0623\u062d\u0645\u0631</td>\n",
        "      <td>613000</td>\n",
        "      <td>\u043d\u0430 \u0436\u0438\u0432\u043e\u0442\u043d\u043e, \u043a\u043e\u0435\u0442\u043e \u0441\u0435 \u043f\u043b\u044a\u0437\u0433\u0430 \u0432\u044a\u0432 \u0432\u044a\u0437\u0434\u0443\u0445\u0430 \u043d\u0430\u0434\u043e\u043b\u0443...</td>\n",
        "      <td>613000</td>\n",
        "      <td>NaN</td>\n",
        "      <td>NaN</td>\n",
        "      <td>af et dyr, der sv\u00e6ver ned -- der er en r\u00f8d spo...</td>\n",
        "      <td>613000</td>\n",
        "      <td>von nach unten gleitenden Tieren. In rot ist e...</td>\n",
        "      <td>...</td>\n",
        "      <td>NaN</td>\n",
        "      <td>NaN</td>\n",
        "      <td>NaN</td>\n",
        "      <td>NaN</td>\n",
        "      <td>cho th\u1ea5y \u0111\u1ed9ng v\u1eadt l\u01b0\u1edbt xu\u1ed1ng. C\u00f3 \u0111\u01b0\u1eddng bay m\u00e0u...</td>\n",
        "      <td>613000</td>\n",
        "      <td>\u7ea2\u8272\u662f\u5b83\u7684\u6ed1\u7fd4\u8f68\u8ff9\u3002</td>\n",
        "      <td>613000</td>\n",
        "      <td>\u662f\u771f\u7684\u7814\u7a76\u58c1\u864e\u6ed1\u7fd4\u4e0b\u4f86\u7684\u5f71\u7247--\u90a3\u5152\u6709\u4e00\u689d\u7d05\u8272\u7684\u6ed1\u7fd4\u7dda\uff0c</td>\n",
        "      <td>613000</td>\n",
        "    </tr>\n",
        "    <tr>\n",
        "      <th>826</th>\n",
        "      <td>222</td>\n",
        "      <td>\u0627\u0646\u0638\u0631\u0648\u0627 \u0625\u0644\u0649 \u0627\u0644\u0646\u0647\u0627\u064a\u0629 \u0644\u062a\u0631\u0648 \u0627\u0644\u062d\u064a\u0648\u0627\u0646</td>\n",
        "      <td>616000</td>\n",
        "      <td>\u041f\u043e\u0433\u043b\u0435\u0434\u043d\u0435\u0442\u0435 \u0432 \u043a\u0440\u0430\u044f, \u0437\u0430 \u0434\u0430 \u0432\u0438\u0434\u0438\u0442\u0435 \u0436\u0438\u0432\u043e\u0442\u043d\u043e\u0442\u043e.</td>\n",
        "      <td>616000</td>\n",
        "      <td>NaN</td>\n",
        "      <td>NaN</td>\n",
        "      <td>Kig til slut for at se dyret.</td>\n",
        "      <td>616000</td>\n",
        "      <td>Am Ende sehen Sie das Tier.</td>\n",
        "      <td>...</td>\n",
        "      <td>NaN</td>\n",
        "      <td>NaN</td>\n",
        "      <td>NaN</td>\n",
        "      <td>NaN</td>\n",
        "      <td>Nh\u00ecn v\u1ec1 cu\u1ed1i \u0111\u01b0\u1eddng \u0111\u1ec3 th\u1ea5y con v\u1eadt.</td>\n",
        "      <td>616000</td>\n",
        "      <td>\u7ed3\u5c3e\u53ef\u4ee5\u66f4\u6e05\u695a\u7684\u770b\u5230\u58c1\u864e\u3002</td>\n",
        "      <td>616000</td>\n",
        "      <td>\u5728\u672b\u7aef\u53ef\u4ee5\u770b\u5230\u58c1\u864e\uff0c</td>\n",
        "      <td>616000</td>\n",
        "    </tr>\n",
        "    <tr>\n",
        "      <th>827</th>\n",
        "      <td>223</td>\n",
        "      <td>\u0648\u0644\u0643\u0646 \u0628\u064a\u0646\u0645\u0627 \u064a\u0642\u062a\u0631\u0628 \u0645\u0646 \u0627\u0644\u0634\u062c\u0631\u0629</td>\n",
        "      <td>618000</td>\n",
        "      <td>\u041d\u043e \u0442\u043e\u0433\u0430\u0432\u0430, \u043a\u043e\u0433\u0430\u0442\u043e \u0441\u0435 \u043f\u0440\u0438\u0431\u043b\u0438\u0436\u0430\u0432\u0430 \u043f\u043e-\u0431\u043b\u0438\u0437\u043a\u043e \u0434\u043e \u0434...</td>\n",
        "      <td>618000</td>\n",
        "      <td>NaN</td>\n",
        "      <td>NaN</td>\n",
        "      <td>N\u00e5r den n\u00e6rmer sig tr\u00e6et,</td>\n",
        "      <td>618000</td>\n",
        "      <td>Aber wenn es dichter an den Baum herankommt,</td>\n",
        "      <td>...</td>\n",
        "      <td>NaN</td>\n",
        "      <td>NaN</td>\n",
        "      <td>NaN</td>\n",
        "      <td>NaN</td>\n",
        "      <td>Nh\u01b0ng r\u1ed3i khi n\u00f3 ti\u1ebfn \u0111\u1ebfn g\u1ea7n c\u00e2y h\u01a1n,</td>\n",
        "      <td>618000</td>\n",
        "      <td>\u5f53\u5b83\u63a5\u8fd1\u6811\u5e72\u65f6\uff0c</td>\n",
        "      <td>618000</td>\n",
        "      <td>\u7576\u5b83\u9760\u8fd1\u6a39\u7684\u6642\u5019\uff0c</td>\n",
        "      <td>618000</td>\n",
        "    </tr>\n",
        "    <tr>\n",
        "      <th>828</th>\n",
        "      <td>224</td>\n",
        "      <td>\u0634\u0627\u0647\u062f\u0648\u0627 \u0627\u0644\u062a\u0642\u0631\u064a\u0628. \u0648\u062d\u0627\u0648\u0644\u0648\u0627 \u0631\u0624\u064a\u062a\u0647 \u0648\u0647\u0648 \u064a\u0647\u0628\u0637</td>\n",
        "      <td>620000</td>\n",
        "      <td>\u043f\u043e\u0433\u043b\u0435\u0434\u043d\u0435\u0442\u0435 \u043f\u0440\u0438\u0431\u043b\u0438\u0436\u0435\u043d\u0438\u0435\u0442\u043e. \u0418 \u0432\u0438\u0436\u0442\u0435 \u0434\u0430\u043b\u0438 \u043c\u043e\u0436\u0435 \u0434\u0430...</td>\n",
        "      <td>620000</td>\n",
        "      <td>NaN</td>\n",
        "      <td>NaN</td>\n",
        "      <td>se n\u00e6rbilledet. Og se om I kan se den lande?</td>\n",
        "      <td>620000</td>\n",
        "      <td>achten Sie auf die Nahaufnahme und versuchen S...</td>\n",
        "      <td>...</td>\n",
        "      <td>NaN</td>\n",
        "      <td>NaN</td>\n",
        "      <td>NaN</td>\n",
        "      <td>NaN</td>\n",
        "      <td>xem phim c\u1eadn c\u1ea3nh nh\u00e9. V\u00e0 xem c\u00e1c b\u1ea1n c\u00f3 th\u1ea5y ...</td>\n",
        "      <td>620000</td>\n",
        "      <td>\u770b\u653e\u5927\u90e8\u5206\u3002\u80fd\u4e0d\u80fd\u770b\u5230\u5b83\u7740\u9646\u3002</td>\n",
        "      <td>620000</td>\n",
        "      <td>\u8981\u6ce8\u610f\u770b\u7279\u5beb\u93e1\u982d\uff0c\u770b\u770b\u4f60\u662f\u5426\u80fd\u770b\u5230\u5b83\u964d\u843d\u7684\u756b\u9762\u3002</td>\n",
        "      <td>620000</td>\n",
        "    </tr>\n",
        "    <tr>\n",
        "      <th>829</th>\n",
        "      <td>225</td>\n",
        "      <td>\u0647\u0627 \u0647\u0648 \u064a\u0646\u0632\u0644. \u0647\u0646\u0627\u0643 \u0648\u0632\u063a\u0629 \u0641\u064a \u0646\u0647\u0627\u064a\u0629 \u062e\u0637 \u0627\u0644\u0645\u0633\u0627\u0631</td>\n",
        "      <td>624000</td>\n",
        "      <td>\u0415\u0442\u043e \u0433\u043e, \u043a\u0430\u043a \u043f\u0430\u0434\u0430. \u0418\u043c\u0430 \u0433\u0435\u043a\u043e\u043d \u043d\u0430 \u043a\u0440\u0430\u044f \u043d\u0430 \u0442\u0430\u0437\u0438 \u043b\u0438...</td>\n",
        "      <td>624000</td>\n",
        "      <td>NaN</td>\n",
        "      <td>NaN</td>\n",
        "      <td>S\u00e5 der kom det ned. Der er en gekko for enden ...</td>\n",
        "      <td>624000</td>\n",
        "      <td>Da kommt es also runter. Da haben wir den Geck...</td>\n",
        "      <td>...</td>\n",
        "      <td>NaN</td>\n",
        "      <td>NaN</td>\n",
        "      <td>NaN</td>\n",
        "      <td>NaN</td>\n",
        "      <td>Th\u1ebf \u0111\u00f3, n\u00f3 \u0111i xu\u1ed1ng. C\u00f3 ch\u00fa th\u1ea1ch s\u00f9ng \u1edf cu\u1ed1i ...</td>\n",
        "      <td>624000</td>\n",
        "      <td>\u8fd9\u662f\u5b83\u5728\u4e0b\u964d\u3002\u8f68\u8ff9\u672b\u7aef\u53ef\u4ee5\u770b\u5230\u4e00\u53ea\u58c1\u864e\u3002</td>\n",
        "      <td>624000</td>\n",
        "      <td>\u5b83\u4e0b\u4f86\u4e86\uff0c\u6709\u4e00\u96bb\u58c1\u864e\u5728\u6ed1\u7fd4\u7dda\u7684\u672b\u7aef\uff0c</td>\n",
        "      <td>624000</td>\n",
        "    </tr>\n",
        "    <tr>\n",
        "      <th>830</th>\n",
        "      <td>226</td>\n",
        "      <td>\u0647\u0644 \u062a\u0631\u0648\u0646\u0647 \u0647\u0646\u0627\u0643\u061f \u0634\u0627\u0647\u062f\u0648\u0647 \u064a\u0646\u0632\u0644</td>\n",
        "      <td>627000</td>\n",
        "      <td>\u0412\u0438\u0436\u0434\u0430\u0442\u0435 \u043b\u0438 \u0433\u043e \u0442\u0430\u043c? \u0422\u0430\u043c? \u0413\u043b\u0435\u0434\u0430\u0439\u0442\u0435 \u0433\u043e \u043a\u0430\u043a \u043f\u0430\u0434\u0430.</td>\n",
        "      <td>627000</td>\n",
        "      <td>NaN</td>\n",
        "      <td>NaN</td>\n",
        "      <td>Kan I se den der? Der? Se den falde ned.</td>\n",
        "      <td>627000</td>\n",
        "      <td>K\u00f6nnen Sie ihn sehen? Da? Da kommt er runter.</td>\n",
        "      <td>...</td>\n",
        "      <td>NaN</td>\n",
        "      <td>NaN</td>\n",
        "      <td>NaN</td>\n",
        "      <td>NaN</td>\n",
        "      <td>C\u00e1c b\u1ea1n c\u00f3 th\u1ea5y kh\u00f4ng? Kia k\u00eca? Xem n\u00f3 xu\u1ed1ng.</td>\n",
        "      <td>627000</td>\n",
        "      <td>\u770b\u5230\u6ca1\u6709\uff1f\u770b\u5b83\u6ed1\u843d\u3002</td>\n",
        "      <td>627000</td>\n",
        "      <td>\u770b\u5230\u4e86\u55ce\uff1f\u5728\u90a3\u88e1\uff0c\u5b83\u4e0b\u4f86\u4e86\uff0c</td>\n",
        "      <td>627000</td>\n",
        "    </tr>\n",
        "    <tr>\n",
        "      <th>831</th>\n",
        "      <td>227</td>\n",
        "      <td>\u0648\u0627\u0644\u0622\u0646 \u0634\u0627\u0647\u062f\u0648 \u0647\u0646\u0627\u0643 \u0648\u064a\u0645\u0643\u0646\u0643\u0645 \u0631\u0624\u064a\u0629 \u0627\u0644\u0647\u0628\u0648\u0637. \u0647\u0644 \u0631\u0623\u064a\u062a\u0645...</td>\n",
        "      <td>629000</td>\n",
        "      <td>\u0413\u043b\u0435\u0434\u0430\u0439\u0442\u0435 \u0435\u0442\u043e \u0442\u0430\u043c \u0433\u043e\u0440\u0435 \u0438 \u043c\u043e\u0436\u0435\u0442\u0435 \u0434\u0430 \u0432\u0438\u0434\u0438\u0442\u0435 \u043a\u0430\u0446\u0430\u043d...</td>\n",
        "      <td>629000</td>\n",
        "      <td>NaN</td>\n",
        "      <td>NaN</td>\n",
        "      <td>Nu kig oppe der hvor I kan se landingen. S\u00e5 I ...</td>\n",
        "      <td>629000</td>\n",
        "      <td>Wenn Sie jetzt hier oben hinschauen, k\u00f6nnen Si...</td>\n",
        "      <td>...</td>\n",
        "      <td>NaN</td>\n",
        "      <td>NaN</td>\n",
        "      <td>NaN</td>\n",
        "      <td>NaN</td>\n",
        "      <td>Gi\u1edd nh\u00ecn l\u00ean tr\u00ean v\u00e0 c\u00e1c b\u1ea1n c\u00f3 th\u1ec3 th\u1ea5y c\u1ea3nh ...</td>\n",
        "      <td>629000</td>\n",
        "      <td>\u73b0\u5728\u6ce8\u610f\u770b\u7740\u9646\uff0c\u770b\u5230\u6ca1\u6709\uff1f</td>\n",
        "      <td>629000</td>\n",
        "      <td>\u4f60\u770b\u4e0a\u9762\u7684\u7279\u5beb\u93e1\u982d\u5c31\u6703\u770b\u5230\u5b83\u964d\u843d\u7684\u756b\u9762\uff0c\u770b\u5230\u4e86\u55ce\uff1f</td>\n",
        "      <td>629000</td>\n",
        "    </tr>\n",
        "    <tr>\n",
        "      <th>832</th>\n",
        "      <td>228</td>\n",
        "      <td>\u0625\u0646\u0647 \u064a\u0633\u062a\u062e\u062f\u0645 \u0630\u064a\u0644\u0647 \u0643\u0630\u0644\u0643</td>\n",
        "      <td>632000</td>\n",
        "      <td>\u0412\u0441\u044a\u0449\u043d\u043e\u0441\u0442 \u0438\u0437\u043f\u043e\u043b\u0437\u0432\u0430 \u0438 \u043e\u043f\u0430\u0448\u043a\u0430\u0442\u0430 \u0441\u0438.</td>\n",
        "      <td>632000</td>\n",
        "      <td>NaN</td>\n",
        "      <td>NaN</td>\n",
        "      <td>Den bruger faktisk ogs\u00e5 dens hale.</td>\n",
        "      <td>632000</td>\n",
        "      <td>Er verwendet tats\u00e4chlich auch den Schwanz.</td>\n",
        "      <td>...</td>\n",
        "      <td>NaN</td>\n",
        "      <td>NaN</td>\n",
        "      <td>NaN</td>\n",
        "      <td>NaN</td>\n",
        "      <td>N\u00f3 c\u00f3 d\u00f9ng c\u1ea3 \u0111u\u00f4i n\u01b0a,</td>\n",
        "      <td>632000</td>\n",
        "      <td>\u5b83\u786e\u5b9e\u7528\u4e0a\u4e86\u5c3e\u5df4\u3002</td>\n",
        "      <td>632000</td>\n",
        "      <td>\u5b83\u771f\u7684\u6709\u7528\u5b83\u7684\u5c3e\u5df4\u5e6b\u5fd9\uff0c</td>\n",
        "      <td>632000</td>\n",
        "    </tr>\n",
        "    <tr>\n",
        "      <th>833</th>\n",
        "      <td>229</td>\n",
        "      <td>\u062a\u0645\u0627\u0645\u0627 \u0643\u0645\u0627 \u0631\u0623\u064a\u0646\u0627 \u0641\u064a \u0627\u0644\u0645\u062e\u062a\u0628\u0631</td>\n",
        "      <td>634000</td>\n",
        "      <td>\u041a\u0430\u043a\u0442\u043e \u0432\u0438\u0434\u044f\u0445\u043c\u0435 \u0432 \u043b\u0430\u0431\u043e\u0440\u0430\u0442\u043e\u0440\u0438\u044f\u0442\u0430.</td>\n",
        "      <td>634000</td>\n",
        "      <td>NaN</td>\n",
        "      <td>NaN</td>\n",
        "      <td>Ligesom vi s\u00e5 det i laboratoriet.</td>\n",
        "      <td>634000</td>\n",
        "      <td>Genau wie wir es im Labor gesehen haben.</td>\n",
        "      <td>...</td>\n",
        "      <td>NaN</td>\n",
        "      <td>NaN</td>\n",
        "      <td>NaN</td>\n",
        "      <td>NaN</td>\n",
        "      <td>y nh\u01b0 nh\u1eefng g\u00ec ch\u00fang t\u00f4i th\u1ea5y trong ph\u00f2ng th\u00ed ...</td>\n",
        "      <td>634000</td>\n",
        "      <td>\u548c\u6211\u4eec\u5b9e\u9a8c\u5ba4\u91cc\u770b\u5230\u7684\u4e00\u6837\u3002</td>\n",
        "      <td>634000</td>\n",
        "      <td>\u5c31\u50cf\u6211\u5011\u5728\u5be6\u9a57\u5ba4\u88e1\u770b\u5230\u7684\u4e00\u6a23\u3002</td>\n",
        "      <td>634000</td>\n",
        "    </tr>\n",
        "    <tr>\n",
        "      <th>834</th>\n",
        "      <td>230</td>\n",
        "      <td>\u0641\u0627\u0644\u0622\u0646 \u064a\u0645\u0643\u0646\u0646\u0627 \u0625\u0643\u0645\u0627\u0644 \u0647\u0630\u0627 \u0627\u0644\u062a\u0639\u0627\u0648\u0646</td>\n",
        "      <td>637000</td>\n",
        "      <td>\u0421\u0435\u0433\u0430 \u043c\u043e\u0436\u0435\u043c \u0434\u0430 \u043f\u0440\u043e\u0434\u044a\u043b\u0436\u0438\u043c \u0442\u043e\u0437\u0438 \u043c\u0443\u0442\u0443\u0430\u043b\u0438\u0437\u044a\u043c</td>\n",
        "      <td>637000</td>\n",
        "      <td>NaN</td>\n",
        "      <td>NaN</td>\n",
        "      <td>S\u00e5 nu kan vi forts\u00e6tte denne gensidighed</td>\n",
        "      <td>637000</td>\n",
        "      <td>Jetzt k\u00f6nnen wir also unsere Symbiose fortsetzen,</td>\n",
        "      <td>...</td>\n",
        "      <td>NaN</td>\n",
        "      <td>NaN</td>\n",
        "      <td>NaN</td>\n",
        "      <td>NaN</td>\n",
        "      <td>Gi\u1edd th\u00ec ch\u00fang t\u00f4i c\u00f3 th\u1ec3 ti\u1ebfp t\u1ee5c c\u1ed9ng sinh si...</td>\n",
        "      <td>637000</td>\n",
        "      <td>\u7ee7\u7eed\u4e00\u5f00\u59cb\u548c\u5de5\u7a0b\u5e08\u7684\u4e92\u52a9\u4e92\u5229\uff0c</td>\n",
        "      <td>637000</td>\n",
        "      <td>\u6240\u4ee5\u6211\u5011\u53ef\u4ee5\u7e7c\u7e8c\u9019\u7a2e\u4e92\u60e0\u7684\u6a5f\u5236\uff0c</td>\n",
        "      <td>637000</td>\n",
        "    </tr>\n",
        "    <tr>\n",
        "      <th>835</th>\n",
        "      <td>231</td>\n",
        "      <td>\u0628\u0627\u0642\u062a\u0631\u0627\u062d \u0635\u0646\u0639 \u0630\u064a\u0644 \u0641\u0639\u0627\u0644</td>\n",
        "      <td>641000</td>\n",
        "      <td>\u0441\u044a\u0432\u0435\u0442\u0432\u0430\u0439\u043a\u0438 \u0438\u043d\u0436\u0438\u043d\u0435\u0440\u0438\u0442\u0435 \u0434\u0430 \u043d\u0430\u043f\u0440\u0430\u0432\u044f\u0442 \u0430\u043a\u0442\u0438\u0432\u043d\u0430 \u043e\u043f\u0430\u0448\u043a\u0430.</td>\n",
        "      <td>641000</td>\n",
        "      <td>NaN</td>\n",
        "      <td>NaN</td>\n",
        "      <td>ved at foresl\u00e5 at den kan lave en aktiv hale.</td>\n",
        "      <td>641000</td>\n",
        "      <td>indem wir ihnen vorschlagen, einen aktiven Sch...</td>\n",
        "      <td>...</td>\n",
        "      <td>NaN</td>\n",
        "      <td>NaN</td>\n",
        "      <td>NaN</td>\n",
        "      <td>NaN</td>\n",
        "      <td>b\u1eb1ng c\u00e1ch \u0111\u1ec1 ngh\u1ecb c\u00e1c k\u0129 s\u01b0 l\u00e0m m\u1ed9t chi\u1ebfc \u0111u\u00f4i...</td>\n",
        "      <td>641000</td>\n",
        "      <td>\u5efa\u8bae\u4ed6\u4eec\u8bbe\u8ba1\u4e00\u6761\u80fd\u52a8\u7684\u5c3e\u5df4\u3002</td>\n",
        "      <td>641000</td>\n",
        "      <td>\u544a\u8a34\u9019\u4e9b\u5de5\u7a0b\u5e2b\u4ed6\u5011\u53ef\u4ee5\u88fd\u4f5c\u4e00\u689d\u6709\u4f5c\u7528\u7684\u5c3e\u5df4\u3002</td>\n",
        "      <td>641000</td>\n",
        "    </tr>\n",
        "    <tr>\n",
        "      <th>836</th>\n",
        "      <td>232</td>\n",
        "      <td>\u0648\u0647\u0630\u0627 \u0623\u0648\u0644 \u0630\u064a\u0644 \u0641\u0639\u0627\u0644 \u0641\u064a \u0631\u0648\u0628\u0648\u062a</td>\n",
        "      <td>644000</td>\n",
        "      <td>\u0418 \u0435\u0442\u043e \u044f \u043f\u044a\u0440\u0432\u0430\u0442\u0430 \u0430\u043a\u0442\u0438\u0432\u043d\u0430 \u043e\u043f\u0430\u0448\u043a\u0430, \u0432 \u0440\u043e\u0431\u043e\u0442\u0430,</td>\n",
        "      <td>644000</td>\n",
        "      <td>NaN</td>\n",
        "      <td>NaN</td>\n",
        "      <td>Og her er den f\u00f8rste aktive hale p\u00e5 en robot</td>\n",
        "      <td>644000</td>\n",
        "      <td>Und hier haben wir den ersten aktiven Schwanz ...</td>\n",
        "      <td>...</td>\n",
        "      <td>NaN</td>\n",
        "      <td>NaN</td>\n",
        "      <td>NaN</td>\n",
        "      <td>NaN</td>\n",
        "      <td>V\u00e0 \u0111\u00e2y l\u00e0 chi\u1ebfc \u0111u\u00f4i ho\u1ea1t \u0111\u1ed9ng \u0111\u1ea7u ti\u00ean, trong...</td>\n",
        "      <td>644000</td>\n",
        "      <td>\u8fd9\u662f\u673a\u5668\u4eba\u4e0a\u7b2c\u4e00\u6761\u80fd\u52a8\u7684\u5c3e\u5df4\uff0c</td>\n",
        "      <td>644000</td>\n",
        "      <td>\u9019\u662f\u7b2c\u4e00\u500b\u88dd\u8a2d\u6709\u4f5c\u7528\u7684\u5c3e\u5df4\u7684\u6a5f\u5668\u4eba\uff0c</td>\n",
        "      <td>644000</td>\n",
        "    </tr>\n",
        "    <tr>\n",
        "      <th>837</th>\n",
        "      <td>233</td>\n",
        "      <td>\u0635\u0646\u0639\u0648\u0647 \u0641\u064a \u0628\u0648\u0633\u062a\u0646 \u062f\u0627\u064a\u0646\u0627\u0645\u0643\u0633</td>\n",
        "      <td>649000</td>\n",
        "      <td>\u043d\u0430\u043f\u0440\u0430\u0432\u0435\u043d\u0430 \u043e\u0442 \u0411\u043e\u0441\u0442\u044a\u043d \u0414\u0438\u043d\u0430\u043c\u0438\u043a\u0441.</td>\n",
        "      <td>649000</td>\n",
        "      <td>NaN</td>\n",
        "      <td>NaN</td>\n",
        "      <td>lavet af Boston Dynamics.</td>\n",
        "      <td>649000</td>\n",
        "      <td>hergestellt von Boston Dynamics.</td>\n",
        "      <td>...</td>\n",
        "      <td>NaN</td>\n",
        "      <td>NaN</td>\n",
        "      <td>NaN</td>\n",
        "      <td>NaN</td>\n",
        "      <td>ch\u1ebf t\u1ea1o b\u1edfi Boston Dynamics.</td>\n",
        "      <td>649000</td>\n",
        "      <td>\u7531\u6ce2\u58eb\u987f\u52a8\u529b\u516c\u53f8\u7814\u5236\u3002</td>\n",
        "      <td>649000</td>\n",
        "      <td>\u7531Boston Dynamics\u88fd\u4f5c\u3002</td>\n",
        "      <td>649000</td>\n",
        "    </tr>\n",
        "    <tr>\n",
        "      <th>838</th>\n",
        "      <td>234</td>\n",
        "      <td>\u0641\u064a \u0627\u0644\u062e\u062a\u0627\u0645\u060c \u0623\u0639\u062a\u0642\u062f \u0623\u0646\u0646\u0627 \u0646\u062d\u062a\u0627\u062c \u0625\u0644\u0649 \u0628\u0646\u0627\u0621 \u062a\u0639\u0627\u0648\u0646 \u0628\u064a\u0648...</td>\n",
        "      <td>652000</td>\n",
        "      <td>\u0417\u0430 \u0434\u0430 \u0437\u0430\u0432\u044a\u0440\u0448\u0430, \u043c\u0438\u0441\u043b\u044f, \u0447\u0435 \u0442\u0440\u044f\u0431\u0432\u0430 \u0434\u0430 \u0441\u0442\u0440\u043e\u0438\u043c \u0431\u0438\u043e\u043c...</td>\n",
        "      <td>652000</td>\n",
        "      <td>NaN</td>\n",
        "      <td>NaN</td>\n",
        "      <td>S\u00e5 for at konkludere. Jeg tror vi er n\u00f8dt til ...</td>\n",
        "      <td>652000</td>\n",
        "      <td>Abschlie\u00dfend m\u00f6chte ich sagen, dass wir meiner...</td>\n",
        "      <td>...</td>\n",
        "      <td>NaN</td>\n",
        "      <td>NaN</td>\n",
        "      <td>NaN</td>\n",
        "      <td>NaN</td>\n",
        "      <td>\u0110\u1ec3 k\u1ebft lu\u1eadn, t\u00f4i ngh\u0129 r\u1eb1ng ta c\u1ea7n x\u00e2y d\u1ef1ng c\u00e1c...</td>\n",
        "      <td>652000</td>\n",
        "      <td>\u603b\u7ed3\u6765\u8bf4\uff0c\u6211\u8ba4\u4e3a\u8981\u8fdb\u4e00\u6b65\u50cf\u6211\u6240\u4ecb\u7ecd\u7684\u8fd9\u6837\uff0c\u589e\u5f3a\u751f\u7269\u4e0e\u5176\u4ed6\u5b66\u79d1\u7684\u4e92\u52a8\uff0c</td>\n",
        "      <td>652000</td>\n",
        "      <td>\u7d50\u8ad6\u662f\uff0c\u6211\u89ba\u5f97\u6211\u5011\u61c9\u8a72\u5efa\u7acb\u751f\u7269\u4e92\u60e0\u5b78\u7684\u6a5f\u5236\uff0c\u5c31\u50cf\u6211\u6240\u5c55\u793a\u7684\uff0c</td>\n",
        "      <td>652000</td>\n",
        "    </tr>\n",
        "    <tr>\n",
        "      <th>839</th>\n",
        "      <td>235</td>\n",
        "      <td>\u0648\u0627\u0644\u0630\u064a \u0633\u064a\u0632\u064a\u062f \u0645\u0646 \u0633\u0631\u0639\u0629 \u0627\u0644\u0627\u0643\u062a\u0634\u0627\u0641\u0627\u062a \u0627\u0644\u0623\u0633\u0627\u0633\u064a\u0629 \u0641\u064a \u062a\u0637\u0628...</td>\n",
        "      <td>656000</td>\n",
        "      <td>\u043a\u043e\u0438\u0442\u043e \u0449\u0435 \u0443\u0432\u0435\u043b\u0438\u0447\u0430\u0442 \u0444\u0443\u043d\u0434\u0430\u043c\u0435\u043d\u0442\u0430\u043b\u043d\u0438\u0442\u0435 \u043e\u0442\u043a\u0440\u0438\u0442\u0438\u044f \u0438 \u0442...</td>\n",
        "      <td>656000</td>\n",
        "      <td>NaN</td>\n",
        "      <td>NaN</td>\n",
        "      <td>s\u00e5 det vil \u00f8ge hastigheden for basale opdagels...</td>\n",
        "      <td>656000</td>\n",
        "      <td>die durch ihre Umsetzung die Geschwindigkeit e...</td>\n",
        "      <td>...</td>\n",
        "      <td>NaN</td>\n",
        "      <td>NaN</td>\n",
        "      <td>NaN</td>\n",
        "      <td>NaN</td>\n",
        "      <td>\u0111\u1ec3 t\u0103ng t\u1ed1c \u0111\u1ed9 ph\u00e1t minh c\u01a1 b\u1ea3n trong c\u00e1c \u1ee9ng ...</td>\n",
        "      <td>656000</td>\n",
        "      <td>\u52a0\u5feb\u57fa\u7840\u79d1\u5b66\u7684\u7814\u7a76\u4e0e\u5e94\u7528\u3002</td>\n",
        "      <td>656000</td>\n",
        "      <td>\u9019\u6a23\u6703\u589e\u9032\u57fa\u790e\u79d1\u5b78\u9032\u6b65\u7684\u8173\u6b65\u3002</td>\n",
        "      <td>656000</td>\n",
        "    </tr>\n",
        "    <tr>\n",
        "      <th>840</th>\n",
        "      <td>236</td>\n",
        "      <td>\u0644\u0641\u0639\u0644 \u0630\u0644\u0643 \u0646\u062d\u062a\u0627\u062c \u0625\u0644\u0649 \u0625\u0639\u0627\u062f\u0629 \u062a\u0635\u0645\u064a\u0645 \u0627\u0644\u062a\u0639\u0644\u064a\u0645 \u0628\u0637\u0631\u064a\u0642\u0629 ...</td>\n",
        "      <td>659000</td>\n",
        "      <td>\u0417\u0430 \u0434\u0430 \u043f\u043e\u0441\u0442\u0438\u0433\u043d\u0435\u043c \u0442\u043e\u0432\u0430, \u0442\u0440\u044f\u0431\u0432\u0430 \u0434\u0430 \u043f\u0440\u0435\u0440\u0430\u0437\u0433\u043b\u0435\u0434\u0430\u043c\u0435 ...</td>\n",
        "      <td>659000</td>\n",
        "      <td>NaN</td>\n",
        "      <td>NaN</td>\n",
        "      <td>For at g\u00f8re der er det n\u00f8dvendigt at re-design...</td>\n",
        "      <td>659000</td>\n",
        "      <td>Um dies tun zu k\u00f6nnen, muss allerdings das Bil...</td>\n",
        "      <td>...</td>\n",
        "      <td>NaN</td>\n",
        "      <td>NaN</td>\n",
        "      <td>NaN</td>\n",
        "      <td>NaN</td>\n",
        "      <td>Tuy nhi\u00ean, \u0111\u1ec3 l\u00e0m vi\u1ec7c n\u00e0y, ta c\u1ea7n thi\u1ebft k\u1ebf l\u1ea1...</td>\n",
        "      <td>659000</td>\n",
        "      <td>\u8981\u505a\u5230\u8fd9\u70b9\uff0c\u6211\u4eec\u9700\u8981\u4ece\u6839\u672c\u4e0a\u4ece\u65b0\u8bbe\u8ba1\u6211\u4eec\u7684\u6559\u80b2\uff0c</td>\n",
        "      <td>659000</td>\n",
        "      <td>\u4f46\u8981\u505a\u5230\u9019\u4e00\u6b65\uff0c\u6211\u5011\u5fc5\u9808\u5c0d\u6559\u80b2\u505a\u51fa\u91cd\u5927\u6539\u8b8a\uff0c</td>\n",
        "      <td>659000</td>\n",
        "    </tr>\n",
        "    <tr>\n",
        "      <th>841</th>\n",
        "      <td>237</td>\n",
        "      <td>\u0644\u0646\u0648\u0627\u0632\u0646 \u0628\u064a\u0646 \u0627\u0644\u0639\u0645\u0642 \u0648\u0627\u0644\u062a\u0641\u0627\u0639\u0644 \u0628\u064a\u0646 \u0627\u0644\u0639\u0644\u0648\u0645</td>\n",
        "      <td>662000</td>\n",
        "      <td>\u0434\u0430 \u0431\u0430\u043b\u0430\u043d\u0441\u0438\u0440\u0430\u043c\u0435 \u0432 \u0434\u044a\u043b\u0431\u043e\u0447\u0438\u043d\u0430, \u043a\u043e\u043c\u0443\u043d\u0438\u043a\u0430\u0446\u0438\u044f\u0442\u0430 \u043c\u0435\u0436\u0434...</td>\n",
        "      <td>662000</td>\n",
        "      <td>NaN</td>\n",
        "      <td>NaN</td>\n",
        "      <td>for at balancere indhold med tv\u00e6rfaglig kommun...</td>\n",
        "      <td>662000</td>\n",
        "      <td>um eine Balance zwischen Tiefe und interdiszip...</td>\n",
        "      <td>...</td>\n",
        "      <td>NaN</td>\n",
        "      <td>NaN</td>\n",
        "      <td>NaN</td>\n",
        "      <td>NaN</td>\n",
        "      <td>\u0111\u1ec3 c\u00e2n b\u1eb1ng chi\u1ec1u s\u00e2u v\u1edbi vi\u1ec7c li\u00ean h\u1ec7 gi\u1eefa c\u00e1...</td>\n",
        "      <td>662000</td>\n",
        "      <td>\u5728\u6df1\u5ea6\u4e0e\u8de8\u5b66\u79d1\u4ea4\u4e92\u4e24\u4e2a\u65b9\u9762\u505a\u5230\u5e73\u8861\u3002</td>\n",
        "      <td>662000</td>\n",
        "      <td>\u4ee5\u52a0\u5f37\u5404\u5b78\u79d1\u9593\u6e9d\u901a\u7684\u6df1\u5ea6\uff0c</td>\n",
        "      <td>662000</td>\n",
        "    </tr>\n",
        "    <tr>\n",
        "      <th>842</th>\n",
        "      <td>238</td>\n",
        "      <td>\u0635\u0631\u0627\u062d\u0629 \u0644\u062a\u062f\u0631\u064a\u0628 \u0627\u0644\u0646\u0627\u0633 \u0644\u064a\u0636\u064a\u0641\u0648\u0627 \u0648\u064a\u0633\u062a\u0641\u064a\u062f\u0648\u0627 \u0645\u0646 \u0627\u0644\u0639\u0644\u0648\u0645...</td>\n",
        "      <td>665000</td>\n",
        "      <td>\u0418 \u0441\u043f\u0435\u0446\u0438\u0430\u043b\u043d\u043e \u0434\u0430 \u0442\u0440\u0435\u043d\u0438\u0440\u0430\u043c\u0435 \u0445\u043e\u0440\u0430\u0442\u0430 \u043a\u0430\u043a \u0434\u0430 \u0434\u043e\u043f\u044a\u043b\u0432\u0430...</td>\n",
        "      <td>665000</td>\n",
        "      <td>NaN</td>\n",
        "      <td>NaN</td>\n",
        "      <td>Og m\u00e5lrettet uddanne folk i at bidrage til og ...</td>\n",
        "      <td>665000</td>\n",
        "      <td>Au\u00dferdem m\u00fcssen wir den Menschen explizit beib...</td>\n",
        "      <td>...</td>\n",
        "      <td>NaN</td>\n",
        "      <td>NaN</td>\n",
        "      <td>NaN</td>\n",
        "      <td>NaN</td>\n",
        "      <td>v\u00e0 \u0111\u00e0o t\u1ea1o m\u1ed9t c\u00e1ch c\u1ee5 th\u1ec3 c\u00e1ch th\u1ee9c \u0111\u1ec3 \u0111\u00f3ng g...</td>\n",
        "      <td>665000</td>\n",
        "      <td>\u4e13\u95e8\u8bad\u7ec3\u80fd\u5728\u591a\u5b66\u79d1\u83b7\u5229\u5e76\u8d21\u732e\u7684\u4eba\u624d\u3002</td>\n",
        "      <td>665000</td>\n",
        "      <td>\u4e26\u8b93\u5404\u5b78\u79d1\u7684\u5c08\u5bb6\u6709\u6a5f\u6703\u6559\u5b78\u76f8\u9577\u3002</td>\n",
        "      <td>665000</td>\n",
        "    </tr>\n",
        "    <tr>\n",
        "      <th>843</th>\n",
        "      <td>239</td>\n",
        "      <td>\u0648\u0628\u0627\u0644\u0637\u0628\u0639 \u0646\u062d\u062a\u0627\u062c \u0625\u0644\u0649 \u0627\u0644\u0643\u0627\u0626\u0646\u0627\u062a \u0648\u0627\u0644\u0628\u064a\u0626\u0629 \u0644\u0646\u0642\u0648\u0645 \u0628\u0630\u0644\u0643</td>\n",
        "      <td>670000</td>\n",
        "      <td>\u0420\u0430\u0437\u0431\u0438\u0440\u0430 \u0441\u0435 \u0438\u043c\u0430\u043c\u0435 \u043d\u0443\u0436\u0434\u0430 \u043e\u0442 \u043e\u0440\u0433\u0430\u043d\u0438\u0437\u043c\u0438\u0442\u0435 \u0438 \u0441\u0440\u0435\u0434\u0430\u0442...</td>\n",
        "      <td>670000</td>\n",
        "      <td>NaN</td>\n",
        "      <td>NaN</td>\n",
        "      <td>Og selvf\u00f8lgelig har vi brug for organismerne o...</td>\n",
        "      <td>670000</td>\n",
        "      <td>Und nat\u00fcrlich brauchen wir auch die Organismen...</td>\n",
        "      <td>...</td>\n",
        "      <td>NaN</td>\n",
        "      <td>NaN</td>\n",
        "      <td>NaN</td>\n",
        "      <td>NaN</td>\n",
        "      <td>V\u00e0 d\u0129 nhi\u00ean b\u1ea1n c\u1ea7n c\u00e1c c\u00e1 th\u1ec3 sinh v\u1eadt v\u00e0 m\u00f4i...</td>\n",
        "      <td>670000</td>\n",
        "      <td>\u5f53\u7136\uff0c\u540c\u65f6\u8fd8\u9700\u8981\u826f\u597d\u7684\u751f\u6001\u4e0e\u73af\u5883\u3002</td>\n",
        "      <td>670000</td>\n",
        "      <td>\u7576\u7136\u9019\u9700\u8981\u74b0\u5883\u7684\u914d\u5408\uff0c\u4ee5\u53ca\u9069\u7576\u7684\u6a5f\u5236\u3002</td>\n",
        "      <td>670000</td>\n",
        "    </tr>\n",
        "    <tr>\n",
        "      <th>844</th>\n",
        "      <td>240</td>\n",
        "      <td>\u0647\u0630\u0627\u060c \u0633\u0648\u0627\u0621 \u0623\u0646\u062a \u062a\u0647\u062a\u0645 \u0628\u0627\u0644\u0623\u0645\u0646\u060c \u0627\u0644\u0628\u062d\u062b \u0648\u0627\u0644\u0625\u0646\u0642\u0627\u0630 \u0623\u0648 \u0627...</td>\n",
        "      <td>674000</td>\n",
        "      <td>\u0422\u043e\u0432\u0430 \u0435, \u0431\u0435\u0437 \u0437\u043d\u0430\u0447\u0435\u043d\u0438\u0435 \u0434\u0430\u043b\u0438 \u0441\u0435 \u0438\u043d\u0442\u0435\u0440\u0435\u0441\u0443\u0432\u0430\u0442\u0435 \u043e\u0442 \u0441...</td>\n",
        "      <td>674000</td>\n",
        "      <td>NaN</td>\n",
        "      <td>NaN</td>\n",
        "      <td>Det vil sige, uanset om I bekymrer jer om sikk...</td>\n",
        "      <td>674000</td>\n",
        "      <td>Deshalb m\u00fcssen wir, egal ob Ihnen Sicherheit, ...</td>\n",
        "      <td>...</td>\n",
        "      <td>NaN</td>\n",
        "      <td>NaN</td>\n",
        "      <td>NaN</td>\n",
        "      <td>NaN</td>\n",
        "      <td>Ngh\u0129a l\u00e0, d\u00f9 b\u1ea1n c\u00f3 quan t\u00e2m t\u1edbi an ninh, t\u00ecm ...</td>\n",
        "      <td>674000</td>\n",
        "      <td>\u65e0\u8bba\u4f60\u5173\u5fc3\u56fd\u9632\u3001\u641c\u5bfb\u4e0e\u6551\u62a4\u8fd8\u662f\u533b\u7597\uff0c</td>\n",
        "      <td>674000</td>\n",
        "      <td>\u4e0d\u7ba1\u4f60\u5728\u4e0d\u5728\u4e4e\u5b89\u5168\u3001\u641c\u6551\u3001\u6551\u63f4\u6216\u5065\u5eb7\uff0c</td>\n",
        "      <td>674000</td>\n",
        "    </tr>\n",
        "    <tr>\n",
        "      <th>845</th>\n",
        "      <td>241</td>\n",
        "      <td>\u0641\u0639\u0644\u064a\u0646\u0627 \u0627\u0644\u062d\u0641\u0627\u0638 \u0639\u0644\u0649 \u062a\u0635\u0627\u0645\u064a\u0645 \u0627\u0644\u0637\u0628\u064a\u0639\u0629</td>\n",
        "      <td>677000</td>\n",
        "      <td>\u0442\u0440\u044f\u0431\u0432\u0430 \u0434\u0430 \u043e\u043f\u0430\u0437\u0432\u0430\u043c\u0435 \u043c\u043e\u0434\u0435\u043b\u0438\u0442\u0435 \u0434\u0430\u0434\u0435\u043d\u0438 \u043d\u0438 \u043e\u0442 \u043f\u0440\u0438\u0440\u043e...</td>\n",
        "      <td>677000</td>\n",
        "      <td>NaN</td>\n",
        "      <td>NaN</td>\n",
        "      <td>s\u00e5 m\u00e5 vi beskytte naturens design,</td>\n",
        "      <td>677000</td>\n",
        "      <td>die Entw\u00fcrfe der Natur erhalten,</td>\n",
        "      <td>...</td>\n",
        "      <td>NaN</td>\n",
        "      <td>NaN</td>\n",
        "      <td>NaN</td>\n",
        "      <td>NaN</td>\n",
        "      <td>ta ph\u1ea3i b\u1ea3o v\u1ec7 c\u00e1c thi\u1ebft k\u1ebf c\u1ee7a t\u1ef1 nhi\u00ean,</td>\n",
        "      <td>677000</td>\n",
        "      <td>\u6211\u4eec\u8981\u4fdd\u62a4\u81ea\u7136\uff0c</td>\n",
        "      <td>677000</td>\n",
        "      <td>\u6211\u5011\u90fd\u5fc5\u9808\u4fdd\u8b77\u5927\u81ea\u7136\u7684\u8a2d\u8a08\uff0c</td>\n",
        "      <td>677000</td>\n",
        "    </tr>\n",
        "    <tr>\n",
        "      <th>846</th>\n",
        "      <td>242</td>\n",
        "      <td>\u0648\u0625\u0644\u0627 \u0633\u062a\u0636\u064a\u0639 \u0647\u0630\u0647 \u0627\u0644\u0623\u0633\u0631\u0627\u0631 \u0644\u0644\u0623\u0628\u062f.</td>\n",
        "      <td>679000</td>\n",
        "      <td>\u0438\u043d\u0430\u0447\u0435 \u0442\u0435\u0437\u0438 \u0442\u0430\u0439\u043d\u0438 \u0449\u0435 \u0431\u044a\u0434\u0430\u0442 \u0437\u0430\u0433\u0443\u0431\u0435\u043d\u0438 \u0437\u0430\u0432\u0438\u043d\u0430\u0433\u0438.</td>\n",
        "      <td>679000</td>\n",
        "      <td>NaN</td>\n",
        "      <td>NaN</td>\n",
        "      <td>ellers vil disse hemmeligheder v\u00e6re tabt for e...</td>\n",
        "      <td>679000</td>\n",
        "      <td>sonst gehen diese Geheimnisse f\u00fcr immer verloren.</td>\n",
        "      <td>...</td>\n",
        "      <td>NaN</td>\n",
        "      <td>NaN</td>\n",
        "      <td>NaN</td>\n",
        "      <td>NaN</td>\n",
        "      <td>n\u1ebfu kh\u00f4ng nh\u1eefng b\u00ed m\u1eadt n\u00e0y s\u1ebd b\u1ecb m\u1ea5t \u0111i m\u00e3i m\u00e3i.</td>\n",
        "      <td>679000</td>\n",
        "      <td>\u4e0d\u7136\u81ea\u7136\u754c\u7684\u79d8\u5bc6\u5c06\u88ab\u6c38\u8fdc\u57cb\u6ca1\u3002</td>\n",
        "      <td>679000</td>\n",
        "      <td>\u5426\u5247\u9019\u4e9b\u7955\u5bc6\u5c07\u6703\u6c38\u9060\u907a\u5931\u3002</td>\n",
        "      <td>679000</td>\n",
        "    </tr>\n",
        "    <tr>\n",
        "      <th>847</th>\n",
        "      <td>243</td>\n",
        "      <td>\u0648\u0645\u0646 \u0645\u0627 \u0633\u0645\u0639\u062a\u0647 \u0645\u0646 \u0631\u0626\u064a\u0633\u0646\u0627 \u0627\u0644\u062c\u062f\u064a\u062f\u060c</td>\n",
        "      <td>682000</td>\n",
        "      <td>\u0410 \u043e\u0442 \u0442\u043e\u0432\u0430, \u043a\u043e\u0435\u0442\u043e \u0447\u0443\u0445 \u043e\u0442 \u043d\u043e\u0432\u0438\u044f\u0442 \u043d\u0438 \u043f\u0440\u0435\u0437\u0438\u0434\u0435\u043d\u0442,</td>\n",
        "      <td>682000</td>\n",
        "      <td>NaN</td>\n",
        "      <td>NaN</td>\n",
        "      <td>Og det jeg har h\u00f8rt fra vores nye pr\u00e6sident,</td>\n",
        "      <td>682000</td>\n",
        "      <td>Und nach allem, was ich von unserem neuen Pr\u00e4s...</td>\n",
        "      <td>...</td>\n",
        "      <td>NaN</td>\n",
        "      <td>NaN</td>\n",
        "      <td>NaN</td>\n",
        "      <td>NaN</td>\n",
        "      <td>V\u00e0 theo nh\u01b0 nh\u1eefng g\u00ec t\u00f4i \u0111\u00e3 nghe t\u1eeb v\u1ecb T\u1ed5ng th...</td>\n",
        "      <td>682000</td>\n",
        "      <td>\u5c31\u6211\u4eec\u65b0\u603b\u7edf\u7684\u6001\u5ea6\u6765\u770b\uff0c</td>\n",
        "      <td>682000</td>\n",
        "      <td>\u800c\u6211\u5f9e\u65b0\u4efb\u7e3d\u7d71\u7684\u8ac7\u8a71\u4e2d\u5f97\u77e5\uff0c</td>\n",
        "      <td>682000</td>\n",
        "    </tr>\n",
        "    <tr>\n",
        "      <th>848</th>\n",
        "      <td>244</td>\n",
        "      <td>\u0623\u0646\u0627 \u0645\u062a\u0641\u0627\u0626\u0644 \u062c\u062f\u0627. \u0634\u0643\u0631\u0627 \u0644\u0643\u0645.</td>\n",
        "      <td>686000</td>\n",
        "      <td>\u0441\u044a\u043c \u043c\u043d\u043e\u0433\u043e \u043e\u043f\u0442\u0438\u043c\u0438\u0441\u0442\u0438\u0447\u043d\u043e \u043d\u0430\u0441\u0442\u0440\u043e\u0435\u043d. \u0411\u043b\u0430\u0433\u043e\u0434\u0430\u0440\u044f \u0432\u0438.</td>\n",
        "      <td>686000</td>\n",
        "      <td>NaN</td>\n",
        "      <td>NaN</td>\n",
        "      <td>er jeg meget optimistisk. Tak skal I have.</td>\n",
        "      <td>686000</td>\n",
        "      <td>bin ich sehr zuversichtlich. Vielen Dank.</td>\n",
        "      <td>...</td>\n",
        "      <td>NaN</td>\n",
        "      <td>NaN</td>\n",
        "      <td>NaN</td>\n",
        "      <td>NaN</td>\n",
        "      <td>t\u00f4i r\u1ea5t l\u1ea1c quan. Xin c\u00e1m \u01a1n.</td>\n",
        "      <td>686000</td>\n",
        "      <td>\u6211\u5f88\u4e50\u89c2\u3002\u8c22\u8c22\u3002</td>\n",
        "      <td>686000</td>\n",
        "      <td>\u6211\u53ef\u4ee5\u5c0d\u9019\u4ef6\u4e8b\u62b1\u6301\u6a02\u89c0\u7684\u614b\u5ea6\uff0c\u8b1d\u8b1d\u5404\u4f4d\u3002</td>\n",
        "      <td>686000</td>\n",
        "    </tr>\n",
        "    <tr>\n",
        "      <th>849</th>\n",
        "      <td>245</td>\n",
        "      <td>(\u062a\u0635\u0641\u064a\u0642)</td>\n",
        "      <td>688000</td>\n",
        "      <td>(\u0410\u043f\u043b\u043e\u0434\u0438\u0441\u043c\u0435\u043d\u0442\u0438)</td>\n",
        "      <td>688000</td>\n",
        "      <td>NaN</td>\n",
        "      <td>NaN</td>\n",
        "      <td>(Klapsalver)</td>\n",
        "      <td>688000</td>\n",
        "      <td>(Applaus)</td>\n",
        "      <td>...</td>\n",
        "      <td>NaN</td>\n",
        "      <td>NaN</td>\n",
        "      <td>NaN</td>\n",
        "      <td>NaN</td>\n",
        "      <td>(V\u1ed7 tay)</td>\n",
        "      <td>688000</td>\n",
        "      <td>\uff08\u638c\u58f0\uff09</td>\n",
        "      <td>688000</td>\n",
        "      <td>(\u638c\u8072)</td>\n",
        "      <td>688000</td>\n",
        "    </tr>\n",
        "  </tbody>\n",
        "</table>\n",
        "<p>850 rows \u00d7 89 columns</p>\n",
        "</div>"
       ],
       "metadata": {},
       "output_type": "pyout",
       "prompt_number": 120,
       "text": [
        "     Unnamed: 0                                                 ar  \\\n",
        "0             0                   \u0623\u0639\u0645\u0644 \u0641\u064a \u0645\u062c\u0627\u0644 \u0627\u0644\u062a\u0633\u0648\u064a\u0642\u060c \u0627\u0644\u0630\u064a \u0623\u062d\u0628\u0647\u060c   \n",
        "1             1                      \u0644\u0643\u0646 \u063a\u0631\u0627\u0645\u064a \u0627\u0644\u0623\u0648\u0644 \u0643\u0627\u0646 \u0627\u0644\u0641\u064a\u0632\u064a\u0627\u0621\u060c   \n",
        "2             2           \u0627\u0644\u063a\u0631\u0627\u0645 \u0627\u0644\u0630\u064a \u0623\u0648\u062f\u064a \u0628\u064a \u0625\u0644\u0649 \u0645\u0639\u0644\u0645 \u0645\u062f\u0631\u0633\u0629 \u0631\u0627\u0626\u0639\u060c   \n",
        "3             3                        \u0639\u0646\u062f\u0645\u0627 \u0643\u0627\u0646 \u0644\u062f\u064a \u0634\u0639\u0631 \u0623\u0642\u0644 \u0634\u064a\u0628\u0627.   \n",
        "4             4                                    \u0644\u0642\u062f \u0642\u0627\u0645 \u0628\u062a\u0639\u0644\u064a\u0645\u064a   \n",
        "5             5                              \u0623\u0646 \u0627\u0644\u0641\u064a\u0632\u064a\u0627\u0621 \u0645\u0627\u062f\u0629 \u062c\u064a\u062f\u0629   \n",
        "6             6        \u0644\u0623\u0646\u0647\u0627 \u062a\u0639\u0644\u0645\u0646\u0627 \u0623\u0645\u0648\u0631 \u0643\u062b\u064a\u0631\u0629 \u0639\u0646 \u0627\u0644\u0639\u0627\u0644\u0645 \u0645\u0646 \u062d\u0648\u0644\u0646\u0627.   \n",
        "7             7      \u0648\u0633\u0623\u0642\u0636\u064a \u0627\u0644\u062f\u0642\u0627\u0626\u0642 \u0627\u0644\u0642\u0644\u064a\u0644\u0629 \u0627\u0644\u0642\u0627\u062f\u0645\u0629 \u0645\u062d\u0627\u0648\u0644\u0627 \u0625\u0642\u0646\u0627\u0639\u0643\u0645   \n",
        "8             8       \u0628\u0623\u0646 \u0627\u0644\u0641\u064a\u0632\u064a\u0627\u0621 \u064a\u0645\u0643\u0646 \u0623\u0646 \u062a\u0639\u0644\u0645\u0646\u0627 \u0634\u064a\u0626\u0627 \u0639\u0646 \u0627\u0644\u062a\u0633\u0648\u064a\u0642.   \n",
        "9             9                            \u0639\u0631\u0636 \u0633\u0631\u064a\u0639 \u0628\u0631\u0641\u0639 \u0627\u0644\u0623\u064a\u062f\u064a --   \n",
        "10           10            \u0645\u0646 \u0627\u0644\u0630\u064a \u062f\u0631\u0633 \u0634\u064a\u0626\u0627 \u0639\u0646 \u0627\u0644\u062a\u0633\u0648\u064a\u0642 \u0641\u064a \u0627\u0644\u062c\u0627\u0645\u0639\u0629\u061f   \n",
        "11           11           \u0645\u0646 \u0627\u0644\u0630\u064a \u062f\u0631\u0633 \u0634\u064a\u0626\u0627 \u0639\u0646 \u0627\u0644\u0641\u064a\u0632\u064a\u0627\u0621 \u0641\u064a \u0627\u0644\u062c\u0627\u0645\u0639\u0629\u061f   \n",
        "12           12                       \u0623\u0648\u0648\u0647\u060c \u062c\u0645\u064a\u0644 \u062c\u062f\u0627\u060c \u0648\u0641\u064a \u0627\u0644\u0645\u062f\u0631\u0633\u0629\u061f   \n",
        "13           13                                 \u062d\u0633\u0646\u0627\u060c \u0627\u0644\u0639\u062f\u064a\u062f \u0645\u0646\u0643\u0645.   \n",
        "14           14          \u0644\u0630\u0627\u060c \u0622\u0645\u0644 \u0641\u064a \u0623\u0646 \u0647\u0630\u0627 \u0633\u064a\u0639\u064a\u062f \u0628\u0639\u0636\u0627 \u0645\u0646 \u0627\u0644\u0633\u0639\u0627\u062f\u0629\u060c   \n",
        "15           15               \u0623\u0648 \u0631\u0628\u0645\u0627 \u0628\u0639\u0636 \u0627\u0644\u0630\u0643\u0631\u064a\u0627\u062a \u0627\u0644\u0645\u0632\u0639\u062c\u0629 \u0642\u0644\u064a\u0644\u0627\u064b.   \n",
        "16           16                           \u0647\u0643\u0630\u0627\u060c \u0627\u0644\u0641\u064a\u0632\u064a\u0627\u0621 \u0648\u0627\u0644\u062a\u0633\u0648\u064a\u0642:   \n",
        "17           17                 \u0633\u0646\u0628\u062f\u0623 \u0628\u0634\u064a\u0621 \u0628\u0633\u064a\u0637 \u062c\u062f\u0627\u064b\u060c \u0642\u0627\u0646\u0648\u0646 \u0646\u064a\u0648\u062a\u0646:   \n",
        "18           18             \"\u0627\u0644\u0642\u0648\u0629 \u062a\u0633\u0627\u0648\u064a \u0627\u0644\u0639\u062c\u0644\u0629 \u0645\u0636\u0631\u0648\u0628\u0629 \u0641\u064a \u0627\u0644\u0643\u062a\u0644\u0629.\"   \n",
        "19           19         \u0647\u0630\u0627 \u0634\u064a\u0621 \u0631\u0628\u0645\u0627 \u064a\u062c\u0628 \u0639\u0644\u0649 \u0627\u0644\u062e\u0637\u0648\u0637 \u0627\u0644\u062c\u0648\u064a\u0629 \u0627\u0644\u062a\u0631\u0643\u064a\u0629   \n",
        "20           20                         \u0623\u0646 \u062a\u0643\u0648\u0646 \u062f\u0631\u0627\u0633\u062a\u0647 \u0628\u0639\u0646\u0627\u064a\u0629 \u0623\u0643\u062b\u0631   \n",
        "21           21                            \u0642\u0628\u0644 \u0642\u064a\u0627\u0645\u0647\u0645 \u0628\u0647\u0630\u0647 \u0627\u0644\u062d\u0645\u0644\u0629.   \n",
        "22           22                                              (\u0636\u062d\u0643)   \n",
        "23           23              \u0644\u0643\u0646 \u0625\u0630\u0627 \u0642\u0645\u0646\u0627 \u0628\u0625\u0639\u0627\u062f\u0629 \u0647\u0630\u0647 \u0627\u0644\u0635\u064a\u063a\u0629 \u0628\u0633\u0631\u0639\u0629\u060c   \n",
        "24           24  \u064a\u0645\u0643\u0646\u0646\u0627 \u0623\u0646 \u0646\u062d\u0635\u0644 \u0639\u0644\u0649 \u0623\u0646 \u0627\u0644\u0639\u062c\u0644\u0629 \u062a\u0633\u0627\u0648\u064a \u0627\u0644\u0642\u0648\u0629 \u062a\u0642\u0633\u064a\u0645...   \n",
        "25           25                                         \u0648\u0627\u0644\u0630\u064a \u064a\u0639\u0646\u064a   \n",
        "26           26          \u0623\u0646\u0647 \u0628\u0627\u0644\u0646\u0633\u0628\u0629 \u0644\u0644\u062c\u0633\u064a\u0645 \u0627\u0644\u0623\u0643\u0628\u0631\u060c \u0627\u0644\u0643\u062a\u0644\u0629 \u0627\u0644\u0623\u0643\u0628\u0631\u060c   \n",
        "27           27           \u064a\u062a\u0637\u0644\u0628 \u0630\u0644\u0643 \u0627\u0644\u0645\u0632\u064a\u062f \u0645\u0646 \u0627\u0644\u0642\u0648\u0629 \u0644\u062a\u063a\u064a\u064a\u0631 \u0625\u062a\u062c\u0627\u0647\u0647.   \n",
        "28           28           \u0625\u0646\u0647 \u0646\u0641\u0633 \u0627\u0644\u0634\u064a\u0621 \u0628\u0627\u0644\u0646\u0633\u0628\u0629 \u0644\u0644\u0639\u0644\u0627\u0645\u0627\u062a \u0627\u0644\u062a\u062c\u0627\u0631\u064a\u0629.   \n",
        "29           29  \u0627\u0644\u0639\u0644\u0627\u0645\u0629 \u0627\u0644\u062a\u062c\u0627\u0631\u064a\u0629 \u0627\u0644\u0636\u062e\u0645\u0629\u060c \u064a\u0643\u0648\u0646 \u0644\u062f\u064a\u0647\u0627 \u0627\u0644\u0643\u062b\u064a\u0631 \u0645\u0646 ...   \n",
        "..          ...                                                ...   \n",
        "820         216  \u0628\u0627\u0644\u0637\u0628\u0639 \u0639\u0643\u0633 \u0627\u0644\u0637\u0631\u064a\u0642\u0629 \u0627\u0644\u062a\u064a \u0633\u062a\u0631\u0648\u0646\u0647\u0627 \u0639\u0644\u0649 \u0628\u0631\u0627\u0645\u062c \u0627\u0644\u0637\u0628...   \n",
        "821         217          \u062a\u0633\u0627\u0626\u0644\u0646\u0627 \"\u0647\u0644 \u064a\u062d\u0644\u0642\u0648\u0646 \u0641\u064a \u0627\u0644\u0648\u0627\u0642\u0639 \u0641\u064a \u0627\u0644\u0637\u0628\u064a\u0639\u0629\"\u0640   \n",
        "822         218           \u0641\u0630\u0647\u0628\u0646\u0627 \u0625\u0644\u0649 \u063a\u0627\u0628\u0627\u062a \u0633\u0646\u063a\u0627\u0641\u0648\u0631\u0629 \u0648\u062c\u0646\u0648\u0628 \u0634\u0631\u0642 \u0622\u0633\u064a\u0627   \n",
        "823         219                      \u0648\u0627\u0644\u0645\u0642\u0637\u0639 \u0627\u0644\u062a\u0627\u0644\u064a \u0646\u0639\u0631\u0636\u0647 \u0644\u0623\u0648\u0644 \u0645\u0631\u0629   \n",
        "824         220    \u0647\u0630\u0627 \u0647\u0648 \u0627\u0644\u0645\u0642\u0637\u0639 \u0627\u0644\u0641\u0639\u0644\u064a\u060c \u063a\u064a\u0631 \u0645\u0641\u0628\u0631\u0643\u060c \u0645\u0642\u0637\u0639 \u0628\u062d\u062b \u062d\u0642\u064a\u0642\u064a   \n",
        "825         221        \u0644\u062d\u064a\u0648\u0627\u0646 \u064a\u062d\u0644\u0642 \u0646\u0632\u0648\u0644\u0627 -- \u0647\u0646\u0627\u0643 \u062e\u0637 \u0627\u0644\u0645\u0633\u0627\u0631 \u0628\u0627\u0644\u0623\u062d\u0645\u0631   \n",
        "826         222                    \u0627\u0646\u0638\u0631\u0648\u0627 \u0625\u0644\u0649 \u0627\u0644\u0646\u0647\u0627\u064a\u0629 \u0644\u062a\u0631\u0648 \u0627\u0644\u062d\u064a\u0648\u0627\u0646   \n",
        "827         223                         \u0648\u0644\u0643\u0646 \u0628\u064a\u0646\u0645\u0627 \u064a\u0642\u062a\u0631\u0628 \u0645\u0646 \u0627\u0644\u0634\u062c\u0631\u0629   \n",
        "828         224             \u0634\u0627\u0647\u062f\u0648\u0627 \u0627\u0644\u062a\u0642\u0631\u064a\u0628. \u0648\u062d\u0627\u0648\u0644\u0648\u0627 \u0631\u0624\u064a\u062a\u0647 \u0648\u0647\u0648 \u064a\u0647\u0628\u0637   \n",
        "829         225           \u0647\u0627 \u0647\u0648 \u064a\u0646\u0632\u0644. \u0647\u0646\u0627\u0643 \u0648\u0632\u063a\u0629 \u0641\u064a \u0646\u0647\u0627\u064a\u0629 \u062e\u0637 \u0627\u0644\u0645\u0633\u0627\u0631   \n",
        "830         226                         \u0647\u0644 \u062a\u0631\u0648\u0646\u0647 \u0647\u0646\u0627\u0643\u061f \u0634\u0627\u0647\u062f\u0648\u0647 \u064a\u0646\u0632\u0644   \n",
        "831         227  \u0648\u0627\u0644\u0622\u0646 \u0634\u0627\u0647\u062f\u0648 \u0647\u0646\u0627\u0643 \u0648\u064a\u0645\u0643\u0646\u0643\u0645 \u0631\u0624\u064a\u0629 \u0627\u0644\u0647\u0628\u0648\u0637. \u0647\u0644 \u0631\u0623\u064a\u062a\u0645...   \n",
        "832         228                               \u0625\u0646\u0647 \u064a\u0633\u062a\u062e\u062f\u0645 \u0630\u064a\u0644\u0647 \u0643\u0630\u0644\u0643   \n",
        "833         229                         \u062a\u0645\u0627\u0645\u0627 \u0643\u0645\u0627 \u0631\u0623\u064a\u0646\u0627 \u0641\u064a \u0627\u0644\u0645\u062e\u062a\u0628\u0631   \n",
        "834         230                     \u0641\u0627\u0644\u0622\u0646 \u064a\u0645\u0643\u0646\u0646\u0627 \u0625\u0643\u0645\u0627\u0644 \u0647\u0630\u0627 \u0627\u0644\u062a\u0639\u0627\u0648\u0646   \n",
        "835         231                               \u0628\u0627\u0642\u062a\u0631\u0627\u062d \u0635\u0646\u0639 \u0630\u064a\u0644 \u0641\u0639\u0627\u0644   \n",
        "836         232                         \u0648\u0647\u0630\u0627 \u0623\u0648\u0644 \u0630\u064a\u0644 \u0641\u0639\u0627\u0644 \u0641\u064a \u0631\u0648\u0628\u0648\u062a   \n",
        "837         233                            \u0635\u0646\u0639\u0648\u0647 \u0641\u064a \u0628\u0648\u0633\u062a\u0646 \u062f\u0627\u064a\u0646\u0627\u0645\u0643\u0633   \n",
        "838         234  \u0641\u064a \u0627\u0644\u062e\u062a\u0627\u0645\u060c \u0623\u0639\u062a\u0642\u062f \u0623\u0646\u0646\u0627 \u0646\u062d\u062a\u0627\u062c \u0625\u0644\u0649 \u0628\u0646\u0627\u0621 \u062a\u0639\u0627\u0648\u0646 \u0628\u064a\u0648...   \n",
        "839         235  \u0648\u0627\u0644\u0630\u064a \u0633\u064a\u0632\u064a\u062f \u0645\u0646 \u0633\u0631\u0639\u0629 \u0627\u0644\u0627\u0643\u062a\u0634\u0627\u0641\u0627\u062a \u0627\u0644\u0623\u0633\u0627\u0633\u064a\u0629 \u0641\u064a \u062a\u0637\u0628...   \n",
        "840         236  \u0644\u0641\u0639\u0644 \u0630\u0644\u0643 \u0646\u062d\u062a\u0627\u062c \u0625\u0644\u0649 \u0625\u0639\u0627\u062f\u0629 \u062a\u0635\u0645\u064a\u0645 \u0627\u0644\u062a\u0639\u0644\u064a\u0645 \u0628\u0637\u0631\u064a\u0642\u0629 ...   \n",
        "841         237               \u0644\u0646\u0648\u0627\u0632\u0646 \u0628\u064a\u0646 \u0627\u0644\u0639\u0645\u0642 \u0648\u0627\u0644\u062a\u0641\u0627\u0639\u0644 \u0628\u064a\u0646 \u0627\u0644\u0639\u0644\u0648\u0645   \n",
        "842         238  \u0635\u0631\u0627\u062d\u0629 \u0644\u062a\u062f\u0631\u064a\u0628 \u0627\u0644\u0646\u0627\u0633 \u0644\u064a\u0636\u064a\u0641\u0648\u0627 \u0648\u064a\u0633\u062a\u0641\u064a\u062f\u0648\u0627 \u0645\u0646 \u0627\u0644\u0639\u0644\u0648\u0645...   \n",
        "843         239      \u0648\u0628\u0627\u0644\u0637\u0628\u0639 \u0646\u062d\u062a\u0627\u062c \u0625\u0644\u0649 \u0627\u0644\u0643\u0627\u0626\u0646\u0627\u062a \u0648\u0627\u0644\u0628\u064a\u0626\u0629 \u0644\u0646\u0642\u0648\u0645 \u0628\u0630\u0644\u0643   \n",
        "844         240  \u0647\u0630\u0627\u060c \u0633\u0648\u0627\u0621 \u0623\u0646\u062a \u062a\u0647\u062a\u0645 \u0628\u0627\u0644\u0623\u0645\u0646\u060c \u0627\u0644\u0628\u062d\u062b \u0648\u0627\u0644\u0625\u0646\u0642\u0627\u0630 \u0623\u0648 \u0627...   \n",
        "845         241                   \u0641\u0639\u0644\u064a\u0646\u0627 \u0627\u0644\u062d\u0641\u0627\u0638 \u0639\u0644\u0649 \u062a\u0635\u0627\u0645\u064a\u0645 \u0627\u0644\u0637\u0628\u064a\u0639\u0629   \n",
        "846         242                      \u0648\u0625\u0644\u0627 \u0633\u062a\u0636\u064a\u0639 \u0647\u0630\u0647 \u0627\u0644\u0623\u0633\u0631\u0627\u0631 \u0644\u0644\u0623\u0628\u062f.   \n",
        "847         243                     \u0648\u0645\u0646 \u0645\u0627 \u0633\u0645\u0639\u062a\u0647 \u0645\u0646 \u0631\u0626\u064a\u0633\u0646\u0627 \u0627\u0644\u062c\u062f\u064a\u062f\u060c   \n",
        "848         244                          \u0623\u0646\u0627 \u0645\u062a\u0641\u0627\u0626\u0644 \u062c\u062f\u0627. \u0634\u0643\u0631\u0627 \u0644\u0643\u0645.   \n",
        "849         245                                            (\u062a\u0635\u0641\u064a\u0642)   \n",
        "\n",
        "     ar_time_frame                                                 bg  \\\n",
        "0             1000  \u0418 \u0442\u0430\u043a\u0430 \u0430\u0437 \u0440\u0430\u0431\u043e\u0442\u044f \u0432 \u043e\u0431\u043b\u0430\u0441\u0442\u0442\u0430 \u043d\u0430 \u043c\u0430\u0440\u043a\u0435\u0442\u0438\u043d\u0433\u0430, \u043a\u043e\u0439...   \n",
        "1             3000                   \u043d\u043e \u043f\u044a\u0440\u0432\u0430\u0442\u0430 \u043c\u0438 \u0441\u0442\u0440\u0430\u0441\u0442 \u0435 \u0444\u0438\u0437\u0438\u043a\u0430\u0442\u0430,   \n",
        "2             6000          \u0441\u0442\u0440\u0430\u0441\u0442 \u043f\u043e\u0440\u043e\u0434\u0435\u043d\u0430 \u043e\u0442 \u0435\u0434\u0438\u043d \u043f\u0440\u0435\u043a\u0440\u0430\u0441\u0435\u043d \u0443\u0447\u0438\u0442\u0435\u043b,   \n",
        "3             9000              \u043a\u043e\u0433\u0430\u0442\u043e \u0438\u043c\u0430\u0445 \u043c\u0430\u043b\u043a\u043e \u043f\u043e-\u043c\u0430\u043b\u043a\u043e \u0441\u0438\u0432\u0430 \u043a\u043e\u0441\u0430.   \n",
        "4            12000                               \u0418 \u0442\u0430\u043a\u0430, \u0442\u043e\u0439 \u043c\u0435 \u043d\u0430\u0443\u0447\u0438   \n",
        "5            14000                              \u0447\u0435 \u0444\u0438\u0437\u0438\u043a\u0430\u0442\u0430 \u0435 \u0433\u043e\u0442\u0438\u043d\u0430,   \n",
        "6            16000  \u0437\u0430\u0449\u043e\u0442\u043e \u0442\u044f \u043d\u0438 \u0443\u0447\u0438 \u043d\u0430 \u0442\u043e\u043b\u043a\u043e\u0432\u0430 \u043c\u043d\u043e\u0433\u043e \u043d\u0435\u0449\u0430 \u0437\u0430 \u0441\u0432\u0435\u0442...   \n",
        "7            18000  \u0418 \u0430\u0437 \u0449\u0435 \u043f\u0440\u0435\u043a\u0430\u0440\u0430\u043c \u0441\u043b\u0435\u0434\u0432\u0430\u0449\u0438\u0442\u0435 \u043d\u044f\u043a\u043e\u043b\u043a\u043e \u043c\u0438\u043d\u0443\u0442\u0438, \u043e\u043f...   \n",
        "8            21000   \u0447\u0435 \u0444\u0438\u0437\u0438\u043a\u0430\u0442\u0430 \u043c\u043e\u0436\u0435 \u0434\u0430 \u043d\u0438 \u043d\u0430\u0443\u0447\u0438 \u043d\u0435\u0449\u043e \u0437\u0430 \u043c\u0430\u0440\u043a\u0435\u0442\u0438\u043d\u0433\u0430.   \n",
        "9            24000                     \u0418 \u0442\u0430\u043a\u0430, \u0431\u044a\u0440\u0437\u043e \u0432\u0434\u0438\u0433\u043d\u0435\u0442\u0435 \u0440\u044a\u043a\u0430 --   \n",
        "10           26000               \u043a\u043e\u0439 \u0435 \u0443\u0447\u0438\u043b \u043c\u0430\u0440\u043a\u0435\u0442\u0438\u043d\u0433 \u0432 \u0443\u043d\u0438\u0432\u0435\u0440\u0441\u0438\u0442\u0435\u0442\u0430?   \n",
        "11           28000                  \u041a\u043e\u0439 \u0435 \u0443\u0447\u0438\u043b \u0444\u0438\u0437\u0438\u043a\u0430 \u0432 \u0443\u043d\u0438\u0432\u0435\u0440\u0441\u0438\u0442\u0435\u0442\u0430?   \n",
        "12           30000                       \u041e, \u0434\u043e\u0441\u0442\u0430 \u0434\u043e\u0431\u0440\u0435. \u0410 \u0432 \u0443\u0447\u0438\u043b\u0438\u0449\u0435?   \n",
        "13           32000                               \u0414\u043e\u0431\u0440\u0435, \u043c\u043d\u043e\u0433\u043e \u043e\u0442 \u0432\u0430\u0441.   \n",
        "14           34000  \u0422\u0430\u043a\u0430, \u043d\u0430\u0434\u044f\u0432\u0430\u043c \u0441\u0435 \u0442\u043e\u0432\u0430 \u0449\u0435 \u0434\u043e\u043d\u0435\u0441\u0435 \u043d\u044f\u043a\u0430\u043a\u0432\u0438 \u0449\u0430\u0441\u0442\u043b\u0438\u0432\u0438,   \n",
        "15           36000          \u0438\u043b\u0438 \u043c\u043e\u0436\u0435 \u0431\u0438 \u043d\u044f\u043a\u043e\u0438 \u043b\u0435\u043a\u043e \u0441\u043c\u0443\u0449\u0430\u0432\u0430\u0449\u0438 \u0441\u043f\u043e\u043c\u0435\u043d\u0438.   \n",
        "16           39000                        \u0418 \u0442\u0430\u043a\u0430, \u0444\u0438\u0437\u0438\u043a\u0430 \u0438 \u043c\u0430\u0440\u043a\u0435\u0442\u0438\u043d\u0433:   \n",
        "17           43000  \u0429\u0435 \u0437\u0430\u043f\u043e\u0447\u043d\u0435\u043c \u0441 \u043d\u0435\u0449\u043e \u043c\u043d\u043e\u0433\u043e \u043f\u0440\u043e\u0441\u0442\u043e, \u0437\u0430\u043a\u043e\u043d\u0430 \u043d\u0430 \u041d\u044e\u0442\u043e\u043d:   \n",
        "18           45000  \"\u0421\u0438\u043b\u0430\u0442\u0430 \u0441\u0435 \u0440\u0430\u0432\u043d\u044f\u0432\u0430 \u043d\u0430 \u043c\u0430\u0441\u0430\u0442\u0430 \u0443\u043c\u043d\u043e\u0436\u0435\u043d\u0430 \u043f\u043e \u0443\u0441\u043a\u043e\u0440...   \n",
        "19           48000      \u0422\u043e\u0432\u0430 \u0435 \u043d\u0435\u0449\u043e, \u043a\u043e\u0435\u0442\u043e \u043c\u043e\u0436\u0435 \u0431\u0438 \u0422\u0443\u0440\u0441\u043a\u0438\u0442\u0435 \u0430\u0432\u0438\u043e\u043b\u0438\u043d\u0438\u0438   \n",
        "20           50000            \u0442\u0440\u044f\u0431\u0432\u0430\u043b\u043e \u0434\u0430 \u0438\u0437\u0443\u0447\u0430\u0442 \u043c\u0430\u043b\u043a\u043e \u043f\u043e-\u0432\u043d\u0438\u043c\u0430\u0442\u0435\u043b\u043d\u043e,   \n",
        "21           53000                   \u043f\u0440\u0435\u0434\u0438 \u0434\u0430 \u0437\u0430\u043f\u043e\u0447\u043d\u0430\u0442 \u0442\u0430\u0437\u0438 \u043a\u0430\u043c\u043f\u0430\u043d\u0438\u044f.   \n",
        "22           55000                                             (\u0421\u043c\u044f\u0445)   \n",
        "23           58000              \u041d\u043e \u0430\u043a\u043e \u043f\u0440\u0435\u043d\u0430\u0440\u0435\u0434\u0438\u043c \u0431\u044a\u0440\u0437\u043e \u0442\u0430\u0437\u0438 \u0444\u043e\u0440\u043c\u0443\u043b\u0430,   \n",
        "24           61000  \u0449\u0435 \u0434\u043e\u0441\u0442\u0438\u0433\u043d\u0435\u043c \u0434\u043e, \u0443\u0441\u043a\u043e\u0440\u0435\u043d\u0438\u0435\u0442\u043e \u0441\u0435 \u0440\u0430\u0432\u043d\u044f\u0432\u0430 \u043d\u0430 \u0441\u0438\u043b...   \n",
        "25           64000                                    \u043a\u043e\u0435\u0442\u043e \u043e\u0437\u043d\u0430\u0447\u0430\u0432\u0430,   \n",
        "26           66000           \u0447\u0435 \u0437\u0430 \u043f\u043e-\u0433\u043e\u043b\u0435\u043c\u0438 \u0447\u0430\u0441\u0442\u0438\u0446\u0438, \u043f\u043e-\u0433\u043e\u043b\u044f\u043c\u0430 \u043c\u0430\u0441\u0430,   \n",
        "27           69000  \u0435 \u043d\u0435\u043e\u0431\u0445\u043e\u0434\u0438\u043c\u0430 \u043f\u043e-\u0433\u043e\u043b\u044f\u043c\u0430 \u0441\u0438\u043b\u0430, \u0437\u0430 \u0434\u0430 \u0441\u0435 \u043f\u0440\u043e\u043c\u0435\u043d\u0438 ...   \n",
        "28           73000                              \u0421\u044a\u0449\u043e\u0442\u043e \u0435 \u0438 \u0441 \u043c\u0430\u0440\u043a\u0438\u0442\u0435.   \n",
        "29           75000  \u041a\u043e\u043b\u043a\u043e\u0442\u043e \u043f\u043e-\u043c\u0430\u0441\u0438\u0432\u043d\u0430 \u0435 \u0435\u0434\u043d\u0430 \u043c\u0430\u0440\u043a\u0430, \u0442\u043e\u043b\u043a\u043e\u0432\u0430 \u043f\u043e\u0432\u0435\u0447...   \n",
        "..             ...                                                ...   \n",
        "820         600000  \u041d\u0430\u043f\u044a\u043b\u043d\u043e \u043f\u0440\u043e\u0442\u0438\u0432\u043e\u043f\u043e\u043b\u043e\u0436\u043d\u043e \u043d\u0430 \u0442\u043e\u0432\u0430, \u043a\u043e\u0435\u0442\u043e \u0431\u0438\u0445\u0442\u0435 \u0432\u0438...   \n",
        "821         603000       \u0427\u0443\u0434\u0435\u0445\u043c\u0435 \u0441\u0435, \"\u041d\u0430\u0438\u0441\u0442\u0438\u043d\u0430 \u043b\u0438 \u043b\u0435\u0442\u044f\u0442 \u0432 \u043f\u0440\u0438\u0440\u043e\u0434\u0430\u0442\u0430?\"   \n",
        "822         606000  \u0422\u0430\u043a\u0430 \u0447\u0435, \u043e\u0442\u0438\u0434\u043e\u0445\u043c\u0435 \u0432 \u0433\u043e\u0440\u0438\u0442\u0435 \u043d\u0430 \u0421\u0438\u043d\u0433\u0430\u043f\u0443\u0440 \u0438 \u044e\u0433\u043e\u0438\u0437...   \n",
        "823         608000  \u0421\u043b\u0435\u0434\u0432\u0430\u0449\u043e\u0442\u043e \u0432\u0438\u0434\u0435\u043e, \u043a\u043e\u0435\u0442\u043e \u0449\u0435 \u0432\u0438\u0434\u0438\u0442\u0435, \u0449\u0435 \u0431\u044a\u0434\u0435 \u043f\u043e\u043a...   \n",
        "824         610000  \u0422\u043e\u0432\u0430 \u0435 \u0441\u044a\u0449\u0438\u043d\u0441\u043a\u043e\u0442\u043e \u0432\u0438\u0434\u0435\u043e, \u0431\u0435\u0437 \u043d\u0430\u0433\u043b\u0430\u0441\u044f\u043d\u0435, \u0438\u0441\u0442\u0438\u043d\u0441...   \n",
        "825         613000  \u043d\u0430 \u0436\u0438\u0432\u043e\u0442\u043d\u043e, \u043a\u043e\u0435\u0442\u043e \u0441\u0435 \u043f\u043b\u044a\u0437\u0433\u0430 \u0432\u044a\u0432 \u0432\u044a\u0437\u0434\u0443\u0445\u0430 \u043d\u0430\u0434\u043e\u043b\u0443...   \n",
        "826         616000         \u041f\u043e\u0433\u043b\u0435\u0434\u043d\u0435\u0442\u0435 \u0432 \u043a\u0440\u0430\u044f, \u0437\u0430 \u0434\u0430 \u0432\u0438\u0434\u0438\u0442\u0435 \u0436\u0438\u0432\u043e\u0442\u043d\u043e\u0442\u043e.   \n",
        "827         618000  \u041d\u043e \u0442\u043e\u0433\u0430\u0432\u0430, \u043a\u043e\u0433\u0430\u0442\u043e \u0441\u0435 \u043f\u0440\u0438\u0431\u043b\u0438\u0436\u0430\u0432\u0430 \u043f\u043e-\u0431\u043b\u0438\u0437\u043a\u043e \u0434\u043e \u0434...   \n",
        "828         620000  \u043f\u043e\u0433\u043b\u0435\u0434\u043d\u0435\u0442\u0435 \u043f\u0440\u0438\u0431\u043b\u0438\u0436\u0435\u043d\u0438\u0435\u0442\u043e. \u0418 \u0432\u0438\u0436\u0442\u0435 \u0434\u0430\u043b\u0438 \u043c\u043e\u0436\u0435 \u0434\u0430...   \n",
        "829         624000  \u0415\u0442\u043e \u0433\u043e, \u043a\u0430\u043a \u043f\u0430\u0434\u0430. \u0418\u043c\u0430 \u0433\u0435\u043a\u043e\u043d \u043d\u0430 \u043a\u0440\u0430\u044f \u043d\u0430 \u0442\u0430\u0437\u0438 \u043b\u0438...   \n",
        "830         627000      \u0412\u0438\u0436\u0434\u0430\u0442\u0435 \u043b\u0438 \u0433\u043e \u0442\u0430\u043c? \u0422\u0430\u043c? \u0413\u043b\u0435\u0434\u0430\u0439\u0442\u0435 \u0433\u043e \u043a\u0430\u043a \u043f\u0430\u0434\u0430.   \n",
        "831         629000  \u0413\u043b\u0435\u0434\u0430\u0439\u0442\u0435 \u0435\u0442\u043e \u0442\u0430\u043c \u0433\u043e\u0440\u0435 \u0438 \u043c\u043e\u0436\u0435\u0442\u0435 \u0434\u0430 \u0432\u0438\u0434\u0438\u0442\u0435 \u043a\u0430\u0446\u0430\u043d...   \n",
        "832         632000                   \u0412\u0441\u044a\u0449\u043d\u043e\u0441\u0442 \u0438\u0437\u043f\u043e\u043b\u0437\u0432\u0430 \u0438 \u043e\u043f\u0430\u0448\u043a\u0430\u0442\u0430 \u0441\u0438.   \n",
        "833         634000                     \u041a\u0430\u043a\u0442\u043e \u0432\u0438\u0434\u044f\u0445\u043c\u0435 \u0432 \u043b\u0430\u0431\u043e\u0440\u0430\u0442\u043e\u0440\u0438\u044f\u0442\u0430.   \n",
        "834         637000            \u0421\u0435\u0433\u0430 \u043c\u043e\u0436\u0435\u043c \u0434\u0430 \u043f\u0440\u043e\u0434\u044a\u043b\u0436\u0438\u043c \u0442\u043e\u0437\u0438 \u043c\u0443\u0442\u0443\u0430\u043b\u0438\u0437\u044a\u043c   \n",
        "835         641000  \u0441\u044a\u0432\u0435\u0442\u0432\u0430\u0439\u043a\u0438 \u0438\u043d\u0436\u0438\u043d\u0435\u0440\u0438\u0442\u0435 \u0434\u0430 \u043d\u0430\u043f\u0440\u0430\u0432\u044f\u0442 \u0430\u043a\u0442\u0438\u0432\u043d\u0430 \u043e\u043f\u0430\u0448\u043a\u0430.   \n",
        "836         644000          \u0418 \u0435\u0442\u043e \u044f \u043f\u044a\u0440\u0432\u0430\u0442\u0430 \u0430\u043a\u0442\u0438\u0432\u043d\u0430 \u043e\u043f\u0430\u0448\u043a\u0430, \u0432 \u0440\u043e\u0431\u043e\u0442\u0430,   \n",
        "837         649000                      \u043d\u0430\u043f\u0440\u0430\u0432\u0435\u043d\u0430 \u043e\u0442 \u0411\u043e\u0441\u0442\u044a\u043d \u0414\u0438\u043d\u0430\u043c\u0438\u043a\u0441.   \n",
        "838         652000  \u0417\u0430 \u0434\u0430 \u0437\u0430\u0432\u044a\u0440\u0448\u0430, \u043c\u0438\u0441\u043b\u044f, \u0447\u0435 \u0442\u0440\u044f\u0431\u0432\u0430 \u0434\u0430 \u0441\u0442\u0440\u043e\u0438\u043c \u0431\u0438\u043e\u043c...   \n",
        "839         656000  \u043a\u043e\u0438\u0442\u043e \u0449\u0435 \u0443\u0432\u0435\u043b\u0438\u0447\u0430\u0442 \u0444\u0443\u043d\u0434\u0430\u043c\u0435\u043d\u0442\u0430\u043b\u043d\u0438\u0442\u0435 \u043e\u0442\u043a\u0440\u0438\u0442\u0438\u044f \u0438 \u0442...   \n",
        "840         659000  \u0417\u0430 \u0434\u0430 \u043f\u043e\u0441\u0442\u0438\u0433\u043d\u0435\u043c \u0442\u043e\u0432\u0430, \u0442\u0440\u044f\u0431\u0432\u0430 \u0434\u0430 \u043f\u0440\u0435\u0440\u0430\u0437\u0433\u043b\u0435\u0434\u0430\u043c\u0435 ...   \n",
        "841         662000  \u0434\u0430 \u0431\u0430\u043b\u0430\u043d\u0441\u0438\u0440\u0430\u043c\u0435 \u0432 \u0434\u044a\u043b\u0431\u043e\u0447\u0438\u043d\u0430, \u043a\u043e\u043c\u0443\u043d\u0438\u043a\u0430\u0446\u0438\u044f\u0442\u0430 \u043c\u0435\u0436\u0434...   \n",
        "842         665000  \u0418 \u0441\u043f\u0435\u0446\u0438\u0430\u043b\u043d\u043e \u0434\u0430 \u0442\u0440\u0435\u043d\u0438\u0440\u0430\u043c\u0435 \u0445\u043e\u0440\u0430\u0442\u0430 \u043a\u0430\u043a \u0434\u0430 \u0434\u043e\u043f\u044a\u043b\u0432\u0430...   \n",
        "843         670000  \u0420\u0430\u0437\u0431\u0438\u0440\u0430 \u0441\u0435 \u0438\u043c\u0430\u043c\u0435 \u043d\u0443\u0436\u0434\u0430 \u043e\u0442 \u043e\u0440\u0433\u0430\u043d\u0438\u0437\u043c\u0438\u0442\u0435 \u0438 \u0441\u0440\u0435\u0434\u0430\u0442...   \n",
        "844         674000  \u0422\u043e\u0432\u0430 \u0435, \u0431\u0435\u0437 \u0437\u043d\u0430\u0447\u0435\u043d\u0438\u0435 \u0434\u0430\u043b\u0438 \u0441\u0435 \u0438\u043d\u0442\u0435\u0440\u0435\u0441\u0443\u0432\u0430\u0442\u0435 \u043e\u0442 \u0441...   \n",
        "845         677000  \u0442\u0440\u044f\u0431\u0432\u0430 \u0434\u0430 \u043e\u043f\u0430\u0437\u0432\u0430\u043c\u0435 \u043c\u043e\u0434\u0435\u043b\u0438\u0442\u0435 \u0434\u0430\u0434\u0435\u043d\u0438 \u043d\u0438 \u043e\u0442 \u043f\u0440\u0438\u0440\u043e...   \n",
        "846         679000       \u0438\u043d\u0430\u0447\u0435 \u0442\u0435\u0437\u0438 \u0442\u0430\u0439\u043d\u0438 \u0449\u0435 \u0431\u044a\u0434\u0430\u0442 \u0437\u0430\u0433\u0443\u0431\u0435\u043d\u0438 \u0437\u0430\u0432\u0438\u043d\u0430\u0433\u0438.   \n",
        "847         682000       \u0410 \u043e\u0442 \u0442\u043e\u0432\u0430, \u043a\u043e\u0435\u0442\u043e \u0447\u0443\u0445 \u043e\u0442 \u043d\u043e\u0432\u0438\u044f\u0442 \u043d\u0438 \u043f\u0440\u0435\u0437\u0438\u0434\u0435\u043d\u0442,   \n",
        "848         686000     \u0441\u044a\u043c \u043c\u043d\u043e\u0433\u043e \u043e\u043f\u0442\u0438\u043c\u0438\u0441\u0442\u0438\u0447\u043d\u043e \u043d\u0430\u0441\u0442\u0440\u043e\u0435\u043d. \u0411\u043b\u0430\u0433\u043e\u0434\u0430\u0440\u044f \u0432\u0438.   \n",
        "849         688000                                     (\u0410\u043f\u043b\u043e\u0434\u0438\u0441\u043c\u0435\u043d\u0442\u0438)   \n",
        "\n",
        "     bg_time_frame                                                 cs  \\\n",
        "0             1000                Pracuju v marketingu, kter\u00fd miluju,   \n",
        "1             3000                   ale mou prvn\u00ed v\u00e1\u0161n\u00ed byla fyzika.   \n",
        "2             6000  Tuto v\u00e1\u0161e\u0148 jsem z\u00edskal d\u00edky \u00fa\u017easn\u00e9mu u\u010diteli v...   \n",
        "3             9000         kdy jsem byl je\u0161t\u011b trochu m\u00ed\u0148 pro\u0161ediv\u011bl\u00fd.   \n",
        "4            12000                                         Nau\u010dil m\u011b,   \n",
        "5            14000                                 \u017ee fyzika je fajn,   \n",
        "6            16000           proto\u017ee n\u00e1s u\u010d\u00ed mnoh\u00e9 o sv\u011bt\u011b kolem n\u00e1s.   \n",
        "7            18000  V n\u00e1sleduj\u00edc\u00edch n\u011bkolika minut\u00e1ch v\u00e1s zkus\u00edm p...   \n",
        "8            21000  \u017ee n\u00e1s fyzika m\u016f\u017ee n\u011bco m\u00e1lo nau\u010dit o marketingu.   \n",
        "9            24000                             Rychle zvedn\u011bte ruce \u2013   \n",
        "10           26000            kdo jste na vysok\u00e9 studovali marketing?   \n",
        "11           28000                      Kdo na v\u00fd\u0161ce studoval fyziku?   \n",
        "12           30000                      Jo, docela dobr\u00e9. A ve \u0161kole?   \n",
        "13           32000                               Dob\u0159e, docela hodn\u011b.   \n",
        "14           34000           Snad se v\u00e1m tedy vybav\u00ed n\u011bjak\u00e9 \u0161\u0165astn\u00e9 \u2013   \n",
        "15           36000           nebo mo\u017en\u00e1 trochu rozru\u0161en\u00e9 \u2013 vzpom\u00ednky.   \n",
        "16           39000                         Tak\u017ee\u2026 Fyzika a marketing:   \n",
        "17           43000  Za\u010dneme n\u011b\u010d\u00edm velmi jednoduch\u00fdm, Newtonov\u00fdm z\u00e1...   \n",
        "18           45000     \u201eS\u00edla se rovn\u00e1 sou\u010dinu hmotnosti a zrychlen\u00ed.\u201c   \n",
        "19           48000                  Tohle mo\u017en\u00e1 m\u011bly Turkish Airlines   \n",
        "20           50000                         studovat trochu pe\u010dliv\u011bji,   \n",
        "21           53000                          ne\u017e spustily tuto kampa\u0148.   \n",
        "22           55000                                            (Sm\u00edch)   \n",
        "23           58000              Kdy\u017e ale tento vztah trochu uprav\u00edme,   \n",
        "24           61000  dostaneme se ke zrychlen\u00ed rovnaj\u00edc\u00edmu se s\u00edle ...   \n",
        "25           64000                                       co\u017e znamen\u00e1,   \n",
        "26           66000           \u017ee \u010d\u00edm v\u011bt\u0161\u00ed jmenovatel, v\u011bt\u0161\u00ed hmotnost,   \n",
        "27           69000          t\u00edm v\u011bt\u0161\u00ed s\u00edla je pot\u0159eba ke zm\u011bn\u011b sm\u011bru.   \n",
        "28           73000                          To sam\u00e9 plat\u00ed pro zna\u010dky.   \n",
        "29           75000      \u010c\u00edm masivn\u011bj\u0161\u00ed zna\u010dka, \u010d\u00edm v\u00edc toho zahrnuje,   \n",
        "..             ...                                                ...   \n",
        "820         600000                                                NaN   \n",
        "821         603000                                                NaN   \n",
        "822         606000                                                NaN   \n",
        "823         608000                                                NaN   \n",
        "824         610000                                                NaN   \n",
        "825         613000                                                NaN   \n",
        "826         616000                                                NaN   \n",
        "827         618000                                                NaN   \n",
        "828         620000                                                NaN   \n",
        "829         624000                                                NaN   \n",
        "830         627000                                                NaN   \n",
        "831         629000                                                NaN   \n",
        "832         632000                                                NaN   \n",
        "833         634000                                                NaN   \n",
        "834         637000                                                NaN   \n",
        "835         641000                                                NaN   \n",
        "836         644000                                                NaN   \n",
        "837         649000                                                NaN   \n",
        "838         652000                                                NaN   \n",
        "839         656000                                                NaN   \n",
        "840         659000                                                NaN   \n",
        "841         662000                                                NaN   \n",
        "842         665000                                                NaN   \n",
        "843         670000                                                NaN   \n",
        "844         674000                                                NaN   \n",
        "845         677000                                                NaN   \n",
        "846         679000                                                NaN   \n",
        "847         682000                                                NaN   \n",
        "848         686000                                                NaN   \n",
        "849         688000                                                NaN   \n",
        "\n",
        "     cs_time_frame                                                 da  \\\n",
        "0             1000                                                NaN   \n",
        "1             3000                                                NaN   \n",
        "2             6000                                                NaN   \n",
        "3             9000                                                NaN   \n",
        "4            12000                                                NaN   \n",
        "5            14000                                                NaN   \n",
        "6            16000                                                NaN   \n",
        "7            18000                                                NaN   \n",
        "8            21000                                                NaN   \n",
        "9            24000                                                NaN   \n",
        "10           26000                                                NaN   \n",
        "11           28000                                                NaN   \n",
        "12           30000                                                NaN   \n",
        "13           32000                                                NaN   \n",
        "14           34000                                                NaN   \n",
        "15           36000                                                NaN   \n",
        "16           39000                                                NaN   \n",
        "17           43000                                                NaN   \n",
        "18           45000                                                NaN   \n",
        "19           48000                                                NaN   \n",
        "20           50000                                                NaN   \n",
        "21           53000                                                NaN   \n",
        "22           55000                                                NaN   \n",
        "23           58000                                                NaN   \n",
        "24           61000                                                NaN   \n",
        "25           64000                                                NaN   \n",
        "26           66000                                                NaN   \n",
        "27           69000                                                NaN   \n",
        "28           73000                                                NaN   \n",
        "29           75000                                                NaN   \n",
        "..             ...                                                ...   \n",
        "820            NaN  Fuldst\u00e6ndigt modsat af den m\u00e5de man ser det i ...   \n",
        "821            NaN    Vi undrede os, \"Sv\u00e6ver de egentligt i naturen?\"   \n",
        "822            NaN  N\u00e5, men vi tog ud i skovene i Singapore og Syd...   \n",
        "823            NaN  Og i den n\u00e6ste video ser i den f\u00f8rste gang vi ...   \n",
        "824            NaN  Dette er den \u00e6gte optagelse, ikke opsat, en ri...   \n",
        "825            NaN  af et dyr, der sv\u00e6ver ned -- der er en r\u00f8d spo...   \n",
        "826            NaN                      Kig til slut for at se dyret.   \n",
        "827            NaN                          N\u00e5r den n\u00e6rmer sig tr\u00e6et,   \n",
        "828            NaN       se n\u00e6rbilledet. Og se om I kan se den lande?   \n",
        "829            NaN  S\u00e5 der kom det ned. Der er en gekko for enden ...   \n",
        "830            NaN           Kan I se den der? Der? Se den falde ned.   \n",
        "831            NaN  Nu kig oppe der hvor I kan se landingen. S\u00e5 I ...   \n",
        "832            NaN                 Den bruger faktisk ogs\u00e5 dens hale.   \n",
        "833            NaN                  Ligesom vi s\u00e5 det i laboratoriet.   \n",
        "834            NaN           S\u00e5 nu kan vi forts\u00e6tte denne gensidighed   \n",
        "835            NaN      ved at foresl\u00e5 at den kan lave en aktiv hale.   \n",
        "836            NaN       Og her er den f\u00f8rste aktive hale p\u00e5 en robot   \n",
        "837            NaN                          lavet af Boston Dynamics.   \n",
        "838            NaN  S\u00e5 for at konkludere. Jeg tror vi er n\u00f8dt til ...   \n",
        "839            NaN  s\u00e5 det vil \u00f8ge hastigheden for basale opdagels...   \n",
        "840            NaN  For at g\u00f8re der er det n\u00f8dvendigt at re-design...   \n",
        "841            NaN  for at balancere indhold med tv\u00e6rfaglig kommun...   \n",
        "842            NaN  Og m\u00e5lrettet uddanne folk i at bidrage til og ...   \n",
        "843            NaN  Og selvf\u00f8lgelig har vi brug for organismerne o...   \n",
        "844            NaN  Det vil sige, uanset om I bekymrer jer om sikk...   \n",
        "845            NaN                 s\u00e5 m\u00e5 vi beskytte naturens design,   \n",
        "846            NaN  ellers vil disse hemmeligheder v\u00e6re tabt for e...   \n",
        "847            NaN       Og det jeg har h\u00f8rt fra vores nye pr\u00e6sident,   \n",
        "848            NaN         er jeg meget optimistisk. Tak skal I have.   \n",
        "849            NaN                                       (Klapsalver)   \n",
        "\n",
        "     da_time_frame                                                 de  \\\n",
        "0              NaN      Ich arbeite also im Marketing, was ich liebe,   \n",
        "1              NaN          aber meine erste Leidenschaft war Physik,   \n",
        "2              NaN  eine Leidenschaft die entfacht wurde durch ein...   \n",
        "3              NaN      als ich noch etwas weniger graues Haar hatte.   \n",
        "4              NaN                                Er brachte mir bei,   \n",
        "5              NaN                              dass Physik cool ist,   \n",
        "6              NaN  weil es uns soviel \u00fcber die Welt um uns herum ...   \n",
        "7              NaN  Und ich werde in den n\u00e4chsten Minuten versuche...   \n",
        "8              NaN  dass Physik uns etwas \u00fcber Marketing lehren kann.   \n",
        "9              NaN                 So bitte ein kurzes Handzeichen --   \n",
        "10             NaN       Wer studierte Marketing an einer Universi\u00e4t?   \n",
        "11             NaN         Wer studierte Physik an einer Universit\u00e4t?   \n",
        "12             NaN              Ooh, ziemlich gut. Und in der Schule?   \n",
        "13             NaN                  Okay, eine ganze Reihe von Ihnen.   \n",
        "14             NaN      So, hoffentlich wird dies ein paar gl\u00fcckliche   \n",
        "15             NaN  oder vielleicht einige unangenehme Erinnerunge...   \n",
        "16             NaN                        Also, Physik und Marketing:   \n",
        "17             NaN  Wir werden mit etwas sehr einfachem starten: N...   \n",
        "18             NaN  \"Kraft ist das Produkt aus Masse und Beschleun...   \n",
        "19             NaN     Das ist etwas, was Turkish Airlines vielleicht   \n",
        "20             NaN          etwas sorgf\u00e4ltiger h\u00e4tte studieren sollen   \n",
        "21             NaN                bevor sie diese Kampagne starteten.   \n",
        "22             NaN                                           (Lachen)   \n",
        "23             NaN    Aber wenn wir diese Formel schnell umschreiben,   \n",
        "24             NaN  dann bekommen wir heraus, da\u00df Beschleunigung g...   \n",
        "25             NaN                                         was hei\u00dft,   \n",
        "26             NaN  dass man f\u00fcr ein gr\u00f6\u00dferes Teilchen, eine gr\u00f6\u00dfe...   \n",
        "27             NaN      mehr Kraft braucht um die Richtung zu \u00e4ndern.   \n",
        "28             NaN                 Das ist das Gleiche wie bei Marken   \n",
        "29             NaN  Je gr\u00f6\u00dfer der Markenname, je mehr Gewicht er hat,   \n",
        "..             ...                                                ...   \n",
        "820         600000  Nat\u00fcrlich vollkommen anders, als sie das in ei...   \n",
        "821         603000  Wir haben uns gefragt: \"Gleiten sie wirklich i...   \n",
        "822         606000  Wir gingen also in die W\u00e4lder Singapurs und S\u00fc...   \n",
        "823         608000  Das n\u00e4chste Video, das Sie sehen werden, haben...   \n",
        "824         610000  Das ist die Originalaufnahme, es ist nichts ge...   \n",
        "825         613000  von nach unten gleitenden Tieren. In rot ist e...   \n",
        "826         616000                        Am Ende sehen Sie das Tier.   \n",
        "827         618000       Aber wenn es dichter an den Baum herankommt,   \n",
        "828         620000  achten Sie auf die Nahaufnahme und versuchen S...   \n",
        "829         624000  Da kommt es also runter. Da haben wir den Geck...   \n",
        "830         627000      K\u00f6nnen Sie ihn sehen? Da? Da kommt er runter.   \n",
        "831         629000  Wenn Sie jetzt hier oben hinschauen, k\u00f6nnen Si...   \n",
        "832         632000         Er verwendet tats\u00e4chlich auch den Schwanz.   \n",
        "833         634000           Genau wie wir es im Labor gesehen haben.   \n",
        "834         637000  Jetzt k\u00f6nnen wir also unsere Symbiose fortsetzen,   \n",
        "835         641000  indem wir ihnen vorschlagen, einen aktiven Sch...   \n",
        "836         644000  Und hier haben wir den ersten aktiven Schwanz ...   \n",
        "837         649000                   hergestellt von Boston Dynamics.   \n",
        "838         652000  Abschlie\u00dfend m\u00f6chte ich sagen, dass wir meiner...   \n",
        "839         656000  die durch ihre Umsetzung die Geschwindigkeit e...   \n",
        "840         659000  Um dies tun zu k\u00f6nnen, muss allerdings das Bil...   \n",
        "841         662000  um eine Balance zwischen Tiefe und interdiszip...   \n",
        "842         665000  Au\u00dferdem m\u00fcssen wir den Menschen explizit beib...   \n",
        "843         670000  Und nat\u00fcrlich brauchen wir auch die Organismen...   \n",
        "844         674000  Deshalb m\u00fcssen wir, egal ob Ihnen Sicherheit, ...   \n",
        "845         677000                   die Entw\u00fcrfe der Natur erhalten,   \n",
        "846         679000  sonst gehen diese Geheimnisse f\u00fcr immer verloren.   \n",
        "847         682000  Und nach allem, was ich von unserem neuen Pr\u00e4s...   \n",
        "848         686000          bin ich sehr zuversichtlich. Vielen Dank.   \n",
        "849         688000                                          (Applaus)   \n",
        "\n",
        "          ...                                                        uk  \\\n",
        "0         ...         \u041e\u0442\u043e\u0436 \u044f \u0437\u0430\u0439\u043c\u0430\u044e\u0441\u044c \u043c\u0430\u0440\u043a\u0435\u0442\u0438\u043d\u0433\u043e\u043c, \u0456 \u043b\u044e\u0431\u043b\u044e \u0441\u0432\u043e\u044e \u0440\u043e\u0431\u043e\u0442\u0443,   \n",
        "1         ...                   \u0430\u043b\u0435 \u043c\u043e\u0454\u044e \u043f\u0435\u0440\u0448\u043e\u044e \u043f\u0440\u0438\u0441\u0442\u0440\u0430\u0441\u0442\u044e \u0431\u0443\u043b\u0430 \u0444\u0456\u0437\u0438\u043a\u0430,   \n",
        "2         ...          \u044f\u043a\u043e\u044e \u0437\u0430\u0445\u043e\u043f\u0438\u0432 \u043c\u0435\u043d\u0435 \u043f\u0440\u0435\u043a\u0440\u0430\u0441\u043d\u0438\u0439 \u0448\u043a\u0456\u043b\u044c\u043d\u0438\u0439 \u0432\u0447\u0438\u0442\u0435\u043b\u044c --   \n",
        "3         ...               \u0449\u0435 \u0442\u043e\u0434\u0456, \u043a\u043e\u043b\u0438 \u044f \u043c\u0430\u0432 \u043f\u043e\u043c\u0435\u043d\u0448\u0435 \u0441\u0438\u0432\u043e\u0433\u043e \u0432\u043e\u043b\u043e\u0441\u0441\u044f.   \n",
        "4         ...                                      \u0406 \u0432\u0456\u043d \u0440\u043e\u0437\u043f\u043e\u0432\u0456\u0432 \u043c\u0435\u043d\u0456,   \n",
        "5         ...                                    \u0449\u043e \u0444\u0456\u0437\u0438\u043a\u0430 -- \u0446\u0435 \u043a\u0440\u0443\u0442\u043e,   \n",
        "6         ...         \u0442\u043e\u043c\u0443 \u0449\u043e \u0432\u043e\u043d\u0430 \u043c\u043e\u0436\u0435 \u043f\u043e\u044f\u0441\u043d\u0438\u0442\u0438 \u043d\u0430\u043c, \u044f\u043a \u0432\u043b\u0430\u0448\u0442\u043e\u0432\u0430\u043d\u0438\u0439...   \n",
        "7         ...         \u0406 \u043d\u0430\u0441\u0442\u0443\u043f\u043d\u0456 \u0434\u0435\u043a\u0456\u043b\u044c\u043a\u0430 \u0445\u0432\u0438\u043b\u0438\u043d \u044f \u0432\u0438\u0442\u0440\u0430\u0447\u0443 \u043d\u0430 \u0441\u043f\u0440\u043e\u0431\u0438...   \n",
        "8         ...         \u0449\u043e \u0444\u0456\u0437\u0438\u043a\u0430 \u043c\u043e\u0436\u0435 \u043d\u0430\u0432\u0447\u0438\u0442\u0438 \u043d\u0430\u0441 \u0447\u043e\u043c\u0443\u0441\u044c \u0432 \u043e\u0431\u043b\u0430\u0441\u0442\u0456 \u043c\u0430...   \n",
        "9         ...                                           \u041f\u0456\u0434\u043d\u0456\u043c\u0456\u043c\u043e \u0440\u0443\u043a\u0438:   \n",
        "10        ...              \u0445\u0442\u043e \u0432\u0438\u0432\u0447\u0430\u0432 \u0442\u0440\u043e\u0448\u043a\u0438 \u043c\u0430\u0440\u043a\u0435\u0442\u0438\u043d\u0433\u0443 \u0432 \u0443\u043d\u0456\u0432\u0435\u0440\u0441\u0438\u0442\u0435\u0442\u0456?   \n",
        "11        ...                                 \u0410 \u0445\u0442\u043e \u0432\u0447\u0438\u0432 \u0442\u0440\u043e\u0448\u043a\u0438 \u0444\u0456\u0437\u0438\u043a\u0438?   \n",
        "12        ...                               \u041e! \u0414\u0443\u0436\u0435 \u0434\u043e\u0431\u0440\u0435... \u0410 \u0432 \u0448\u043a\u043e\u043b\u0456?   \n",
        "13        ...                                        \u0417\u0440\u043e\u0437\u0443\u043c\u0456\u043b\u043e, \u0431\u0430\u0433\u0430\u0442\u043e.   \n",
        "14        ...         \u041d\u0443 \u0449\u043e \u0436 \u0431\u0443\u0434\u0435\u043c\u043e \u043d\u0430\u0434\u0456\u044f\u0442\u0438\u0441\u044c, \u0449\u043e \u0437\u0430\u0440\u0430\u0437 \u0437\u0433\u0430\u0434\u0430\u044e\u0442\u044c\u0441\u044f ...   \n",
        "15        ...                      \u0447\u0438, \u043c\u043e\u0436\u043b\u0438\u0432\u043e, \u0442\u0440\u043e\u0445\u0438 \u0445\u0432\u0438\u043b\u044e\u044e\u0447\u0456 \u043c\u043e\u043c\u0435\u043d\u0442\u0438.   \n",
        "16        ...                                \u041e\u0442\u043e\u0436, \u0444\u0456\u0437\u0438\u043a\u0430 \u0442\u0430 \u043c\u0430\u0440\u043a\u0435\u0442\u0438\u043d\u0433:   \n",
        "17        ...                   \u043c\u0438 \u043f\u043e\u0447\u043d\u0435\u043c\u043e \u0437 \u043f\u0440\u043e\u0441\u0442\u043e\u0433\u043e -- \u0437\u0430\u043a\u043e\u043d \u041d\u044c\u044e\u0442\u043e\u043d\u0430:   \n",
        "18        ...                 \"\u0421\u0438\u043b\u0430 \u0440\u0456\u0432\u043d\u0430 \u0434\u043e\u0431\u0443\u0442\u043a\u0443 \u043c\u0430\u0441\u0438 \u043d\u0430 \u043f\u0440\u0438\u0441\u043a\u043e\u0440\u0435\u043d\u043d\u044f\".   \n",
        "19        ...                                      \u0422\u0443\u0440\u0435\u0446\u044c\u043a\u0438\u043c \u0430\u0432\u0456\u0430\u043b\u0456\u043d\u0456\u044f\u043c   \n",
        "20        ...                                \u0441\u043b\u0456\u0434 \u0431\u0438 \u043f\u0456\u0434\u0443\u0447\u0438\u0442\u0438 \u0446\u0435\u0439 \u0437\u0430\u043a\u043e\u043d   \n",
        "21        ...                          \u043f\u0435\u0440\u0435\u0434 \u0441\u0432\u043e\u0454\u044e \u0440\u0435\u043a\u043b\u0430\u043c\u043d\u043e\u044e \u043a\u0430\u043c\u043f\u0430\u043d\u0456\u0454\u044e.   \n",
        "22        ...                                                    (\u0421\u043c\u0456\u0445)   \n",
        "23        ...         \u0410\u043b\u0435 \u044f\u043a\u0449\u043e \u043c\u0438 \u0448\u0432\u0438\u0434\u0435\u043d\u044c\u043a\u043e \u043f\u0435\u0440\u0435\u043d\u0435\u0441\u0435\u043c\u043e \u0447\u0430\u0441\u0442\u0438\u043d\u0438 \u0440\u0456\u0432\u043d\u044f...   \n",
        "24        ...         \u0442\u043e \u043e\u0442\u0440\u0438\u043c\u0430\u0454\u043c\u043e, \u0449\u043e \u043f\u0440\u0438\u0448\u0432\u0438\u0434\u0448\u0435\u043d\u043d\u044f \u0440\u0456\u0432\u043d\u0435 \u0441\u0438\u043b\u0456, \u043f\u043e\u0434\u0456...   \n",
        "25        ...                                             \u0430 \u0446\u0435 \u043e\u0437\u043d\u0430\u0447\u0430\u0454:   \n",
        "26        ...                 \u0449\u043e \u0431\u0456\u043b\u044c\u0448\u0430 \u0447\u0430\u0441\u0442\u0438\u043d\u0430 -- \u0449\u043e \u0431\u0456\u043b\u044c\u0448\u0430 \u0457\u0457 \u043c\u0430\u0441\u0430 --   \n",
        "27        ...         \u0442\u043e \u0431\u0456\u043b\u044c\u0448\u0435 \u0441\u0438\u043b\u0438 \u043f\u043e\u0442\u0440\u0456\u0431\u043d\u043e, \u0430\u0431\u0438 \u0437\u043c\u0456\u043d\u0438\u0442\u0438 \u043d\u0430\u043f\u0440\u044f\u043c\u043e\u043a ...   \n",
        "28        ...                       \u0417 \u0431\u0440\u0435\u043d\u0434\u0430\u043c\u0438 \u0432\u0441\u0435 \u0432\u043b\u0430\u0448\u0442\u043e\u0432\u0430\u043d\u043e \u0442\u0430\u043a \u0441\u0430\u043c\u0435:   \n",
        "29        ...            \u0429\u043e \u0432\u0430\u0433\u043e\u043c\u0456\u0448\u0438\u0439 \u0431\u0440\u0435\u043d\u0434, \u0449\u043e \u0431\u0456\u043b\u044c\u0448\u0435 \u0431\u0430\u0433\u0430\u0436\u0443 \u0432\u0456\u043d \u043d\u0435\u0441\u0435,   \n",
        "..        ...                                                       ...   \n",
        "820       ...                                                       NaN   \n",
        "821       ...                                                       NaN   \n",
        "822       ...                                                       NaN   \n",
        "823       ...                                                       NaN   \n",
        "824       ...                                                       NaN   \n",
        "825       ...                                                       NaN   \n",
        "826       ...                                                       NaN   \n",
        "827       ...                                                       NaN   \n",
        "828       ...                                                       NaN   \n",
        "829       ...                                                       NaN   \n",
        "830       ...                                                       NaN   \n",
        "831       ...                                                       NaN   \n",
        "832       ...                                                       NaN   \n",
        "833       ...                                                       NaN   \n",
        "834       ...                                                       NaN   \n",
        "835       ...                                                       NaN   \n",
        "836       ...                                                       NaN   \n",
        "837       ...                                                       NaN   \n",
        "838       ...                                                       NaN   \n",
        "839       ...                                                       NaN   \n",
        "840       ...                                                       NaN   \n",
        "841       ...                                                       NaN   \n",
        "842       ...                                                       NaN   \n",
        "843       ...                                                       NaN   \n",
        "844       ...                                                       NaN   \n",
        "845       ...                                                       NaN   \n",
        "846       ...                                                       NaN   \n",
        "847       ...                                                       NaN   \n",
        "848       ...                                                       NaN   \n",
        "849       ...                                                       NaN   \n",
        "\n",
        "    uk_time_frame   ur ur_time_frame  \\\n",
        "0            1000  NaN           NaN   \n",
        "1            3000  NaN           NaN   \n",
        "2            6000  NaN           NaN   \n",
        "3            9000  NaN           NaN   \n",
        "4           12000  NaN           NaN   \n",
        "5           14000  NaN           NaN   \n",
        "6           16000  NaN           NaN   \n",
        "7           18000  NaN           NaN   \n",
        "8           21000  NaN           NaN   \n",
        "9           24000  NaN           NaN   \n",
        "10          26000  NaN           NaN   \n",
        "11          28000  NaN           NaN   \n",
        "12          30000  NaN           NaN   \n",
        "13          32000  NaN           NaN   \n",
        "14          34000  NaN           NaN   \n",
        "15          36000  NaN           NaN   \n",
        "16          39000  NaN           NaN   \n",
        "17          43000  NaN           NaN   \n",
        "18          45000  NaN           NaN   \n",
        "19          48000  NaN           NaN   \n",
        "20          50000  NaN           NaN   \n",
        "21          53000  NaN           NaN   \n",
        "22          55000  NaN           NaN   \n",
        "23          58000  NaN           NaN   \n",
        "24          61000  NaN           NaN   \n",
        "25          64000  NaN           NaN   \n",
        "26          66000  NaN           NaN   \n",
        "27          69000  NaN           NaN   \n",
        "28          73000  NaN           NaN   \n",
        "29          75000  NaN           NaN   \n",
        "..            ...  ...           ...   \n",
        "820           NaN  NaN           NaN   \n",
        "821           NaN  NaN           NaN   \n",
        "822           NaN  NaN           NaN   \n",
        "823           NaN  NaN           NaN   \n",
        "824           NaN  NaN           NaN   \n",
        "825           NaN  NaN           NaN   \n",
        "826           NaN  NaN           NaN   \n",
        "827           NaN  NaN           NaN   \n",
        "828           NaN  NaN           NaN   \n",
        "829           NaN  NaN           NaN   \n",
        "830           NaN  NaN           NaN   \n",
        "831           NaN  NaN           NaN   \n",
        "832           NaN  NaN           NaN   \n",
        "833           NaN  NaN           NaN   \n",
        "834           NaN  NaN           NaN   \n",
        "835           NaN  NaN           NaN   \n",
        "836           NaN  NaN           NaN   \n",
        "837           NaN  NaN           NaN   \n",
        "838           NaN  NaN           NaN   \n",
        "839           NaN  NaN           NaN   \n",
        "840           NaN  NaN           NaN   \n",
        "841           NaN  NaN           NaN   \n",
        "842           NaN  NaN           NaN   \n",
        "843           NaN  NaN           NaN   \n",
        "844           NaN  NaN           NaN   \n",
        "845           NaN  NaN           NaN   \n",
        "846           NaN  NaN           NaN   \n",
        "847           NaN  NaN           NaN   \n",
        "848           NaN  NaN           NaN   \n",
        "849           NaN  NaN           NaN   \n",
        "\n",
        "                                                    vi vi_time_frame  \\\n",
        "0    T\u00f4i l\u00e0m vi\u1ec7c trong ng\u00e0nh marketing, ng\u00e0nh m\u00e0 t...          1000   \n",
        "1        nh\u01b0ng ni\u1ec1m \u0111am m\u00ea \u0111\u1ea7u ti\u00ean c\u1ee7a t\u00f4i l\u00e0 v\u1eadt l\u00fd,          3000   \n",
        "2    m\u1ed9t ni\u1ec1m \u0111am m\u00ea \u0111\u01b0\u1ee3c truy\u1ec1n l\u1ea1i t\u1eeb ng\u01b0\u1eddi th\u1ea7y ...          6000   \n",
        "3                             t\u1eeb h\u1ed3i t\u00f3c t\u00f4i c\u00f2n xanh.          9000   \n",
        "4                                      Th\u1ea7y \u0111\u00e3 d\u1ea1y t\u00f4i         12000   \n",
        "5                               r\u1eb1ng v\u1eadt l\u00fd r\u1ea5t l\u00fd th\u00fa         14000   \n",
        "6      b\u1edfi n\u00f3 d\u1ea1y ta r\u1ea5t nhi\u1ec1u v\u1ec1 th\u1ebf gi\u1edbi xung quanh.         16000   \n",
        "7    V\u00e0 t\u00f4i s\u1ebd d\u00e0nh v\u00e0i ph\u00fat t\u1edbi \u0111\u1ec3 thuy\u1ebft ph\u1ee5c c\u00e1c...         18000   \n",
        "8    r\u1eb1ng v\u1eadt l\u00fd c\u00f3 th\u1ec3 d\u1ea1y ra nhi\u1ec1u \u0111i\u1ec1u v\u1ec1 market...         21000   \n",
        "9            M\u00ecnh l\u00e0m m\u1ed9t cu\u1ed9c kh\u1ea3o s\u00e1t nho nh\u1ecf nh\u00e9 --         24000   \n",
        "10   ai trong s\u1ed1 c\u00e1c b\u1ea1n \u0111\u00e3 h\u1ecdc marketing \u1edf b\u1eadc \u0111\u1ea1i...         26000   \n",
        "11                   Ai t\u1eebng h\u1ecdc v\u1eadt l\u00fd \u1edf b\u1eadc \u0111\u1ea1i h\u1ecdc?         28000   \n",
        "12     \u1ed2, c\u0169ng kh\u00e1 \u0111\u1ea5y ch\u1ee9? C\u00f2n \u1edf trung h\u1ecdc th\u00ec sao \u1ea1?         30000   \n",
        "13                                    V\u00e2ng, r\u1ea5t nhi\u1ec1u.         32000   \n",
        "14   Hi v\u1ecdng l\u00e0 \u0111i\u1ec1u n\u00e0y s\u1ebd \u0111em \u0111\u1ebfn nh\u1eefng k\u1ef7 ni\u1ec7m v...         34000   \n",
        "15                          ho\u1eb7c h\u01a1i l\u1ed9n x\u1ed9n m\u1ed9t ch\u00fat.         36000   \n",
        "16                                V\u1eadt l\u00fd v\u00e0 marketing:         39000   \n",
        "17   ch\u00fang ta s\u1ebd b\u1eaft \u0111\u1ea7u v\u1edbi m\u1ed9t th\u1ee9 \u0111\u01a1n gi\u1ea3n: \u0110\u1ecbnh...         43000   \n",
        "18             \"L\u1ef1c b\u1eb1ng kh\u1ed1i l\u01b0\u1ee3ng nh\u00e2n v\u1edbi gia t\u1ed1c.\"         45000   \n",
        "19       \u0110\u00e2y l\u00e0 m\u1ed9t \u0111i\u1ec1u m\u00e0 H\u00e3ng h\u00e0ng kh\u00f4ng Th\u1ed5 Nh\u0129 K\u1ef3         48000   \n",
        "20                         n\u00ean nghi\u00ean c\u1ee9u c\u1ea9n th\u1eadn h\u01a1n         50000   \n",
        "21                tr\u01b0\u1edbc khi h\u1ecd ra chi\u1ebfn d\u1ecbch v\u1eadn \u0111\u1ed9ng.         53000   \n",
        "22                                              (C\u01b0\u1eddi)         55000   \n",
        "23      Nh\u01b0ng n\u1ebfu t\u00f4i t\u00e1i s\u1eafp x\u1ebfp nhanh c\u00f4ng th\u1ee9c n\u00e0y,         58000   \n",
        "24    ch\u00fang ta s\u1ebd c\u00f3 gia t\u1ed1c b\u1eb1ng l\u1ef1c chia kh\u1ed1i l\u01b0\u1ee3ng,         61000   \n",
        "25                                            ngh\u0129a l\u00e0         64000   \n",
        "26         v\u1edbi m\u1ed9t v\u1eadt k\u00edch th\u01b0\u1edbc l\u1edbn, kh\u1ed1i l\u01b0\u1ee3ng l\u1edbn,         66000   \n",
        "27          th\u00ec \u0111\u00f2i h\u1ecfi nhi\u1ec1u l\u1ef1c h\u01a1n \u0111\u1ec3 n\u00f3 \u0111\u1ed5i h\u01b0\u1edbng.         69000   \n",
        "28                  \u0110i\u1ec1u n\u00e0y c\u0169ng \u0111\u00fang v\u1edbi kinh doanh.         73000   \n",
        "29                C\u00f4ng ty c\u00e0ng l\u1edbn, c\u00e0ng nhi\u1ec1u v\u1eadt t\u01b0,         75000   \n",
        "..                                                 ...           ...   \n",
        "820  Ho\u00e0n to\u00e0n ng\u01b0\u1ee3c v\u1edbi c\u00e1ch c\u00e1c b\u1ea1n v\u1eabn th\u1ea5y tr\u00ean...        600000   \n",
        "821  Ch\u00fang t\u00f4i th\u1eafc m\u1eafc, \"Ch\u00fang c\u00f3 l\u01b0\u1edbt trong t\u1ef1 nh...        603000   \n",
        "822  Ch\u00fang t\u00f4i \u0111\u1ebfn c\u00e1c khu r\u1eebng c\u1ee7a Singapore v\u00e0 \u0110\u00f4...        606000   \n",
        "823  V\u00e0 video c\u00e1c b\u1ea1n s\u1eafp xem ti\u1ebfp theo c\u0169ng l\u00e0 l\u1ea7n...        608000   \n",
        "824  \u0110\u00e2y l\u00e0 video th\u1ef1c -- ho\u00e0n to\u00e0n kh\u00f4ng d\u00e0n d\u1ef1ng,...        610000   \n",
        "825  cho th\u1ea5y \u0111\u1ed9ng v\u1eadt l\u01b0\u1edbt xu\u1ed1ng. C\u00f3 \u0111\u01b0\u1eddng bay m\u00e0u...        613000   \n",
        "826                Nh\u00ecn v\u1ec1 cu\u1ed1i \u0111\u01b0\u1eddng \u0111\u1ec3 th\u1ea5y con v\u1eadt.        616000   \n",
        "827             Nh\u01b0ng r\u1ed3i khi n\u00f3 ti\u1ebfn \u0111\u1ebfn g\u1ea7n c\u00e2y h\u01a1n,        618000   \n",
        "828  xem phim c\u1eadn c\u1ea3nh nh\u00e9. V\u00e0 xem c\u00e1c b\u1ea1n c\u00f3 th\u1ea5y ...        620000   \n",
        "829  Th\u1ebf \u0111\u00f3, n\u00f3 \u0111i xu\u1ed1ng. C\u00f3 ch\u00fa th\u1ea1ch s\u00f9ng \u1edf cu\u1ed1i ...        624000   \n",
        "830      C\u00e1c b\u1ea1n c\u00f3 th\u1ea5y kh\u00f4ng? Kia k\u00eca? Xem n\u00f3 xu\u1ed1ng.        627000   \n",
        "831  Gi\u1edd nh\u00ecn l\u00ean tr\u00ean v\u00e0 c\u00e1c b\u1ea1n c\u00f3 th\u1ec3 th\u1ea5y c\u1ea3nh ...        629000   \n",
        "832                            N\u00f3 c\u00f3 d\u00f9ng c\u1ea3 \u0111u\u00f4i n\u01b0a,        632000   \n",
        "833  y nh\u01b0 nh\u1eefng g\u00ec ch\u00fang t\u00f4i th\u1ea5y trong ph\u00f2ng th\u00ed ...        634000   \n",
        "834  Gi\u1edd th\u00ec ch\u00fang t\u00f4i c\u00f3 th\u1ec3 ti\u1ebfp t\u1ee5c c\u1ed9ng sinh si...        637000   \n",
        "835  b\u1eb1ng c\u00e1ch \u0111\u1ec1 ngh\u1ecb c\u00e1c k\u0129 s\u01b0 l\u00e0m m\u1ed9t chi\u1ebfc \u0111u\u00f4i...        641000   \n",
        "836  V\u00e0 \u0111\u00e2y l\u00e0 chi\u1ebfc \u0111u\u00f4i ho\u1ea1t \u0111\u1ed9ng \u0111\u1ea7u ti\u00ean, trong...        644000   \n",
        "837                       ch\u1ebf t\u1ea1o b\u1edfi Boston Dynamics.        649000   \n",
        "838  \u0110\u1ec3 k\u1ebft lu\u1eadn, t\u00f4i ngh\u0129 r\u1eb1ng ta c\u1ea7n x\u00e2y d\u1ef1ng c\u00e1c...        652000   \n",
        "839  \u0111\u1ec3 t\u0103ng t\u1ed1c \u0111\u1ed9 ph\u00e1t minh c\u01a1 b\u1ea3n trong c\u00e1c \u1ee9ng ...        656000   \n",
        "840  Tuy nhi\u00ean, \u0111\u1ec3 l\u00e0m vi\u1ec7c n\u00e0y, ta c\u1ea7n thi\u1ebft k\u1ebf l\u1ea1...        659000   \n",
        "841  \u0111\u1ec3 c\u00e2n b\u1eb1ng chi\u1ec1u s\u00e2u v\u1edbi vi\u1ec7c li\u00ean h\u1ec7 gi\u1eefa c\u00e1...        662000   \n",
        "842  v\u00e0 \u0111\u00e0o t\u1ea1o m\u1ed9t c\u00e1ch c\u1ee5 th\u1ec3 c\u00e1ch th\u1ee9c \u0111\u1ec3 \u0111\u00f3ng g...        665000   \n",
        "843  V\u00e0 d\u0129 nhi\u00ean b\u1ea1n c\u1ea7n c\u00e1c c\u00e1 th\u1ec3 sinh v\u1eadt v\u00e0 m\u00f4i...        670000   \n",
        "844  Ngh\u0129a l\u00e0, d\u00f9 b\u1ea1n c\u00f3 quan t\u00e2m t\u1edbi an ninh, t\u00ecm ...        674000   \n",
        "845          ta ph\u1ea3i b\u1ea3o v\u1ec7 c\u00e1c thi\u1ebft k\u1ebf c\u1ee7a t\u1ef1 nhi\u00ean,        677000   \n",
        "846   n\u1ebfu kh\u00f4ng nh\u1eefng b\u00ed m\u1eadt n\u00e0y s\u1ebd b\u1ecb m\u1ea5t \u0111i m\u00e3i m\u00e3i.        679000   \n",
        "847  V\u00e0 theo nh\u01b0 nh\u1eefng g\u00ec t\u00f4i \u0111\u00e3 nghe t\u1eeb v\u1ecb T\u1ed5ng th...        682000   \n",
        "848                      t\u00f4i r\u1ea5t l\u1ea1c quan. Xin c\u00e1m \u01a1n.        686000   \n",
        "849                                           (V\u1ed7 tay)        688000   \n",
        "\n",
        "                                  zh-cn zh-cn_time_frame  \\\n",
        "0                     \u6211\u73b0\u5728\u4ece\u4e8b\u6211\u6240\u559c\u7231\u7684\u5e02\u573a\u8425\u9500\u5de5\u4f5c\uff0c             1000   \n",
        "1                       \u4f46\u662f\u6211\u7684\u7b2c\u4e00\u7231\u597d\u66fe\u7ecf\u662f\u7269\u7406\u5b66\uff0c             3000   \n",
        "2                      \u8fd9\u79cd\u70ed\u60c5\u662f\u4e00\u4e2a\u5f88\u68d2\u7684\u6559\u5e08\u5e26\u7ed9\u6211\u7684             6000   \n",
        "3                          \u90a3\u65f6\u6211\u6709\u4e00\u70b9\u70b9\u7070\u8272\u5934\u53d1\u3002             9000   \n",
        "4                                \u6240\u4ee5\u4ed6\u6559\u7ed9\u6211            12000   \n",
        "5                               \u7269\u7406\u5b66\u662f\u5f88\u9177\u7684            14000   \n",
        "6             \u56e0\u4e3a\u5b83\u53ef\u4ee5\u6559\u7ed9\u6211\u4eec\u5f88\u591a\u5f88\u591a\u5173\u4e8e\u6211\u4eec\u5468\u56f4\u4e16\u754c\u7684\u4e8b\u60c5\u3002            16000   \n",
        "7                    \u63a5\u4e0b\u6765\u6211\u8981\u82b1\u4e0a\u51e0\u5206\u949f\u7684\u65f6\u95f4\u8981\u4f60\u4eec\u76f8\u4fe1            18000   \n",
        "8                 \u7269\u7406\u5b66\u53ef\u4ee5\u6559\u7ed9\u6211\u4eec\u4e00\u4e9b\u5173\u4e8e\u5e02\u573a\u8425\u9500\u7684\u77e5\u8bc6\u3002            21000   \n",
        "9                           \u90a3\u4e48\u5f88\u5feb\u7684\u4e3e\u4e00\u4e0b\u624b--            24000   \n",
        "10                       \u6709\u8c01\u5728\u5927\u5b66\u91cc\u5b66\u4e60\u8fc7\u5e02\u573a\u8425\u9500\uff1f            26000   \n",
        "11                        \u6709\u8c01\u5728\u5927\u5b66\u91cc\u5b66\u4e60\u8fc7\u7269\u7406\u5b66\uff1f            28000   \n",
        "12                        \u54e6\uff0c\u5f88\u597d\u3002\u6709\u8c01\u5728\u9ad8\u4e2d\u5b66\u8fc7\uff1f            30000   \n",
        "13                               \u597d\uff0c\u5f88\u591a\u4eba\u3002            32000   \n",
        "14                    \u6240\u4ee5\uff0c\u5e0c\u671b\u8fd9\u4f1a\u8ba9\u6211\u4eec\u91cd\u83b7\u4e00\u4e9b\u5feb\u4e50\uff0c            34000   \n",
        "15                      \u6216\u8005\u53ef\u80fd\u662f\u4e00\u4e9b\u6709\u70b9\u4e0d\u5b89\u7684\u56de\u5fc6\u3002            36000   \n",
        "16                       \u6240\u4ee5\uff0c\u5173\u4e8e\u7269\u7406\u5b66\u548c\u5e02\u573a\u8425\u9500\uff1a            39000   \n",
        "17                  \u6211\u4eec\u8981\u4ece\u4e00\u4e9b\u7b80\u5355\u7684\u5f00\u59cb\uff0c\u725b\u987f\u7b2c\u4e8c\u5b9a\u5f8b\uff1a            43000   \n",
        "18                      \u201c\u5408\u5916\u529b\u7b49\u4e8e\u8d28\u91cf\u4e58\u4ee5\u52a0\u901f\u5ea6\u3002\u201d            45000   \n",
        "19                       \u8fd9\u662f\u4e00\u4e9b\u6216\u8bb8\u662f\u571f\u8033\u5176\u822a\u7a7a\u516c\u53f8            48000   \n",
        "20                         \u672c\u5e94\u7a0d\u5fae\u591a\u4ed4\u7ec6\u5b66\u4e60\u7684\u4e1c\u897f            50000   \n",
        "21                          \u7136\u540e\uff0c\u4ed6\u4eec\u518d\u8fdb\u884c\u7ade\u9009\u3002            53000   \n",
        "22                                 \uff08\u7b11\u58f0\uff09            55000   \n",
        "23                   \u4f46\u662f\u5982\u679c\u6211\u4eec\u91cd\u65b0\u5feb\u901f\u7684\u6392\u5217\u8fd9\u4e2a\u516c\u5f0f\uff0c            58000   \n",
        "24                  \u6211\u4eec\u53ef\u4ee5\u5f97\u5230\u52a0\u901f\u5ea6\u7b49\u4e8e\u5408\u5916\u529b\u9664\u4ee5\u8d28\u91cf\uff0c            61000   \n",
        "25                                 \u8fd9\u5c31\u662f\u8bf4            64000   \n",
        "26                      \u5bf9\u4e8e\u4e00\u4e2a\u8f83\u5927\u7684\u9897\u7c92\uff0c\u8d28\u91cf\u8d8a\u5927\uff0c            66000   \n",
        "27                   \u5b83\u5c31\u8d8a\u9700\u8981\u66f4\u591a\u7684\u5916\u529b\u6765\u6539\u53d8\u8fd0\u52a8\u65b9\u5411\u3002            69000   \n",
        "28                              \u54c1\u724c\u4e5f\u662f\u4e00\u6837\u3002            73000   \n",
        "29                        \u54c1\u724c\u7684\u89c4\u6a21\u8d8a\u5927\uff0c\u5305\u88b1\u8d8a\u5927\uff0c            75000   \n",
        "..                                  ...              ...   \n",
        "820            \u8fd9\u4e2a\u81ea\u7136\u548c\u5927\u5bb6\u5728\u81ea\u7136\u7eaa\u5f55\u7247\u4e2d\u770b\u5230\u7684\u987a\u5e8f\u622a\u7136\u76f8\u53cd\u3002           600000   \n",
        "821                \u6211\u4eec\u60f3\uff1a\u201c\u81ea\u7136\u754c\u4e2d\uff0c\u8fd9\u79cd\u58c1\u864e\u662f\u5426\u6ed1\u7fd4\u3002\u201d           603000   \n",
        "822                     \u6211\u4eec\u524d\u5f80\u4e1c\u5357\u4e9a\u65b0\u52a0\u5761\u7684\u68ee\u6797\u4e2d\u3002           606000   \n",
        "823                      \u4e0b\u4e00\u4e2a\u77ed\u7247\u662f\u6211\u4eec\u7b2c\u4e00\u6b21\u5c55\u793a\u3002           608000   \n",
        "824            \u8fd9\u4e2a\u77ed\u7247\u6ca1\u7528\u9053\u5177\uff0c\u6ca1\u6709\u4f5c\u5047\uff0c\u662f\u7b2c\u4e00\u624b\u7684\u79d1\u7814\u6570\u636e\u3002           610000   \n",
        "825                          \u7ea2\u8272\u662f\u5b83\u7684\u6ed1\u7fd4\u8f68\u8ff9\u3002           613000   \n",
        "826                       \u7ed3\u5c3e\u53ef\u4ee5\u66f4\u6e05\u695a\u7684\u770b\u5230\u58c1\u864e\u3002           616000   \n",
        "827                            \u5f53\u5b83\u63a5\u8fd1\u6811\u5e72\u65f6\uff0c           618000   \n",
        "828                     \u770b\u653e\u5927\u90e8\u5206\u3002\u80fd\u4e0d\u80fd\u770b\u5230\u5b83\u7740\u9646\u3002           620000   \n",
        "829                \u8fd9\u662f\u5b83\u5728\u4e0b\u964d\u3002\u8f68\u8ff9\u672b\u7aef\u53ef\u4ee5\u770b\u5230\u4e00\u53ea\u58c1\u864e\u3002           624000   \n",
        "830                          \u770b\u5230\u6ca1\u6709\uff1f\u770b\u5b83\u6ed1\u843d\u3002           627000   \n",
        "831                       \u73b0\u5728\u6ce8\u610f\u770b\u7740\u9646\uff0c\u770b\u5230\u6ca1\u6709\uff1f           629000   \n",
        "832                           \u5b83\u786e\u5b9e\u7528\u4e0a\u4e86\u5c3e\u5df4\u3002           632000   \n",
        "833                       \u548c\u6211\u4eec\u5b9e\u9a8c\u5ba4\u91cc\u770b\u5230\u7684\u4e00\u6837\u3002           634000   \n",
        "834                     \u7ee7\u7eed\u4e00\u5f00\u59cb\u548c\u5de5\u7a0b\u5e08\u7684\u4e92\u52a9\u4e92\u5229\uff0c           637000   \n",
        "835                      \u5efa\u8bae\u4ed6\u4eec\u8bbe\u8ba1\u4e00\u6761\u80fd\u52a8\u7684\u5c3e\u5df4\u3002           641000   \n",
        "836                     \u8fd9\u662f\u673a\u5668\u4eba\u4e0a\u7b2c\u4e00\u6761\u80fd\u52a8\u7684\u5c3e\u5df4\uff0c           644000   \n",
        "837                         \u7531\u6ce2\u58eb\u987f\u52a8\u529b\u516c\u53f8\u7814\u5236\u3002           649000   \n",
        "838  \u603b\u7ed3\u6765\u8bf4\uff0c\u6211\u8ba4\u4e3a\u8981\u8fdb\u4e00\u6b65\u50cf\u6211\u6240\u4ecb\u7ecd\u7684\u8fd9\u6837\uff0c\u589e\u5f3a\u751f\u7269\u4e0e\u5176\u4ed6\u5b66\u79d1\u7684\u4e92\u52a8\uff0c           652000   \n",
        "839                       \u52a0\u5feb\u57fa\u7840\u79d1\u5b66\u7684\u7814\u7a76\u4e0e\u5e94\u7528\u3002           656000   \n",
        "840            \u8981\u505a\u5230\u8fd9\u70b9\uff0c\u6211\u4eec\u9700\u8981\u4ece\u6839\u672c\u4e0a\u4ece\u65b0\u8bbe\u8ba1\u6211\u4eec\u7684\u6559\u80b2\uff0c           659000   \n",
        "841                  \u5728\u6df1\u5ea6\u4e0e\u8de8\u5b66\u79d1\u4ea4\u4e92\u4e24\u4e2a\u65b9\u9762\u505a\u5230\u5e73\u8861\u3002           662000   \n",
        "842                  \u4e13\u95e8\u8bad\u7ec3\u80fd\u5728\u591a\u5b66\u79d1\u83b7\u5229\u5e76\u8d21\u732e\u7684\u4eba\u624d\u3002           665000   \n",
        "843                   \u5f53\u7136\uff0c\u540c\u65f6\u8fd8\u9700\u8981\u826f\u597d\u7684\u751f\u6001\u4e0e\u73af\u5883\u3002           670000   \n",
        "844                  \u65e0\u8bba\u4f60\u5173\u5fc3\u56fd\u9632\u3001\u641c\u5bfb\u4e0e\u6551\u62a4\u8fd8\u662f\u533b\u7597\uff0c           674000   \n",
        "845                            \u6211\u4eec\u8981\u4fdd\u62a4\u81ea\u7136\uff0c           677000   \n",
        "846                     \u4e0d\u7136\u81ea\u7136\u754c\u7684\u79d8\u5bc6\u5c06\u88ab\u6c38\u8fdc\u57cb\u6ca1\u3002           679000   \n",
        "847                        \u5c31\u6211\u4eec\u65b0\u603b\u7edf\u7684\u6001\u5ea6\u6765\u770b\uff0c           682000   \n",
        "848                            \u6211\u5f88\u4e50\u89c2\u3002\u8c22\u8c22\u3002           686000   \n",
        "849                                \uff08\u638c\u58f0\uff09           688000   \n",
        "\n",
        "                              zh-tw zh-tw_time_frame  \n",
        "0                   \u6211\u7684\u5de5\u4f5c\u662f\u884c\u92b7\uff0c\u6211\u4e5f\u6a02\u5728\u5176\u4e2d\u3002             1000  \n",
        "1                       \u800c\u7269\u7406\u662f\u6211\u6700\u521d\u7684\u646f\u611b\u3002             3000  \n",
        "2       \u7576\u5e74\u5728\u5b78\u6821\u88cf\uff0c\u6709\u500b\u5f88\u68d2\u7684\u8001\u5e2b\uff0c\u4ed6\u71c3\u8d77\u4e86\u6211\u5c0d\u7269\u7406\u7684\u71b1\u60c5\uff0c             6000  \n",
        "3                     \u7576\u5e74\u7684\u6211\uff0c\u6c92\u9019\u9ebc\u591a\u767d\u982d\u9aee\u3002             9000  \n",
        "4                             \u4ed6\u544a\u8a34\u6211\uff0c            12000  \n",
        "5                             \u7269\u7406\u5f88\u9177\uff0c            14000  \n",
        "6                   \u5b83\u6559\u6211\u5011\u5f88\u591a\u6709\u95dc\u9019\u500b\u4e16\u754c\u7684\u4e8b\u3002            16000  \n",
        "7                 \u63a5\u4e0b\u4f86\u7684\u5e7e\u5206\u9418\u88cf\uff0c\u6211\u8981\u8b93\u5404\u4f4d\u76f8\u4fe1\uff0c            18000  \n",
        "8                \u7269\u7406\u5176\u5be6\u53ef\u4ee5\u6559\u6211\u5011\u4e00\u4e9b\u6709\u95dc\u884c\u92b7\u7684\u4e8b\u3002            21000  \n",
        "9                          \u6211\u5148\u505a\u500b\u5c0f\u8abf\u67e5\uff0c            24000  \n",
        "10                   \u9019\u88cf\u6709\u4eba\u5728\u5927\u5b78\u88cf\u4fee\u904e\u884c\u92b7\u55ce?            26000  \n",
        "11                     \u6709\u4eba\u5728\u5927\u5b78\u88cf\u4fee\u904e\u7269\u7406\u55ce?            28000  \n",
        "12                    \u5662\uff0c\u9084\u4e0d\u932f\u3002\u4e2d\u5b78\u7684\u6642\u5019\u5462?            30000  \n",
        "13                         \u597d\uff0c\u770b\u4f86\u9084\u4e0d\u5c11\u3002            32000  \n",
        "14              \u90a3\u9ebc\uff0c\u5e0c\u671b\u9019\u80fd\u8b93\u4f60\u5011\u56de\u60f3\u8d77\u4e00\u4e9b\u5feb\u6a02\u7684\uff0c            34000  \n",
        "15                   \u6216\u662f\u8b93\u4eba\u611f\u5230\u6709\u9ede\u6df7\u4e82\u7684\u5f80\u4e8b\u3002            36000  \n",
        "16                        \u597d\u7684\uff0c\u7269\u7406\u548c\u884c\u92b7:            39000  \n",
        "17                \u6211\u5011\u5148\u5f9e\u7c21\u55ae\u7684\u958b\u59cb\uff0c\u5148\u770b\u725b\u9813\u5b9a\u5f8b:            43000  \n",
        "18                       \u529b\u7b49\u65bc\u8cea\u91cf\u4e58\u4ee5\u52a0\u901f\u5ea6            45000  \n",
        "19                        \u571f\u8033\u5176\u822a\u7a7a\u4e5f\u8a31\u61c9\u8a72            48000  \n",
        "20                      \u5148\u597d\u597d\u5730\u5b78\u5b78\u9019\u500b\u5b9a\u5f8b\uff0c            50000  \n",
        "21                     \u7136\u5f8c\u518d\u63a8\u51fa\u9019\u500b\u884c\u92b7\u6d3b\u52d5\u3002            53000  \n",
        "22                             (\u7b11\u8072)            55000  \n",
        "23                  \u5982\u679c\u6211\u5011\u5f88\u5feb\u5730\u91cd\u7d44\u9019\u500b\u65b9\u7a0b\u5f0f\uff0c            58000  \n",
        "24               \u6211\u5011\u53ef\u4ee5\u5f97\u51fa\uff0c\u52a0\u901f\u5ea6\u7b49\u65bc\u529b\u9664\u4ee5\u8cea\u91cf\uff0c            61000  \n",
        "25                             \u4e5f\u5c31\u662f\u8aaa            64000  \n",
        "26                     \u5c0d\u8cea\u91cf\u6bd4\u8f03\u5927\u7684\u7269\u9ad4\u800c\u8a00\uff0c            66000  \n",
        "27                  \u8981\u6539\u8b8a\u5b83\u7684\u65b9\u5411\uff0c\u9700\u8981\u66f4\u5927\u7684\u529b\u3002            69000  \n",
        "28                        \u54c1\u724c\u4e5f\u662f\u4e00\u6a23\u7684 \u3002            73000  \n",
        "29                  \u6108\u662f\u91cd\u91cf\u7d1a\u7684\u54c1\u724c\uff0c\u5305\u88b1\u4e5f\u6108\u91cd\u3002            75000  \n",
        "..                              ...              ...  \n",
        "820           \u9019\u5b8c\u5168\u548c\u4f60\u770b\u7684\u91ce\u751f\u52d5\u7269\u5f71\u7247\u88fd\u4f5c\u7684\u89c0\u9ede\u76f8\u53cd\uff0c           600000  \n",
        "821              \u6211\u5011\u60f3\uff1a\u300c\u4ed6\u5011\u771f\u7684\u6703\u5728\u91ce\u5916\u6ed1\u7fd4\u55ce\uff1f\u300d           603000  \n",
        "822               \u6211\u5011\u8dd1\u5230\u65b0\u52a0\u5761\u548c\u6771\u5357\u4e9e\u7684\u68ee\u6797\u88e1\u53bb\uff0c           606000  \n",
        "823             \u7b49\u6703\u5152\u4f60\u5011\u5c07\u6703\u770b\u5230\u9996\u6b21\u516c\u958b\u64ad\u6620\u7684\u5f71\u7247\u3002           608000  \n",
        "824               \u9019\u662f\u771f\u5be6\u7684\u91ce\u5916\u5f71\u7247\uff0c\u4e0d\u662f\u8a2d\u8a08\u904e\u7684\uff0c           610000  \n",
        "825    \u662f\u771f\u7684\u7814\u7a76\u58c1\u864e\u6ed1\u7fd4\u4e0b\u4f86\u7684\u5f71\u7247--\u90a3\u5152\u6709\u4e00\u689d\u7d05\u8272\u7684\u6ed1\u7fd4\u7dda\uff0c           613000  \n",
        "826                      \u5728\u672b\u7aef\u53ef\u4ee5\u770b\u5230\u58c1\u864e\uff0c           616000  \n",
        "827                       \u7576\u5b83\u9760\u8fd1\u6a39\u7684\u6642\u5019\uff0c           618000  \n",
        "828        \u8981\u6ce8\u610f\u770b\u7279\u5beb\u93e1\u982d\uff0c\u770b\u770b\u4f60\u662f\u5426\u80fd\u770b\u5230\u5b83\u964d\u843d\u7684\u756b\u9762\u3002           620000  \n",
        "829              \u5b83\u4e0b\u4f86\u4e86\uff0c\u6709\u4e00\u96bb\u58c1\u864e\u5728\u6ed1\u7fd4\u7dda\u7684\u672b\u7aef\uff0c           624000  \n",
        "830                  \u770b\u5230\u4e86\u55ce\uff1f\u5728\u90a3\u88e1\uff0c\u5b83\u4e0b\u4f86\u4e86\uff0c           627000  \n",
        "831       \u4f60\u770b\u4e0a\u9762\u7684\u7279\u5beb\u93e1\u982d\u5c31\u6703\u770b\u5230\u5b83\u964d\u843d\u7684\u756b\u9762\uff0c\u770b\u5230\u4e86\u55ce\uff1f           629000  \n",
        "832                    \u5b83\u771f\u7684\u6709\u7528\u5b83\u7684\u5c3e\u5df4\u5e6b\u5fd9\uff0c           632000  \n",
        "833                 \u5c31\u50cf\u6211\u5011\u5728\u5be6\u9a57\u5ba4\u88e1\u770b\u5230\u7684\u4e00\u6a23\u3002           634000  \n",
        "834                \u6240\u4ee5\u6211\u5011\u53ef\u4ee5\u7e7c\u7e8c\u9019\u7a2e\u4e92\u60e0\u7684\u6a5f\u5236\uff0c           637000  \n",
        "835          \u544a\u8a34\u9019\u4e9b\u5de5\u7a0b\u5e2b\u4ed6\u5011\u53ef\u4ee5\u88fd\u4f5c\u4e00\u689d\u6709\u4f5c\u7528\u7684\u5c3e\u5df4\u3002           641000  \n",
        "836              \u9019\u662f\u7b2c\u4e00\u500b\u88dd\u8a2d\u6709\u4f5c\u7528\u7684\u5c3e\u5df4\u7684\u6a5f\u5668\u4eba\uff0c           644000  \n",
        "837             \u7531Boston Dynamics\u88fd\u4f5c\u3002           649000  \n",
        "838  \u7d50\u8ad6\u662f\uff0c\u6211\u89ba\u5f97\u6211\u5011\u61c9\u8a72\u5efa\u7acb\u751f\u7269\u4e92\u60e0\u5b78\u7684\u6a5f\u5236\uff0c\u5c31\u50cf\u6211\u6240\u5c55\u793a\u7684\uff0c           652000  \n",
        "839                 \u9019\u6a23\u6703\u589e\u9032\u57fa\u790e\u79d1\u5b78\u9032\u6b65\u7684\u8173\u6b65\u3002           656000  \n",
        "840          \u4f46\u8981\u505a\u5230\u9019\u4e00\u6b65\uff0c\u6211\u5011\u5fc5\u9808\u5c0d\u6559\u80b2\u505a\u51fa\u91cd\u5927\u6539\u8b8a\uff0c           659000  \n",
        "841                   \u4ee5\u52a0\u5f37\u5404\u5b78\u79d1\u9593\u6e9d\u901a\u7684\u6df1\u5ea6\uff0c           662000  \n",
        "842                \u4e26\u8b93\u5404\u5b78\u79d1\u7684\u5c08\u5bb6\u6709\u6a5f\u6703\u6559\u5b78\u76f8\u9577\u3002           665000  \n",
        "843             \u7576\u7136\u9019\u9700\u8981\u74b0\u5883\u7684\u914d\u5408\uff0c\u4ee5\u53ca\u9069\u7576\u7684\u6a5f\u5236\u3002           670000  \n",
        "844             \u4e0d\u7ba1\u4f60\u5728\u4e0d\u5728\u4e4e\u5b89\u5168\u3001\u641c\u6551\u3001\u6551\u63f4\u6216\u5065\u5eb7\uff0c           674000  \n",
        "845                  \u6211\u5011\u90fd\u5fc5\u9808\u4fdd\u8b77\u5927\u81ea\u7136\u7684\u8a2d\u8a08\uff0c           677000  \n",
        "846                   \u5426\u5247\u9019\u4e9b\u7955\u5bc6\u5c07\u6703\u6c38\u9060\u907a\u5931\u3002           679000  \n",
        "847                  \u800c\u6211\u5f9e\u65b0\u4efb\u7e3d\u7d71\u7684\u8ac7\u8a71\u4e2d\u5f97\u77e5\uff0c           682000  \n",
        "848            \u6211\u53ef\u4ee5\u5c0d\u9019\u4ef6\u4e8b\u62b1\u6301\u6a02\u89c0\u7684\u614b\u5ea6\uff0c\u8b1d\u8b1d\u5404\u4f4d\u3002           686000  \n",
        "849                            (\u638c\u8072)           688000  \n",
        "\n",
        "[850 rows x 89 columns]"
       ]
      }
     ],
     "prompt_number": 120
    },
    {
     "cell_type": "code",
     "collapsed": false,
     "input": [
      "df[['ar','en','fr']]"
     ],
     "language": "python",
     "metadata": {},
     "outputs": [],
     "prompt_number": 71
    },
    {
     "cell_type": "code",
     "collapsed": false,
     "input": [],
     "language": "python",
     "metadata": {},
     "outputs": [],
     "prompt_number": 79
    },
    {
     "cell_type": "code",
     "collapsed": false,
     "input": [],
     "language": "python",
     "metadata": {},
     "outputs": [],
     "prompt_number": 71
    },
    {
     "cell_type": "code",
     "collapsed": false,
     "input": [],
     "language": "python",
     "metadata": {},
     "outputs": [],
     "prompt_number": 106
    },
    {
     "cell_type": "code",
     "collapsed": false,
     "input": [],
     "language": "python",
     "metadata": {},
     "outputs": [],
     "prompt_number": 71
    },
    {
     "cell_type": "code",
     "collapsed": false,
     "input": [],
     "language": "python",
     "metadata": {},
     "outputs": []
    },
    {
     "cell_type": "code",
     "collapsed": false,
     "input": [],
     "language": "python",
     "metadata": {},
     "outputs": [],
     "prompt_number": 71
    },
    {
     "cell_type": "code",
     "collapsed": false,
     "input": [],
     "language": "python",
     "metadata": {},
     "outputs": [],
     "prompt_number": 71
    },
    {
     "cell_type": "code",
     "collapsed": false,
     "input": [],
     "language": "python",
     "metadata": {},
     "outputs": []
    }
   ],
   "metadata": {}
  }
 ]
}
